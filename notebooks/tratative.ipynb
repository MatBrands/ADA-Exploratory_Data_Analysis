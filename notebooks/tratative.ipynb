{
 "cells": [
  {
   "cell_type": "code",
   "execution_count": 108,
   "metadata": {},
   "outputs": [],
   "source": [
    "import numpy as np\n",
    "import pandas as pd\n",
    "from re import sub"
   ]
  },
  {
   "cell_type": "code",
   "execution_count": 109,
   "metadata": {},
   "outputs": [
    {
     "data": {
      "text/html": [
       "<div>\n",
       "<style scoped>\n",
       "    .dataframe tbody tr th:only-of-type {\n",
       "        vertical-align: middle;\n",
       "    }\n",
       "\n",
       "    .dataframe tbody tr th {\n",
       "        vertical-align: top;\n",
       "    }\n",
       "\n",
       "    .dataframe thead th {\n",
       "        text-align: right;\n",
       "    }\n",
       "</style>\n",
       "<table border=\"1\" class=\"dataframe\">\n",
       "  <thead>\n",
       "    <tr style=\"text-align: right;\">\n",
       "      <th></th>\n",
       "      <th>Title</th>\n",
       "      <th>Rating</th>\n",
       "      <th>Year</th>\n",
       "      <th>Month</th>\n",
       "      <th>Certificate</th>\n",
       "      <th>Runtime</th>\n",
       "      <th>Directors</th>\n",
       "      <th>Stars</th>\n",
       "      <th>Genre</th>\n",
       "      <th>Filming_location</th>\n",
       "      <th>Budget</th>\n",
       "      <th>Income</th>\n",
       "      <th>Country_of_origin</th>\n",
       "    </tr>\n",
       "  </thead>\n",
       "  <tbody>\n",
       "    <tr>\n",
       "      <th>0</th>\n",
       "      <td>Avatar: The Way of Water</td>\n",
       "      <td>8.0</td>\n",
       "      <td>2022</td>\n",
       "      <td>December</td>\n",
       "      <td>PG-13</td>\n",
       "      <td>192</td>\n",
       "      <td>James Cameron</td>\n",
       "      <td>Sam Worthington, Zoe Saldana, Sigourney Weaver...</td>\n",
       "      <td>Action, Adventure, Fantasy</td>\n",
       "      <td>New Zealand</td>\n",
       "      <td>$350,000,000</td>\n",
       "      <td>$681,081,686</td>\n",
       "      <td>United States</td>\n",
       "    </tr>\n",
       "    <tr>\n",
       "      <th>1</th>\n",
       "      <td>Guillermo del Toro's Pinocchio</td>\n",
       "      <td>7.8</td>\n",
       "      <td>2022</td>\n",
       "      <td>December</td>\n",
       "      <td>PG</td>\n",
       "      <td>117</td>\n",
       "      <td>Guillermo del Toro, Mark Gustafson</td>\n",
       "      <td>Ewan McGregor, David Bradley, Gregory Mann, Bu...</td>\n",
       "      <td>Animation, Drama, Family</td>\n",
       "      <td>USA</td>\n",
       "      <td>$35,000,000</td>\n",
       "      <td>$71,614</td>\n",
       "      <td>United States, Mexico, France</td>\n",
       "    </tr>\n",
       "    <tr>\n",
       "      <th>2</th>\n",
       "      <td>Bullet Train</td>\n",
       "      <td>7.3</td>\n",
       "      <td>2022</td>\n",
       "      <td>August</td>\n",
       "      <td>R</td>\n",
       "      <td>127</td>\n",
       "      <td>David Leitch</td>\n",
       "      <td>Brad Pitt, Joey King, Aaron Taylor Johnson, Br...</td>\n",
       "      <td>Action, Comedy, Thriller</td>\n",
       "      <td>Japan</td>\n",
       "      <td>$85,900,000</td>\n",
       "      <td>$239,268,602</td>\n",
       "      <td>Japan, United States</td>\n",
       "    </tr>\n",
       "    <tr>\n",
       "      <th>3</th>\n",
       "      <td>The Banshees of Inisherin</td>\n",
       "      <td>8.0</td>\n",
       "      <td>2022</td>\n",
       "      <td>November</td>\n",
       "      <td>R</td>\n",
       "      <td>114</td>\n",
       "      <td>Martin McDonagh</td>\n",
       "      <td>Colin Farrell, Brendan Gleeson, Kerry Condon, ...</td>\n",
       "      <td>Comedy, Drama</td>\n",
       "      <td>Ireland</td>\n",
       "      <td>Unknown</td>\n",
       "      <td>$19,720,823</td>\n",
       "      <td>Ireland, United Kingdom, United States</td>\n",
       "    </tr>\n",
       "    <tr>\n",
       "      <th>4</th>\n",
       "      <td>M3gan</td>\n",
       "      <td>NaN</td>\n",
       "      <td>2022</td>\n",
       "      <td>January</td>\n",
       "      <td>PG-13</td>\n",
       "      <td>102</td>\n",
       "      <td>Gerard Johnstone</td>\n",
       "      <td>Jenna Davis, Amie Donald, Allison Williams, Vi...</td>\n",
       "      <td>Horror, Sci-Fi, Thriller</td>\n",
       "      <td>New Zealand</td>\n",
       "      <td>Unknown</td>\n",
       "      <td>Unknown</td>\n",
       "      <td>United States</td>\n",
       "    </tr>\n",
       "  </tbody>\n",
       "</table>\n",
       "</div>"
      ],
      "text/plain": [
       "                            Title  Rating  Year     Month Certificate Runtime  \\\n",
       "0        Avatar: The Way of Water     8.0  2022  December       PG-13     192   \n",
       "1  Guillermo del Toro's Pinocchio     7.8  2022  December          PG     117   \n",
       "2                    Bullet Train     7.3  2022    August           R     127   \n",
       "3       The Banshees of Inisherin     8.0  2022  November           R     114   \n",
       "4                           M3gan     NaN  2022   January       PG-13     102   \n",
       "\n",
       "                            Directors  \\\n",
       "0                       James Cameron   \n",
       "1  Guillermo del Toro, Mark Gustafson   \n",
       "2                        David Leitch   \n",
       "3                     Martin McDonagh   \n",
       "4                    Gerard Johnstone   \n",
       "\n",
       "                                               Stars  \\\n",
       "0  Sam Worthington, Zoe Saldana, Sigourney Weaver...   \n",
       "1  Ewan McGregor, David Bradley, Gregory Mann, Bu...   \n",
       "2  Brad Pitt, Joey King, Aaron Taylor Johnson, Br...   \n",
       "3  Colin Farrell, Brendan Gleeson, Kerry Condon, ...   \n",
       "4  Jenna Davis, Amie Donald, Allison Williams, Vi...   \n",
       "\n",
       "                        Genre Filming_location        Budget        Income  \\\n",
       "0  Action, Adventure, Fantasy      New Zealand  $350,000,000  $681,081,686   \n",
       "1    Animation, Drama, Family              USA   $35,000,000       $71,614   \n",
       "2    Action, Comedy, Thriller            Japan   $85,900,000  $239,268,602   \n",
       "3               Comedy, Drama          Ireland       Unknown   $19,720,823   \n",
       "4    Horror, Sci-Fi, Thriller      New Zealand       Unknown       Unknown   \n",
       "\n",
       "                        Country_of_origin  \n",
       "0                           United States  \n",
       "1           United States, Mexico, France  \n",
       "2                    Japan, United States  \n",
       "3  Ireland, United Kingdom, United States  \n",
       "4                           United States  "
      ]
     },
     "execution_count": 109,
     "metadata": {},
     "output_type": "execute_result"
    }
   ],
   "source": [
    "df = pd.read_csv('../datasets/raw/movies.csv')\n",
    "df.head()"
   ]
  },
  {
   "cell_type": "code",
   "execution_count": 110,
   "metadata": {},
   "outputs": [],
   "source": [
    "df.columns = df.columns.str.lower()"
   ]
  },
  {
   "cell_type": "code",
   "execution_count": 111,
   "metadata": {},
   "outputs": [
    {
     "data": {
      "text/plain": [
       "1622481"
      ]
     },
     "execution_count": 111,
     "metadata": {},
     "output_type": "execute_result"
    }
   ],
   "source": [
    "memory_before = df.memory_usage(deep=True).sum()\n",
    "memory_before"
   ]
  },
  {
   "cell_type": "code",
   "execution_count": 112,
   "metadata": {},
   "outputs": [
    {
     "name": "stdout",
     "output_type": "stream",
     "text": [
      "<class 'pandas.core.frame.DataFrame'>\n",
      "RangeIndex: 2000 entries, 0 to 1999\n",
      "Data columns (total 13 columns):\n",
      " #   Column             Non-Null Count  Dtype  \n",
      "---  ------             --------------  -----  \n",
      " 0   title              2000 non-null   object \n",
      " 1   rating             1998 non-null   float64\n",
      " 2   year               2000 non-null   int64  \n",
      " 3   month              2000 non-null   object \n",
      " 4   certificate        1966 non-null   object \n",
      " 5   runtime            2000 non-null   object \n",
      " 6   directors          2000 non-null   object \n",
      " 7   stars              2000 non-null   object \n",
      " 8   genre              2000 non-null   object \n",
      " 9   filming_location   2000 non-null   object \n",
      " 10  budget             2000 non-null   object \n",
      " 11  income             2000 non-null   object \n",
      " 12  country_of_origin  2000 non-null   object \n",
      "dtypes: float64(1), int64(1), object(11)\n",
      "memory usage: 1.5 MB\n"
     ]
    }
   ],
   "source": [
    "df.info(memory_usage='deep')"
   ]
  },
  {
   "cell_type": "code",
   "execution_count": 113,
   "metadata": {},
   "outputs": [],
   "source": [
    "df.fillna(\n",
    "    {\n",
    "        'certificate': df.certificate.mode()[0],\n",
    "        'rating': df.rating.median()\n",
    "    }, inplace=True\n",
    ")"
   ]
  },
  {
   "cell_type": "code",
   "execution_count": 114,
   "metadata": {},
   "outputs": [
    {
     "name": "stdout",
     "output_type": "stream",
     "text": [
      "title: 1989\n",
      "rating: 62\n",
      "year: 20\n",
      "month: 14\n",
      "certificate: 12\n",
      "runtime: 113\n",
      "directors: 1082\n",
      "stars: 1990\n",
      "genre: 244\n",
      "filming_location: 97\n",
      "budget: 305\n",
      "income: 1855\n",
      "country_of_origin: 406\n"
     ]
    }
   ],
   "source": [
    "for column in df.columns:\n",
    "    print(f\"{column}: {len(df[column].unique())}\")"
   ]
  },
  {
   "cell_type": "code",
   "execution_count": 115,
   "metadata": {},
   "outputs": [],
   "source": [
    "df.year = df.year.astype('uint16')"
   ]
  },
  {
   "cell_type": "code",
   "execution_count": 116,
   "metadata": {},
   "outputs": [
    {
     "data": {
      "text/plain": [
       "array(['December', 'August', 'November', 'January', 'October', 'March',\n",
       "       'September', 'May', 'April', 'July', 'June', 'February', '2014',\n",
       "       '2008'], dtype=object)"
      ]
     },
     "execution_count": 116,
     "metadata": {},
     "output_type": "execute_result"
    }
   ],
   "source": [
    "df.month.unique()"
   ]
  },
  {
   "cell_type": "code",
   "execution_count": 117,
   "metadata": {},
   "outputs": [],
   "source": [
    "df.loc[df.query('month == \"2014\" | month == \"2008\"').index, 'month'] = df.month.mode()[0]\n",
    "df.month = df.month.astype('category')"
   ]
  },
  {
   "cell_type": "code",
   "execution_count": 118,
   "metadata": {},
   "outputs": [
    {
     "data": {
      "text/plain": [
       "array(['PG-13', 'PG', 'R', 'TV-14', 'TV-MA', 'TV-PG', 'TV-Y7',\n",
       "       'Not Rated', 'NC-17', 'TV-G', 'Unrated', 'G'], dtype=object)"
      ]
     },
     "execution_count": 118,
     "metadata": {},
     "output_type": "execute_result"
    }
   ],
   "source": [
    "df.certificate.unique()"
   ]
  },
  {
   "cell_type": "code",
   "execution_count": 119,
   "metadata": {},
   "outputs": [],
   "source": [
    "df.loc[(df.query('certificate == \"Not Rated\" | certificate == \"Unrated\"')).index, 'certificate'] = 'Unrated'\n",
    "df.certificate = df.certificate.astype('category')"
   ]
  },
  {
   "cell_type": "code",
   "execution_count": 120,
   "metadata": {},
   "outputs": [],
   "source": [
    "df.loc[(df.query('runtime == \"Unknown\"')).index, 'runtime'] = df.drop(index = df.query('runtime == \"Unknown\"').index).runtime.astype('int64').median()\n",
    "df.runtime = df.runtime.astype('uint8')"
   ]
  },
  {
   "cell_type": "code",
   "execution_count": 121,
   "metadata": {},
   "outputs": [],
   "source": [
    "df.filming_location = df.filming_location.astype('category')"
   ]
  },
  {
   "attachments": {},
   "cell_type": "markdown",
   "metadata": {},
   "source": [
    "Todos os valores cambiais são do dia 16/02\n",
    "- $: Dolar Americano\n",
    "- €: Euro\n",
    "- NOK\\xa0: Coroa Norueguesa Franco\n",
    "- SEK\\xa0: Coroa Sueca\n",
    "- A$: Dólar Austráliano\n",
    "- ₹: Rupia Indiana\n",
    "- CA$: Dólar Canadense\n",
    "- CN¥: Yuan Chinês\n",
    "- £: Libra Esterlina\n",
    "- ₩: Won Sul-Coreano\n",
    "- ¥: Iene Japonês\n",
    "- DKK\\xa0: Coroa Dinamarquesa"
   ]
  },
  {
   "cell_type": "code",
   "execution_count": 122,
   "metadata": {},
   "outputs": [],
   "source": [
    "simb = df.budget.str.replace(r'[0-9|,]', '', regex=True).unique()\n",
    "conversion = {'$': 1.0,'€': 1.0692577, 'NOK\\xa0': 0.097486342, 'SEK\\xa0': 0.09551, 'A$': 0.68763434, '₹': 0.01209, 'CA$': 0.74523201, 'CN¥': 0.14572 ,'£': 1.1987, '₩': 0.00077412484, '¥': 0.0074468957, 'DKK\\xa0': 0.14329}"
   ]
  },
  {
   "cell_type": "code",
   "execution_count": 123,
   "metadata": {},
   "outputs": [],
   "source": [
    "def convert_currency(value):\n",
    "    if value == 'Unknown':\n",
    "        return value\n",
    "    else:\n",
    "        for item in simb:\n",
    "            if item in value:\n",
    "                return float(sub(r'[^\\d.]', '', value)) * conversion[item]\n",
    "            \n",
    "df.budget = df.budget.apply(convert_currency)\n",
    "del convert_currency"
   ]
  },
  {
   "cell_type": "code",
   "execution_count": 124,
   "metadata": {},
   "outputs": [],
   "source": [
    "df.income = df.income.str.lstrip('$').replace(to_replace=r'[,]', value='', regex=True)"
   ]
  },
  {
   "cell_type": "code",
   "execution_count": 125,
   "metadata": {},
   "outputs": [],
   "source": [
    "df.loc[(df.query('income == \"Unknown\"')).index, 'income'] = df.drop(index = df.query('income == \"Unknown\"').index).income.astype('float64').median()\n",
    "df.loc[(df.query('budget == \"Unknown\"')).index, 'budget'] = df.drop(index = df.query('budget == \"Unknown\"').index).budget.astype('float64').median()"
   ]
  },
  {
   "cell_type": "code",
   "execution_count": 126,
   "metadata": {},
   "outputs": [],
   "source": [
    "df.income = df.income.astype('float64')\n",
    "df.budget = df.budget.astype('float64')"
   ]
  },
  {
   "cell_type": "code",
   "execution_count": 127,
   "metadata": {},
   "outputs": [
    {
     "name": "stdout",
     "output_type": "stream",
     "text": [
      "<class 'pandas.core.frame.DataFrame'>\n",
      "RangeIndex: 2000 entries, 0 to 1999\n",
      "Data columns (total 13 columns):\n",
      " #   Column             Non-Null Count  Dtype   \n",
      "---  ------             --------------  -----   \n",
      " 0   title              2000 non-null   object  \n",
      " 1   rating             2000 non-null   float64 \n",
      " 2   year               2000 non-null   uint16  \n",
      " 3   month              2000 non-null   category\n",
      " 4   certificate        2000 non-null   category\n",
      " 5   runtime            2000 non-null   uint8   \n",
      " 6   directors          2000 non-null   object  \n",
      " 7   stars              2000 non-null   object  \n",
      " 8   genre              2000 non-null   object  \n",
      " 9   filming_location   2000 non-null   category\n",
      " 10  budget             2000 non-null   float64 \n",
      " 11  income             2000 non-null   float64 \n",
      " 12  country_of_origin  2000 non-null   object  \n",
      "dtypes: category(3), float64(3), object(5), uint16(1), uint8(1)\n",
      "memory usage: 878.0 KB\n"
     ]
    }
   ],
   "source": [
    "df.info(memory_usage='deep')"
   ]
  },
  {
   "cell_type": "code",
   "execution_count": 128,
   "metadata": {},
   "outputs": [
    {
     "data": {
      "text/plain": [
       "899104"
      ]
     },
     "execution_count": 128,
     "metadata": {},
     "output_type": "execute_result"
    }
   ],
   "source": [
    "memory_after = df.memory_usage(deep=True).sum()\n",
    "memory_after"
   ]
  },
  {
   "cell_type": "code",
   "execution_count": 129,
   "metadata": {},
   "outputs": [
    {
     "name": "stdout",
     "output_type": "stream",
     "text": [
      " 55.42% ganho de memória\n"
     ]
    }
   ],
   "source": [
    "print (f'{memory_after/memory_before*100: .2f}% ganho de memória')"
   ]
  },
  {
   "cell_type": "code",
   "execution_count": 130,
   "metadata": {},
   "outputs": [],
   "source": [
    "df.to_pickle('../datasets/processed/movies.pkl')"
   ]
  }
 ],
 "metadata": {
  "kernelspec": {
   "display_name": "ada_eda_venv",
   "language": "python",
   "name": "python3"
  },
  "language_info": {
   "codemirror_mode": {
    "name": "ipython",
    "version": 3
   },
   "file_extension": ".py",
   "mimetype": "text/x-python",
   "name": "python",
   "nbconvert_exporter": "python",
   "pygments_lexer": "ipython3",
   "version": "3.11.0"
  },
  "orig_nbformat": 4,
  "vscode": {
   "interpreter": {
    "hash": "c8c75a32f239ad1f79a4d5d3cf49ae2e4a31b3957cd8a27e200fdabe2232678e"
   }
  }
 },
 "nbformat": 4,
 "nbformat_minor": 2
}
