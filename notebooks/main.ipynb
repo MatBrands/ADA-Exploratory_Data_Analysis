{
 "cells": [
  {
   "attachments": {},
   "cell_type": "markdown",
   "metadata": {},
   "source": [
    "# Eda - Grupo 2"
   ]
  },
  {
   "attachments": {},
   "cell_type": "markdown",
   "metadata": {},
   "source": [
    "## Importando as bibliotecas necessárias"
   ]
  },
  {
   "cell_type": "code",
   "execution_count": 102,
   "metadata": {},
   "outputs": [],
   "source": [
    "import numpy as np\n",
    "import pandas as pd\n",
    "import geopandas as gpd\n",
    "import json\n",
    "import matplotlib.pyplot as plt\n",
    "import seaborn as sns\n",
    "import plotly.express as px\n",
    "from bokeh.io import output_notebook, show\n",
    "from bokeh.plotting import figure\n",
    "from bokeh.models import GeoJSONDataSource, LinearColorMapper, ColorBar\n",
    "from bokeh.palettes import brewer\n",
    "sns.color_palette(\"crest\", as_cmap=True)\n",
    "sns.set(style='darkgrid')\n",
    "sns.set_theme(style=\"ticks\", rc={\"axes.spines.right\": False, \"axes.spines.top\": False})\n",
    "\n",
    "from tqdm import tqdm\n",
    "tqdm.pandas(desc=\"my bar!\")"
   ]
  },
  {
   "attachments": {},
   "cell_type": "markdown",
   "metadata": {},
   "source": [
    "## Tables"
   ]
  },
  {
   "attachments": {},
   "cell_type": "markdown",
   "metadata": {},
   "source": [
    "Carregando o banco de dados, já tratado anteriormente"
   ]
  },
  {
   "cell_type": "code",
   "execution_count": 103,
   "metadata": {},
   "outputs": [
    {
     "data": {
      "text/html": [
       "<div>\n",
       "<style scoped>\n",
       "    .dataframe tbody tr th:only-of-type {\n",
       "        vertical-align: middle;\n",
       "    }\n",
       "\n",
       "    .dataframe tbody tr th {\n",
       "        vertical-align: top;\n",
       "    }\n",
       "\n",
       "    .dataframe thead th {\n",
       "        text-align: right;\n",
       "    }\n",
       "</style>\n",
       "<table border=\"1\" class=\"dataframe\">\n",
       "  <thead>\n",
       "    <tr style=\"text-align: right;\">\n",
       "      <th></th>\n",
       "      <th>title</th>\n",
       "      <th>rating</th>\n",
       "      <th>year</th>\n",
       "      <th>month</th>\n",
       "      <th>certificate</th>\n",
       "      <th>runtime</th>\n",
       "      <th>directors</th>\n",
       "      <th>stars</th>\n",
       "      <th>genre</th>\n",
       "      <th>filming_location</th>\n",
       "      <th>budget</th>\n",
       "      <th>income</th>\n",
       "      <th>country_of_origin</th>\n",
       "    </tr>\n",
       "  </thead>\n",
       "  <tbody>\n",
       "    <tr>\n",
       "      <th>0</th>\n",
       "      <td>Avatar: The Way of Water</td>\n",
       "      <td>8.0</td>\n",
       "      <td>2022</td>\n",
       "      <td>December</td>\n",
       "      <td>PG-13</td>\n",
       "      <td>192</td>\n",
       "      <td>James Cameron</td>\n",
       "      <td>Sam Worthington, Zoe Saldana, Sigourney Weaver...</td>\n",
       "      <td>Action, Adventure, Fantasy</td>\n",
       "      <td>New Zealand</td>\n",
       "      <td>350000000.0</td>\n",
       "      <td>681081686.0</td>\n",
       "      <td>United States</td>\n",
       "    </tr>\n",
       "    <tr>\n",
       "      <th>1</th>\n",
       "      <td>Guillermo del Toro's Pinocchio</td>\n",
       "      <td>7.8</td>\n",
       "      <td>2022</td>\n",
       "      <td>December</td>\n",
       "      <td>PG</td>\n",
       "      <td>117</td>\n",
       "      <td>Guillermo del Toro, Mark Gustafson</td>\n",
       "      <td>Ewan McGregor, David Bradley, Gregory Mann, Bu...</td>\n",
       "      <td>Animation, Drama, Family</td>\n",
       "      <td>USA</td>\n",
       "      <td>35000000.0</td>\n",
       "      <td>71614.0</td>\n",
       "      <td>United States, Mexico, France</td>\n",
       "    </tr>\n",
       "    <tr>\n",
       "      <th>2</th>\n",
       "      <td>Bullet Train</td>\n",
       "      <td>7.3</td>\n",
       "      <td>2022</td>\n",
       "      <td>August</td>\n",
       "      <td>R</td>\n",
       "      <td>127</td>\n",
       "      <td>David Leitch</td>\n",
       "      <td>Brad Pitt, Joey King, Aaron Taylor Johnson, Br...</td>\n",
       "      <td>Action, Comedy, Thriller</td>\n",
       "      <td>Japan</td>\n",
       "      <td>85900000.0</td>\n",
       "      <td>239268602.0</td>\n",
       "      <td>Japan, United States</td>\n",
       "    </tr>\n",
       "    <tr>\n",
       "      <th>3</th>\n",
       "      <td>The Banshees of Inisherin</td>\n",
       "      <td>8.0</td>\n",
       "      <td>2022</td>\n",
       "      <td>November</td>\n",
       "      <td>R</td>\n",
       "      <td>114</td>\n",
       "      <td>Martin McDonagh</td>\n",
       "      <td>Colin Farrell, Brendan Gleeson, Kerry Condon, ...</td>\n",
       "      <td>Comedy, Drama</td>\n",
       "      <td>Ireland</td>\n",
       "      <td>40000000.0</td>\n",
       "      <td>19720823.0</td>\n",
       "      <td>Ireland, United Kingdom, United States</td>\n",
       "    </tr>\n",
       "    <tr>\n",
       "      <th>4</th>\n",
       "      <td>M3gan</td>\n",
       "      <td>6.7</td>\n",
       "      <td>2022</td>\n",
       "      <td>January</td>\n",
       "      <td>PG-13</td>\n",
       "      <td>102</td>\n",
       "      <td>Gerard Johnstone</td>\n",
       "      <td>Jenna Davis, Amie Donald, Allison Williams, Vi...</td>\n",
       "      <td>Horror, Sci-Fi, Thriller</td>\n",
       "      <td>New Zealand</td>\n",
       "      <td>40000000.0</td>\n",
       "      <td>90776006.5</td>\n",
       "      <td>United States</td>\n",
       "    </tr>\n",
       "  </tbody>\n",
       "</table>\n",
       "</div>"
      ],
      "text/plain": [
       "                            title  rating  year     month certificate  \\\n",
       "0        Avatar: The Way of Water     8.0  2022  December       PG-13   \n",
       "1  Guillermo del Toro's Pinocchio     7.8  2022  December          PG   \n",
       "2                    Bullet Train     7.3  2022    August           R   \n",
       "3       The Banshees of Inisherin     8.0  2022  November           R   \n",
       "4                           M3gan     6.7  2022   January       PG-13   \n",
       "\n",
       "   runtime                           directors  \\\n",
       "0      192                       James Cameron   \n",
       "1      117  Guillermo del Toro, Mark Gustafson   \n",
       "2      127                        David Leitch   \n",
       "3      114                     Martin McDonagh   \n",
       "4      102                    Gerard Johnstone   \n",
       "\n",
       "                                               stars  \\\n",
       "0  Sam Worthington, Zoe Saldana, Sigourney Weaver...   \n",
       "1  Ewan McGregor, David Bradley, Gregory Mann, Bu...   \n",
       "2  Brad Pitt, Joey King, Aaron Taylor Johnson, Br...   \n",
       "3  Colin Farrell, Brendan Gleeson, Kerry Condon, ...   \n",
       "4  Jenna Davis, Amie Donald, Allison Williams, Vi...   \n",
       "\n",
       "                        genre filming_location       budget       income  \\\n",
       "0  Action, Adventure, Fantasy      New Zealand  350000000.0  681081686.0   \n",
       "1    Animation, Drama, Family              USA   35000000.0      71614.0   \n",
       "2    Action, Comedy, Thriller            Japan   85900000.0  239268602.0   \n",
       "3               Comedy, Drama          Ireland   40000000.0   19720823.0   \n",
       "4    Horror, Sci-Fi, Thriller      New Zealand   40000000.0   90776006.5   \n",
       "\n",
       "                        country_of_origin  \n",
       "0                           United States  \n",
       "1           United States, Mexico, France  \n",
       "2                    Japan, United States  \n",
       "3  Ireland, United Kingdom, United States  \n",
       "4                           United States  "
      ]
     },
     "execution_count": 103,
     "metadata": {},
     "output_type": "execute_result"
    }
   ],
   "source": [
    "df = pd.read_pickle('../datasets/processed/movies.pkl')\n",
    "df.head()"
   ]
  },
  {
   "cell_type": "code",
   "execution_count": 104,
   "metadata": {},
   "outputs": [
    {
     "data": {
      "text/html": [
       "<div>\n",
       "<style scoped>\n",
       "    .dataframe tbody tr th:only-of-type {\n",
       "        vertical-align: middle;\n",
       "    }\n",
       "\n",
       "    .dataframe tbody tr th {\n",
       "        vertical-align: top;\n",
       "    }\n",
       "\n",
       "    .dataframe thead th {\n",
       "        text-align: right;\n",
       "    }\n",
       "</style>\n",
       "<table border=\"1\" class=\"dataframe\">\n",
       "  <thead>\n",
       "    <tr style=\"text-align: right;\">\n",
       "      <th></th>\n",
       "      <th>rating</th>\n",
       "      <th>year</th>\n",
       "      <th>runtime</th>\n",
       "      <th>budget</th>\n",
       "      <th>income</th>\n",
       "    </tr>\n",
       "  </thead>\n",
       "  <tbody>\n",
       "    <tr>\n",
       "      <th>count</th>\n",
       "      <td>2000.000000</td>\n",
       "      <td>2000.000000</td>\n",
       "      <td>2000.000000</td>\n",
       "      <td>2.000000e+03</td>\n",
       "      <td>2.000000e+03</td>\n",
       "    </tr>\n",
       "    <tr>\n",
       "      <th>mean</th>\n",
       "      <td>6.667650</td>\n",
       "      <td>2012.500000</td>\n",
       "      <td>113.214500</td>\n",
       "      <td>5.794723e+07</td>\n",
       "      <td>1.807404e+08</td>\n",
       "    </tr>\n",
       "    <tr>\n",
       "      <th>std</th>\n",
       "      <td>0.912576</td>\n",
       "      <td>5.767723</td>\n",
       "      <td>19.598075</td>\n",
       "      <td>5.644956e+07</td>\n",
       "      <td>2.645420e+08</td>\n",
       "    </tr>\n",
       "    <tr>\n",
       "      <th>min</th>\n",
       "      <td>1.900000</td>\n",
       "      <td>2003.000000</td>\n",
       "      <td>50.000000</td>\n",
       "      <td>1.000000e+01</td>\n",
       "      <td>3.050000e+02</td>\n",
       "    </tr>\n",
       "    <tr>\n",
       "      <th>25%</th>\n",
       "      <td>6.175000</td>\n",
       "      <td>2007.750000</td>\n",
       "      <td>99.000000</td>\n",
       "      <td>2.000000e+07</td>\n",
       "      <td>2.931354e+07</td>\n",
       "    </tr>\n",
       "    <tr>\n",
       "      <th>50%</th>\n",
       "      <td>6.700000</td>\n",
       "      <td>2012.500000</td>\n",
       "      <td>110.000000</td>\n",
       "      <td>4.000000e+07</td>\n",
       "      <td>9.077601e+07</td>\n",
       "    </tr>\n",
       "    <tr>\n",
       "      <th>75%</th>\n",
       "      <td>7.300000</td>\n",
       "      <td>2017.250000</td>\n",
       "      <td>124.000000</td>\n",
       "      <td>7.500000e+07</td>\n",
       "      <td>2.081357e+08</td>\n",
       "    </tr>\n",
       "    <tr>\n",
       "      <th>max</th>\n",
       "      <td>9.600000</td>\n",
       "      <td>2022.000000</td>\n",
       "      <td>242.000000</td>\n",
       "      <td>3.560000e+08</td>\n",
       "      <td>2.922918e+09</td>\n",
       "    </tr>\n",
       "  </tbody>\n",
       "</table>\n",
       "</div>"
      ],
      "text/plain": [
       "            rating         year      runtime        budget        income\n",
       "count  2000.000000  2000.000000  2000.000000  2.000000e+03  2.000000e+03\n",
       "mean      6.667650  2012.500000   113.214500  5.794723e+07  1.807404e+08\n",
       "std       0.912576     5.767723    19.598075  5.644956e+07  2.645420e+08\n",
       "min       1.900000  2003.000000    50.000000  1.000000e+01  3.050000e+02\n",
       "25%       6.175000  2007.750000    99.000000  2.000000e+07  2.931354e+07\n",
       "50%       6.700000  2012.500000   110.000000  4.000000e+07  9.077601e+07\n",
       "75%       7.300000  2017.250000   124.000000  7.500000e+07  2.081357e+08\n",
       "max       9.600000  2022.000000   242.000000  3.560000e+08  2.922918e+09"
      ]
     },
     "execution_count": 104,
     "metadata": {},
     "output_type": "execute_result"
    }
   ],
   "source": [
    "df.describe()"
   ]
  },
  {
   "cell_type": "code",
   "execution_count": 105,
   "metadata": {},
   "outputs": [
    {
     "data": {
      "text/html": [
       "<div>\n",
       "<style scoped>\n",
       "    .dataframe tbody tr th:only-of-type {\n",
       "        vertical-align: middle;\n",
       "    }\n",
       "\n",
       "    .dataframe tbody tr th {\n",
       "        vertical-align: top;\n",
       "    }\n",
       "\n",
       "    .dataframe thead th {\n",
       "        text-align: right;\n",
       "    }\n",
       "</style>\n",
       "<table border=\"1\" class=\"dataframe\">\n",
       "  <thead>\n",
       "    <tr style=\"text-align: right;\">\n",
       "      <th></th>\n",
       "      <th>title</th>\n",
       "      <th>month</th>\n",
       "      <th>certificate</th>\n",
       "      <th>directors</th>\n",
       "      <th>stars</th>\n",
       "      <th>genre</th>\n",
       "      <th>filming_location</th>\n",
       "      <th>country_of_origin</th>\n",
       "    </tr>\n",
       "  </thead>\n",
       "  <tbody>\n",
       "    <tr>\n",
       "      <th>count</th>\n",
       "      <td>2000</td>\n",
       "      <td>2000</td>\n",
       "      <td>2000</td>\n",
       "      <td>2000</td>\n",
       "      <td>2000</td>\n",
       "      <td>2000</td>\n",
       "      <td>2000</td>\n",
       "      <td>2000</td>\n",
       "    </tr>\n",
       "    <tr>\n",
       "      <th>unique</th>\n",
       "      <td>1989</td>\n",
       "      <td>12</td>\n",
       "      <td>11</td>\n",
       "      <td>1082</td>\n",
       "      <td>1990</td>\n",
       "      <td>244</td>\n",
       "      <td>97</td>\n",
       "      <td>406</td>\n",
       "    </tr>\n",
       "    <tr>\n",
       "      <th>top</th>\n",
       "      <td>The Hunt</td>\n",
       "      <td>November</td>\n",
       "      <td>R</td>\n",
       "      <td>Ridley Scott</td>\n",
       "      <td>Jennifer Lawrence, Josh Hutcherson, Liam Hemsw...</td>\n",
       "      <td>Action, Adventure, Sci-Fi</td>\n",
       "      <td>USA</td>\n",
       "      <td>United States</td>\n",
       "    </tr>\n",
       "    <tr>\n",
       "      <th>freq</th>\n",
       "      <td>2</td>\n",
       "      <td>262</td>\n",
       "      <td>901</td>\n",
       "      <td>13</td>\n",
       "      <td>2</td>\n",
       "      <td>92</td>\n",
       "      <td>906</td>\n",
       "      <td>942</td>\n",
       "    </tr>\n",
       "  </tbody>\n",
       "</table>\n",
       "</div>"
      ],
      "text/plain": [
       "           title     month certificate     directors  \\\n",
       "count       2000      2000        2000          2000   \n",
       "unique      1989        12          11          1082   \n",
       "top     The Hunt  November           R  Ridley Scott   \n",
       "freq           2       262         901            13   \n",
       "\n",
       "                                                    stars  \\\n",
       "count                                                2000   \n",
       "unique                                               1990   \n",
       "top     Jennifer Lawrence, Josh Hutcherson, Liam Hemsw...   \n",
       "freq                                                    2   \n",
       "\n",
       "                            genre filming_location country_of_origin  \n",
       "count                        2000             2000              2000  \n",
       "unique                        244               97               406  \n",
       "top     Action, Adventure, Sci-Fi              USA     United States  \n",
       "freq                           92              906               942  "
      ]
     },
     "execution_count": 105,
     "metadata": {},
     "output_type": "execute_result"
    }
   ],
   "source": [
    "df.describe(exclude=['float64', 'uint16', 'uint32', 'uint8'])"
   ]
  },
  {
   "cell_type": "code",
   "execution_count": 106,
   "metadata": {},
   "outputs": [
    {
     "name": "stderr",
     "output_type": "stream",
     "text": [
      "my bar!: 100%|██████████| 2000/2000 [00:00<00:00, 803814.49it/s]\n"
     ]
    }
   ],
   "source": [
    "def classification_of_runtime(x: int) -> str:\n",
    "    if x < 60:\n",
    "        return 'short'\n",
    "    elif x < 120:\n",
    "        return 'medium'\n",
    "    elif x < 180:\n",
    "        return 'long'\n",
    "    else:\n",
    "        return 'eternity'\n",
    "\n",
    "df['time_classification'] = df.runtime.progress_apply(classification_of_runtime)\n",
    "del classification_of_runtime"
   ]
  },
  {
   "cell_type": "code",
   "execution_count": 107,
   "metadata": {},
   "outputs": [],
   "source": [
    "df['profit'] = df.income - df.budget\n",
    "df['proportional_profit'] = np.round(df.income/df.budget*100, 2)\n",
    "df['budget_per_million'] = df['budget'] / 1_000_000\n",
    "df['income_per_million'] = df['income'] / 1_000_000"
   ]
  },
  {
   "cell_type": "code",
   "execution_count": 108,
   "metadata": {},
   "outputs": [
    {
     "name": "stderr",
     "output_type": "stream",
     "text": [
      "my bar!: 100%|██████████| 2000/2000 [00:00<00:00, 489302.85it/s]\n"
     ]
    }
   ],
   "source": [
    "def classification_of_profit(x: int) -> str:\n",
    "    if x < 0:\n",
    "        return 'failure'\n",
    "    else:\n",
    "        return 'gain'\n",
    "\n",
    "df['profit_classification'] = df.profit.progress_apply(classification_of_profit)"
   ]
  },
  {
   "cell_type": "code",
   "execution_count": 109,
   "metadata": {},
   "outputs": [
    {
     "data": {
      "text/plain": [
       "gain       1551\n",
       "failure     449\n",
       "Name: profit_classification, dtype: int64"
      ]
     },
     "execution_count": 109,
     "metadata": {},
     "output_type": "execute_result"
    }
   ],
   "source": [
    "df.profit_classification.value_counts()"
   ]
  },
  {
   "attachments": {},
   "cell_type": "markdown",
   "metadata": {},
   "source": [
    "### Observando um pouco os valores pertencentes as colunas de strings"
   ]
  },
  {
   "cell_type": "code",
   "execution_count": 110,
   "metadata": {},
   "outputs": [],
   "source": [
    "def list_of_str(array: np.ndarray) -> pd.DataFrame:\n",
    "    new_df = pd.Series(np.sum((array) + ',').split(',')).str.strip()\n",
    "    test = new_df.copy()\n",
    "    new_df = pd.DataFrame(list(set(new_df)), columns=[array.name])\n",
    "    new_df.drop(index=new_df[new_df[array.name] == ''].index, inplace=True)\n",
    "    new_df.reset_index(drop=True, inplace=True)\n",
    "    new_df['frequency'] = [test.str.fullmatch(item).sum() for item in tqdm(new_df[array.name].values)]\n",
    "    new_df['rating'] = [df[df[array.name].str.contains(item)]['rating'].mean() for item in tqdm(new_df[array.name].values)]\n",
    "    new_df['year'] = [df[df[array.name].str.contains(item)]['year'].values for item in tqdm(new_df[array.name].values)]\n",
    "    new_df['runtime'] = [df[df[array.name].str.contains(item)]['runtime'].mean() for item in tqdm(new_df[array.name].values)]\n",
    "    new_df['profit'] = [df[df[array.name].str.contains(item)]['profit'].mean() for item in tqdm(new_df[array.name].values)]\n",
    "    new_df['profit_classification'] = [df[df[array.name].str.contains(item)]['profit_classification'].mode()[0] for item in tqdm(new_df[array.name].values)]\n",
    "    \n",
    "    return new_df"
   ]
  },
  {
   "cell_type": "code",
   "execution_count": 111,
   "metadata": {},
   "outputs": [
    {
     "name": "stderr",
     "output_type": "stream",
     "text": [
      "100%|██████████| 1151/1151 [00:00<00:00, 1227.71it/s]\n",
      "100%|██████████| 1151/1151 [00:01<00:00, 1059.16it/s]\n",
      "100%|██████████| 1151/1151 [00:00<00:00, 1231.19it/s]\n",
      "100%|██████████| 1151/1151 [00:01<00:00, 1066.12it/s]\n",
      "100%|██████████| 1151/1151 [00:01<00:00, 1046.19it/s]\n",
      "100%|██████████| 1151/1151 [00:01<00:00, 1050.53it/s]\n"
     ]
    }
   ],
   "source": [
    "list_of_directors = list_of_str(df.directors)"
   ]
  },
  {
   "cell_type": "code",
   "execution_count": 112,
   "metadata": {},
   "outputs": [
    {
     "data": {
      "text/html": [
       "<div>\n",
       "<style scoped>\n",
       "    .dataframe tbody tr th:only-of-type {\n",
       "        vertical-align: middle;\n",
       "    }\n",
       "\n",
       "    .dataframe tbody tr th {\n",
       "        vertical-align: top;\n",
       "    }\n",
       "\n",
       "    .dataframe thead th {\n",
       "        text-align: right;\n",
       "    }\n",
       "</style>\n",
       "<table border=\"1\" class=\"dataframe\">\n",
       "  <thead>\n",
       "    <tr style=\"text-align: right;\">\n",
       "      <th></th>\n",
       "      <th>directors</th>\n",
       "      <th>frequency</th>\n",
       "      <th>rating</th>\n",
       "      <th>year</th>\n",
       "      <th>runtime</th>\n",
       "      <th>profit</th>\n",
       "      <th>profit_classification</th>\n",
       "    </tr>\n",
       "  </thead>\n",
       "  <tbody>\n",
       "    <tr>\n",
       "      <th>71</th>\n",
       "      <td>Ridley Scott</td>\n",
       "      <td>13</td>\n",
       "      <td>6.892308</td>\n",
       "      <td>[2021, 2021, 2017, 2015, 2014, 2013, 2012, 201...</td>\n",
       "      <td>136.076923</td>\n",
       "      <td>1.199349e+08</td>\n",
       "      <td>gain</td>\n",
       "    </tr>\n",
       "    <tr>\n",
       "      <th>729</th>\n",
       "      <td>Steven Spielberg</td>\n",
       "      <td>12</td>\n",
       "      <td>7.216667</td>\n",
       "      <td>[2022, 2021, 2018, 2017, 2015, 2012, 2011, 201...</td>\n",
       "      <td>136.500000</td>\n",
       "      <td>2.062659e+08</td>\n",
       "      <td>gain</td>\n",
       "    </tr>\n",
       "    <tr>\n",
       "      <th>298</th>\n",
       "      <td>Antoine Fuqua</td>\n",
       "      <td>11</td>\n",
       "      <td>6.554545</td>\n",
       "      <td>[2022, 2021, 2021, 2018, 2016, 2015, 2014, 201...</td>\n",
       "      <td>120.636364</td>\n",
       "      <td>6.385396e+07</td>\n",
       "      <td>gain</td>\n",
       "    </tr>\n",
       "    <tr>\n",
       "      <th>182</th>\n",
       "      <td>Michael Bay</td>\n",
       "      <td>10</td>\n",
       "      <td>6.310000</td>\n",
       "      <td>[2019, 2017, 2016, 2014, 2013, 2011, 2009, 200...</td>\n",
       "      <td>145.000000</td>\n",
       "      <td>3.609068e+08</td>\n",
       "      <td>gain</td>\n",
       "    </tr>\n",
       "    <tr>\n",
       "      <th>60</th>\n",
       "      <td>Clint Eastwood</td>\n",
       "      <td>10</td>\n",
       "      <td>7.630000</td>\n",
       "      <td>[2019, 2018, 2016, 2014, 2009, 2008, 2008, 200...</td>\n",
       "      <td>127.800000</td>\n",
       "      <td>1.519732e+08</td>\n",
       "      <td>gain</td>\n",
       "    </tr>\n",
       "    <tr>\n",
       "      <th>293</th>\n",
       "      <td>Shawn Levy</td>\n",
       "      <td>10</td>\n",
       "      <td>6.340000</td>\n",
       "      <td>[2021, 2014, 2014, 2013, 2011, 2010, 2009, 200...</td>\n",
       "      <td>105.400000</td>\n",
       "      <td>1.753495e+08</td>\n",
       "      <td>gain</td>\n",
       "    </tr>\n",
       "    <tr>\n",
       "      <th>401</th>\n",
       "      <td>Tim Burton</td>\n",
       "      <td>9</td>\n",
       "      <td>6.944444</td>\n",
       "      <td>[2016, 2014, 2012, 2012, 2010, 2007, 2005, 200...</td>\n",
       "      <td>108.222222</td>\n",
       "      <td>1.924092e+08</td>\n",
       "      <td>gain</td>\n",
       "    </tr>\n",
       "    <tr>\n",
       "      <th>1138</th>\n",
       "      <td>Joel Coen</td>\n",
       "      <td>9</td>\n",
       "      <td>7.133333</td>\n",
       "      <td>[2021, 2018, 2016, 2013, 2010, 2009, 2008, 200...</td>\n",
       "      <td>109.111111</td>\n",
       "      <td>7.200790e+07</td>\n",
       "      <td>gain</td>\n",
       "    </tr>\n",
       "    <tr>\n",
       "      <th>116</th>\n",
       "      <td>Quentin Tarantino</td>\n",
       "      <td>9</td>\n",
       "      <td>7.866667</td>\n",
       "      <td>[2019, 2015, 2012, 2009, 2007, 2007, 2005, 200...</td>\n",
       "      <td>148.555556</td>\n",
       "      <td>1.467708e+08</td>\n",
       "      <td>gain</td>\n",
       "    </tr>\n",
       "    <tr>\n",
       "      <th>736</th>\n",
       "      <td>Zack Snyder</td>\n",
       "      <td>9</td>\n",
       "      <td>6.866667</td>\n",
       "      <td>[2021, 2021, 2017, 2016, 2013, 2011, 2009, 200...</td>\n",
       "      <td>143.777778</td>\n",
       "      <td>1.962998e+08</td>\n",
       "      <td>gain</td>\n",
       "    </tr>\n",
       "  </tbody>\n",
       "</table>\n",
       "</div>"
      ],
      "text/plain": [
       "              directors  frequency    rating  \\\n",
       "71         Ridley Scott         13  6.892308   \n",
       "729    Steven Spielberg         12  7.216667   \n",
       "298       Antoine Fuqua         11  6.554545   \n",
       "182         Michael Bay         10  6.310000   \n",
       "60       Clint Eastwood         10  7.630000   \n",
       "293          Shawn Levy         10  6.340000   \n",
       "401          Tim Burton          9  6.944444   \n",
       "1138          Joel Coen          9  7.133333   \n",
       "116   Quentin Tarantino          9  7.866667   \n",
       "736         Zack Snyder          9  6.866667   \n",
       "\n",
       "                                                   year     runtime  \\\n",
       "71    [2021, 2021, 2017, 2015, 2014, 2013, 2012, 201...  136.076923   \n",
       "729   [2022, 2021, 2018, 2017, 2015, 2012, 2011, 201...  136.500000   \n",
       "298   [2022, 2021, 2021, 2018, 2016, 2015, 2014, 201...  120.636364   \n",
       "182   [2019, 2017, 2016, 2014, 2013, 2011, 2009, 200...  145.000000   \n",
       "60    [2019, 2018, 2016, 2014, 2009, 2008, 2008, 200...  127.800000   \n",
       "293   [2021, 2014, 2014, 2013, 2011, 2010, 2009, 200...  105.400000   \n",
       "401   [2016, 2014, 2012, 2012, 2010, 2007, 2005, 200...  108.222222   \n",
       "1138  [2021, 2018, 2016, 2013, 2010, 2009, 2008, 200...  109.111111   \n",
       "116   [2019, 2015, 2012, 2009, 2007, 2007, 2005, 200...  148.555556   \n",
       "736   [2021, 2021, 2017, 2016, 2013, 2011, 2009, 200...  143.777778   \n",
       "\n",
       "            profit profit_classification  \n",
       "71    1.199349e+08                  gain  \n",
       "729   2.062659e+08                  gain  \n",
       "298   6.385396e+07                  gain  \n",
       "182   3.609068e+08                  gain  \n",
       "60    1.519732e+08                  gain  \n",
       "293   1.753495e+08                  gain  \n",
       "401   1.924092e+08                  gain  \n",
       "1138  7.200790e+07                  gain  \n",
       "116   1.467708e+08                  gain  \n",
       "736   1.962998e+08                  gain  "
      ]
     },
     "execution_count": 112,
     "metadata": {},
     "output_type": "execute_result"
    }
   ],
   "source": [
    "list_of_directors.sort_values('frequency', ascending=False).head(10)"
   ]
  },
  {
   "cell_type": "code",
   "execution_count": 113,
   "metadata": {},
   "outputs": [
    {
     "name": "stderr",
     "output_type": "stream",
     "text": [
      "100%|██████████| 3502/3502 [00:09<00:00, 352.09it/s]\n",
      "100%|██████████| 3502/3502 [00:03<00:00, 1000.72it/s]\n",
      "100%|██████████| 3502/3502 [00:02<00:00, 1173.65it/s]\n",
      "100%|██████████| 3502/3502 [00:03<00:00, 1032.21it/s]\n",
      "100%|██████████| 3502/3502 [00:03<00:00, 977.27it/s]\n",
      "100%|██████████| 3502/3502 [00:03<00:00, 938.72it/s] \n"
     ]
    }
   ],
   "source": [
    "list_of_stars = list_of_str(df.stars)"
   ]
  },
  {
   "cell_type": "code",
   "execution_count": 114,
   "metadata": {},
   "outputs": [
    {
     "data": {
      "text/html": [
       "<div>\n",
       "<style scoped>\n",
       "    .dataframe tbody tr th:only-of-type {\n",
       "        vertical-align: middle;\n",
       "    }\n",
       "\n",
       "    .dataframe tbody tr th {\n",
       "        vertical-align: top;\n",
       "    }\n",
       "\n",
       "    .dataframe thead th {\n",
       "        text-align: right;\n",
       "    }\n",
       "</style>\n",
       "<table border=\"1\" class=\"dataframe\">\n",
       "  <thead>\n",
       "    <tr style=\"text-align: right;\">\n",
       "      <th></th>\n",
       "      <th>stars</th>\n",
       "      <th>frequency</th>\n",
       "      <th>rating</th>\n",
       "      <th>year</th>\n",
       "      <th>runtime</th>\n",
       "      <th>profit</th>\n",
       "      <th>profit_classification</th>\n",
       "    </tr>\n",
       "  </thead>\n",
       "  <tbody>\n",
       "    <tr>\n",
       "      <th>2607</th>\n",
       "      <td>Dwayne Johnson</td>\n",
       "      <td>25</td>\n",
       "      <td>6.460000</td>\n",
       "      <td>[2022, 2021, 2021, 2019, 2019, 2019, 2018, 201...</td>\n",
       "      <td>116.080000</td>\n",
       "      <td>3.204124e+08</td>\n",
       "      <td>gain</td>\n",
       "    </tr>\n",
       "    <tr>\n",
       "      <th>1156</th>\n",
       "      <td>Mark Wahlberg</td>\n",
       "      <td>24</td>\n",
       "      <td>6.504167</td>\n",
       "      <td>[2022, 2021, 2020, 2018, 2018, 2017, 2017, 201...</td>\n",
       "      <td>115.875000</td>\n",
       "      <td>1.600243e+08</td>\n",
       "      <td>gain</td>\n",
       "    </tr>\n",
       "    <tr>\n",
       "      <th>1040</th>\n",
       "      <td>Ryan Reynolds</td>\n",
       "      <td>23</td>\n",
       "      <td>6.608696</td>\n",
       "      <td>[2022, 2021, 2021, 2020, 2019, 2018, 2017, 201...</td>\n",
       "      <td>108.260870</td>\n",
       "      <td>1.327418e+08</td>\n",
       "      <td>gain</td>\n",
       "    </tr>\n",
       "    <tr>\n",
       "      <th>1806</th>\n",
       "      <td>Brad Pitt</td>\n",
       "      <td>22</td>\n",
       "      <td>7.263636</td>\n",
       "      <td>[2022, 2022, 2019, 2019, 2016, 2015, 2014, 201...</td>\n",
       "      <td>134.045455</td>\n",
       "      <td>1.519059e+08</td>\n",
       "      <td>gain</td>\n",
       "    </tr>\n",
       "    <tr>\n",
       "      <th>3393</th>\n",
       "      <td>Scarlett Johansson</td>\n",
       "      <td>22</td>\n",
       "      <td>7.195455</td>\n",
       "      <td>[2021, 2021, 2019, 2019, 2017, 2016, 2016, 201...</td>\n",
       "      <td>117.318182</td>\n",
       "      <td>2.219786e+08</td>\n",
       "      <td>gain</td>\n",
       "    </tr>\n",
       "    <tr>\n",
       "      <th>3283</th>\n",
       "      <td>Amy Adams</td>\n",
       "      <td>22</td>\n",
       "      <td>6.981818</td>\n",
       "      <td>[2022, 2021, 2020, 2018, 2016, 2016, 2016, 201...</td>\n",
       "      <td>122.181818</td>\n",
       "      <td>1.074979e+08</td>\n",
       "      <td>gain</td>\n",
       "    </tr>\n",
       "    <tr>\n",
       "      <th>1364</th>\n",
       "      <td>Matt Damon</td>\n",
       "      <td>22</td>\n",
       "      <td>7.013636</td>\n",
       "      <td>[2021, 2021, 2019, 2017, 2017, 2016, 2016, 201...</td>\n",
       "      <td>124.272727</td>\n",
       "      <td>1.279186e+08</td>\n",
       "      <td>gain</td>\n",
       "    </tr>\n",
       "    <tr>\n",
       "      <th>1106</th>\n",
       "      <td>Cate Blanchett</td>\n",
       "      <td>21</td>\n",
       "      <td>7.128571</td>\n",
       "      <td>[2022, 2022, 2021, 2021, 2018, 2017, 2015, 201...</td>\n",
       "      <td>128.619048</td>\n",
       "      <td>1.859009e+08</td>\n",
       "      <td>gain</td>\n",
       "    </tr>\n",
       "    <tr>\n",
       "      <th>1619</th>\n",
       "      <td>Samuel L Jackson</td>\n",
       "      <td>21</td>\n",
       "      <td>6.871429</td>\n",
       "      <td>[2019, 2019, 2019, 2017, 2017, 2016, 2015, 201...</td>\n",
       "      <td>119.571429</td>\n",
       "      <td>2.759451e+08</td>\n",
       "      <td>gain</td>\n",
       "    </tr>\n",
       "    <tr>\n",
       "      <th>558</th>\n",
       "      <td>Tom Hanks</td>\n",
       "      <td>21</td>\n",
       "      <td>6.957143</td>\n",
       "      <td>[2022, 2022, 2022, 2021, 2020, 2020, 2019, 201...</td>\n",
       "      <td>119.571429</td>\n",
       "      <td>1.979458e+08</td>\n",
       "      <td>gain</td>\n",
       "    </tr>\n",
       "  </tbody>\n",
       "</table>\n",
       "</div>"
      ],
      "text/plain": [
       "                   stars  frequency    rating  \\\n",
       "2607      Dwayne Johnson         25  6.460000   \n",
       "1156       Mark Wahlberg         24  6.504167   \n",
       "1040       Ryan Reynolds         23  6.608696   \n",
       "1806           Brad Pitt         22  7.263636   \n",
       "3393  Scarlett Johansson         22  7.195455   \n",
       "3283           Amy Adams         22  6.981818   \n",
       "1364          Matt Damon         22  7.013636   \n",
       "1106      Cate Blanchett         21  7.128571   \n",
       "1619    Samuel L Jackson         21  6.871429   \n",
       "558            Tom Hanks         21  6.957143   \n",
       "\n",
       "                                                   year     runtime  \\\n",
       "2607  [2022, 2021, 2021, 2019, 2019, 2019, 2018, 201...  116.080000   \n",
       "1156  [2022, 2021, 2020, 2018, 2018, 2017, 2017, 201...  115.875000   \n",
       "1040  [2022, 2021, 2021, 2020, 2019, 2018, 2017, 201...  108.260870   \n",
       "1806  [2022, 2022, 2019, 2019, 2016, 2015, 2014, 201...  134.045455   \n",
       "3393  [2021, 2021, 2019, 2019, 2017, 2016, 2016, 201...  117.318182   \n",
       "3283  [2022, 2021, 2020, 2018, 2016, 2016, 2016, 201...  122.181818   \n",
       "1364  [2021, 2021, 2019, 2017, 2017, 2016, 2016, 201...  124.272727   \n",
       "1106  [2022, 2022, 2021, 2021, 2018, 2017, 2015, 201...  128.619048   \n",
       "1619  [2019, 2019, 2019, 2017, 2017, 2016, 2015, 201...  119.571429   \n",
       "558   [2022, 2022, 2022, 2021, 2020, 2020, 2019, 201...  119.571429   \n",
       "\n",
       "            profit profit_classification  \n",
       "2607  3.204124e+08                  gain  \n",
       "1156  1.600243e+08                  gain  \n",
       "1040  1.327418e+08                  gain  \n",
       "1806  1.519059e+08                  gain  \n",
       "3393  2.219786e+08                  gain  \n",
       "3283  1.074979e+08                  gain  \n",
       "1364  1.279186e+08                  gain  \n",
       "1106  1.859009e+08                  gain  \n",
       "1619  2.759451e+08                  gain  \n",
       "558   1.979458e+08                  gain  "
      ]
     },
     "execution_count": 114,
     "metadata": {},
     "output_type": "execute_result"
    }
   ],
   "source": [
    "list_of_stars.sort_values('frequency', ascending=False).head(10)"
   ]
  },
  {
   "attachments": {},
   "cell_type": "markdown",
   "metadata": {},
   "source": [
    "### Agrupando algumas colunas"
   ]
  },
  {
   "cell_type": "code",
   "execution_count": 115,
   "metadata": {},
   "outputs": [
    {
     "data": {
      "text/html": [
       "<div>\n",
       "<style scoped>\n",
       "    .dataframe tbody tr th:only-of-type {\n",
       "        vertical-align: middle;\n",
       "    }\n",
       "\n",
       "    .dataframe tbody tr th {\n",
       "        vertical-align: top;\n",
       "    }\n",
       "\n",
       "    .dataframe thead tr th {\n",
       "        text-align: left;\n",
       "    }\n",
       "\n",
       "    .dataframe thead tr:last-of-type th {\n",
       "        text-align: right;\n",
       "    }\n",
       "</style>\n",
       "<table border=\"1\" class=\"dataframe\">\n",
       "  <thead>\n",
       "    <tr>\n",
       "      <th></th>\n",
       "      <th colspan=\"2\" halign=\"left\">rating</th>\n",
       "    </tr>\n",
       "    <tr>\n",
       "      <th></th>\n",
       "      <th>mean</th>\n",
       "      <th>median</th>\n",
       "    </tr>\n",
       "    <tr>\n",
       "      <th>time_classification</th>\n",
       "      <th></th>\n",
       "      <th></th>\n",
       "    </tr>\n",
       "  </thead>\n",
       "  <tbody>\n",
       "    <tr>\n",
       "      <th>eternity</th>\n",
       "      <td>7.850000</td>\n",
       "      <td>7.85</td>\n",
       "    </tr>\n",
       "    <tr>\n",
       "      <th>long</th>\n",
       "      <td>7.091587</td>\n",
       "      <td>7.10</td>\n",
       "    </tr>\n",
       "    <tr>\n",
       "      <th>medium</th>\n",
       "      <td>6.459027</td>\n",
       "      <td>6.50</td>\n",
       "    </tr>\n",
       "    <tr>\n",
       "      <th>short</th>\n",
       "      <td>8.500000</td>\n",
       "      <td>8.50</td>\n",
       "    </tr>\n",
       "  </tbody>\n",
       "</table>\n",
       "</div>"
      ],
      "text/plain": [
       "                       rating       \n",
       "                         mean median\n",
       "time_classification                 \n",
       "eternity             7.850000   7.85\n",
       "long                 7.091587   7.10\n",
       "medium               6.459027   6.50\n",
       "short                8.500000   8.50"
      ]
     },
     "execution_count": 115,
     "metadata": {},
     "output_type": "execute_result"
    }
   ],
   "source": [
    "df.groupby('time_classification').agg({\n",
    "    'rating': ['mean', 'median']\n",
    "})"
   ]
  },
  {
   "cell_type": "code",
   "execution_count": 116,
   "metadata": {},
   "outputs": [
    {
     "data": {
      "text/html": [
       "<div>\n",
       "<style scoped>\n",
       "    .dataframe tbody tr th:only-of-type {\n",
       "        vertical-align: middle;\n",
       "    }\n",
       "\n",
       "    .dataframe tbody tr th {\n",
       "        vertical-align: top;\n",
       "    }\n",
       "\n",
       "    .dataframe thead tr th {\n",
       "        text-align: left;\n",
       "    }\n",
       "\n",
       "    .dataframe thead tr:last-of-type th {\n",
       "        text-align: right;\n",
       "    }\n",
       "</style>\n",
       "<table border=\"1\" class=\"dataframe\">\n",
       "  <thead>\n",
       "    <tr>\n",
       "      <th></th>\n",
       "      <th colspan=\"2\" halign=\"left\">rating</th>\n",
       "      <th colspan=\"2\" halign=\"left\">runtime</th>\n",
       "      <th colspan=\"2\" halign=\"left\">profit</th>\n",
       "    </tr>\n",
       "    <tr>\n",
       "      <th></th>\n",
       "      <th>mean</th>\n",
       "      <th>median</th>\n",
       "      <th>mean</th>\n",
       "      <th>median</th>\n",
       "      <th>mean</th>\n",
       "      <th>median</th>\n",
       "    </tr>\n",
       "    <tr>\n",
       "      <th>year</th>\n",
       "      <th></th>\n",
       "      <th></th>\n",
       "      <th></th>\n",
       "      <th></th>\n",
       "      <th></th>\n",
       "      <th></th>\n",
       "    </tr>\n",
       "  </thead>\n",
       "  <tbody>\n",
       "    <tr>\n",
       "      <th>2003</th>\n",
       "      <td>6.579</td>\n",
       "      <td>6.70</td>\n",
       "      <td>110.79</td>\n",
       "      <td>108.0</td>\n",
       "      <td>9.659462e+07</td>\n",
       "      <td>54687685.50</td>\n",
       "    </tr>\n",
       "    <tr>\n",
       "      <th>2004</th>\n",
       "      <td>6.746</td>\n",
       "      <td>6.80</td>\n",
       "      <td>111.03</td>\n",
       "      <td>106.0</td>\n",
       "      <td>1.056355e+08</td>\n",
       "      <td>69223069.50</td>\n",
       "    </tr>\n",
       "    <tr>\n",
       "      <th>2005</th>\n",
       "      <td>6.565</td>\n",
       "      <td>6.70</td>\n",
       "      <td>111.15</td>\n",
       "      <td>109.0</td>\n",
       "      <td>9.027620e+07</td>\n",
       "      <td>45003317.00</td>\n",
       "    </tr>\n",
       "    <tr>\n",
       "      <th>2006</th>\n",
       "      <td>6.713</td>\n",
       "      <td>6.75</td>\n",
       "      <td>112.87</td>\n",
       "      <td>108.0</td>\n",
       "      <td>9.156999e+07</td>\n",
       "      <td>41425535.00</td>\n",
       "    </tr>\n",
       "    <tr>\n",
       "      <th>2007</th>\n",
       "      <td>6.756</td>\n",
       "      <td>6.95</td>\n",
       "      <td>112.12</td>\n",
       "      <td>109.5</td>\n",
       "      <td>1.064206e+08</td>\n",
       "      <td>51594050.50</td>\n",
       "    </tr>\n",
       "    <tr>\n",
       "      <th>2008</th>\n",
       "      <td>6.596</td>\n",
       "      <td>6.70</td>\n",
       "      <td>107.73</td>\n",
       "      <td>106.0</td>\n",
       "      <td>1.205450e+08</td>\n",
       "      <td>73601433.50</td>\n",
       "    </tr>\n",
       "    <tr>\n",
       "      <th>2009</th>\n",
       "      <td>6.679</td>\n",
       "      <td>6.75</td>\n",
       "      <td>111.85</td>\n",
       "      <td>107.0</td>\n",
       "      <td>1.298643e+08</td>\n",
       "      <td>53456890.00</td>\n",
       "    </tr>\n",
       "    <tr>\n",
       "      <th>2010</th>\n",
       "      <td>6.691</td>\n",
       "      <td>6.60</td>\n",
       "      <td>108.69</td>\n",
       "      <td>107.0</td>\n",
       "      <td>1.261730e+08</td>\n",
       "      <td>63240140.00</td>\n",
       "    </tr>\n",
       "    <tr>\n",
       "      <th>2011</th>\n",
       "      <td>6.754</td>\n",
       "      <td>6.80</td>\n",
       "      <td>110.60</td>\n",
       "      <td>107.5</td>\n",
       "      <td>1.401639e+08</td>\n",
       "      <td>61960593.00</td>\n",
       "    </tr>\n",
       "    <tr>\n",
       "      <th>2012</th>\n",
       "      <td>6.675</td>\n",
       "      <td>6.75</td>\n",
       "      <td>112.58</td>\n",
       "      <td>109.0</td>\n",
       "      <td>1.631328e+08</td>\n",
       "      <td>81792810.00</td>\n",
       "    </tr>\n",
       "    <tr>\n",
       "      <th>2013</th>\n",
       "      <td>6.734</td>\n",
       "      <td>6.75</td>\n",
       "      <td>113.67</td>\n",
       "      <td>112.0</td>\n",
       "      <td>1.513409e+08</td>\n",
       "      <td>66122980.00</td>\n",
       "    </tr>\n",
       "    <tr>\n",
       "      <th>2014</th>\n",
       "      <td>6.692</td>\n",
       "      <td>6.60</td>\n",
       "      <td>113.05</td>\n",
       "      <td>109.0</td>\n",
       "      <td>1.622891e+08</td>\n",
       "      <td>87037858.50</td>\n",
       "    </tr>\n",
       "    <tr>\n",
       "      <th>2015</th>\n",
       "      <td>6.688</td>\n",
       "      <td>6.75</td>\n",
       "      <td>116.02</td>\n",
       "      <td>117.0</td>\n",
       "      <td>1.690774e+08</td>\n",
       "      <td>49983764.75</td>\n",
       "    </tr>\n",
       "    <tr>\n",
       "      <th>2016</th>\n",
       "      <td>6.762</td>\n",
       "      <td>6.85</td>\n",
       "      <td>114.25</td>\n",
       "      <td>114.5</td>\n",
       "      <td>1.578052e+08</td>\n",
       "      <td>82562837.80</td>\n",
       "    </tr>\n",
       "    <tr>\n",
       "      <th>2017</th>\n",
       "      <td>6.714</td>\n",
       "      <td>6.70</td>\n",
       "      <td>115.10</td>\n",
       "      <td>115.0</td>\n",
       "      <td>1.619302e+08</td>\n",
       "      <td>50776006.50</td>\n",
       "    </tr>\n",
       "    <tr>\n",
       "      <th>2018</th>\n",
       "      <td>6.677</td>\n",
       "      <td>6.75</td>\n",
       "      <td>117.24</td>\n",
       "      <td>118.0</td>\n",
       "      <td>1.751331e+08</td>\n",
       "      <td>50776006.50</td>\n",
       "    </tr>\n",
       "    <tr>\n",
       "      <th>2019</th>\n",
       "      <td>6.691</td>\n",
       "      <td>6.75</td>\n",
       "      <td>117.37</td>\n",
       "      <td>117.0</td>\n",
       "      <td>1.724727e+08</td>\n",
       "      <td>50776006.50</td>\n",
       "    </tr>\n",
       "    <tr>\n",
       "      <th>2020</th>\n",
       "      <td>6.326</td>\n",
       "      <td>6.50</td>\n",
       "      <td>107.80</td>\n",
       "      <td>105.5</td>\n",
       "      <td>2.415700e+07</td>\n",
       "      <td>13192939.00</td>\n",
       "    </tr>\n",
       "    <tr>\n",
       "      <th>2021</th>\n",
       "      <td>6.612</td>\n",
       "      <td>6.60</td>\n",
       "      <td>118.09</td>\n",
       "      <td>114.5</td>\n",
       "      <td>5.081962e+07</td>\n",
       "      <td>735171.00</td>\n",
       "    </tr>\n",
       "    <tr>\n",
       "      <th>2022</th>\n",
       "      <td>6.703</td>\n",
       "      <td>6.70</td>\n",
       "      <td>122.29</td>\n",
       "      <td>118.5</td>\n",
       "      <td>6.046228e+07</td>\n",
       "      <td>40223898.50</td>\n",
       "    </tr>\n",
       "  </tbody>\n",
       "</table>\n",
       "</div>"
      ],
      "text/plain": [
       "     rating        runtime               profit             \n",
       "       mean median    mean median          mean       median\n",
       "year                                                        \n",
       "2003  6.579   6.70  110.79  108.0  9.659462e+07  54687685.50\n",
       "2004  6.746   6.80  111.03  106.0  1.056355e+08  69223069.50\n",
       "2005  6.565   6.70  111.15  109.0  9.027620e+07  45003317.00\n",
       "2006  6.713   6.75  112.87  108.0  9.156999e+07  41425535.00\n",
       "2007  6.756   6.95  112.12  109.5  1.064206e+08  51594050.50\n",
       "2008  6.596   6.70  107.73  106.0  1.205450e+08  73601433.50\n",
       "2009  6.679   6.75  111.85  107.0  1.298643e+08  53456890.00\n",
       "2010  6.691   6.60  108.69  107.0  1.261730e+08  63240140.00\n",
       "2011  6.754   6.80  110.60  107.5  1.401639e+08  61960593.00\n",
       "2012  6.675   6.75  112.58  109.0  1.631328e+08  81792810.00\n",
       "2013  6.734   6.75  113.67  112.0  1.513409e+08  66122980.00\n",
       "2014  6.692   6.60  113.05  109.0  1.622891e+08  87037858.50\n",
       "2015  6.688   6.75  116.02  117.0  1.690774e+08  49983764.75\n",
       "2016  6.762   6.85  114.25  114.5  1.578052e+08  82562837.80\n",
       "2017  6.714   6.70  115.10  115.0  1.619302e+08  50776006.50\n",
       "2018  6.677   6.75  117.24  118.0  1.751331e+08  50776006.50\n",
       "2019  6.691   6.75  117.37  117.0  1.724727e+08  50776006.50\n",
       "2020  6.326   6.50  107.80  105.5  2.415700e+07  13192939.00\n",
       "2021  6.612   6.60  118.09  114.5  5.081962e+07    735171.00\n",
       "2022  6.703   6.70  122.29  118.5  6.046228e+07  40223898.50"
      ]
     },
     "execution_count": 116,
     "metadata": {},
     "output_type": "execute_result"
    }
   ],
   "source": [
    "df.groupby('year').agg({\n",
    "    'rating': ['mean', 'median'], \n",
    "    'runtime': ['mean', 'median'],\n",
    "    'profit': ['mean', 'median']\n",
    "})"
   ]
  },
  {
   "cell_type": "code",
   "execution_count": 117,
   "metadata": {},
   "outputs": [
    {
     "data": {
      "text/html": [
       "<div>\n",
       "<style scoped>\n",
       "    .dataframe tbody tr th:only-of-type {\n",
       "        vertical-align: middle;\n",
       "    }\n",
       "\n",
       "    .dataframe tbody tr th {\n",
       "        vertical-align: top;\n",
       "    }\n",
       "\n",
       "    .dataframe thead th {\n",
       "        text-align: right;\n",
       "    }\n",
       "</style>\n",
       "<table border=\"1\" class=\"dataframe\">\n",
       "  <thead>\n",
       "    <tr style=\"text-align: right;\">\n",
       "      <th></th>\n",
       "      <th>month</th>\n",
       "      <th>certificate</th>\n",
       "      <th>directors</th>\n",
       "      <th>filming_location</th>\n",
       "      <th>profit_classification</th>\n",
       "    </tr>\n",
       "    <tr>\n",
       "      <th>year</th>\n",
       "      <th></th>\n",
       "      <th></th>\n",
       "      <th></th>\n",
       "      <th></th>\n",
       "      <th></th>\n",
       "    </tr>\n",
       "  </thead>\n",
       "  <tbody>\n",
       "    <tr>\n",
       "      <th>2003</th>\n",
       "      <td>November</td>\n",
       "      <td>R</td>\n",
       "      <td>Lana Wachowski, Lilly Wachowski</td>\n",
       "      <td>USA</td>\n",
       "      <td>gain</td>\n",
       "    </tr>\n",
       "    <tr>\n",
       "      <th>2004</th>\n",
       "      <td>July</td>\n",
       "      <td>R</td>\n",
       "      <td>Garry Marshall</td>\n",
       "      <td>USA</td>\n",
       "      <td>gain</td>\n",
       "    </tr>\n",
       "    <tr>\n",
       "      <th>2005</th>\n",
       "      <td>December</td>\n",
       "      <td>PG-13</td>\n",
       "      <td>Catherine Hardwicke</td>\n",
       "      <td>USA</td>\n",
       "      <td>gain</td>\n",
       "    </tr>\n",
       "    <tr>\n",
       "      <th>2006</th>\n",
       "      <td>November</td>\n",
       "      <td>R</td>\n",
       "      <td>Shawn Levy</td>\n",
       "      <td>USA</td>\n",
       "      <td>gain</td>\n",
       "    </tr>\n",
       "    <tr>\n",
       "      <th>2007</th>\n",
       "      <td>November</td>\n",
       "      <td>R</td>\n",
       "      <td>Richard LaGravenese</td>\n",
       "      <td>USA</td>\n",
       "      <td>gain</td>\n",
       "    </tr>\n",
       "    <tr>\n",
       "      <th>2008</th>\n",
       "      <td>December</td>\n",
       "      <td>PG-13</td>\n",
       "      <td>Clint Eastwood</td>\n",
       "      <td>USA</td>\n",
       "      <td>gain</td>\n",
       "    </tr>\n",
       "    <tr>\n",
       "      <th>2009</th>\n",
       "      <td>December</td>\n",
       "      <td>R</td>\n",
       "      <td>Christian Alvart</td>\n",
       "      <td>USA</td>\n",
       "      <td>gain</td>\n",
       "    </tr>\n",
       "    <tr>\n",
       "      <th>2010</th>\n",
       "      <td>June</td>\n",
       "      <td>R</td>\n",
       "      <td>Adam Green</td>\n",
       "      <td>USA</td>\n",
       "      <td>gain</td>\n",
       "    </tr>\n",
       "    <tr>\n",
       "      <th>2011</th>\n",
       "      <td>August</td>\n",
       "      <td>R</td>\n",
       "      <td>Steven Spielberg</td>\n",
       "      <td>USA</td>\n",
       "      <td>gain</td>\n",
       "    </tr>\n",
       "    <tr>\n",
       "      <th>2012</th>\n",
       "      <td>September</td>\n",
       "      <td>R</td>\n",
       "      <td>Tim Burton</td>\n",
       "      <td>USA</td>\n",
       "      <td>gain</td>\n",
       "    </tr>\n",
       "    <tr>\n",
       "      <th>2013</th>\n",
       "      <td>August</td>\n",
       "      <td>R</td>\n",
       "      <td>Denis Villeneuve</td>\n",
       "      <td>USA</td>\n",
       "      <td>gain</td>\n",
       "    </tr>\n",
       "    <tr>\n",
       "      <th>2014</th>\n",
       "      <td>December</td>\n",
       "      <td>R</td>\n",
       "      <td>Phil Lord, Christopher Miller</td>\n",
       "      <td>USA</td>\n",
       "      <td>gain</td>\n",
       "    </tr>\n",
       "    <tr>\n",
       "      <th>2015</th>\n",
       "      <td>October</td>\n",
       "      <td>R</td>\n",
       "      <td>Aaron Hann, Mario Miscione</td>\n",
       "      <td>USA</td>\n",
       "      <td>gain</td>\n",
       "    </tr>\n",
       "    <tr>\n",
       "      <th>2016</th>\n",
       "      <td>December</td>\n",
       "      <td>PG-13</td>\n",
       "      <td>David Yates</td>\n",
       "      <td>USA</td>\n",
       "      <td>gain</td>\n",
       "    </tr>\n",
       "    <tr>\n",
       "      <th>2017</th>\n",
       "      <td>November</td>\n",
       "      <td>R</td>\n",
       "      <td>Aaron Sorkin</td>\n",
       "      <td>USA</td>\n",
       "      <td>gain</td>\n",
       "    </tr>\n",
       "    <tr>\n",
       "      <th>2018</th>\n",
       "      <td>November</td>\n",
       "      <td>R</td>\n",
       "      <td>Adam McKay</td>\n",
       "      <td>USA</td>\n",
       "      <td>gain</td>\n",
       "    </tr>\n",
       "    <tr>\n",
       "      <th>2019</th>\n",
       "      <td>November</td>\n",
       "      <td>R</td>\n",
       "      <td>Guy Ritchie</td>\n",
       "      <td>USA</td>\n",
       "      <td>gain</td>\n",
       "    </tr>\n",
       "    <tr>\n",
       "      <th>2020</th>\n",
       "      <td>October</td>\n",
       "      <td>R</td>\n",
       "      <td>Aaron Schneider</td>\n",
       "      <td>USA</td>\n",
       "      <td>gain</td>\n",
       "    </tr>\n",
       "    <tr>\n",
       "      <th>2021</th>\n",
       "      <td>November</td>\n",
       "      <td>R</td>\n",
       "      <td>Antoine Fuqua</td>\n",
       "      <td>USA</td>\n",
       "      <td>gain</td>\n",
       "    </tr>\n",
       "    <tr>\n",
       "      <th>2022</th>\n",
       "      <td>December</td>\n",
       "      <td>R</td>\n",
       "      <td>Ti West</td>\n",
       "      <td>USA</td>\n",
       "      <td>gain</td>\n",
       "    </tr>\n",
       "  </tbody>\n",
       "</table>\n",
       "</div>"
      ],
      "text/plain": [
       "          month certificate                        directors filming_location  \\\n",
       "year                                                                            \n",
       "2003   November           R  Lana Wachowski, Lilly Wachowski              USA   \n",
       "2004       July           R                   Garry Marshall              USA   \n",
       "2005   December       PG-13              Catherine Hardwicke              USA   \n",
       "2006   November           R                       Shawn Levy              USA   \n",
       "2007   November           R              Richard LaGravenese              USA   \n",
       "2008   December       PG-13                   Clint Eastwood              USA   \n",
       "2009   December           R                 Christian Alvart              USA   \n",
       "2010       June           R                       Adam Green              USA   \n",
       "2011     August           R                 Steven Spielberg              USA   \n",
       "2012  September           R                       Tim Burton              USA   \n",
       "2013     August           R                 Denis Villeneuve              USA   \n",
       "2014   December           R    Phil Lord, Christopher Miller              USA   \n",
       "2015    October           R       Aaron Hann, Mario Miscione              USA   \n",
       "2016   December       PG-13                      David Yates              USA   \n",
       "2017   November           R                     Aaron Sorkin              USA   \n",
       "2018   November           R                       Adam McKay              USA   \n",
       "2019   November           R                      Guy Ritchie              USA   \n",
       "2020    October           R                  Aaron Schneider              USA   \n",
       "2021   November           R                    Antoine Fuqua              USA   \n",
       "2022   December           R                          Ti West              USA   \n",
       "\n",
       "     profit_classification  \n",
       "year                        \n",
       "2003                  gain  \n",
       "2004                  gain  \n",
       "2005                  gain  \n",
       "2006                  gain  \n",
       "2007                  gain  \n",
       "2008                  gain  \n",
       "2009                  gain  \n",
       "2010                  gain  \n",
       "2011                  gain  \n",
       "2012                  gain  \n",
       "2013                  gain  \n",
       "2014                  gain  \n",
       "2015                  gain  \n",
       "2016                  gain  \n",
       "2017                  gain  \n",
       "2018                  gain  \n",
       "2019                  gain  \n",
       "2020                  gain  \n",
       "2021                  gain  \n",
       "2022                  gain  "
      ]
     },
     "execution_count": 117,
     "metadata": {},
     "output_type": "execute_result"
    }
   ],
   "source": [
    "df.groupby('year')[\n",
    "    [\n",
    "        'month', 'certificate', \n",
    "        'directors', 'filming_location', \n",
    "        'profit_classification'\n",
    "    ]\n",
    "].agg(lambda x: x.mode()[0])"
   ]
  },
  {
   "attachments": {},
   "cell_type": "markdown",
   "metadata": {},
   "source": [
    "### Proporções de algumas colunas"
   ]
  },
  {
   "cell_type": "code",
   "execution_count": 118,
   "metadata": {},
   "outputs": [
    {
     "data": {
      "text/html": [
       "<div>\n",
       "<style scoped>\n",
       "    .dataframe tbody tr th:only-of-type {\n",
       "        vertical-align: middle;\n",
       "    }\n",
       "\n",
       "    .dataframe tbody tr th {\n",
       "        vertical-align: top;\n",
       "    }\n",
       "\n",
       "    .dataframe thead th {\n",
       "        text-align: right;\n",
       "    }\n",
       "</style>\n",
       "<table border=\"1\" class=\"dataframe\">\n",
       "  <thead>\n",
       "    <tr style=\"text-align: right;\">\n",
       "      <th></th>\n",
       "      <th>count</th>\n",
       "      <th>percentage</th>\n",
       "    </tr>\n",
       "  </thead>\n",
       "  <tbody>\n",
       "    <tr>\n",
       "      <th>R</th>\n",
       "      <td>901</td>\n",
       "      <td>0.4505</td>\n",
       "    </tr>\n",
       "    <tr>\n",
       "      <th>PG-13</th>\n",
       "      <td>714</td>\n",
       "      <td>0.3570</td>\n",
       "    </tr>\n",
       "    <tr>\n",
       "      <th>PG</th>\n",
       "      <td>225</td>\n",
       "      <td>0.1125</td>\n",
       "    </tr>\n",
       "    <tr>\n",
       "      <th>Unrated</th>\n",
       "      <td>67</td>\n",
       "      <td>0.0335</td>\n",
       "    </tr>\n",
       "    <tr>\n",
       "      <th>TV-MA</th>\n",
       "      <td>40</td>\n",
       "      <td>0.0200</td>\n",
       "    </tr>\n",
       "    <tr>\n",
       "      <th>G</th>\n",
       "      <td>22</td>\n",
       "      <td>0.0110</td>\n",
       "    </tr>\n",
       "    <tr>\n",
       "      <th>TV-14</th>\n",
       "      <td>12</td>\n",
       "      <td>0.0060</td>\n",
       "    </tr>\n",
       "    <tr>\n",
       "      <th>TV-PG</th>\n",
       "      <td>9</td>\n",
       "      <td>0.0045</td>\n",
       "    </tr>\n",
       "    <tr>\n",
       "      <th>NC-17</th>\n",
       "      <td>6</td>\n",
       "      <td>0.0030</td>\n",
       "    </tr>\n",
       "    <tr>\n",
       "      <th>TV-G</th>\n",
       "      <td>3</td>\n",
       "      <td>0.0015</td>\n",
       "    </tr>\n",
       "    <tr>\n",
       "      <th>TV-Y7</th>\n",
       "      <td>1</td>\n",
       "      <td>0.0005</td>\n",
       "    </tr>\n",
       "  </tbody>\n",
       "</table>\n",
       "</div>"
      ],
      "text/plain": [
       "         count  percentage\n",
       "R          901      0.4505\n",
       "PG-13      714      0.3570\n",
       "PG         225      0.1125\n",
       "Unrated     67      0.0335\n",
       "TV-MA       40      0.0200\n",
       "G           22      0.0110\n",
       "TV-14       12      0.0060\n",
       "TV-PG        9      0.0045\n",
       "NC-17        6      0.0030\n",
       "TV-G         3      0.0015\n",
       "TV-Y7        1      0.0005"
      ]
     },
     "execution_count": 118,
     "metadata": {},
     "output_type": "execute_result"
    }
   ],
   "source": [
    "pd.DataFrame(zip(\n",
    "    df.certificate.value_counts(), \n",
    "    df.certificate.value_counts(normalize=True)\n",
    "    ), index=df.certificate.value_counts().index, columns=['count', 'percentage'])"
   ]
  },
  {
   "cell_type": "code",
   "execution_count": 119,
   "metadata": {},
   "outputs": [
    {
     "data": {
      "text/html": [
       "<div>\n",
       "<style scoped>\n",
       "    .dataframe tbody tr th:only-of-type {\n",
       "        vertical-align: middle;\n",
       "    }\n",
       "\n",
       "    .dataframe tbody tr th {\n",
       "        vertical-align: top;\n",
       "    }\n",
       "\n",
       "    .dataframe thead th {\n",
       "        text-align: right;\n",
       "    }\n",
       "</style>\n",
       "<table border=\"1\" class=\"dataframe\">\n",
       "  <thead>\n",
       "    <tr style=\"text-align: right;\">\n",
       "      <th></th>\n",
       "      <th>count</th>\n",
       "      <th>percentage</th>\n",
       "    </tr>\n",
       "  </thead>\n",
       "  <tbody>\n",
       "    <tr>\n",
       "      <th>USA</th>\n",
       "      <td>906</td>\n",
       "      <td>0.4530</td>\n",
       "    </tr>\n",
       "    <tr>\n",
       "      <th>Canada</th>\n",
       "      <td>209</td>\n",
       "      <td>0.1045</td>\n",
       "    </tr>\n",
       "    <tr>\n",
       "      <th>UK</th>\n",
       "      <td>177</td>\n",
       "      <td>0.0885</td>\n",
       "    </tr>\n",
       "    <tr>\n",
       "      <th>Unknown</th>\n",
       "      <td>76</td>\n",
       "      <td>0.0380</td>\n",
       "    </tr>\n",
       "    <tr>\n",
       "      <th>Australia</th>\n",
       "      <td>44</td>\n",
       "      <td>0.0220</td>\n",
       "    </tr>\n",
       "    <tr>\n",
       "      <th>...</th>\n",
       "      <td>...</td>\n",
       "      <td>...</td>\n",
       "    </tr>\n",
       "    <tr>\n",
       "      <th>Guam</th>\n",
       "      <td>1</td>\n",
       "      <td>0.0005</td>\n",
       "    </tr>\n",
       "    <tr>\n",
       "      <th>Gabon</th>\n",
       "      <td>1</td>\n",
       "      <td>0.0005</td>\n",
       "    </tr>\n",
       "    <tr>\n",
       "      <th>French Polynesia</th>\n",
       "      <td>1</td>\n",
       "      <td>0.0005</td>\n",
       "    </tr>\n",
       "    <tr>\n",
       "      <th>Rwanda</th>\n",
       "      <td>1</td>\n",
       "      <td>0.0005</td>\n",
       "    </tr>\n",
       "    <tr>\n",
       "      <th>Arctic Ocean</th>\n",
       "      <td>1</td>\n",
       "      <td>0.0005</td>\n",
       "    </tr>\n",
       "  </tbody>\n",
       "</table>\n",
       "<p>97 rows × 2 columns</p>\n",
       "</div>"
      ],
      "text/plain": [
       "                  count  percentage\n",
       "USA                 906      0.4530\n",
       "Canada              209      0.1045\n",
       "UK                  177      0.0885\n",
       "Unknown              76      0.0380\n",
       "Australia            44      0.0220\n",
       "...                 ...         ...\n",
       "Guam                  1      0.0005\n",
       "Gabon                 1      0.0005\n",
       "French Polynesia      1      0.0005\n",
       "Rwanda                1      0.0005\n",
       "Arctic Ocean          1      0.0005\n",
       "\n",
       "[97 rows x 2 columns]"
      ]
     },
     "execution_count": 119,
     "metadata": {},
     "output_type": "execute_result"
    }
   ],
   "source": [
    "pd.DataFrame(zip(\n",
    "    df.filming_location.value_counts(), \n",
    "    df.filming_location.value_counts(normalize=True)\n",
    "    ), index=df.filming_location.value_counts().index, columns=['count', 'percentage'])"
   ]
  },
  {
   "cell_type": "code",
   "execution_count": 120,
   "metadata": {},
   "outputs": [
    {
     "data": {
      "text/html": [
       "<div>\n",
       "<style scoped>\n",
       "    .dataframe tbody tr th:only-of-type {\n",
       "        vertical-align: middle;\n",
       "    }\n",
       "\n",
       "    .dataframe tbody tr th {\n",
       "        vertical-align: top;\n",
       "    }\n",
       "\n",
       "    .dataframe thead th {\n",
       "        text-align: right;\n",
       "    }\n",
       "</style>\n",
       "<table border=\"1\" class=\"dataframe\">\n",
       "  <thead>\n",
       "    <tr style=\"text-align: right;\">\n",
       "      <th></th>\n",
       "      <th>count</th>\n",
       "      <th>percentage</th>\n",
       "    </tr>\n",
       "  </thead>\n",
       "  <tbody>\n",
       "    <tr>\n",
       "      <th>November</th>\n",
       "      <td>262</td>\n",
       "      <td>0.1310</td>\n",
       "    </tr>\n",
       "    <tr>\n",
       "      <th>December</th>\n",
       "      <td>248</td>\n",
       "      <td>0.1240</td>\n",
       "    </tr>\n",
       "    <tr>\n",
       "      <th>October</th>\n",
       "      <td>187</td>\n",
       "      <td>0.0935</td>\n",
       "    </tr>\n",
       "    <tr>\n",
       "      <th>June</th>\n",
       "      <td>166</td>\n",
       "      <td>0.0830</td>\n",
       "    </tr>\n",
       "    <tr>\n",
       "      <th>July</th>\n",
       "      <td>152</td>\n",
       "      <td>0.0760</td>\n",
       "    </tr>\n",
       "    <tr>\n",
       "      <th>September</th>\n",
       "      <td>151</td>\n",
       "      <td>0.0755</td>\n",
       "    </tr>\n",
       "    <tr>\n",
       "      <th>March</th>\n",
       "      <td>150</td>\n",
       "      <td>0.0750</td>\n",
       "    </tr>\n",
       "    <tr>\n",
       "      <th>August</th>\n",
       "      <td>149</td>\n",
       "      <td>0.0745</td>\n",
       "    </tr>\n",
       "    <tr>\n",
       "      <th>January</th>\n",
       "      <td>149</td>\n",
       "      <td>0.0745</td>\n",
       "    </tr>\n",
       "    <tr>\n",
       "      <th>May</th>\n",
       "      <td>144</td>\n",
       "      <td>0.0720</td>\n",
       "    </tr>\n",
       "    <tr>\n",
       "      <th>April</th>\n",
       "      <td>121</td>\n",
       "      <td>0.0605</td>\n",
       "    </tr>\n",
       "    <tr>\n",
       "      <th>February</th>\n",
       "      <td>121</td>\n",
       "      <td>0.0605</td>\n",
       "    </tr>\n",
       "  </tbody>\n",
       "</table>\n",
       "</div>"
      ],
      "text/plain": [
       "           count  percentage\n",
       "November     262      0.1310\n",
       "December     248      0.1240\n",
       "October      187      0.0935\n",
       "June         166      0.0830\n",
       "July         152      0.0760\n",
       "September    151      0.0755\n",
       "March        150      0.0750\n",
       "August       149      0.0745\n",
       "January      149      0.0745\n",
       "May          144      0.0720\n",
       "April        121      0.0605\n",
       "February     121      0.0605"
      ]
     },
     "execution_count": 120,
     "metadata": {},
     "output_type": "execute_result"
    }
   ],
   "source": [
    "pd.DataFrame(zip(\n",
    "    df.month.value_counts(), \n",
    "    df.month.value_counts(normalize=True)\n",
    "    ), index=df.month.value_counts().index, columns=['count', 'percentage'])"
   ]
  },
  {
   "attachments": {},
   "cell_type": "markdown",
   "metadata": {},
   "source": [
    "Observando os valores max e min"
   ]
  },
  {
   "cell_type": "code",
   "execution_count": 121,
   "metadata": {},
   "outputs": [
    {
     "data": {
      "text/html": [
       "<div>\n",
       "<style scoped>\n",
       "    .dataframe tbody tr th:only-of-type {\n",
       "        vertical-align: middle;\n",
       "    }\n",
       "\n",
       "    .dataframe tbody tr th {\n",
       "        vertical-align: top;\n",
       "    }\n",
       "\n",
       "    .dataframe thead th {\n",
       "        text-align: right;\n",
       "    }\n",
       "</style>\n",
       "<table border=\"1\" class=\"dataframe\">\n",
       "  <thead>\n",
       "    <tr style=\"text-align: right;\">\n",
       "      <th></th>\n",
       "      <th>title</th>\n",
       "      <th>rating</th>\n",
       "      <th>year</th>\n",
       "      <th>month</th>\n",
       "      <th>certificate</th>\n",
       "      <th>runtime</th>\n",
       "      <th>directors</th>\n",
       "      <th>stars</th>\n",
       "      <th>genre</th>\n",
       "      <th>filming_location</th>\n",
       "      <th>budget</th>\n",
       "      <th>income</th>\n",
       "      <th>country_of_origin</th>\n",
       "      <th>time_classification</th>\n",
       "      <th>profit</th>\n",
       "      <th>proportional_profit</th>\n",
       "      <th>budget_per_million</th>\n",
       "      <th>income_per_million</th>\n",
       "      <th>profit_classification</th>\n",
       "    </tr>\n",
       "  </thead>\n",
       "  <tbody>\n",
       "    <tr>\n",
       "      <th>123</th>\n",
       "      <td>Zack Snyder's Justice League</td>\n",
       "      <td>8.0</td>\n",
       "      <td>2021</td>\n",
       "      <td>March</td>\n",
       "      <td>R</td>\n",
       "      <td>242</td>\n",
       "      <td>Zack Snyder</td>\n",
       "      <td>Henry Cavill, Ben Affleck, Gal Gadot, Amy Adams</td>\n",
       "      <td>Action, Adventure, Fantasy</td>\n",
       "      <td>Iceland</td>\n",
       "      <td>300000000.0</td>\n",
       "      <td>9.077601e+07</td>\n",
       "      <td>United States</td>\n",
       "      <td>eternity</td>\n",
       "      <td>-2.092240e+08</td>\n",
       "      <td>30.26</td>\n",
       "      <td>300.0</td>\n",
       "      <td>90.776006</td>\n",
       "      <td>failure</td>\n",
       "    </tr>\n",
       "    <tr>\n",
       "      <th>1300</th>\n",
       "      <td>Avatar</td>\n",
       "      <td>7.8</td>\n",
       "      <td>2009</td>\n",
       "      <td>December</td>\n",
       "      <td>PG-13</td>\n",
       "      <td>162</td>\n",
       "      <td>James Cameron</td>\n",
       "      <td>Sam Worthington, Zoe Saldana, Sigourney Weaver...</td>\n",
       "      <td>Action, Adventure, Fantasy</td>\n",
       "      <td>USA</td>\n",
       "      <td>237000000.0</td>\n",
       "      <td>2.922918e+09</td>\n",
       "      <td>United States</td>\n",
       "      <td>long</td>\n",
       "      <td>2.685918e+09</td>\n",
       "      <td>1233.30</td>\n",
       "      <td>237.0</td>\n",
       "      <td>2922.917914</td>\n",
       "      <td>gain</td>\n",
       "    </tr>\n",
       "  </tbody>\n",
       "</table>\n",
       "</div>"
      ],
      "text/plain": [
       "                             title  rating  year     month certificate  \\\n",
       "123   Zack Snyder's Justice League     8.0  2021     March           R   \n",
       "1300                        Avatar     7.8  2009  December       PG-13   \n",
       "\n",
       "      runtime      directors  \\\n",
       "123       242    Zack Snyder   \n",
       "1300      162  James Cameron   \n",
       "\n",
       "                                                  stars  \\\n",
       "123     Henry Cavill, Ben Affleck, Gal Gadot, Amy Adams   \n",
       "1300  Sam Worthington, Zoe Saldana, Sigourney Weaver...   \n",
       "\n",
       "                           genre filming_location       budget        income  \\\n",
       "123   Action, Adventure, Fantasy          Iceland  300000000.0  9.077601e+07   \n",
       "1300  Action, Adventure, Fantasy              USA  237000000.0  2.922918e+09   \n",
       "\n",
       "     country_of_origin time_classification        profit  proportional_profit  \\\n",
       "123      United States            eternity -2.092240e+08                30.26   \n",
       "1300     United States                long  2.685918e+09              1233.30   \n",
       "\n",
       "      budget_per_million  income_per_million profit_classification  \n",
       "123                300.0           90.776006               failure  \n",
       "1300               237.0         2922.917914                  gain  "
      ]
     },
     "execution_count": 121,
     "metadata": {},
     "output_type": "execute_result"
    }
   ],
   "source": [
    "df.query('profit == @df.profit.min() | profit == @df.profit.max()')"
   ]
  },
  {
   "attachments": {},
   "cell_type": "markdown",
   "metadata": {},
   "source": [
    "Obtendo os dados que tiveram fracassado na bilheteria e uma nota boa"
   ]
  },
  {
   "cell_type": "code",
   "execution_count": 122,
   "metadata": {},
   "outputs": [
    {
     "data": {
      "text/html": [
       "<div>\n",
       "<style scoped>\n",
       "    .dataframe tbody tr th:only-of-type {\n",
       "        vertical-align: middle;\n",
       "    }\n",
       "\n",
       "    .dataframe tbody tr th {\n",
       "        vertical-align: top;\n",
       "    }\n",
       "\n",
       "    .dataframe thead th {\n",
       "        text-align: right;\n",
       "    }\n",
       "</style>\n",
       "<table border=\"1\" class=\"dataframe\">\n",
       "  <thead>\n",
       "    <tr style=\"text-align: right;\">\n",
       "      <th></th>\n",
       "      <th>title</th>\n",
       "    </tr>\n",
       "  </thead>\n",
       "  <tbody>\n",
       "    <tr>\n",
       "      <th>0</th>\n",
       "      <td>Guillermo del Toro's Pinocchio</td>\n",
       "    </tr>\n",
       "    <tr>\n",
       "      <th>1</th>\n",
       "      <td>The Banshees of Inisherin</td>\n",
       "    </tr>\n",
       "    <tr>\n",
       "      <th>2</th>\n",
       "      <td>The Whale</td>\n",
       "    </tr>\n",
       "    <tr>\n",
       "      <th>3</th>\n",
       "      <td>The Fabelmans</td>\n",
       "    </tr>\n",
       "    <tr>\n",
       "      <th>4</th>\n",
       "      <td>Babylon</td>\n",
       "    </tr>\n",
       "    <tr>\n",
       "      <th>...</th>\n",
       "      <td>...</td>\n",
       "    </tr>\n",
       "    <tr>\n",
       "      <th>135</th>\n",
       "      <td>Memories of Murder</td>\n",
       "    </tr>\n",
       "    <tr>\n",
       "      <th>136</th>\n",
       "      <td>Tokyo Godfathers</td>\n",
       "    </tr>\n",
       "    <tr>\n",
       "      <th>137</th>\n",
       "      <td>A Mighty Wind</td>\n",
       "    </tr>\n",
       "    <tr>\n",
       "      <th>138</th>\n",
       "      <td>A Tale of Two Sisters</td>\n",
       "    </tr>\n",
       "    <tr>\n",
       "      <th>139</th>\n",
       "      <td>Ong-Bak: The Thai Warrior</td>\n",
       "    </tr>\n",
       "  </tbody>\n",
       "</table>\n",
       "<p>140 rows × 1 columns</p>\n",
       "</div>"
      ],
      "text/plain": [
       "                              title\n",
       "0    Guillermo del Toro's Pinocchio\n",
       "1         The Banshees of Inisherin\n",
       "2                         The Whale\n",
       "3                     The Fabelmans\n",
       "4                           Babylon\n",
       "..                              ...\n",
       "135              Memories of Murder\n",
       "136                Tokyo Godfathers\n",
       "137                   A Mighty Wind\n",
       "138           A Tale of Two Sisters\n",
       "139       Ong-Bak: The Thai Warrior\n",
       "\n",
       "[140 rows x 1 columns]"
      ]
     },
     "execution_count": 122,
     "metadata": {},
     "output_type": "execute_result"
    }
   ],
   "source": [
    "pd.DataFrame(df.query('profit_classification == \"failure\" & rating >= 7').title.values, columns=['title'])"
   ]
  },
  {
   "cell_type": "code",
   "execution_count": 123,
   "metadata": {},
   "outputs": [
    {
     "data": {
      "text/html": [
       "<div>\n",
       "<style scoped>\n",
       "    .dataframe tbody tr th:only-of-type {\n",
       "        vertical-align: middle;\n",
       "    }\n",
       "\n",
       "    .dataframe tbody tr th {\n",
       "        vertical-align: top;\n",
       "    }\n",
       "\n",
       "    .dataframe thead th {\n",
       "        text-align: right;\n",
       "    }\n",
       "</style>\n",
       "<table border=\"1\" class=\"dataframe\">\n",
       "  <thead>\n",
       "    <tr style=\"text-align: right;\">\n",
       "      <th></th>\n",
       "      <th>failure</th>\n",
       "      <th>failure_and_positive_rating</th>\n",
       "    </tr>\n",
       "  </thead>\n",
       "  <tbody>\n",
       "    <tr>\n",
       "      <th>2022</th>\n",
       "      <td>39</td>\n",
       "      <td>19</td>\n",
       "    </tr>\n",
       "    <tr>\n",
       "      <th>2021</th>\n",
       "      <td>49</td>\n",
       "      <td>18</td>\n",
       "    </tr>\n",
       "    <tr>\n",
       "      <th>2020</th>\n",
       "      <td>46</td>\n",
       "      <td>9</td>\n",
       "    </tr>\n",
       "    <tr>\n",
       "      <th>2019</th>\n",
       "      <td>27</td>\n",
       "      <td>9</td>\n",
       "    </tr>\n",
       "    <tr>\n",
       "      <th>2018</th>\n",
       "      <td>22</td>\n",
       "      <td>6</td>\n",
       "    </tr>\n",
       "    <tr>\n",
       "      <th>2017</th>\n",
       "      <td>23</td>\n",
       "      <td>10</td>\n",
       "    </tr>\n",
       "    <tr>\n",
       "      <th>2016</th>\n",
       "      <td>19</td>\n",
       "      <td>6</td>\n",
       "    </tr>\n",
       "    <tr>\n",
       "      <th>2015</th>\n",
       "      <td>17</td>\n",
       "      <td>5</td>\n",
       "    </tr>\n",
       "    <tr>\n",
       "      <th>2014</th>\n",
       "      <td>20</td>\n",
       "      <td>6</td>\n",
       "    </tr>\n",
       "    <tr>\n",
       "      <th>2012</th>\n",
       "      <td>12</td>\n",
       "      <td>6</td>\n",
       "    </tr>\n",
       "    <tr>\n",
       "      <th>2011</th>\n",
       "      <td>16</td>\n",
       "      <td>2</td>\n",
       "    </tr>\n",
       "    <tr>\n",
       "      <th>2010</th>\n",
       "      <td>12</td>\n",
       "      <td>9</td>\n",
       "    </tr>\n",
       "    <tr>\n",
       "      <th>2009</th>\n",
       "      <td>21</td>\n",
       "      <td>7</td>\n",
       "    </tr>\n",
       "    <tr>\n",
       "      <th>2008</th>\n",
       "      <td>22</td>\n",
       "      <td>3</td>\n",
       "    </tr>\n",
       "    <tr>\n",
       "      <th>2007</th>\n",
       "      <td>14</td>\n",
       "      <td>7</td>\n",
       "    </tr>\n",
       "    <tr>\n",
       "      <th>2006</th>\n",
       "      <td>20</td>\n",
       "      <td>6</td>\n",
       "    </tr>\n",
       "    <tr>\n",
       "      <th>2005</th>\n",
       "      <td>22</td>\n",
       "      <td>4</td>\n",
       "    </tr>\n",
       "    <tr>\n",
       "      <th>2004</th>\n",
       "      <td>17</td>\n",
       "      <td>3</td>\n",
       "    </tr>\n",
       "    <tr>\n",
       "      <th>2003</th>\n",
       "      <td>15</td>\n",
       "      <td>5</td>\n",
       "    </tr>\n",
       "  </tbody>\n",
       "</table>\n",
       "</div>"
      ],
      "text/plain": [
       "      failure  failure_and_positive_rating\n",
       "2022       39                           19\n",
       "2021       49                           18\n",
       "2020       46                            9\n",
       "2019       27                            9\n",
       "2018       22                            6\n",
       "2017       23                           10\n",
       "2016       19                            6\n",
       "2015       17                            5\n",
       "2014       20                            6\n",
       "2012       12                            6\n",
       "2011       16                            2\n",
       "2010       12                            9\n",
       "2009       21                            7\n",
       "2008       22                            3\n",
       "2007       14                            7\n",
       "2006       20                            6\n",
       "2005       22                            4\n",
       "2004       17                            3\n",
       "2003       15                            5"
      ]
     },
     "execution_count": 123,
     "metadata": {},
     "output_type": "execute_result"
    }
   ],
   "source": [
    "pd.DataFrame(zip(\n",
    "    df.query('profit_classification == \"failure\"').year.value_counts(sort=False), \n",
    "    df.query('profit_classification == \"failure\" & rating >= 7').year.value_counts(sort=False)\n",
    "    ), index=df.query('profit_classification == \"failure\" & rating >= 7').year.unique(), columns=['failure', 'failure_and_positive_rating'])"
   ]
  },
  {
   "cell_type": "code",
   "execution_count": 124,
   "metadata": {},
   "outputs": [
    {
     "name": "stdout",
     "output_type": "stream",
     "text": [
      "25-50      34.824121\n",
      "50-100     17.487437\n",
      "10-25      16.432161\n",
      "100-150     8.542714\n",
      "0.1-5       8.341709\n",
      "150-200     6.231156\n",
      "5-10        5.979899\n",
      "200-250     1.507538\n",
      "250+        0.653266\n",
      "Name: budget_range, dtype: float64\n"
     ]
    }
   ],
   "source": [
    "bins = [0.1, 5 ,10, 25, 50, 100, 150, 200, 250, float('inf')]\n",
    "labels = ['0.1-5', '5-10','10-25', '25-50', '50-100', '100-150', '150-200', '200-250', '250+']\n",
    "df['budget_range'] = pd.cut(df['budget_per_million'], bins=bins, labels=labels)\n",
    "\n",
    "budget_counts = df['budget_range'].value_counts(normalize=True) * 100\n",
    "\n",
    "print(budget_counts)"
   ]
  },
  {
   "attachments": {},
   "cell_type": "markdown",
   "metadata": {},
   "source": [
    "Função para análise entre duas colunas com tratamento dos dados"
   ]
  },
  {
   "cell_type": "code",
   "execution_count": 125,
   "metadata": {},
   "outputs": [],
   "source": [
    "def analise_2colunas(df_coluna_1, df_coluna_2, colunas):\n",
    "    date_1 = df_coluna_1.str.split(\", \")\n",
    "    df_1 = [term for lis in date_1 for term in lis]\n",
    "    df_2 = [term for idx_2, term in enumerate(df_coluna_2) for x in range(len(date_1[idx_2]))]\n",
    "    df = pd.DataFrame(list(zip(df_1, df_2)), columns = colunas)\n",
    "    return df.copy()\n",
    "    \n",
    "# Diretores pelas avaliações\n",
    "director_for_rating = analise_2colunas(df['directors'], df['rating'], ['director', 'rating'])"
   ]
  },
  {
   "cell_type": "code",
   "execution_count": 126,
   "metadata": {},
   "outputs": [
    {
     "data": {
      "text/html": [
       "<div>\n",
       "<style scoped>\n",
       "    .dataframe tbody tr th:only-of-type {\n",
       "        vertical-align: middle;\n",
       "    }\n",
       "\n",
       "    .dataframe tbody tr th {\n",
       "        vertical-align: top;\n",
       "    }\n",
       "\n",
       "    .dataframe thead th {\n",
       "        text-align: right;\n",
       "    }\n",
       "</style>\n",
       "<table border=\"1\" class=\"dataframe\">\n",
       "  <thead>\n",
       "    <tr style=\"text-align: right;\">\n",
       "      <th></th>\n",
       "      <th>director</th>\n",
       "      <th>mean</th>\n",
       "    </tr>\n",
       "  </thead>\n",
       "  <tbody>\n",
       "    <tr>\n",
       "      <th>8</th>\n",
       "      <td>Abhishek Pathak</td>\n",
       "      <td>8.6</td>\n",
       "    </tr>\n",
       "    <tr>\n",
       "      <th>1150</th>\n",
       "      <td>ric Toledano</td>\n",
       "      <td>8.5</td>\n",
       "    </tr>\n",
       "    <tr>\n",
       "      <th>897</th>\n",
       "      <td>Rishab Shetty</td>\n",
       "      <td>8.5</td>\n",
       "    </tr>\n",
       "    <tr>\n",
       "      <th>806</th>\n",
       "      <td>Olivier Nakache</td>\n",
       "      <td>8.5</td>\n",
       "    </tr>\n",
       "    <tr>\n",
       "      <th>365</th>\n",
       "      <td>Gemma Mc Carthy</td>\n",
       "      <td>8.5</td>\n",
       "    </tr>\n",
       "    <tr>\n",
       "      <th>19</th>\n",
       "      <td>Adrian Molina</td>\n",
       "      <td>8.4</td>\n",
       "    </tr>\n",
       "    <tr>\n",
       "      <th>1062</th>\n",
       "      <td>Thomas Kail</td>\n",
       "      <td>8.4</td>\n",
       "    </tr>\n",
       "    <tr>\n",
       "      <th>922</th>\n",
       "      <td>Rodney Rothman</td>\n",
       "      <td>8.4</td>\n",
       "    </tr>\n",
       "    <tr>\n",
       "      <th>877</th>\n",
       "      <td>Rajkumar Hirani</td>\n",
       "      <td>8.4</td>\n",
       "    </tr>\n",
       "    <tr>\n",
       "      <th>766</th>\n",
       "      <td>Nadine Labaki</td>\n",
       "      <td>8.4</td>\n",
       "    </tr>\n",
       "  </tbody>\n",
       "</table>\n",
       "</div>"
      ],
      "text/plain": [
       "             director  mean\n",
       "8     Abhishek Pathak   8.6\n",
       "1150     ric Toledano   8.5\n",
       "897     Rishab Shetty   8.5\n",
       "806   Olivier Nakache   8.5\n",
       "365   Gemma Mc Carthy   8.5\n",
       "19      Adrian Molina   8.4\n",
       "1062      Thomas Kail   8.4\n",
       "922    Rodney Rothman   8.4\n",
       "877   Rajkumar Hirani   8.4\n",
       "766     Nadine Labaki   8.4"
      ]
     },
     "execution_count": 126,
     "metadata": {},
     "output_type": "execute_result"
    }
   ],
   "source": [
    "director_for_rating = director_for_rating.groupby(['director'], as_index = False).agg(mean = ('rating', 'mean'))\n",
    "directors = director_for_rating.sort_values('mean', ascending=False).head(10)\n",
    "directors"
   ]
  },
  {
   "attachments": {},
   "cell_type": "markdown",
   "metadata": {},
   "source": [
    "### Merge com o df oscar_award"
   ]
  },
  {
   "cell_type": "code",
   "execution_count": 127,
   "metadata": {},
   "outputs": [],
   "source": [
    "df_oscar = pd.read_pickle(\"../datasets/processed/the_oscar_award.pkl\")\n",
    "df_oscar.rename(columns={'year_film': 'year', 'film': 'title'}, inplace=True)\n",
    "df_oscar.head()\n",
    "\n",
    "#Pega os filmes que ganharam Oscar a partir de 2003\n",
    "df_oscar_2003_up = df_oscar.loc[(df_oscar['year']>= 2003) & (df_oscar['winner']==True)]\n",
    "\n",
    "#Pega os filmes que ganharam Oscar de melhor FILME a partir de 2003\n",
    "df_oscar_2003_up_best_picture = df_oscar_2003_up.loc[(df_oscar_2003_up['category'] == 'BEST PICTURE')]\n",
    "\n",
    "#Cria um DataSeries de quantidade de Oscars' recebidos\n",
    "df_group_oscar_2003_up_prize_quantity = df_oscar_2003_up.groupby(['title']).size().reset_index()\n",
    "\n",
    "#Cria títulos para colunas\n",
    "df_group_oscar_2003_up_prize_quantity.columns = [\"title\", \"oscars\"]\n",
    "\n",
    "#Junta as df's => df + df_oscar_2003_up\n",
    "df_merge = df.merge(df_oscar_2003_up, how=\"inner\", on=[\"title\", \"year\"])"
   ]
  },
  {
   "cell_type": "code",
   "execution_count": 128,
   "metadata": {},
   "outputs": [
    {
     "name": "stdout",
     "output_type": "stream",
     "text": [
      "RESULTADO ['Crash' 'The Artist' 'The Hurt Locker']\n"
     ]
    }
   ],
   "source": [
    "#ganhadores de melhores filmes a partir de 2003\n",
    "array_oscar_2003_up_best_picture = np.array(df_oscar_2003_up_best_picture['title'].unique())\n",
    "\n",
    "#ganhadores de melhores filmes a partir de 2003 pelo df do IMDB\n",
    "df_merge_best_picture = df_merge.loc[df_merge['category']== 'BEST PICTURE']\n",
    "\n",
    "array_df_merge_best_picture = np.array(df_merge_best_picture[\"title\"].unique())\n",
    "\n",
    "#print(f\"ARRAY 1 {array_oscar_2003_up_best_picture}\\nARRAY 2 {array_df_merge_best_picture}\")\n",
    "\n",
    "#Descobrir os filmes faltantes no dataset do IMDB que ganharam o Oscar de melhor filme\n",
    "array_resultado = np.setdiff1d(array_oscar_2003_up_best_picture, array_df_merge_best_picture)\n",
    "\n",
    "print(f'RESULTADO {array_resultado}')"
   ]
  },
  {
   "cell_type": "code",
   "execution_count": 129,
   "metadata": {},
   "outputs": [
    {
     "name": "stdout",
     "output_type": "stream",
     "text": [
      "['67th Street, New York, NY' 'Inception' 'My Little Princess'\n",
      " 'The Dark Knight' 'The Lord of the Rings: The Return of the King']\n"
     ]
    }
   ],
   "source": [
    "\n",
    "'''\n",
    "O por quê de ser um outlier - Número de Oscars? | Popularidade? | Qualidade?\n",
    "'''\n",
    "\n",
    "'''\n",
    "No Rotten Tomatoes\n",
    "-------------------------------------------------------------------------------------\n",
    "\n",
    "INCEPTION                                     => 87% TOMATOMETER & 91% AUDIENCE SCORE\n",
    "\n",
    "THE DARK KNIGHT RISES                         => 87% TOMATOMETER & 90% AUDIENCE SCORE\n",
    "\n",
    "THE LORD OF THE RINGS: THE RETURN OF THE KING => 93% TOMATOMETER & 86% AUDIENCE SCORE\n",
    "'''\n",
    "\n",
    "# Descobrimos o outlier\n",
    "\n",
    "outlier = df.loc[df['rating']> 8.75]\n",
    "print(outlier['title'].unique())"
   ]
  },
  {
   "attachments": {},
   "cell_type": "markdown",
   "metadata": {},
   "source": [
    "## Plots"
   ]
  },
  {
   "attachments": {},
   "cell_type": "markdown",
   "metadata": {},
   "source": [
    "### Criando algumas funções para facilitar na plotagem"
   ]
  },
  {
   "cell_type": "code",
   "execution_count": 130,
   "metadata": {},
   "outputs": [],
   "source": [
    "def create_bar(df_: pd, ax_: plt.axes, x_: str, y_: str, agg_: str, title_:str, rot=45):\n",
    "    df = df_.groupby(by=x_, as_index=False)[y_].agg(agg_)\n",
    "    try:\n",
    "        df[x_] = df[x_].str.capitalize()\n",
    "    except:\n",
    "        pass\n",
    "    \n",
    "    if x_ in 'month':\n",
    "        order_ = ['January', 'February', 'March', 'April', 'May', 'June', 'July', 'August', 'September', 'October', 'November', 'December']\n",
    "        sns.barplot(data=df, x=x_, y=y_, ax=ax_, order=order_, palette=\"crest\")\n",
    "    else:\n",
    "        sns.barplot(data=df, x=x_, y=y_, ax=ax_, palette=\"crest\")\n",
    "    \n",
    "    \n",
    "    for value in ax_.containers:\n",
    "        ax_.bar_label(value)\n",
    "    ax_.tick_params(axis='x', labelrotation=rot, size=12)\n",
    "    ax_.tick_params(axis='y', size=12)\n",
    "    ax_.set_xlabel(x_.capitalize(), fontsize='large', family='monospace')\n",
    "    ax_.set_ylabel(y_.capitalize(), fontsize='large', family='monospace')\n",
    "    ax_.set_title(title_.title(), fontsize='large', fontweight='bold', \n",
    "            style='italic', family='monospace')\n",
    "    \n",
    "def create_box(df: pd, ax_: plt.axes, x_: str, y_: str, title_:str, rot=45):\n",
    "    try:\n",
    "        df[x_] = df[x_].str.capitalize()\n",
    "    except:\n",
    "        pass\n",
    "    \n",
    "    if x_ in 'month':\n",
    "        order_ = ['January', 'February', 'March', 'April', 'May', 'June', 'July', 'August', 'September', 'October', 'November', 'December']\n",
    "        sns.boxplot(data=df, x=x_, y=y_, ax=ax_, order=order_, palette=\"crest\")\n",
    "    else:\n",
    "        sns.boxplot(data=df, x=x_, y=y_, ax=ax_, palette=\"crest\")\n",
    "    \n",
    "    ax_.tick_params(axis='x', labelrotation=rot, size=12)\n",
    "    ax_.tick_params(axis='y', size=12)\n",
    "    ax_.set_xlabel(x_.capitalize(), fontsize='large', family='monospace')\n",
    "    ax_.set_ylabel(y_.capitalize(), fontsize='large', family='monospace')\n",
    "    ax_.set_title(title_.title(), fontsize='large', fontweight='bold', \n",
    "            style='italic', family='monospace')\n",
    "    \n",
    "def create_scatter(df: pd, ax_: plt.axes, x_: str, y_: str, hue_: str, title_: str):\n",
    "    sns.scatterplot(data=df, x=x_, y=y_, hue=hue_, size=hue_, alpha = 0.75, ax=ax_)\n",
    "    ax_.set_xlabel(x_.capitalize(), fontsize='large', family='monospace')\n",
    "    ax_.set_ylabel(y_.capitalize(), fontsize='large', family='monospace')\n",
    "    ax_.set_title(title_.title(), fontsize='large', fontweight='bold', \n",
    "            style='italic', family='monospace')"
   ]
  },
  {
   "cell_type": "code",
   "execution_count": 131,
   "metadata": {},
   "outputs": [
    {
     "data": {
      "application/vnd.plotly.v1+json": {
       "config": {
        "plotlyServerURL": "https://plot.ly"
       },
       "data": [
        {
         "hovertemplate": "genre=Action<br>year=%{x}<br>count=%{y}<extra></extra>",
         "legendgroup": "Action",
         "line": {
          "color": "#636efa",
          "dash": "solid"
         },
         "marker": {
          "symbol": "circle"
         },
         "mode": "lines",
         "name": "Action",
         "orientation": "v",
         "showlegend": true,
         "type": "scatter",
         "x": [
          2003,
          2004,
          2005,
          2006,
          2007,
          2008,
          2009,
          2010,
          2011,
          2012,
          2013,
          2014,
          2015,
          2016,
          2017,
          2018,
          2019,
          2020,
          2021,
          2022
         ],
         "xaxis": "x",
         "y": [
          34,
          28,
          28,
          25,
          28,
          37,
          27,
          35,
          33,
          30,
          39,
          43,
          37,
          37,
          35,
          43,
          34,
          28,
          29,
          26
         ],
         "yaxis": "y"
        },
        {
         "hovertemplate": "genre=Adventure<br>year=%{x}<br>count=%{y}<extra></extra>",
         "legendgroup": "Adventure",
         "line": {
          "color": "#EF553B",
          "dash": "solid"
         },
         "marker": {
          "symbol": "circle"
         },
         "mode": "lines",
         "name": "Adventure",
         "orientation": "v",
         "showlegend": true,
         "type": "scatter",
         "x": [
          2003,
          2004,
          2005,
          2006,
          2007,
          2008,
          2009,
          2010,
          2011,
          2012,
          2013,
          2014,
          2015,
          2016,
          2017,
          2018,
          2019,
          2020,
          2021,
          2022
         ],
         "xaxis": "x",
         "y": [
          29,
          22,
          25,
          29,
          25,
          29,
          24,
          28,
          28,
          27,
          23,
          31,
          32,
          32,
          23,
          29,
          23,
          20,
          26,
          18
         ],
         "yaxis": "y"
        },
        {
         "hovertemplate": "genre=Animation<br>year=%{x}<br>count=%{y}<extra></extra>",
         "legendgroup": "Animation",
         "line": {
          "color": "#00cc96",
          "dash": "solid"
         },
         "marker": {
          "symbol": "circle"
         },
         "mode": "lines",
         "name": "Animation",
         "orientation": "v",
         "showlegend": true,
         "type": "scatter",
         "x": [
          2003,
          2004,
          2005,
          2006,
          2007,
          2008,
          2009,
          2010,
          2011,
          2012,
          2013,
          2014,
          2015,
          2016,
          2017,
          2018,
          2019,
          2020,
          2021,
          2022
         ],
         "xaxis": "x",
         "y": [
          4,
          7,
          5,
          7,
          9,
          6,
          10,
          6,
          7,
          8,
          4,
          4,
          3,
          9,
          2,
          4,
          6,
          4,
          7,
          6
         ],
         "yaxis": "y"
        },
        {
         "hovertemplate": "genre=Biography<br>year=%{x}<br>count=%{y}<extra></extra>",
         "legendgroup": "Biography",
         "line": {
          "color": "#ab63fa",
          "dash": "solid"
         },
         "marker": {
          "symbol": "circle"
         },
         "mode": "lines",
         "name": "Biography",
         "orientation": "v",
         "showlegend": true,
         "type": "scatter",
         "x": [
          2003,
          2004,
          2005,
          2006,
          2007,
          2008,
          2009,
          2010,
          2011,
          2012,
          2013,
          2014,
          2015,
          2016,
          2017,
          2018,
          2019,
          2020,
          2021,
          2022
         ],
         "xaxis": "x",
         "y": [
          3,
          7,
          8,
          6,
          7,
          5,
          6,
          5,
          3,
          5,
          8,
          8,
          11,
          7,
          9,
          11,
          11,
          3,
          8,
          8
         ],
         "yaxis": "y"
        },
        {
         "hovertemplate": "genre=Comedy<br>year=%{x}<br>count=%{y}<extra></extra>",
         "legendgroup": "Comedy",
         "line": {
          "color": "#FFA15A",
          "dash": "solid"
         },
         "marker": {
          "symbol": "circle"
         },
         "mode": "lines",
         "name": "Comedy",
         "orientation": "v",
         "showlegend": true,
         "type": "scatter",
         "x": [
          2003,
          2004,
          2005,
          2006,
          2007,
          2008,
          2009,
          2010,
          2011,
          2012,
          2013,
          2014,
          2015,
          2016,
          2017,
          2018,
          2019,
          2020,
          2021,
          2022
         ],
         "xaxis": "x",
         "y": [
          38,
          41,
          37,
          39,
          32,
          36,
          33,
          33,
          36,
          36,
          27,
          34,
          32,
          31,
          32,
          26,
          34,
          39,
          28,
          38
         ],
         "yaxis": "y"
        },
        {
         "hovertemplate": "genre=Crime<br>year=%{x}<br>count=%{y}<extra></extra>",
         "legendgroup": "Crime",
         "line": {
          "color": "#19d3f3",
          "dash": "solid"
         },
         "marker": {
          "symbol": "circle"
         },
         "mode": "lines",
         "name": "Crime",
         "orientation": "v",
         "showlegend": true,
         "type": "scatter",
         "x": [
          2003,
          2004,
          2005,
          2006,
          2007,
          2008,
          2009,
          2010,
          2011,
          2012,
          2013,
          2014,
          2015,
          2016,
          2017,
          2018,
          2019,
          2020,
          2021,
          2022
         ],
         "xaxis": "x",
         "y": [
          24,
          15,
          19,
          19,
          22,
          14,
          9,
          14,
          12,
          17,
          19,
          14,
          19,
          10,
          24,
          15,
          18,
          12,
          22,
          14
         ],
         "yaxis": "y"
        },
        {
         "hovertemplate": "genre=Drama<br>year=%{x}<br>count=%{y}<extra></extra>",
         "legendgroup": "Drama",
         "line": {
          "color": "#FF6692",
          "dash": "solid"
         },
         "marker": {
          "symbol": "circle"
         },
         "mode": "lines",
         "name": "Drama",
         "orientation": "v",
         "showlegend": true,
         "type": "scatter",
         "x": [
          2003,
          2004,
          2005,
          2006,
          2007,
          2008,
          2009,
          2010,
          2011,
          2012,
          2013,
          2014,
          2015,
          2016,
          2017,
          2018,
          2019,
          2020,
          2021,
          2022
         ],
         "xaxis": "x",
         "y": [
          41,
          46,
          47,
          48,
          43,
          45,
          47,
          49,
          44,
          49,
          48,
          45,
          54,
          46,
          55,
          50,
          56,
          49,
          55,
          51
         ],
         "yaxis": "y"
        },
        {
         "hovertemplate": "genre=Family<br>year=%{x}<br>count=%{y}<extra></extra>",
         "legendgroup": "Family",
         "line": {
          "color": "#B6E880",
          "dash": "solid"
         },
         "marker": {
          "symbol": "circle"
         },
         "mode": "lines",
         "name": "Family",
         "orientation": "v",
         "showlegend": true,
         "type": "scatter",
         "x": [
          2003,
          2004,
          2005,
          2006,
          2007,
          2008,
          2009,
          2010,
          2011,
          2012,
          2013,
          2014,
          2015,
          2016,
          2017,
          2018,
          2019,
          2020,
          2021,
          2022
         ],
         "xaxis": "x",
         "y": [
          7,
          9,
          9,
          10,
          7,
          7,
          7,
          9,
          5,
          3,
          3,
          6,
          3,
          4,
          5,
          6,
          6,
          7,
          5,
          7
         ],
         "yaxis": "y"
        },
        {
         "hovertemplate": "genre=Fantasy<br>year=%{x}<br>count=%{y}<extra></extra>",
         "legendgroup": "Fantasy",
         "line": {
          "color": "#FF97FF",
          "dash": "solid"
         },
         "marker": {
          "symbol": "circle"
         },
         "mode": "lines",
         "name": "Fantasy",
         "orientation": "v",
         "showlegend": true,
         "type": "scatter",
         "x": [
          2003,
          2004,
          2005,
          2006,
          2007,
          2008,
          2009,
          2010,
          2011,
          2012,
          2013,
          2014,
          2015,
          2016,
          2017,
          2018,
          2019,
          2020,
          2021,
          2022
         ],
         "xaxis": "x",
         "y": [
          8,
          8,
          9,
          13,
          13,
          11,
          13,
          13,
          12,
          7,
          11,
          6,
          11,
          11,
          17,
          12,
          10,
          6,
          9,
          2
         ],
         "yaxis": "y"
        },
        {
         "hovertemplate": "genre=History<br>year=%{x}<br>count=%{y}<extra></extra>",
         "legendgroup": "History",
         "line": {
          "color": "#FECB52",
          "dash": "solid"
         },
         "marker": {
          "symbol": "circle"
         },
         "mode": "lines",
         "name": "History",
         "orientation": "v",
         "showlegend": true,
         "type": "scatter",
         "x": [
          2004,
          2005,
          2006,
          2007,
          2008,
          2010,
          2011,
          2012,
          2013,
          2014,
          2015,
          2016,
          2017,
          2018,
          2019,
          2020,
          2021,
          2022
         ],
         "xaxis": "x",
         "y": [
          3,
          3,
          3,
          2,
          5,
          3,
          1,
          5,
          1,
          1,
          4,
          4,
          2,
          3,
          4,
          5,
          3,
          5
         ],
         "yaxis": "y"
        },
        {
         "hovertemplate": "genre=Horror<br>year=%{x}<br>count=%{y}<extra></extra>",
         "legendgroup": "Horror",
         "line": {
          "color": "#636efa",
          "dash": "solid"
         },
         "marker": {
          "symbol": "circle"
         },
         "mode": "lines",
         "name": "Horror",
         "orientation": "v",
         "showlegend": true,
         "type": "scatter",
         "x": [
          2003,
          2004,
          2005,
          2006,
          2007,
          2008,
          2009,
          2010,
          2011,
          2012,
          2013,
          2014,
          2015,
          2016,
          2017,
          2018,
          2019,
          2020,
          2021,
          2022
         ],
         "xaxis": "x",
         "y": [
          12,
          10,
          14,
          6,
          18,
          7,
          15,
          14,
          10,
          9,
          13,
          10,
          11,
          17,
          13,
          20,
          15,
          18,
          13,
          17
         ],
         "yaxis": "y"
        },
        {
         "hovertemplate": "genre=Music<br>year=%{x}<br>count=%{y}<extra></extra>",
         "legendgroup": "Music",
         "line": {
          "color": "#EF553B",
          "dash": "solid"
         },
         "marker": {
          "symbol": "circle"
         },
         "mode": "lines",
         "name": "Music",
         "orientation": "v",
         "showlegend": true,
         "type": "scatter",
         "x": [
          2003,
          2004,
          2005,
          2006,
          2007,
          2008,
          2009,
          2010,
          2011,
          2012,
          2013,
          2014,
          2015,
          2016,
          2017,
          2018,
          2019,
          2020,
          2021,
          2022
         ],
         "xaxis": "x",
         "y": [
          2,
          2,
          2,
          3,
          3,
          1,
          3,
          3,
          1,
          2,
          2,
          2,
          4,
          1,
          1,
          4,
          2,
          1,
          1,
          4
         ],
         "yaxis": "y"
        },
        {
         "hovertemplate": "genre=Musical<br>year=%{x}<br>count=%{y}<extra></extra>",
         "legendgroup": "Musical",
         "line": {
          "color": "#00cc96",
          "dash": "solid"
         },
         "marker": {
          "symbol": "circle"
         },
         "mode": "lines",
         "name": "Musical",
         "orientation": "v",
         "showlegend": true,
         "type": "scatter",
         "x": [
          2004,
          2005,
          2007,
          2008,
          2009,
          2010,
          2012,
          2017,
          2018,
          2019,
          2020,
          2021,
          2022
         ],
         "xaxis": "x",
         "y": [
          1,
          1,
          2,
          2,
          1,
          1,
          2,
          2,
          2,
          1,
          2,
          2,
          1
         ],
         "yaxis": "y"
        },
        {
         "hovertemplate": "genre=Mystery<br>year=%{x}<br>count=%{y}<extra></extra>",
         "legendgroup": "Mystery",
         "line": {
          "color": "#ab63fa",
          "dash": "solid"
         },
         "marker": {
          "symbol": "circle"
         },
         "mode": "lines",
         "name": "Mystery",
         "orientation": "v",
         "showlegend": true,
         "type": "scatter",
         "x": [
          2003,
          2004,
          2005,
          2006,
          2007,
          2008,
          2009,
          2010,
          2011,
          2012,
          2013,
          2014,
          2015,
          2016,
          2017,
          2018,
          2019,
          2020,
          2021,
          2022
         ],
         "xaxis": "x",
         "y": [
          10,
          12,
          7,
          11,
          15,
          5,
          18,
          10,
          13,
          9,
          10,
          12,
          9,
          12,
          11,
          13,
          9,
          18,
          10,
          14
         ],
         "yaxis": "y"
        },
        {
         "hovertemplate": "genre=Romance<br>year=%{x}<br>count=%{y}<extra></extra>",
         "legendgroup": "Romance",
         "line": {
          "color": "#FFA15A",
          "dash": "solid"
         },
         "marker": {
          "symbol": "circle"
         },
         "mode": "lines",
         "name": "Romance",
         "orientation": "v",
         "showlegend": true,
         "type": "scatter",
         "x": [
          2003,
          2004,
          2005,
          2006,
          2007,
          2008,
          2009,
          2010,
          2011,
          2012,
          2013,
          2014,
          2015,
          2016,
          2017,
          2018,
          2019,
          2020,
          2021,
          2022
         ],
         "xaxis": "x",
         "y": [
          12,
          24,
          23,
          15,
          12,
          19,
          14,
          21,
          17,
          16,
          9,
          13,
          12,
          11,
          11,
          10,
          12,
          11,
          8,
          13
         ],
         "yaxis": "y"
        },
        {
         "hovertemplate": "genre=Sci-Fi<br>year=%{x}<br>count=%{y}<extra></extra>",
         "legendgroup": "Sci-Fi",
         "line": {
          "color": "#19d3f3",
          "dash": "solid"
         },
         "marker": {
          "symbol": "circle"
         },
         "mode": "lines",
         "name": "Sci-Fi",
         "orientation": "v",
         "showlegend": true,
         "type": "scatter",
         "x": [
          2003,
          2004,
          2005,
          2006,
          2007,
          2008,
          2009,
          2010,
          2011,
          2012,
          2013,
          2014,
          2015,
          2016,
          2017,
          2018,
          2019,
          2020,
          2021,
          2022
         ],
         "xaxis": "x",
         "y": [
          8,
          12,
          8,
          8,
          6,
          10,
          13,
          6,
          15,
          14,
          17,
          16,
          15,
          11,
          8,
          17,
          9,
          6,
          11,
          3
         ],
         "yaxis": "y"
        },
        {
         "hovertemplate": "genre=Sport<br>year=%{x}<br>count=%{y}<extra></extra>",
         "legendgroup": "Sport",
         "line": {
          "color": "#FF6692",
          "dash": "solid"
         },
         "marker": {
          "symbol": "circle"
         },
         "mode": "lines",
         "name": "Sport",
         "orientation": "v",
         "showlegend": true,
         "type": "scatter",
         "x": [
          2003,
          2004,
          2005,
          2006,
          2007,
          2008,
          2009,
          2011,
          2012,
          2015,
          2018,
          2019,
          2021,
          2022
         ],
         "xaxis": "x",
         "y": [
          1,
          3,
          6,
          6,
          1,
          3,
          2,
          4,
          1,
          1,
          1,
          1,
          1,
          1
         ],
         "yaxis": "y"
        },
        {
         "hovertemplate": "genre=Thriller<br>year=%{x}<br>count=%{y}<extra></extra>",
         "legendgroup": "Thriller",
         "line": {
          "color": "#B6E880",
          "dash": "solid"
         },
         "marker": {
          "symbol": "circle"
         },
         "mode": "lines",
         "name": "Thriller",
         "orientation": "v",
         "showlegend": true,
         "type": "scatter",
         "x": [
          2003,
          2004,
          2005,
          2006,
          2007,
          2008,
          2009,
          2010,
          2011,
          2012,
          2013,
          2014,
          2015,
          2016,
          2017,
          2018,
          2019,
          2020,
          2021,
          2022
         ],
         "xaxis": "x",
         "y": [
          17,
          13,
          15,
          17,
          23,
          16,
          19,
          18,
          19,
          17,
          17,
          22,
          17,
          16,
          18,
          16,
          18,
          26,
          20,
          19
         ],
         "yaxis": "y"
        },
        {
         "hovertemplate": "genre=War<br>year=%{x}<br>count=%{y}<extra></extra>",
         "legendgroup": "War",
         "line": {
          "color": "#FF97FF",
          "dash": "solid"
         },
         "marker": {
          "symbol": "circle"
         },
         "mode": "lines",
         "name": "War",
         "orientation": "v",
         "showlegend": true,
         "type": "scatter",
         "x": [
          2005,
          2006,
          2008,
          2009,
          2013,
          2014,
          2015,
          2017,
          2018,
          2019,
          2020,
          2021,
          2022
         ],
         "xaxis": "x",
         "y": [
          1,
          2,
          3,
          2,
          1,
          1,
          1,
          1,
          1,
          3,
          2,
          2,
          2
         ],
         "yaxis": "y"
        },
        {
         "hovertemplate": "genre=Western<br>year=%{x}<br>count=%{y}<extra></extra>",
         "legendgroup": "Western",
         "line": {
          "color": "#FECB52",
          "dash": "solid"
         },
         "marker": {
          "symbol": "circle"
         },
         "mode": "lines",
         "name": "Western",
         "orientation": "v",
         "showlegend": true,
         "type": "scatter",
         "x": [
          2003,
          2005,
          2010,
          2012,
          2014,
          2015,
          2016,
          2017,
          2021
         ],
         "xaxis": "x",
         "y": [
          1,
          1,
          1,
          1,
          1,
          1,
          1,
          2,
          2
         ],
         "yaxis": "y"
        }
       ],
       "layout": {
        "legend": {
         "title": {
          "text": "genre"
         },
         "tracegroupgap": 0
        },
        "template": {
         "data": {
          "bar": [
           {
            "error_x": {
             "color": "#2a3f5f"
            },
            "error_y": {
             "color": "#2a3f5f"
            },
            "marker": {
             "line": {
              "color": "#E5ECF6",
              "width": 0.5
             },
             "pattern": {
              "fillmode": "overlay",
              "size": 10,
              "solidity": 0.2
             }
            },
            "type": "bar"
           }
          ],
          "barpolar": [
           {
            "marker": {
             "line": {
              "color": "#E5ECF6",
              "width": 0.5
             },
             "pattern": {
              "fillmode": "overlay",
              "size": 10,
              "solidity": 0.2
             }
            },
            "type": "barpolar"
           }
          ],
          "carpet": [
           {
            "aaxis": {
             "endlinecolor": "#2a3f5f",
             "gridcolor": "white",
             "linecolor": "white",
             "minorgridcolor": "white",
             "startlinecolor": "#2a3f5f"
            },
            "baxis": {
             "endlinecolor": "#2a3f5f",
             "gridcolor": "white",
             "linecolor": "white",
             "minorgridcolor": "white",
             "startlinecolor": "#2a3f5f"
            },
            "type": "carpet"
           }
          ],
          "choropleth": [
           {
            "colorbar": {
             "outlinewidth": 0,
             "ticks": ""
            },
            "type": "choropleth"
           }
          ],
          "contour": [
           {
            "colorbar": {
             "outlinewidth": 0,
             "ticks": ""
            },
            "colorscale": [
             [
              0,
              "#0d0887"
             ],
             [
              0.1111111111111111,
              "#46039f"
             ],
             [
              0.2222222222222222,
              "#7201a8"
             ],
             [
              0.3333333333333333,
              "#9c179e"
             ],
             [
              0.4444444444444444,
              "#bd3786"
             ],
             [
              0.5555555555555556,
              "#d8576b"
             ],
             [
              0.6666666666666666,
              "#ed7953"
             ],
             [
              0.7777777777777778,
              "#fb9f3a"
             ],
             [
              0.8888888888888888,
              "#fdca26"
             ],
             [
              1,
              "#f0f921"
             ]
            ],
            "type": "contour"
           }
          ],
          "contourcarpet": [
           {
            "colorbar": {
             "outlinewidth": 0,
             "ticks": ""
            },
            "type": "contourcarpet"
           }
          ],
          "heatmap": [
           {
            "colorbar": {
             "outlinewidth": 0,
             "ticks": ""
            },
            "colorscale": [
             [
              0,
              "#0d0887"
             ],
             [
              0.1111111111111111,
              "#46039f"
             ],
             [
              0.2222222222222222,
              "#7201a8"
             ],
             [
              0.3333333333333333,
              "#9c179e"
             ],
             [
              0.4444444444444444,
              "#bd3786"
             ],
             [
              0.5555555555555556,
              "#d8576b"
             ],
             [
              0.6666666666666666,
              "#ed7953"
             ],
             [
              0.7777777777777778,
              "#fb9f3a"
             ],
             [
              0.8888888888888888,
              "#fdca26"
             ],
             [
              1,
              "#f0f921"
             ]
            ],
            "type": "heatmap"
           }
          ],
          "heatmapgl": [
           {
            "colorbar": {
             "outlinewidth": 0,
             "ticks": ""
            },
            "colorscale": [
             [
              0,
              "#0d0887"
             ],
             [
              0.1111111111111111,
              "#46039f"
             ],
             [
              0.2222222222222222,
              "#7201a8"
             ],
             [
              0.3333333333333333,
              "#9c179e"
             ],
             [
              0.4444444444444444,
              "#bd3786"
             ],
             [
              0.5555555555555556,
              "#d8576b"
             ],
             [
              0.6666666666666666,
              "#ed7953"
             ],
             [
              0.7777777777777778,
              "#fb9f3a"
             ],
             [
              0.8888888888888888,
              "#fdca26"
             ],
             [
              1,
              "#f0f921"
             ]
            ],
            "type": "heatmapgl"
           }
          ],
          "histogram": [
           {
            "marker": {
             "pattern": {
              "fillmode": "overlay",
              "size": 10,
              "solidity": 0.2
             }
            },
            "type": "histogram"
           }
          ],
          "histogram2d": [
           {
            "colorbar": {
             "outlinewidth": 0,
             "ticks": ""
            },
            "colorscale": [
             [
              0,
              "#0d0887"
             ],
             [
              0.1111111111111111,
              "#46039f"
             ],
             [
              0.2222222222222222,
              "#7201a8"
             ],
             [
              0.3333333333333333,
              "#9c179e"
             ],
             [
              0.4444444444444444,
              "#bd3786"
             ],
             [
              0.5555555555555556,
              "#d8576b"
             ],
             [
              0.6666666666666666,
              "#ed7953"
             ],
             [
              0.7777777777777778,
              "#fb9f3a"
             ],
             [
              0.8888888888888888,
              "#fdca26"
             ],
             [
              1,
              "#f0f921"
             ]
            ],
            "type": "histogram2d"
           }
          ],
          "histogram2dcontour": [
           {
            "colorbar": {
             "outlinewidth": 0,
             "ticks": ""
            },
            "colorscale": [
             [
              0,
              "#0d0887"
             ],
             [
              0.1111111111111111,
              "#46039f"
             ],
             [
              0.2222222222222222,
              "#7201a8"
             ],
             [
              0.3333333333333333,
              "#9c179e"
             ],
             [
              0.4444444444444444,
              "#bd3786"
             ],
             [
              0.5555555555555556,
              "#d8576b"
             ],
             [
              0.6666666666666666,
              "#ed7953"
             ],
             [
              0.7777777777777778,
              "#fb9f3a"
             ],
             [
              0.8888888888888888,
              "#fdca26"
             ],
             [
              1,
              "#f0f921"
             ]
            ],
            "type": "histogram2dcontour"
           }
          ],
          "mesh3d": [
           {
            "colorbar": {
             "outlinewidth": 0,
             "ticks": ""
            },
            "type": "mesh3d"
           }
          ],
          "parcoords": [
           {
            "line": {
             "colorbar": {
              "outlinewidth": 0,
              "ticks": ""
             }
            },
            "type": "parcoords"
           }
          ],
          "pie": [
           {
            "automargin": true,
            "type": "pie"
           }
          ],
          "scatter": [
           {
            "fillpattern": {
             "fillmode": "overlay",
             "size": 10,
             "solidity": 0.2
            },
            "type": "scatter"
           }
          ],
          "scatter3d": [
           {
            "line": {
             "colorbar": {
              "outlinewidth": 0,
              "ticks": ""
             }
            },
            "marker": {
             "colorbar": {
              "outlinewidth": 0,
              "ticks": ""
             }
            },
            "type": "scatter3d"
           }
          ],
          "scattercarpet": [
           {
            "marker": {
             "colorbar": {
              "outlinewidth": 0,
              "ticks": ""
             }
            },
            "type": "scattercarpet"
           }
          ],
          "scattergeo": [
           {
            "marker": {
             "colorbar": {
              "outlinewidth": 0,
              "ticks": ""
             }
            },
            "type": "scattergeo"
           }
          ],
          "scattergl": [
           {
            "marker": {
             "colorbar": {
              "outlinewidth": 0,
              "ticks": ""
             }
            },
            "type": "scattergl"
           }
          ],
          "scattermapbox": [
           {
            "marker": {
             "colorbar": {
              "outlinewidth": 0,
              "ticks": ""
             }
            },
            "type": "scattermapbox"
           }
          ],
          "scatterpolar": [
           {
            "marker": {
             "colorbar": {
              "outlinewidth": 0,
              "ticks": ""
             }
            },
            "type": "scatterpolar"
           }
          ],
          "scatterpolargl": [
           {
            "marker": {
             "colorbar": {
              "outlinewidth": 0,
              "ticks": ""
             }
            },
            "type": "scatterpolargl"
           }
          ],
          "scatterternary": [
           {
            "marker": {
             "colorbar": {
              "outlinewidth": 0,
              "ticks": ""
             }
            },
            "type": "scatterternary"
           }
          ],
          "surface": [
           {
            "colorbar": {
             "outlinewidth": 0,
             "ticks": ""
            },
            "colorscale": [
             [
              0,
              "#0d0887"
             ],
             [
              0.1111111111111111,
              "#46039f"
             ],
             [
              0.2222222222222222,
              "#7201a8"
             ],
             [
              0.3333333333333333,
              "#9c179e"
             ],
             [
              0.4444444444444444,
              "#bd3786"
             ],
             [
              0.5555555555555556,
              "#d8576b"
             ],
             [
              0.6666666666666666,
              "#ed7953"
             ],
             [
              0.7777777777777778,
              "#fb9f3a"
             ],
             [
              0.8888888888888888,
              "#fdca26"
             ],
             [
              1,
              "#f0f921"
             ]
            ],
            "type": "surface"
           }
          ],
          "table": [
           {
            "cells": {
             "fill": {
              "color": "#EBF0F8"
             },
             "line": {
              "color": "white"
             }
            },
            "header": {
             "fill": {
              "color": "#C8D4E3"
             },
             "line": {
              "color": "white"
             }
            },
            "type": "table"
           }
          ]
         },
         "layout": {
          "annotationdefaults": {
           "arrowcolor": "#2a3f5f",
           "arrowhead": 0,
           "arrowwidth": 1
          },
          "autotypenumbers": "strict",
          "coloraxis": {
           "colorbar": {
            "outlinewidth": 0,
            "ticks": ""
           }
          },
          "colorscale": {
           "diverging": [
            [
             0,
             "#8e0152"
            ],
            [
             0.1,
             "#c51b7d"
            ],
            [
             0.2,
             "#de77ae"
            ],
            [
             0.3,
             "#f1b6da"
            ],
            [
             0.4,
             "#fde0ef"
            ],
            [
             0.5,
             "#f7f7f7"
            ],
            [
             0.6,
             "#e6f5d0"
            ],
            [
             0.7,
             "#b8e186"
            ],
            [
             0.8,
             "#7fbc41"
            ],
            [
             0.9,
             "#4d9221"
            ],
            [
             1,
             "#276419"
            ]
           ],
           "sequential": [
            [
             0,
             "#0d0887"
            ],
            [
             0.1111111111111111,
             "#46039f"
            ],
            [
             0.2222222222222222,
             "#7201a8"
            ],
            [
             0.3333333333333333,
             "#9c179e"
            ],
            [
             0.4444444444444444,
             "#bd3786"
            ],
            [
             0.5555555555555556,
             "#d8576b"
            ],
            [
             0.6666666666666666,
             "#ed7953"
            ],
            [
             0.7777777777777778,
             "#fb9f3a"
            ],
            [
             0.8888888888888888,
             "#fdca26"
            ],
            [
             1,
             "#f0f921"
            ]
           ],
           "sequentialminus": [
            [
             0,
             "#0d0887"
            ],
            [
             0.1111111111111111,
             "#46039f"
            ],
            [
             0.2222222222222222,
             "#7201a8"
            ],
            [
             0.3333333333333333,
             "#9c179e"
            ],
            [
             0.4444444444444444,
             "#bd3786"
            ],
            [
             0.5555555555555556,
             "#d8576b"
            ],
            [
             0.6666666666666666,
             "#ed7953"
            ],
            [
             0.7777777777777778,
             "#fb9f3a"
            ],
            [
             0.8888888888888888,
             "#fdca26"
            ],
            [
             1,
             "#f0f921"
            ]
           ]
          },
          "colorway": [
           "#636efa",
           "#EF553B",
           "#00cc96",
           "#ab63fa",
           "#FFA15A",
           "#19d3f3",
           "#FF6692",
           "#B6E880",
           "#FF97FF",
           "#FECB52"
          ],
          "font": {
           "color": "#2a3f5f"
          },
          "geo": {
           "bgcolor": "white",
           "lakecolor": "white",
           "landcolor": "#E5ECF6",
           "showlakes": true,
           "showland": true,
           "subunitcolor": "white"
          },
          "hoverlabel": {
           "align": "left"
          },
          "hovermode": "closest",
          "mapbox": {
           "style": "light"
          },
          "paper_bgcolor": "white",
          "plot_bgcolor": "#E5ECF6",
          "polar": {
           "angularaxis": {
            "gridcolor": "white",
            "linecolor": "white",
            "ticks": ""
           },
           "bgcolor": "#E5ECF6",
           "radialaxis": {
            "gridcolor": "white",
            "linecolor": "white",
            "ticks": ""
           }
          },
          "scene": {
           "xaxis": {
            "backgroundcolor": "#E5ECF6",
            "gridcolor": "white",
            "gridwidth": 2,
            "linecolor": "white",
            "showbackground": true,
            "ticks": "",
            "zerolinecolor": "white"
           },
           "yaxis": {
            "backgroundcolor": "#E5ECF6",
            "gridcolor": "white",
            "gridwidth": 2,
            "linecolor": "white",
            "showbackground": true,
            "ticks": "",
            "zerolinecolor": "white"
           },
           "zaxis": {
            "backgroundcolor": "#E5ECF6",
            "gridcolor": "white",
            "gridwidth": 2,
            "linecolor": "white",
            "showbackground": true,
            "ticks": "",
            "zerolinecolor": "white"
           }
          },
          "shapedefaults": {
           "line": {
            "color": "#2a3f5f"
           }
          },
          "ternary": {
           "aaxis": {
            "gridcolor": "white",
            "linecolor": "white",
            "ticks": ""
           },
           "baxis": {
            "gridcolor": "white",
            "linecolor": "white",
            "ticks": ""
           },
           "bgcolor": "#E5ECF6",
           "caxis": {
            "gridcolor": "white",
            "linecolor": "white",
            "ticks": ""
           }
          },
          "title": {
           "x": 0.05
          },
          "xaxis": {
           "automargin": true,
           "gridcolor": "white",
           "linecolor": "white",
           "ticks": "",
           "title": {
            "standoff": 15
           },
           "zerolinecolor": "white",
           "zerolinewidth": 2
          },
          "yaxis": {
           "automargin": true,
           "gridcolor": "white",
           "linecolor": "white",
           "ticks": "",
           "title": {
            "standoff": 15
           },
           "zerolinecolor": "white",
           "zerolinewidth": 2
          }
         }
        },
        "title": {
         "text": "Relação da quantidade de filmes por generos e ano"
        },
        "xaxis": {
         "anchor": "y",
         "domain": [
          0,
          1
         ],
         "dtick": "M1",
         "title": {
          "text": "year"
         }
        },
        "yaxis": {
         "anchor": "x",
         "domain": [
          0,
          1
         ],
         "title": {
          "text": "count"
         }
        }
       }
      }
     },
     "metadata": {},
     "output_type": "display_data"
    }
   ],
   "source": [
    "genre_for_year = analise_2colunas(df['genre'], df['year'], ['genre', 'year'])\n",
    "genre_for_year = genre_for_year.groupby(['genre', 'year'], as_index = False).agg(count = ('genre', 'count'))\n",
    "\n",
    "fig = px.line(genre_for_year, x = 'year',y ='count',\n",
    "              color = 'genre',\n",
    "              title='Relação da quantidade de filmes por generos e ano')\n",
    "fig.update_xaxes(dtick=\"M1\")\n",
    "fig.show()"
   ]
  },
  {
   "cell_type": "code",
   "execution_count": 132,
   "metadata": {},
   "outputs": [
    {
     "data": {
      "application/vnd.plotly.v1+json": {
       "config": {
        "plotlyServerURL": "https://plot.ly"
       },
       "data": [
        {
         "alignmentgroup": "True",
         "bingroup": "x",
         "histfunc": "sum",
         "hovertemplate": "genre=%{x}<br>sum of mean=%{y}<extra></extra>",
         "legendgroup": "",
         "marker": {
          "color": "#37AA9C",
          "pattern": {
           "shape": ""
          }
         },
         "name": "",
         "offsetgroup": "",
         "orientation": "v",
         "showlegend": false,
         "type": "histogram",
         "x": [
          "Action",
          "Adventure",
          "Animation",
          "Biography",
          "Comedy",
          "Crime",
          "Drama",
          "Family",
          "Fantasy",
          "History",
          "Horror",
          "Music",
          "Musical",
          "Mystery",
          "Romance",
          "Sci-Fi",
          "Sport",
          "Thriller",
          "War",
          "Western"
         ],
         "xaxis": "x",
         "y": [
          94632011.35634193,
          114205244.96208337,
          101052791.69592373,
          38440558.70224342,
          51196085.85090909,
          42191925.62755452,
          39053800.96973169,
          77877165.1286,
          87724356.21682872,
          40236242.60681522,
          26597523.85136778,
          26856581.96860154,
          58275000,
          34086087.921916395,
          33562642.5931235,
          100853762.07358225,
          35796875,
          45831993.30903608,
          41748618.53636363,
          45072727.27272727
         ],
         "yaxis": "y"
        }
       ],
       "layout": {
        "barmode": "relative",
        "legend": {
         "tracegroupgap": 0
        },
        "margin": {
         "t": 60
        },
        "template": {
         "data": {
          "bar": [
           {
            "error_x": {
             "color": "#2a3f5f"
            },
            "error_y": {
             "color": "#2a3f5f"
            },
            "marker": {
             "line": {
              "color": "#E5ECF6",
              "width": 0.5
             },
             "pattern": {
              "fillmode": "overlay",
              "size": 10,
              "solidity": 0.2
             }
            },
            "type": "bar"
           }
          ],
          "barpolar": [
           {
            "marker": {
             "line": {
              "color": "#E5ECF6",
              "width": 0.5
             },
             "pattern": {
              "fillmode": "overlay",
              "size": 10,
              "solidity": 0.2
             }
            },
            "type": "barpolar"
           }
          ],
          "carpet": [
           {
            "aaxis": {
             "endlinecolor": "#2a3f5f",
             "gridcolor": "white",
             "linecolor": "white",
             "minorgridcolor": "white",
             "startlinecolor": "#2a3f5f"
            },
            "baxis": {
             "endlinecolor": "#2a3f5f",
             "gridcolor": "white",
             "linecolor": "white",
             "minorgridcolor": "white",
             "startlinecolor": "#2a3f5f"
            },
            "type": "carpet"
           }
          ],
          "choropleth": [
           {
            "colorbar": {
             "outlinewidth": 0,
             "ticks": ""
            },
            "type": "choropleth"
           }
          ],
          "contour": [
           {
            "colorbar": {
             "outlinewidth": 0,
             "ticks": ""
            },
            "colorscale": [
             [
              0,
              "#0d0887"
             ],
             [
              0.1111111111111111,
              "#46039f"
             ],
             [
              0.2222222222222222,
              "#7201a8"
             ],
             [
              0.3333333333333333,
              "#9c179e"
             ],
             [
              0.4444444444444444,
              "#bd3786"
             ],
             [
              0.5555555555555556,
              "#d8576b"
             ],
             [
              0.6666666666666666,
              "#ed7953"
             ],
             [
              0.7777777777777778,
              "#fb9f3a"
             ],
             [
              0.8888888888888888,
              "#fdca26"
             ],
             [
              1,
              "#f0f921"
             ]
            ],
            "type": "contour"
           }
          ],
          "contourcarpet": [
           {
            "colorbar": {
             "outlinewidth": 0,
             "ticks": ""
            },
            "type": "contourcarpet"
           }
          ],
          "heatmap": [
           {
            "colorbar": {
             "outlinewidth": 0,
             "ticks": ""
            },
            "colorscale": [
             [
              0,
              "#0d0887"
             ],
             [
              0.1111111111111111,
              "#46039f"
             ],
             [
              0.2222222222222222,
              "#7201a8"
             ],
             [
              0.3333333333333333,
              "#9c179e"
             ],
             [
              0.4444444444444444,
              "#bd3786"
             ],
             [
              0.5555555555555556,
              "#d8576b"
             ],
             [
              0.6666666666666666,
              "#ed7953"
             ],
             [
              0.7777777777777778,
              "#fb9f3a"
             ],
             [
              0.8888888888888888,
              "#fdca26"
             ],
             [
              1,
              "#f0f921"
             ]
            ],
            "type": "heatmap"
           }
          ],
          "heatmapgl": [
           {
            "colorbar": {
             "outlinewidth": 0,
             "ticks": ""
            },
            "colorscale": [
             [
              0,
              "#0d0887"
             ],
             [
              0.1111111111111111,
              "#46039f"
             ],
             [
              0.2222222222222222,
              "#7201a8"
             ],
             [
              0.3333333333333333,
              "#9c179e"
             ],
             [
              0.4444444444444444,
              "#bd3786"
             ],
             [
              0.5555555555555556,
              "#d8576b"
             ],
             [
              0.6666666666666666,
              "#ed7953"
             ],
             [
              0.7777777777777778,
              "#fb9f3a"
             ],
             [
              0.8888888888888888,
              "#fdca26"
             ],
             [
              1,
              "#f0f921"
             ]
            ],
            "type": "heatmapgl"
           }
          ],
          "histogram": [
           {
            "marker": {
             "pattern": {
              "fillmode": "overlay",
              "size": 10,
              "solidity": 0.2
             }
            },
            "type": "histogram"
           }
          ],
          "histogram2d": [
           {
            "colorbar": {
             "outlinewidth": 0,
             "ticks": ""
            },
            "colorscale": [
             [
              0,
              "#0d0887"
             ],
             [
              0.1111111111111111,
              "#46039f"
             ],
             [
              0.2222222222222222,
              "#7201a8"
             ],
             [
              0.3333333333333333,
              "#9c179e"
             ],
             [
              0.4444444444444444,
              "#bd3786"
             ],
             [
              0.5555555555555556,
              "#d8576b"
             ],
             [
              0.6666666666666666,
              "#ed7953"
             ],
             [
              0.7777777777777778,
              "#fb9f3a"
             ],
             [
              0.8888888888888888,
              "#fdca26"
             ],
             [
              1,
              "#f0f921"
             ]
            ],
            "type": "histogram2d"
           }
          ],
          "histogram2dcontour": [
           {
            "colorbar": {
             "outlinewidth": 0,
             "ticks": ""
            },
            "colorscale": [
             [
              0,
              "#0d0887"
             ],
             [
              0.1111111111111111,
              "#46039f"
             ],
             [
              0.2222222222222222,
              "#7201a8"
             ],
             [
              0.3333333333333333,
              "#9c179e"
             ],
             [
              0.4444444444444444,
              "#bd3786"
             ],
             [
              0.5555555555555556,
              "#d8576b"
             ],
             [
              0.6666666666666666,
              "#ed7953"
             ],
             [
              0.7777777777777778,
              "#fb9f3a"
             ],
             [
              0.8888888888888888,
              "#fdca26"
             ],
             [
              1,
              "#f0f921"
             ]
            ],
            "type": "histogram2dcontour"
           }
          ],
          "mesh3d": [
           {
            "colorbar": {
             "outlinewidth": 0,
             "ticks": ""
            },
            "type": "mesh3d"
           }
          ],
          "parcoords": [
           {
            "line": {
             "colorbar": {
              "outlinewidth": 0,
              "ticks": ""
             }
            },
            "type": "parcoords"
           }
          ],
          "pie": [
           {
            "automargin": true,
            "type": "pie"
           }
          ],
          "scatter": [
           {
            "fillpattern": {
             "fillmode": "overlay",
             "size": 10,
             "solidity": 0.2
            },
            "type": "scatter"
           }
          ],
          "scatter3d": [
           {
            "line": {
             "colorbar": {
              "outlinewidth": 0,
              "ticks": ""
             }
            },
            "marker": {
             "colorbar": {
              "outlinewidth": 0,
              "ticks": ""
             }
            },
            "type": "scatter3d"
           }
          ],
          "scattercarpet": [
           {
            "marker": {
             "colorbar": {
              "outlinewidth": 0,
              "ticks": ""
             }
            },
            "type": "scattercarpet"
           }
          ],
          "scattergeo": [
           {
            "marker": {
             "colorbar": {
              "outlinewidth": 0,
              "ticks": ""
             }
            },
            "type": "scattergeo"
           }
          ],
          "scattergl": [
           {
            "marker": {
             "colorbar": {
              "outlinewidth": 0,
              "ticks": ""
             }
            },
            "type": "scattergl"
           }
          ],
          "scattermapbox": [
           {
            "marker": {
             "colorbar": {
              "outlinewidth": 0,
              "ticks": ""
             }
            },
            "type": "scattermapbox"
           }
          ],
          "scatterpolar": [
           {
            "marker": {
             "colorbar": {
              "outlinewidth": 0,
              "ticks": ""
             }
            },
            "type": "scatterpolar"
           }
          ],
          "scatterpolargl": [
           {
            "marker": {
             "colorbar": {
              "outlinewidth": 0,
              "ticks": ""
             }
            },
            "type": "scatterpolargl"
           }
          ],
          "scatterternary": [
           {
            "marker": {
             "colorbar": {
              "outlinewidth": 0,
              "ticks": ""
             }
            },
            "type": "scatterternary"
           }
          ],
          "surface": [
           {
            "colorbar": {
             "outlinewidth": 0,
             "ticks": ""
            },
            "colorscale": [
             [
              0,
              "#0d0887"
             ],
             [
              0.1111111111111111,
              "#46039f"
             ],
             [
              0.2222222222222222,
              "#7201a8"
             ],
             [
              0.3333333333333333,
              "#9c179e"
             ],
             [
              0.4444444444444444,
              "#bd3786"
             ],
             [
              0.5555555555555556,
              "#d8576b"
             ],
             [
              0.6666666666666666,
              "#ed7953"
             ],
             [
              0.7777777777777778,
              "#fb9f3a"
             ],
             [
              0.8888888888888888,
              "#fdca26"
             ],
             [
              1,
              "#f0f921"
             ]
            ],
            "type": "surface"
           }
          ],
          "table": [
           {
            "cells": {
             "fill": {
              "color": "#EBF0F8"
             },
             "line": {
              "color": "white"
             }
            },
            "header": {
             "fill": {
              "color": "#C8D4E3"
             },
             "line": {
              "color": "white"
             }
            },
            "type": "table"
           }
          ]
         },
         "layout": {
          "annotationdefaults": {
           "arrowcolor": "#2a3f5f",
           "arrowhead": 0,
           "arrowwidth": 1
          },
          "autotypenumbers": "strict",
          "coloraxis": {
           "colorbar": {
            "outlinewidth": 0,
            "ticks": ""
           }
          },
          "colorscale": {
           "diverging": [
            [
             0,
             "#8e0152"
            ],
            [
             0.1,
             "#c51b7d"
            ],
            [
             0.2,
             "#de77ae"
            ],
            [
             0.3,
             "#f1b6da"
            ],
            [
             0.4,
             "#fde0ef"
            ],
            [
             0.5,
             "#f7f7f7"
            ],
            [
             0.6,
             "#e6f5d0"
            ],
            [
             0.7,
             "#b8e186"
            ],
            [
             0.8,
             "#7fbc41"
            ],
            [
             0.9,
             "#4d9221"
            ],
            [
             1,
             "#276419"
            ]
           ],
           "sequential": [
            [
             0,
             "#0d0887"
            ],
            [
             0.1111111111111111,
             "#46039f"
            ],
            [
             0.2222222222222222,
             "#7201a8"
            ],
            [
             0.3333333333333333,
             "#9c179e"
            ],
            [
             0.4444444444444444,
             "#bd3786"
            ],
            [
             0.5555555555555556,
             "#d8576b"
            ],
            [
             0.6666666666666666,
             "#ed7953"
            ],
            [
             0.7777777777777778,
             "#fb9f3a"
            ],
            [
             0.8888888888888888,
             "#fdca26"
            ],
            [
             1,
             "#f0f921"
            ]
           ],
           "sequentialminus": [
            [
             0,
             "#0d0887"
            ],
            [
             0.1111111111111111,
             "#46039f"
            ],
            [
             0.2222222222222222,
             "#7201a8"
            ],
            [
             0.3333333333333333,
             "#9c179e"
            ],
            [
             0.4444444444444444,
             "#bd3786"
            ],
            [
             0.5555555555555556,
             "#d8576b"
            ],
            [
             0.6666666666666666,
             "#ed7953"
            ],
            [
             0.7777777777777778,
             "#fb9f3a"
            ],
            [
             0.8888888888888888,
             "#fdca26"
            ],
            [
             1,
             "#f0f921"
            ]
           ]
          },
          "colorway": [
           "#636efa",
           "#EF553B",
           "#00cc96",
           "#ab63fa",
           "#FFA15A",
           "#19d3f3",
           "#FF6692",
           "#B6E880",
           "#FF97FF",
           "#FECB52"
          ],
          "font": {
           "color": "#2a3f5f"
          },
          "geo": {
           "bgcolor": "white",
           "lakecolor": "white",
           "landcolor": "#E5ECF6",
           "showlakes": true,
           "showland": true,
           "subunitcolor": "white"
          },
          "hoverlabel": {
           "align": "left"
          },
          "hovermode": "closest",
          "mapbox": {
           "style": "light"
          },
          "paper_bgcolor": "white",
          "plot_bgcolor": "#E5ECF6",
          "polar": {
           "angularaxis": {
            "gridcolor": "white",
            "linecolor": "white",
            "ticks": ""
           },
           "bgcolor": "#E5ECF6",
           "radialaxis": {
            "gridcolor": "white",
            "linecolor": "white",
            "ticks": ""
           }
          },
          "scene": {
           "xaxis": {
            "backgroundcolor": "#E5ECF6",
            "gridcolor": "white",
            "gridwidth": 2,
            "linecolor": "white",
            "showbackground": true,
            "ticks": "",
            "zerolinecolor": "white"
           },
           "yaxis": {
            "backgroundcolor": "#E5ECF6",
            "gridcolor": "white",
            "gridwidth": 2,
            "linecolor": "white",
            "showbackground": true,
            "ticks": "",
            "zerolinecolor": "white"
           },
           "zaxis": {
            "backgroundcolor": "#E5ECF6",
            "gridcolor": "white",
            "gridwidth": 2,
            "linecolor": "white",
            "showbackground": true,
            "ticks": "",
            "zerolinecolor": "white"
           }
          },
          "shapedefaults": {
           "line": {
            "color": "#2a3f5f"
           }
          },
          "ternary": {
           "aaxis": {
            "gridcolor": "white",
            "linecolor": "white",
            "ticks": ""
           },
           "baxis": {
            "gridcolor": "white",
            "linecolor": "white",
            "ticks": ""
           },
           "bgcolor": "#E5ECF6",
           "caxis": {
            "gridcolor": "white",
            "linecolor": "white",
            "ticks": ""
           }
          },
          "title": {
           "x": 0.05
          },
          "xaxis": {
           "automargin": true,
           "gridcolor": "white",
           "linecolor": "white",
           "ticks": "",
           "title": {
            "standoff": 15
           },
           "zerolinecolor": "white",
           "zerolinewidth": 2
          },
          "yaxis": {
           "automargin": true,
           "gridcolor": "white",
           "linecolor": "white",
           "ticks": "",
           "title": {
            "standoff": 15
           },
           "zerolinecolor": "white",
           "zerolinewidth": 2
          }
         }
        },
        "title": {
         "text": "Média do orçamento por gênero"
        },
        "xaxis": {
         "anchor": "y",
         "domain": [
          0,
          1
         ],
         "title": {
          "text": "genre"
         }
        },
        "yaxis": {
         "anchor": "x",
         "domain": [
          0,
          1
         ],
         "title": {
          "text": "sum of mean"
         }
        }
       }
      }
     },
     "metadata": {},
     "output_type": "display_data"
    }
   ],
   "source": [
    "genre_for_budget = analise_2colunas(df['genre'], df['budget'], ['genre', 'budget'])\n",
    "genre_for_budget = genre_for_budget.groupby('genre', as_index = False).agg(mean = ('budget', 'mean'))\n",
    "\n",
    "fig = px.histogram(genre_for_budget, x = 'genre', y ='mean', \n",
    "                   color_discrete_sequence= ['#37AA9C'])\n",
    "fig.update(layout_title_text='Média do orçamento por gênero')\n",
    "fig.show()"
   ]
  },
  {
   "cell_type": "code",
   "execution_count": 133,
   "metadata": {},
   "outputs": [
    {
     "data": {
      "image/png": "[encoded data removed]",
      "text/plain": [
       "<Figure size 1600x1200 with 2 Axes>"
      ]
     },
     "metadata": {},
     "output_type": "display_data"
    }
   ],
   "source": [
    "fig, (ax1, ax2) = plt.subplots((2), figsize=(16, 12))\n",
    "create_bar(df, ax1, 'certificate', 'rating', 'median', 'Mediana das notas por classificação indicativa')\n",
    "create_bar(df, ax2, 'certificate', 'rating', 'mean', 'Media das notas por classificação indicativa')\n",
    "plt.subplots_adjust(hspace=.5)\n",
    "plt.show()"
   ]
  },
  {
   "cell_type": "code",
   "execution_count": 134,
   "metadata": {},
   "outputs": [
    {
     "data": {
      "image/png": "[encoded data removed]",
      "text/plain": [
       "<Figure size 1600x600 with 1 Axes>"
      ]
     },
     "metadata": {},
     "output_type": "display_data"
    }
   ],
   "source": [
    "fig, ax = plt.subplots(figsize=(16, 6))\n",
    "create_box(df, ax, 'year', 'rating', 'Distribuição das notas por ano de lançamento')\n",
    "plt.show()"
   ]
  },
  {
   "cell_type": "code",
   "execution_count": 135,
   "metadata": {},
   "outputs": [
    {
     "name": "stderr",
     "output_type": "stream",
     "text": [
      " 80%|████████  | 923/1151 [10:31<02:36,  1.46it/s]  \n"
     ]
    },
    {
     "data": {
      "image/png": "[encoded data removed]",
      "text/plain": [
       "<Figure size 1600x600 with 1 Axes>"
      ]
     },
     "metadata": {},
     "output_type": "display_data"
    }
   ],
   "source": [
    "fig, ax = plt.subplots(figsize=(16, 6))\n",
    "create_box(df.query('profit_classification == \"failure\"'), ax, 'year', 'rating', 'Distribuição das notas de filmes que deram prejuizo por ano de lançamento')\n",
    "plt.show()"
   ]
  },
  {
   "cell_type": "code",
   "execution_count": 136,
   "metadata": {},
   "outputs": [
    {
     "data": {
      "image/png": "[encoded data removed]",
      "text/plain": [
       "<Figure size 1600x600 with 1 Axes>"
      ]
     },
     "metadata": {},
     "output_type": "display_data"
    }
   ],
   "source": [
    "fig, ax = plt.subplots(figsize=(16, 6))\n",
    "create_box(df, ax, 'certificate', 'rating', 'Distribuição das notas por classificação indicativa')\n",
    "plt.show()"
   ]
  },
  {
   "cell_type": "code",
   "execution_count": 137,
   "metadata": {},
   "outputs": [
    {
     "data": {
      "text/plain": [
       "array(['eternity', 'medium', 'long', 'short'], dtype=object)"
      ]
     },
     "execution_count": 137,
     "metadata": {},
     "output_type": "execute_result"
    }
   ],
   "source": [
    "df.time_classification.unique()"
   ]
  },
  {
   "cell_type": "code",
   "execution_count": 138,
   "metadata": {},
   "outputs": [
    {
     "data": {
      "image/png": "[encoded data removed]",
      "text/plain": [
       "<Figure size 640x480 with 1 Axes>"
      ]
     },
     "metadata": {},
     "output_type": "display_data"
    },
    {
     "data": {
      "image/png": "[encoded data removed]",
      "text/plain": [
       "<Figure size 640x480 with 1 Axes>"
      ]
     },
     "metadata": {},
     "output_type": "display_data"
    }
   ],
   "source": [
    "colors = {'long': 'blue', 'medium': 'green', 'eternity': 'yellow'}\n",
    "for time_classification, color in colors.items():\n",
    "    plt.scatter(df[df['time_classification'] == time_classification]['budget'], df[df['time_classification'] == time_classification]['runtime'], c=color, label=time_classification)\n",
    "\n",
    "plt.xlabel('Budget (millions of dollars)')\n",
    "plt.ylabel('Runtime (minutes)')\n",
    "plt.legend()\n",
    "plt.show()\n",
    "\n",
    "plt.scatter(df['budget'], df['rating'])\n",
    "plt.xlabel('Budget (millions of dollars)')\n",
    "plt.ylabel('IMDb Rating')\n",
    "plt.show()"
   ]
  },
  {
   "cell_type": "code",
   "execution_count": 139,
   "metadata": {},
   "outputs": [
    {
     "data": {
      "image/png": "[encoded data removed]",
      "text/plain": [
       "<Figure size 800x800 with 1 Axes>"
      ]
     },
     "metadata": {},
     "output_type": "display_data"
    }
   ],
   "source": [
    "fig, ax = plt.subplots(figsize=(8, 8))\n",
    "\n",
    "df_to_scatter = df.query('profit_classification == \"gain\"').copy()\n",
    "df_to_scatter['profit_in_millions'] = df_to_scatter.profit/10_000\n",
    "create_scatter(df_to_scatter, ax, 'profit_in_millions', 'rating', 'time_classification', 'Agrupamento de filmes por duração e lucro')\n",
    "del df_to_scatter\n",
    "\n",
    "plt.show()"
   ]
  },
  {
   "cell_type": "code",
   "execution_count": 140,
   "metadata": {},
   "outputs": [
    {
     "data": {
      "image/png": "[encoded data removed]",
      "text/plain": [
       "<Figure size 640x480 with 2 Axes>"
      ]
     },
     "metadata": {},
     "output_type": "display_data"
    }
   ],
   "source": [
    "corr = df.corr(numeric_only=True)\n",
    "mask = np.triu(np.ones_like(corr, dtype=bool))\n",
    "cmap = sns.diverging_palette(230, 20, as_cmap=True)\n",
    "\n",
    "sns.heatmap(corr, mask=mask, cmap=cmap, vmax=.3, center=0,\n",
    "            square=True, linewidths=.5, cbar_kws={\"shrink\": .5})\n",
    "\n",
    "plt.show()"
   ]
  },
  {
   "cell_type": "code",
   "execution_count": 141,
   "metadata": {},
   "outputs": [
    {
     "data": {
      "text/html": [
       "<div>\n",
       "<style scoped>\n",
       "    .dataframe tbody tr th:only-of-type {\n",
       "        vertical-align: middle;\n",
       "    }\n",
       "\n",
       "    .dataframe tbody tr th {\n",
       "        vertical-align: top;\n",
       "    }\n",
       "\n",
       "    .dataframe thead th {\n",
       "        text-align: right;\n",
       "    }\n",
       "</style>\n",
       "<table border=\"1\" class=\"dataframe\">\n",
       "  <thead>\n",
       "    <tr style=\"text-align: right;\">\n",
       "      <th></th>\n",
       "      <th>rating</th>\n",
       "      <th>year</th>\n",
       "      <th>runtime</th>\n",
       "      <th>budget</th>\n",
       "      <th>income</th>\n",
       "      <th>profit</th>\n",
       "      <th>proportional_profit</th>\n",
       "      <th>budget_per_million</th>\n",
       "      <th>income_per_million</th>\n",
       "    </tr>\n",
       "  </thead>\n",
       "  <tbody>\n",
       "    <tr>\n",
       "      <th>rating</th>\n",
       "      <td>1.000000</td>\n",
       "      <td>-0.015021</td>\n",
       "      <td>0.378195</td>\n",
       "      <td>0.030098</td>\n",
       "      <td>0.183770</td>\n",
       "      <td>0.207080</td>\n",
       "      <td>0.073403</td>\n",
       "      <td>0.030098</td>\n",
       "      <td>0.183770</td>\n",
       "    </tr>\n",
       "    <tr>\n",
       "      <th>year</th>\n",
       "      <td>-0.015021</td>\n",
       "      <td>1.000000</td>\n",
       "      <td>0.117568</td>\n",
       "      <td>0.041467</td>\n",
       "      <td>0.009415</td>\n",
       "      <td>0.000662</td>\n",
       "      <td>-0.009237</td>\n",
       "      <td>0.041467</td>\n",
       "      <td>0.009415</td>\n",
       "    </tr>\n",
       "    <tr>\n",
       "      <th>runtime</th>\n",
       "      <td>0.378195</td>\n",
       "      <td>0.117568</td>\n",
       "      <td>1.000000</td>\n",
       "      <td>0.360932</td>\n",
       "      <td>0.286372</td>\n",
       "      <td>0.244452</td>\n",
       "      <td>-0.005881</td>\n",
       "      <td>0.360932</td>\n",
       "      <td>0.286372</td>\n",
       "    </tr>\n",
       "    <tr>\n",
       "      <th>budget</th>\n",
       "      <td>0.030098</td>\n",
       "      <td>0.041467</td>\n",
       "      <td>0.360932</td>\n",
       "      <td>1.000000</td>\n",
       "      <td>0.731249</td>\n",
       "      <td>0.604683</td>\n",
       "      <td>-0.024159</td>\n",
       "      <td>1.000000</td>\n",
       "      <td>0.731249</td>\n",
       "    </tr>\n",
       "    <tr>\n",
       "      <th>income</th>\n",
       "      <td>0.183770</td>\n",
       "      <td>0.009415</td>\n",
       "      <td>0.286372</td>\n",
       "      <td>0.731249</td>\n",
       "      <td>1.000000</td>\n",
       "      <td>0.985452</td>\n",
       "      <td>-0.008119</td>\n",
       "      <td>0.731249</td>\n",
       "      <td>1.000000</td>\n",
       "    </tr>\n",
       "    <tr>\n",
       "      <th>profit</th>\n",
       "      <td>0.207080</td>\n",
       "      <td>0.000662</td>\n",
       "      <td>0.244452</td>\n",
       "      <td>0.604683</td>\n",
       "      <td>0.985452</td>\n",
       "      <td>1.000000</td>\n",
       "      <td>-0.003461</td>\n",
       "      <td>0.604683</td>\n",
       "      <td>0.985452</td>\n",
       "    </tr>\n",
       "    <tr>\n",
       "      <th>proportional_profit</th>\n",
       "      <td>0.073403</td>\n",
       "      <td>-0.009237</td>\n",
       "      <td>-0.005881</td>\n",
       "      <td>-0.024159</td>\n",
       "      <td>-0.008119</td>\n",
       "      <td>-0.003461</td>\n",
       "      <td>1.000000</td>\n",
       "      <td>-0.024159</td>\n",
       "      <td>-0.008119</td>\n",
       "    </tr>\n",
       "    <tr>\n",
       "      <th>budget_per_million</th>\n",
       "      <td>0.030098</td>\n",
       "      <td>0.041467</td>\n",
       "      <td>0.360932</td>\n",
       "      <td>1.000000</td>\n",
       "      <td>0.731249</td>\n",
       "      <td>0.604683</td>\n",
       "      <td>-0.024159</td>\n",
       "      <td>1.000000</td>\n",
       "      <td>0.731249</td>\n",
       "    </tr>\n",
       "    <tr>\n",
       "      <th>income_per_million</th>\n",
       "      <td>0.183770</td>\n",
       "      <td>0.009415</td>\n",
       "      <td>0.286372</td>\n",
       "      <td>0.731249</td>\n",
       "      <td>1.000000</td>\n",
       "      <td>0.985452</td>\n",
       "      <td>-0.008119</td>\n",
       "      <td>0.731249</td>\n",
       "      <td>1.000000</td>\n",
       "    </tr>\n",
       "  </tbody>\n",
       "</table>\n",
       "</div>"
      ],
      "text/plain": [
       "                       rating      year   runtime    budget    income  \\\n",
       "rating               1.000000 -0.015021  0.378195  0.030098  0.183770   \n",
       "year                -0.015021  1.000000  0.117568  0.041467  0.009415   \n",
       "runtime              0.378195  0.117568  1.000000  0.360932  0.286372   \n",
       "budget               0.030098  0.041467  0.360932  1.000000  0.731249   \n",
       "income               0.183770  0.009415  0.286372  0.731249  1.000000   \n",
       "profit               0.207080  0.000662  0.244452  0.604683  0.985452   \n",
       "proportional_profit  0.073403 -0.009237 -0.005881 -0.024159 -0.008119   \n",
       "budget_per_million   0.030098  0.041467  0.360932  1.000000  0.731249   \n",
       "income_per_million   0.183770  0.009415  0.286372  0.731249  1.000000   \n",
       "\n",
       "                       profit  proportional_profit  budget_per_million  \\\n",
       "rating               0.207080             0.073403            0.030098   \n",
       "year                 0.000662            -0.009237            0.041467   \n",
       "runtime              0.244452            -0.005881            0.360932   \n",
       "budget               0.604683            -0.024159            1.000000   \n",
       "income               0.985452            -0.008119            0.731249   \n",
       "profit               1.000000            -0.003461            0.604683   \n",
       "proportional_profit -0.003461             1.000000           -0.024159   \n",
       "budget_per_million   0.604683            -0.024159            1.000000   \n",
       "income_per_million   0.985452            -0.008119            0.731249   \n",
       "\n",
       "                     income_per_million  \n",
       "rating                         0.183770  \n",
       "year                           0.009415  \n",
       "runtime                        0.286372  \n",
       "budget                         0.731249  \n",
       "income                         1.000000  \n",
       "profit                         0.985452  \n",
       "proportional_profit           -0.008119  \n",
       "budget_per_million             0.731249  \n",
       "income_per_million             1.000000  "
      ]
     },
     "execution_count": 141,
     "metadata": {},
     "output_type": "execute_result"
    }
   ],
   "source": [
    "corr"
   ]
  },
  {
   "attachments": {},
   "cell_type": "markdown",
   "metadata": {},
   "source": [
    "## Georef"
   ]
  },
  {
   "cell_type": "code",
   "execution_count": 142,
   "metadata": {},
   "outputs": [
    {
     "data": {
      "text/html": [
       "<div>\n",
       "<style scoped>\n",
       "    .dataframe tbody tr th:only-of-type {\n",
       "        vertical-align: middle;\n",
       "    }\n",
       "\n",
       "    .dataframe tbody tr th {\n",
       "        vertical-align: top;\n",
       "    }\n",
       "\n",
       "    .dataframe thead th {\n",
       "        text-align: right;\n",
       "    }\n",
       "</style>\n",
       "<table border=\"1\" class=\"dataframe\">\n",
       "  <thead>\n",
       "    <tr style=\"text-align: right;\">\n",
       "      <th></th>\n",
       "      <th>country</th>\n",
       "      <th>country_code</th>\n",
       "      <th>geometry</th>\n",
       "    </tr>\n",
       "  </thead>\n",
       "  <tbody>\n",
       "    <tr>\n",
       "      <th>0</th>\n",
       "      <td>Fiji</td>\n",
       "      <td>FJI</td>\n",
       "      <td>MULTIPOLYGON (((180.00000 -16.06713, 180.00000...</td>\n",
       "    </tr>\n",
       "    <tr>\n",
       "      <th>1</th>\n",
       "      <td>United Republic of Tanzania</td>\n",
       "      <td>TZA</td>\n",
       "      <td>POLYGON ((33.90371 -0.95000, 34.07262 -1.05982...</td>\n",
       "    </tr>\n",
       "    <tr>\n",
       "      <th>2</th>\n",
       "      <td>Western Sahara</td>\n",
       "      <td>SAH</td>\n",
       "      <td>POLYGON ((-8.66559 27.65643, -8.66512 27.58948...</td>\n",
       "    </tr>\n",
       "    <tr>\n",
       "      <th>3</th>\n",
       "      <td>Canada</td>\n",
       "      <td>CAN</td>\n",
       "      <td>MULTIPOLYGON (((-122.84000 49.00000, -122.9742...</td>\n",
       "    </tr>\n",
       "    <tr>\n",
       "      <th>4</th>\n",
       "      <td>United States of America</td>\n",
       "      <td>USA</td>\n",
       "      <td>MULTIPOLYGON (((-122.84000 49.00000, -120.0000...</td>\n",
       "    </tr>\n",
       "  </tbody>\n",
       "</table>\n",
       "</div>"
      ],
      "text/plain": [
       "                       country country_code  \\\n",
       "0                         Fiji          FJI   \n",
       "1  United Republic of Tanzania          TZA   \n",
       "2               Western Sahara          SAH   \n",
       "3                       Canada          CAN   \n",
       "4     United States of America          USA   \n",
       "\n",
       "                                            geometry  \n",
       "0  MULTIPOLYGON (((180.00000 -16.06713, 180.00000...  \n",
       "1  POLYGON ((33.90371 -0.95000, 34.07262 -1.05982...  \n",
       "2  POLYGON ((-8.66559 27.65643, -8.66512 27.58948...  \n",
       "3  MULTIPOLYGON (((-122.84000 49.00000, -122.9742...  \n",
       "4  MULTIPOLYGON (((-122.84000 49.00000, -120.0000...  "
      ]
     },
     "execution_count": 142,
     "metadata": {},
     "output_type": "execute_result"
    }
   ],
   "source": [
    "gdf = gpd.read_file('../datasets/georef/world_countries.shp')[['ADMIN', 'ADM0_A3', 'geometry']]\n",
    "gdf.columns = ['country', 'country_code', 'geometry']\n",
    "gdf.head()"
   ]
  },
  {
   "cell_type": "code",
   "execution_count": 143,
   "metadata": {},
   "outputs": [
    {
     "data": {
      "text/html": [
       "<div>\n",
       "<style scoped>\n",
       "    .dataframe tbody tr th:only-of-type {\n",
       "        vertical-align: middle;\n",
       "    }\n",
       "\n",
       "    .dataframe tbody tr th {\n",
       "        vertical-align: top;\n",
       "    }\n",
       "\n",
       "    .dataframe thead th {\n",
       "        text-align: right;\n",
       "    }\n",
       "</style>\n",
       "<table border=\"1\" class=\"dataframe\">\n",
       "  <thead>\n",
       "    <tr style=\"text-align: right;\">\n",
       "      <th></th>\n",
       "      <th>country</th>\n",
       "      <th>mean</th>\n",
       "    </tr>\n",
       "  </thead>\n",
       "  <tbody>\n",
       "    <tr>\n",
       "      <th>0</th>\n",
       "      <td>Argentina</td>\n",
       "      <td>7.633333</td>\n",
       "    </tr>\n",
       "    <tr>\n",
       "      <th>1</th>\n",
       "      <td>Australia</td>\n",
       "      <td>6.625000</td>\n",
       "    </tr>\n",
       "    <tr>\n",
       "      <th>2</th>\n",
       "      <td>Austria</td>\n",
       "      <td>6.600000</td>\n",
       "    </tr>\n",
       "    <tr>\n",
       "      <th>3</th>\n",
       "      <td>Bahamas</td>\n",
       "      <td>8.000000</td>\n",
       "    </tr>\n",
       "    <tr>\n",
       "      <th>4</th>\n",
       "      <td>Belgium</td>\n",
       "      <td>6.792593</td>\n",
       "    </tr>\n",
       "  </tbody>\n",
       "</table>\n",
       "</div>"
      ],
      "text/plain": [
       "     country      mean\n",
       "0  Argentina  7.633333\n",
       "1  Australia  6.625000\n",
       "2    Austria  6.600000\n",
       "3    Bahamas  8.000000\n",
       "4    Belgium  6.792593"
      ]
     },
     "execution_count": 143,
     "metadata": {},
     "output_type": "execute_result"
    }
   ],
   "source": [
    "rating = analise_2colunas(df['country_of_origin'], df['rating'], ['country', 'rating'])\n",
    "rating = rating.groupby(['country'], as_index = False).agg(mean = ('rating', 'mean'))\n",
    "rating.loc[rating['country'] == 'United States',  'country'] = 'United States of America'\n",
    "rating.head()"
   ]
  },
  {
   "cell_type": "code",
   "execution_count": 144,
   "metadata": {},
   "outputs": [
    {
     "data": {
      "text/html": [
       "<div>\n",
       "<style scoped>\n",
       "    .dataframe tbody tr th:only-of-type {\n",
       "        vertical-align: middle;\n",
       "    }\n",
       "\n",
       "    .dataframe tbody tr th {\n",
       "        vertical-align: top;\n",
       "    }\n",
       "\n",
       "    .dataframe thead th {\n",
       "        text-align: right;\n",
       "    }\n",
       "</style>\n",
       "<table border=\"1\" class=\"dataframe\">\n",
       "  <thead>\n",
       "    <tr style=\"text-align: right;\">\n",
       "      <th></th>\n",
       "      <th>country</th>\n",
       "      <th>country_code</th>\n",
       "      <th>geometry</th>\n",
       "      <th>mean</th>\n",
       "    </tr>\n",
       "  </thead>\n",
       "  <tbody>\n",
       "    <tr>\n",
       "      <th>0</th>\n",
       "      <td>Canada</td>\n",
       "      <td>CAN</td>\n",
       "      <td>MULTIPOLYGON (((-122.84000 49.00000, -122.9742...</td>\n",
       "      <td>6.508756</td>\n",
       "    </tr>\n",
       "    <tr>\n",
       "      <th>1</th>\n",
       "      <td>United States of America</td>\n",
       "      <td>USA</td>\n",
       "      <td>MULTIPOLYGON (((-122.84000 49.00000, -120.0000...</td>\n",
       "      <td>6.637052</td>\n",
       "    </tr>\n",
       "    <tr>\n",
       "      <th>2</th>\n",
       "      <td>Indonesia</td>\n",
       "      <td>IDN</td>\n",
       "      <td>MULTIPOLYGON (((141.00021 -2.60015, 141.01706 ...</td>\n",
       "      <td>6.850000</td>\n",
       "    </tr>\n",
       "    <tr>\n",
       "      <th>3</th>\n",
       "      <td>Argentina</td>\n",
       "      <td>ARG</td>\n",
       "      <td>MULTIPOLYGON (((-68.63401 -52.63637, -68.25000...</td>\n",
       "      <td>7.633333</td>\n",
       "    </tr>\n",
       "    <tr>\n",
       "      <th>4</th>\n",
       "      <td>Chile</td>\n",
       "      <td>CHL</td>\n",
       "      <td>MULTIPOLYGON (((-68.63401 -52.63637, -68.63335...</td>\n",
       "      <td>5.750000</td>\n",
       "    </tr>\n",
       "  </tbody>\n",
       "</table>\n",
       "</div>"
      ],
      "text/plain": [
       "                    country country_code  \\\n",
       "0                    Canada          CAN   \n",
       "1  United States of America          USA   \n",
       "2                 Indonesia          IDN   \n",
       "3                 Argentina          ARG   \n",
       "4                     Chile          CHL   \n",
       "\n",
       "                                            geometry      mean  \n",
       "0  MULTIPOLYGON (((-122.84000 49.00000, -122.9742...  6.508756  \n",
       "1  MULTIPOLYGON (((-122.84000 49.00000, -120.0000...  6.637052  \n",
       "2  MULTIPOLYGON (((141.00021 -2.60015, 141.01706 ...  6.850000  \n",
       "3  MULTIPOLYGON (((-68.63401 -52.63637, -68.25000...  7.633333  \n",
       "4  MULTIPOLYGON (((-68.63401 -52.63637, -68.63335...  5.750000  "
      ]
     },
     "execution_count": 144,
     "metadata": {},
     "output_type": "execute_result"
    }
   ],
   "source": [
    "merged = gdf.merge(rating, on = 'country')\n",
    "merged_json = json.loads(merged.to_json())\n",
    "json_data = json.dumps(merged_json)\n",
    "merged.head()"
   ]
  },
  {
   "cell_type": "code",
   "execution_count": 145,
   "metadata": {},
   "outputs": [
    {
     "data": {
      "text/html": [
       "<style>\n",
       "        .bk-notebook-logo {\n",
       "            display: block;\n",
       "            width: 20px;\n",
       "            height: 20px;\n",
       "            background-image: url(data:image/png;base64,iVBORw0KGgoAAAANSUhEUgAAABQAAAAUCAYAAACNiR0NAAAABHNCSVQICAgIfAhkiAAAAAlwSFlzAAALEgAACxIB0t1+/AAAABx0RVh0U29mdHdhcmUAQWRvYmUgRmlyZXdvcmtzIENTNui8sowAAAOkSURBVDiNjZRtaJVlGMd/1/08zzln5zjP1LWcU9N0NkN8m2CYjpgQYQXqSs0I84OLIC0hkEKoPtiH3gmKoiJDU7QpLgoLjLIQCpEsNJ1vqUOdO7ppbuec5+V+rj4ctwzd8IIbbi6u+8f1539dt3A78eXC7QizUF7gyV1fD1Yqg4JWz84yffhm0qkFqBogB9rM8tZdtwVsPUhWhGcFJngGeWrPzHm5oaMmkfEg1usvLFyc8jLRqDOMru7AyC8saQr7GG7f5fvDeH7Ej8CM66nIF+8yngt6HWaKh7k49Soy9nXurCi1o3qUbS3zWfrYeQDTB/Qj6kX6Ybhw4B+bOYoLKCC9H3Nu/leUTZ1JdRWkkn2ldcCamzrcf47KKXdAJllSlxAOkRgyHsGC/zRday5Qld9DyoM4/q/rUoy/CXh3jzOu3bHUVZeU+DEn8FInkPBFlu3+nW3Nw0mk6vCDiWg8CeJaxEwuHS3+z5RgY+YBR6V1Z1nxSOfoaPa4LASWxxdNp+VWTk7+4vzaou8v8PN+xo+KY2xsw6une2frhw05CTYOmQvsEhjhWjn0bmXPjpE1+kplmmkP3suftwTubK9Vq22qKmrBhpY4jvd5afdRA3wGjFAgcnTK2s4hY0/GPNIb0nErGMCRxWOOX64Z8RAC4oCXdklmEvcL8o0BfkNK4lUg9HTl+oPlQxdNo3Mg4Nv175e/1LDGzZen30MEjRUtmXSfiTVu1kK8W4txyV6BMKlbgk3lMwYCiusNy9fVfvvwMxv8Ynl6vxoByANLTWplvuj/nF9m2+PDtt1eiHPBr1oIfhCChQMBw6Aw0UulqTKZdfVvfG7VcfIqLG9bcldL/+pdWTLxLUy8Qq38heUIjh4XlzZxzQm19lLFlr8vdQ97rjZVOLf8nclzckbcD4wxXMidpX30sFd37Fv/GtwwhzhxGVAprjbg0gCAEeIgwCZyTV2Z1REEW8O4py0wsjeloKoMr6iCY6dP92H6Vw/oTyICIthibxjm/DfN9lVz8IqtqKYLUXfoKVMVQVVJOElGjrnnUt9T9wbgp8AyYKaGlqingHZU/uG2NTZSVqwHQTWkx9hxjkpWDaCg6Ckj5qebgBVbT3V3NNXMSiWSDdGV3hrtzla7J+duwPOToIg42ChPQOQjspnSlp1V+Gjdged7+8UN5CRAV7a5EdFNwCjEaBR27b3W890TE7g24NAP/mMDXRWrGoFPQI9ls/MWO2dWFAar/xcOIImbbpA3zgAAAABJRU5ErkJggg==);\n",
       "        }\n",
       "    </style>\n",
       "    <div>\n",
       "        <a href=\"https://bokeh.org\" target=\"_blank\" class=\"bk-notebook-logo\"></a>\n",
       "        <span id=\"p1063\">Loading BokehJS ...</span>\n",
       "    </div>\n"
      ]
     },
     "metadata": {},
     "output_type": "display_data"
    },
    {
     "data": {
      "application/javascript": "(function(root) {\n  function now() {\n    return new Date();\n  }\n\n  const force = true;\n\n  if (typeof root._bokeh_onload_callbacks === \"undefined\" || force === true) {\n    root._bokeh_onload_callbacks = [];\n    root._bokeh_is_loading = undefined;\n  }\n\nconst JS_MIME_TYPE = 'application/javascript';\n  const HTML_MIME_TYPE = 'text/html';\n  const EXEC_MIME_TYPE = 'application/vnd.bokehjs_exec.v0+json';\n  const CLASS_NAME = 'output_bokeh rendered_html';\n\n  /**\n   * Render data to the DOM node\n   */\n  function render(props, node) {\n    const script = document.createElement(\"script\");\n    node.appendChild(script);\n  }\n\n  /**\n   * Handle when an output is cleared or removed\n   */\n  function handleClearOutput(event, handle) {\n    const cell = handle.cell;\n\n    const id = cell.output_area._bokeh_element_id;\n    const server_id = cell.output_area._bokeh_server_id;\n    // Clean up Bokeh references\n    if (id != null && id in Bokeh.index) {\n      Bokeh.index[id].model.document.clear();\n      delete Bokeh.index[id];\n    }\n\n    if (server_id !== undefined) {\n      // Clean up Bokeh references\n      const cmd_clean = \"from bokeh.io.state import curstate; print(curstate().uuid_to_server['\" + server_id + \"'].get_sessions()[0].document.roots[0]._id)\";\n      cell.notebook.kernel.execute(cmd_clean, {\n        iopub: {\n          output: function(msg) {\n            const id = msg.content.text.trim();\n            if (id in Bokeh.index) {\n              Bokeh.index[id].model.document.clear();\n              delete Bokeh.index[id];\n            }\n          }\n        }\n      });\n      // Destroy server and session\n      const cmd_destroy = \"import bokeh.io.notebook as ion; ion.destroy_server('\" + server_id + \"')\";\n      cell.notebook.kernel.execute(cmd_destroy);\n    }\n  }\n\n  /**\n   * Handle when a new output is added\n   */\n  function handleAddOutput(event, handle) {\n    const output_area = handle.output_area;\n    const output = handle.output;\n\n    // limit handleAddOutput to display_data with EXEC_MIME_TYPE content only\n    if ((output.output_type != \"display_data\") || (!Object.prototype.hasOwnProperty.call(output.data, EXEC_MIME_TYPE))) {\n      return\n    }\n\n    const toinsert = output_area.element.find(\".\" + CLASS_NAME.split(' ')[0]);\n\n    if (output.metadata[EXEC_MIME_TYPE][\"id\"] !== undefined) {\n      toinsert[toinsert.length - 1].firstChild.textContent = output.data[JS_MIME_TYPE];\n      // store reference to embed id on output_area\n      output_area._bokeh_element_id = output.metadata[EXEC_MIME_TYPE][\"id\"];\n    }\n    if (output.metadata[EXEC_MIME_TYPE][\"server_id\"] !== undefined) {\n      const bk_div = document.createElement(\"div\");\n      bk_div.innerHTML = output.data[HTML_MIME_TYPE];\n      const script_attrs = bk_div.children[0].attributes;\n      for (let i = 0; i < script_attrs.length; i++) {\n        toinsert[toinsert.length - 1].firstChild.setAttribute(script_attrs[i].name, script_attrs[i].value);\n        toinsert[toinsert.length - 1].firstChild.textContent = bk_div.children[0].textContent\n      }\n      // store reference to server id on output_area\n      output_area._bokeh_server_id = output.metadata[EXEC_MIME_TYPE][\"server_id\"];\n    }\n  }\n\n  function register_renderer(events, OutputArea) {\n\n    function append_mime(data, metadata, element) {\n      // create a DOM node to render to\n      const toinsert = this.create_output_subarea(\n        metadata,\n        CLASS_NAME,\n        EXEC_MIME_TYPE\n      );\n      this.keyboard_manager.register_events(toinsert);\n      // Render to node\n      const props = {data: data, metadata: metadata[EXEC_MIME_TYPE]};\n      render(props, toinsert[toinsert.length - 1]);\n      element.append(toinsert);\n      return toinsert\n    }\n\n    /* Handle when an output is cleared or removed */\n    events.on('clear_output.CodeCell', handleClearOutput);\n    events.on('delete.Cell', handleClearOutput);\n\n    /* Handle when a new output is added */\n    events.on('output_added.OutputArea', handleAddOutput);\n\n    /**\n     * Register the mime type and append_mime function with output_area\n     */\n    OutputArea.prototype.register_mime_type(EXEC_MIME_TYPE, append_mime, {\n      /* Is output safe? */\n      safe: true,\n      /* Index of renderer in `output_area.display_order` */\n      index: 0\n    });\n  }\n\n  // register the mime type if in Jupyter Notebook environment and previously unregistered\n  if (root.Jupyter !== undefined) {\n    const events = require('base/js/events');\n    const OutputArea = require('notebook/js/outputarea').OutputArea;\n\n    if (OutputArea.prototype.mime_types().indexOf(EXEC_MIME_TYPE) == -1) {\n      register_renderer(events, OutputArea);\n    }\n  }\n  if (typeof (root._bokeh_timeout) === \"undefined\" || force === true) {\n    root._bokeh_timeout = Date.now() + 5000;\n    root._bokeh_failed_load = false;\n  }\n\n  const NB_LOAD_WARNING = {'data': {'text/html':\n     \"<div style='background-color: #fdd'>\\n\"+\n     \"<p>\\n\"+\n     \"BokehJS does not appear to have successfully loaded. If loading BokehJS from CDN, this \\n\"+\n     \"may be due to a slow or bad network connection. Possible fixes:\\n\"+\n     \"</p>\\n\"+\n     \"<ul>\\n\"+\n     \"<li>re-rerun `output_notebook()` to attempt to load from CDN again, or</li>\\n\"+\n     \"<li>use INLINE resources instead, as so:</li>\\n\"+\n     \"</ul>\\n\"+\n     \"<code>\\n\"+\n     \"from bokeh.resources import INLINE\\n\"+\n     \"output_notebook(resources=INLINE)\\n\"+\n     \"</code>\\n\"+\n     \"</div>\"}};\n\n  function display_loaded() {\n    const el = document.getElementById(\"p1063\");\n    if (el != null) {\n      el.textContent = \"BokehJS is loading...\";\n    }\n    if (root.Bokeh !== undefined) {\n      if (el != null) {\n        el.textContent = \"BokehJS \" + root.Bokeh.version + \" successfully loaded.\";\n      }\n    } else if (Date.now() < root._bokeh_timeout) {\n      setTimeout(display_loaded, 100)\n    }\n  }\n\n  function run_callbacks() {\n    try {\n      root._bokeh_onload_callbacks.forEach(function(callback) {\n        if (callback != null)\n          callback();\n      });\n    } finally {\n      delete root._bokeh_onload_callbacks\n    }\n    console.debug(\"Bokeh: all callbacks have finished\");\n  }\n\n  function load_libs(css_urls, js_urls, callback) {\n    if (css_urls == null) css_urls = [];\n    if (js_urls == null) js_urls = [];\n\n    root._bokeh_onload_callbacks.push(callback);\n    if (root._bokeh_is_loading > 0) {\n      console.debug(\"Bokeh: BokehJS is being loaded, scheduling callback at\", now());\n      return null;\n    }\n    if (js_urls == null || js_urls.length === 0) {\n      run_callbacks();\n      return null;\n    }\n    console.debug(\"Bokeh: BokehJS not loaded, scheduling load and callback at\", now());\n    root._bokeh_is_loading = css_urls.length + js_urls.length;\n\n    function on_load() {\n      root._bokeh_is_loading--;\n      if (root._bokeh_is_loading === 0) {\n        console.debug(\"Bokeh: all BokehJS libraries/stylesheets loaded\");\n        run_callbacks()\n      }\n    }\n\n    function on_error(url) {\n      console.error(\"failed to load \" + url);\n    }\n\n    for (let i = 0; i < css_urls.length; i++) {\n      const url = css_urls[i];\n      const element = document.createElement(\"link\");\n      element.onload = on_load;\n      element.onerror = on_error.bind(null, url);\n      element.rel = \"stylesheet\";\n      element.type = \"text/css\";\n      element.href = url;\n      console.debug(\"Bokeh: injecting link tag for BokehJS stylesheet: \", url);\n      document.body.appendChild(element);\n    }\n\n    for (let i = 0; i < js_urls.length; i++) {\n      const url = js_urls[i];\n      const element = document.createElement('script');\n      element.onload = on_load;\n      element.onerror = on_error.bind(null, url);\n      element.async = false;\n      element.src = url;\n      console.debug(\"Bokeh: injecting script tag for BokehJS library: \", url);\n      document.head.appendChild(element);\n    }\n  };\n\n  function inject_raw_css(css) {\n    const element = document.createElement(\"style\");\n    element.appendChild(document.createTextNode(css));\n    document.body.appendChild(element);\n  }\n\n  const js_urls = [\"https://cdn.bokeh.org/bokeh/release/bokeh-3.0.3.min.js\", \"https://cdn.bokeh.org/bokeh/release/bokeh-gl-3.0.3.min.js\", \"https://cdn.bokeh.org/bokeh/release/bokeh-widgets-3.0.3.min.js\", \"https://cdn.bokeh.org/bokeh/release/bokeh-tables-3.0.3.min.js\", \"https://cdn.bokeh.org/bokeh/release/bokeh-mathjax-3.0.3.min.js\"];\n  const css_urls = [];\n\n  const inline_js = [    function(Bokeh) {\n      Bokeh.set_log_level(\"info\");\n    },\nfunction(Bokeh) {\n    }\n  ];\n\n  function run_inline_js() {\n    if (root.Bokeh !== undefined || force === true) {\n          for (let i = 0; i < inline_js.length; i++) {\n      inline_js[i].call(root, root.Bokeh);\n    }\nif (force === true) {\n        display_loaded();\n      }} else if (Date.now() < root._bokeh_timeout) {\n      setTimeout(run_inline_js, 100);\n    } else if (!root._bokeh_failed_load) {\n      console.log(\"Bokeh: BokehJS failed to load within specified timeout.\");\n      root._bokeh_failed_load = true;\n    } else if (force !== true) {\n      const cell = $(document.getElementById(\"p1063\")).parents('.cell').data().cell;\n      cell.output_area.append_execute_result(NB_LOAD_WARNING)\n    }\n  }\n\n  if (root._bokeh_is_loading === 0) {\n    console.debug(\"Bokeh: BokehJS loaded, going straight to plotting\");\n    run_inline_js();\n  } else {\n    load_libs(css_urls, js_urls, function() {\n      console.debug(\"Bokeh: BokehJS plotting callback run at\", now());\n      run_inline_js();\n    });\n  }\n}(window));",
      "application/vnd.bokehjs_load.v0+json": ""
     },
     "metadata": {},
     "output_type": "display_data"
    },
    {
     "data": {
      "text/html": [
       "\n",
       "  <div id=\"54075139-9ff0-4a64-99c8-8e498cfe5afc\" data-root-id=\"p1007\" style=\"display: contents;\"></div>\n"
      ]
     },
     "metadata": {},
     "output_type": "display_data"
    },
    {
     "data": {
      "application/javascript": "(function(root) {\n  function embed_document(root) {\n  const docs_json = {\"4267f53b-930a-40f6-ba3e-e009b715265f\":{\"version\":\"3.0.3\",\"title\":\"Bokeh Application\",\"defs\":[],\"roots\":[{\"type\":\"object\",\"name\":\"Figure\",\"id\":\"p1007\",\"attributes\":{\"width\":850,\"height\":450,\"x_range\":{\"type\":\"object\",\"name\":\"DataRange1d\",\"id\":\"p1009\"},\"y_range\":{\"type\":\"object\",\"name\":\"DataRange1d\",\"id\":\"p1008\"},\"x_scale\":{\"type\":\"object\",\"name\":\"LinearScale\",\"id\":\"p1021\"},\"y_scale\":{\"type\":\"object\",\"name\":\"LinearScale\",\"id\":\"p1023\"},\"title\":{\"type\":\"object\",\"name\":\"Title\",\"id\":\"p1010\",\"attributes\":{\"text\":\"M\\u00e9dia das avalia\\u00e7\\u00f5es de acordo com os pa\\u00edses de origem\"}},\"renderers\":[{\"type\":\"object\",\"name\":\"GlyphRenderer\",\"id\":\"p1060\",\"attributes\":{\"data_source\":{\"type\":\"object\",\"name\":\"GeoJSONDataSource\",\"id\":\"p1001\",\"attributes\":{\"selected\":{\"type\":\"object\",\"name\":\"Selection\",\"id\":\"p1002\",\"attributes\":{\"indices\":[],\"line_indices\":[]}},\"selection_policy\":{\"type\":\"object\",\"name\":\"UnionRenderers\",\"id\":\"p1003\"},\"geojson\":\"{\\\"type\\\": \\\"FeatureCollection\\\", \\\"features\\\": [{\\\"id\\\": \\\"0\\\", \\\"type\\\": \\\"Feature\\\", \\\"properties\\\": {\\\"country\\\": \\\"Canada\\\", \\\"country_code\\\": \\\"CAN\\\", \\\"mean\\\": 6.508755760368664}, \\\"geometry\\\": {\\\"type\\\": \\\"MultiPolygon\\\", \\\"coordinates\\\": [[[[-122.84000000000003, 49.000000000000114], [-122.97421000000001, 49.00253777777778], [-124.91024, 49.98456], [-125.62461, 50.416560000000004], [-127.43561000000001, 50.83061], [-127.99276, 51.71583], [-127.85032, 52.32961], [-129.12979, 52.75538], [-129.30523, 53.561589999999995], [-130.51497, 54.28757], [-130.53610895273684, 54.80275447679924], [-130.53611, 54.802780000000006], [-129.98, 55.285000000000004], [-130.00778000000003, 55.915830000000085], [-131.70781, 56.55212], [-132.73042, 57.692890000000006], [-133.35556000000003, 58.41028000000001], [-134.27111000000002, 58.86111000000005], [-134.94500000000005, 59.2705600000001], [-135.47583, 59.787780000000005], [-136.47972000000004, 59.46389000000005], [-137.4525, 58.905], [-138.34089, 59.562110000000004], [-139.03900000000002, 60.0], [-140.013, 60.27682000000001], [-140.99778, 60.30639000000001], [-140.9925, 66.00003000000001], [-140.986, 69.712], [-140.98598761037601, 69.71199839952635], [-139.12052, 69.47102], [-137.54636000000002, 68.99002], [-136.50358, 68.89804], [-135.62576, 69.31512000000001], [-134.41464000000002, 69.62743], [-132.92925000000002, 69.50534], [-131.43135999999998, 69.94451], [-129.79471, 70.19369], [-129.10773, 69.77927000000001], [-128.36156, 70.01286], [-128.13817, 70.48384], [-127.44712000000001, 70.37721], [-125.75632000000002, 69.48058], [-124.42483, 70.1584], [-124.28968, 69.39968999999999], [-123.06108, 69.56372], [-122.6835, 69.85553], [-121.47226, 69.79778], [-119.94288, 69.37786], [-117.60268, 69.01128], [-116.22643, 68.84151], [-115.24690000000001, 68.90591], [-113.89793999999999, 68.3989], [-115.30489, 67.90261000000001], [-113.49727, 67.68815000000001], [-110.798, 67.80611999999999], [-109.94619, 67.98104000000001], [-108.8802, 67.38144], [-107.79239, 67.88736], [-108.81299, 68.31164], [-108.16721000000001, 68.65392], [-106.95, 68.7], [-106.15, 68.8], [-105.34282000000002, 68.56122], [-104.33791000000001, 68.018], [-103.22115000000001, 68.09775], [-101.45433, 67.64689], [-99.90195, 67.80566], [-98.4432, 67.78165], [-98.5586, 68.40394], [-97.66948000000001, 68.57864000000001], [-96.11991, 68.23939], [-96.12588, 67.29338], [-95.48943, 68.0907], [-94.685, 68.06383], [-94.23282000000002, 69.06903000000001], [-95.30408, 69.68571], [-96.47131, 70.08976], [-96.39115, 71.19482], [-95.2088, 71.92053], [-93.88997, 71.76015], [-92.87818, 71.31869], [-91.51964000000001, 70.19129000000001], [-92.40692000000001, 69.69997000000001], [-90.5471, 69.49766], [-90.55151000000001, 68.47499], [-89.21515, 69.25873], [-88.01966, 68.61508], [-88.31748999999999, 67.87338000000001], [-87.35017, 67.19872], [-86.30606999999999, 67.92146], [-85.57664, 68.78456], [-85.52197, 69.88211], [-84.10081000000001, 69.80539], [-82.62258, 69.65826], [-81.28043000000001, 69.16202000000001], [-81.22019999999999, 68.66567], [-81.96436000000001, 68.13253], [-81.25928, 67.59716], [-81.38653000000001, 67.11078], [-83.34456, 66.41154], [-84.73542, 66.2573], [-85.76943, 66.55833], [-86.06760000000001, 66.05625], [-87.03143, 65.21297], [-87.32324, 64.77563], [-88.48296, 64.09897000000001], [-89.91444, 64.03273], [-90.70398, 63.610170000000004], [-90.77004000000001, 62.960210000000004], [-91.93342, 62.83508], [-93.15698, 62.02469000000001], [-94.24153, 60.89865], [-94.62930999999999, 60.11021], [-94.6846, 58.94882], [-93.21502000000001, 58.78212], [-92.76462000000001, 57.84571], [-92.29702999999999, 57.08709], [-90.89769, 57.28468], [-89.03953, 56.85172], [-88.03978000000001, 56.47162], [-87.32421, 55.999140000000004], [-86.07121, 55.72383], [-85.01181000000001, 55.302600000000005], [-83.36055, 55.24489], [-82.27285, 55.14832], [-82.43620000000001, 54.282270000000004], [-82.12502, 53.27703], [-81.40075, 52.157880000000006], [-79.91289, 51.208420000000004], [-79.14301, 51.533930000000005], [-78.60191, 52.56208], [-79.12421, 54.14145], [-79.82958, 54.66772], [-78.22874, 55.136449999999996], [-77.0956, 55.83741], [-76.54137, 56.53423000000001], [-76.62319000000001, 57.20263], [-77.30226, 58.05209], [-78.51688, 58.80458], [-77.33676, 59.852610000000006], [-77.77272, 60.75788000000001], [-78.10687, 62.31964000000001], [-77.41067, 62.55053], [-75.69621000000001, 62.2784], [-74.6682, 62.181110000000004], [-73.83988000000001, 62.4438], [-72.90853, 62.10507], [-71.67708, 61.52535], [-71.37369000000001, 61.137170000000005], [-69.59042, 61.06141], [-69.62033, 60.221250000000005], [-69.28790000000001, 58.95736], [-68.37455, 58.80106], [-67.64976, 58.21206], [-66.20178, 58.76731], [-65.24517, 59.87071], [-64.58352000000001, 60.33558], [-63.804750000000006, 59.442600000000006], [-62.502359999999996, 58.16708], [-61.396550000000005, 56.96745000000001], [-61.798660000000005, 56.33945], [-60.46853, 55.775479999999995], [-59.56962, 55.20407], [-57.97508, 54.94549000000001], [-57.3332, 54.6265], [-56.93689, 53.780319999999996], [-56.15811, 53.647490000000005], [-55.75632, 53.27036], [-55.68338, 52.146640000000005], [-56.40916000000001, 51.770700000000005], [-57.12691, 51.419720000000005], [-58.77482, 51.0643], [-60.03309000000001, 50.24277], [-61.72366, 50.08046], [-63.86251, 50.29099], [-65.36331, 50.2982], [-66.39905, 50.228970000000004], [-67.23631, 49.511559999999996], [-68.51114, 49.068360000000006], [-69.95362, 47.74488], [-71.10458, 46.82171], [-70.25522, 46.986059999999995], [-68.65, 48.3], [-66.55243, 49.1331], [-65.05626, 49.232780000000005], [-64.17099, 48.74248], [-65.11545000000001, 48.07085], [-64.79854, 46.99297], [-64.47219, 46.238490000000006], [-63.17329000000001, 45.73902], [-61.520720000000004, 45.883770000000005], [-60.518150000000006, 47.00793], [-60.448600000000006, 46.28264], [-59.80287, 45.9204], [-61.03988, 45.265249999999995], [-63.254709999999996, 44.67014], [-64.24656, 44.265530000000005], [-65.36406000000001, 43.54523], [-66.1234, 43.61867], [-66.16173, 44.46512], [-64.42549, 45.29204], [-66.02605000000001, 45.25931], [-67.13741, 45.13753], [-67.79134, 45.70281000000001], [-67.79046000000001, 47.066359999999996], [-68.23444, 47.354859999999974], [-68.90500000000003, 47.18500000000006], [-69.237216, 47.447781], [-69.99997, 46.69307], [-70.305, 45.915], [-70.66, 45.46], [-71.08482000000004, 45.30524000000014], [-71.405, 45.254999999999995], [-71.50506, 45.0082], [-73.34783, 45.00738], [-74.86700000000002, 45.000480000000096], [-75.31821000000001, 44.81645], [-76.375, 44.09631], [-76.50000000000001, 44.01845889375865], [-76.82003414580558, 43.628784288093755], [-77.7378850979577, 43.62905558936328], [-78.72027991404235, 43.62508942318493], [-79.17167355011186, 43.46633942318426], [-79.01, 43.27], [-78.92, 42.964999999999996], [-78.93936214874375, 42.86361135514798], [-80.24744767934794, 42.36619985612255], [-81.27774654816716, 42.209025987306816], [-82.4392777167916, 41.675105088867326], [-82.69008928092023, 41.675105088867326], [-83.029810146807, 41.83279572200598], [-83.14199968131264, 41.975681057292874], [-83.12, 42.08], [-82.9, 42.43], [-82.42999999999999, 42.980000000000004], [-82.13764238150395, 43.57108755143997], [-82.33776312543114, 44.440000000000055], [-82.55092464875821, 45.34751658790543], [-83.59285071484311, 45.81689362241252], [-83.46955074739469, 45.994686387712534], [-83.61613094759059, 46.116926988299014], [-83.89076534700574, 46.116926988299014], [-84.0918512641615, 46.27541860613826], [-84.1421195136734, 46.51222585711571], [-84.33670000000001, 46.408770000000004], [-84.60490000000004, 46.439599999999984], [-84.54374874544584, 46.538684190449146], [-84.77923824739992, 46.63710195574902], [-84.8760798815149, 46.90008331968238], [-85.65236324740341, 47.22021881773051], [-86.46199083122826, 47.553338019392], [-87.43979262330028, 47.94], [-88.37811418328671, 48.302917588893706], [-89.27291744663665, 48.01980825458281], [-89.60000000000002, 48.010000000000105], [-90.83, 48.27], [-91.64, 48.14], [-92.61000000000001, 48.44999999999993], [-93.63087000000002, 48.609260000000006], [-94.32914000000001, 48.67074], [-94.64, 48.84], [-94.81758000000002, 49.38905], [-95.15609, 49.38425000000001], [-95.15906950917206, 49.0], [-97.2287200000048, 49.0007], [-100.65000000000003, 49.000000000000114], [-104.04826000000003, 48.99986000000007], [-107.05000000000001, 49.0], [-110.05000000000001, 49.0], [-113.0, 49.0], [-116.04818, 49.0], [-117.03121, 49.0], [-120.0, 49.000000000000114], [-122.84000000000003, 49.000000000000114]]], [[[-83.99367000000001, 62.452799999999996], [-83.25048, 62.91409], [-81.87699, 62.90458], [-81.89825, 62.7108], [-83.06857000000001, 62.159220000000005], [-83.77462000000001, 62.18231], [-83.99367000000001, 62.452799999999996]]], [[[-79.77583312988281, 72.8029022216797], [-80.87609863281251, 73.33318328857422], [-80.83388519287111, 73.69318389892578], [-80.35305786132812, 73.75971984863281], [-78.06443786621094, 73.65193176269531], [-76.34, 73.10268498995305], [-76.25140380859375, 72.82638549804688], [-77.31443786621094, 72.85554504394531], [-78.39167022705078, 72.87665557861328], [-79.4862518310547, 72.74220275878906], [-79.77583312988281, 72.8029022216797]]], [[[-80.315395, 62.08556500000001], [-79.92939, 62.3856], [-79.52002, 62.363710000000005], [-79.26582, 62.158674999999995], [-79.65752, 61.63308], [-80.09956000000001, 61.71810000000001], [-80.36215, 62.016490000000005], [-80.315395, 62.08556500000001]]], [[[-93.61275590694046, 74.97999726022438], [-94.15690873897391, 74.59234650338688], [-95.60868058956564, 74.66686391875176], [-96.82093217648455, 74.92762319609658], [-96.28858740922982, 75.37782827422338], [-94.85081987178917, 75.64721751576089], [-93.97774654821797, 75.29648956979595], [-93.61275590694046, 74.97999726022438]]], [[[-93.84000301794399, 77.51999726023455], [-94.29560828324529, 77.49134267852868], [-96.16965410031007, 77.55511139597685], [-96.43630449093614, 77.83462921824362], [-94.42257727738641, 77.820004787905], [-93.7206562975659, 77.63433136668031], [-93.84000301794399, 77.51999726023455]]], [[[-96.75439876990876, 78.76581268992702], [-95.5592779202946, 78.41831452098033], [-95.83029496944934, 78.05694122996324], [-97.30984290239799, 77.85059723582181], [-98.12428931353404, 78.08285696075761], [-98.55286780474668, 78.45810537384507], [-98.63198442258553, 78.87193024363837], [-97.33723141151266, 78.83198436147676], [-96.75439876990876, 78.76581268992702]]], [[[-88.15035030796028, 74.39230703398503], [-89.7647220527584, 74.51555532500116], [-92.42244096552946, 74.83775788034099], [-92.76828548864282, 75.38681997344214], [-92.88990597204175, 75.88265534128267], [-93.89382402217599, 76.31924367950056], [-95.9624574450358, 76.4413809272224], [-97.1213789538295, 76.7510777859476], [-96.74512285031237, 77.16138865834507], [-94.68408586299944, 77.09787832305837], [-93.57392106807313, 76.77629588490605], [-91.6050231595366, 76.7785179714946], [-90.7418458727493, 76.44959747995681], [-90.96966142450802, 76.07401317005947], [-89.82223792189926, 75.84777374948565], [-89.18708289259985, 75.61016551380762], [-87.83827633334965, 75.56618886992725], [-86.37919226758864, 75.4824213731821], [-84.78962521029058, 75.69920400664653], [-82.75344458691006, 75.78431509063124], [-81.12853084992436, 75.71398346628199], [-80.05751095245915, 75.33684886341591], [-79.83393286814837, 74.92312734648716], [-80.45777075877587, 74.65730377877777], [-81.94884253612557, 74.44245901152432], [-83.22889360221143, 74.56402781849094], [-86.09745235873332, 74.41003205026117], [-88.15035030796028, 74.39230703398503]]], [[[-111.26444332563088, 78.15295604116154], [-109.85445187054711, 77.99632477488488], [-110.18693803591302, 77.69701487905034], [-112.0511911690585, 77.4092288276169], [-113.53427893761912, 77.73220652944111], [-112.7245867582539, 78.05105011668196], [-111.26444332563088, 78.15295604116154]]], [[[-110.96366065147602, 78.8044408230652], [-109.6631457182026, 78.60197256134565], [-110.88131425661892, 78.40691986765997], [-112.54209143761516, 78.4079017198735], [-112.52589087609164, 78.55055451121522], [-111.5000103422334, 78.8499935981305], [-110.96366065147602, 78.8044408230652]]], [[[-55.600218268442056, 51.31707469339794], [-56.13403581401709, 50.68700979267928], [-56.795881720595276, 49.81230866149089], [-56.14310502788433, 50.15011749938286], [-55.471492275603, 49.93581533466846], [-55.82240108908096, 49.58712860777905], [-54.935142584845636, 49.3130109726868], [-54.473775397343786, 49.556691189159125], [-53.47654944519137, 49.24913890237404], [-53.786013759971254, 48.516780503933624], [-53.08613399922626, 48.68780365660358], [-52.958648240762216, 48.15716421161447], [-52.64809872090421, 47.53554840757552], [-53.069158291218386, 46.65549876564492], [-53.521456264853, 46.61829173439477], [-54.17893551290251, 46.80706574155698], [-53.9618686590605, 47.62520701760193], [-54.24048214376214, 47.752279364607645], [-55.40077307801157, 46.884993801453135], [-55.99748084168583, 46.919720363953275], [-55.29121904155279, 47.38956248635099], [-56.250798712780586, 47.632545070987376], [-57.32522925477708, 47.57280711525797], [-59.26601518414682, 47.60334788674247], [-59.419494188053676, 47.899453843774886], [-58.79658647320744, 48.25152537697942], [-59.23162451845657, 48.52318838153781], [-58.3918049790652, 49.12558055276418], [-57.35868974468606, 50.71827403421587], [-56.738650071832026, 51.28743825947855], [-55.87097693543532, 51.63209422464921], [-55.40697424988659, 51.5882726100657], [-55.600218268442056, 51.31707469339794]]], [[[-83.88262630891977, 65.10961782496354], [-82.78757687043883, 64.76669302027467], [-81.6420137193926, 64.45513580998697], [-81.55344031444432, 63.97960928003714], [-80.81736121287886, 64.057485663501], [-80.10345130076664, 63.72598135034862], [-80.99101986359572, 63.41124603947496], [-82.54717810741704, 63.65172231714521], [-83.10879757356511, 64.10187571883971], [-84.10041663281388, 63.569711819098], [-85.52340471061905, 63.052379055424055], [-85.8667687649824, 63.63725291610349], [-87.22198320183678, 63.54123810490519], [-86.35275977247133, 64.0358332383707], [-86.2248864407651, 64.82291697860823], [-85.88384782585486, 65.7387783881171], [-85.1613079495499, 65.6572846543928], [-84.97576371940592, 65.21751821558898], [-84.4640120104195, 65.37177236598022], [-83.88262630891977, 65.10961782496354]]], [[[-78.77063859731078, 72.35217316353418], [-77.8246239895596, 72.74961660429098], [-75.60584469267573, 72.2436784939374], [-74.228616095665, 71.76714427355789], [-74.09914079455771, 71.33084015571758], [-72.24222571479768, 71.55692454699452], [-71.20001542833518, 70.92001251899718], [-68.7860542466849, 70.52502370877427], [-67.91497046575694, 70.12194753689765], [-66.9690333726542, 69.18608734809182], [-68.8051228502006, 68.72019847276444], [-66.4498660956339, 68.06716339789203], [-64.86231441919524, 67.84753856065159], [-63.424934454996794, 66.92847321234059], [-61.851981370680605, 66.86212067327783], [-62.16317684594226, 66.16025136988962], [-63.918444383384184, 64.9986685248329], [-65.14886023625368, 65.42603261988667], [-66.72121904159852, 66.38804108343219], [-68.015016038674, 66.26272573512439], [-68.1412874009792, 65.68978913030439], [-67.08964616562342, 65.10845510523696], [-65.73208045109976, 64.64840566675856], [-65.32016760930125, 64.38273712834605], [-64.66940629744968, 63.392926744227495], [-65.01380388045888, 62.67418508569598], [-66.27504472519048, 62.94509878198612], [-68.7831862046927, 63.74567007105183], [-67.36968075221309, 62.88396556258484], [-66.32829728866726, 62.28007477482201], [-66.16556820338015, 61.93089712182582], [-68.87736650254465, 62.330149237712824], [-71.02343705919385, 62.91070811629588], [-72.23537858751902, 63.39783600529522], [-71.88627844917127, 63.67998932560887], [-73.37830624051838, 64.19396312118384], [-74.83441891142263, 64.6790756293238], [-74.81850257027673, 64.38909332951793], [-77.70997982452008, 64.22954234481678], [-78.5559488593542, 64.57290639918013], [-77.89728105336198, 65.30919220647475], [-76.01827429879717, 65.32696889918314], [-73.95979529488268, 65.45476471624094], [-74.29388342964964, 65.81177134872938], [-73.94491248238262, 66.31057811142666], [-72.65116716173942, 67.28457550726391], [-72.92605994331605, 67.72692576768235], [-73.31161780464572, 68.06943716091287], [-74.84330725777684, 68.55462718370127], [-76.86910091826672, 68.89473562283025], [-76.22864905465738, 69.14776927354741], [-77.28736996123715, 69.76954010688321], [-78.1686339993266, 69.82648753526887], [-78.95724219431673, 70.16688019477543], [-79.49245500356366, 69.87180776638884], [-81.30547095409176, 69.74318512641436], [-84.94470618359851, 69.96663401964442], [-87.06000342481789, 70.26000112576538], [-88.68171322300148, 70.4107412787608], [-89.51341956252303, 70.76203766548095], [-88.46772111688082, 71.21818553332132], [-89.88815121128755, 71.22255219184997], [-90.20516028518205, 72.23507436796079], [-89.436576707705, 73.12946421985238], [-88.40824154331287, 73.53788890247121], [-85.82615108920098, 73.80381582304518], [-86.56217851433412, 73.15744700793844], [-85.77437130404454, 72.53412588163387], [-84.85011247428822, 73.34027822538708], [-82.31559017610101, 73.7509508328106], [-80.60008765330768, 72.71654368762417], [-80.74894161652443, 72.06190664335072], [-78.77063859731078, 72.35217316353418]]], [[[-94.50365759965237, 74.13490672473922], [-92.42001217321173, 74.1000251329422], [-90.50979285354263, 73.85673248971206], [-92.00396521682987, 72.96624420845852], [-93.19629553910026, 72.77199249947334], [-94.26904659704726, 72.02459625923599], [-95.40985551632266, 72.06188080513458], [-96.03374508338244, 72.94027680123183], [-96.01826799191102, 73.43742991809582], [-95.49579342322404, 73.86241689726417], [-94.50365759965237, 74.13490672473922]]], [[[-122.85492448615902, 76.11654287383568], [-122.85492529360326, 76.11654287383568], [-121.15753536032824, 76.86450755482828], [-119.1039389718211, 77.51221995717462], [-117.570130784966, 77.4983189968881], [-116.19858659550738, 77.6452867703262], [-116.33581336145845, 76.87696157501061], [-117.10605058476882, 76.53003184681911], [-118.04041215703819, 76.48117178008714], [-119.89931758688572, 76.053213406062], [-121.49999507712648, 75.90001862253276], [-122.85492448615902, 76.11654287383568]]], [[[-132.71000788443126, 54.04000931542356], [-131.74998958400334, 54.12000438090922], [-132.049480347351, 52.98462148702447], [-131.1790425218266, 52.180432847698285], [-131.57782954982298, 52.18237071390928], [-132.18042842677852, 52.639707139692405], [-132.54999243231384, 53.100014960332146], [-133.05461117875552, 53.411468817755406], [-133.2396644827927, 53.851080227262344], [-133.1800040417117, 54.169975490935315], [-132.71000788443126, 54.04000931542356]]], [[[-105.4922891914932, 79.30159393992916], [-103.52928239623795, 79.16534902619163], [-100.8251580472688, 78.80046173777872], [-100.0601918200522, 78.32475434031589], [-99.67093909381364, 77.90754466420744], [-101.30394019245301, 78.01898489044486], [-102.94980872273302, 78.34322866486023], [-105.17613277873151, 78.3803323432458], [-104.21042945027713, 78.67742015249176], [-105.41958045125853, 78.91833567983649], [-105.4922891914932, 79.30159393992916]]], [[[-123.51000158755119, 48.51001089130341], [-124.01289078839955, 48.37084625914139], [-125.65501277733838, 48.8250045843385], [-125.95499446679275, 49.17999583596759], [-126.85000443587185, 49.53000031188043], [-127.02999344954443, 49.81499583597008], [-128.0593363043662, 49.9949590114266], [-128.44458410710214, 50.539137681676095], [-128.35841365625546, 50.77064809834371], [-127.30858109602994, 50.552573554071955], [-126.69500097721235, 50.400903225295394], [-125.7550066738232, 50.29501821552935], [-125.4150015875588, 49.95000051533259], [-124.92076818911934, 49.475274970083376], [-123.92250870832106, 49.06248362893581], [-123.51000158755119, 48.51001089130341]]], [[[-121.53787999999997, 74.44893000000002], [-120.10978, 74.24135000000001], [-117.55563999999993, 74.18576999999993], [-116.58442000000002, 73.89607000000007], [-115.51080999999999, 73.47519], [-116.76793999999995, 73.22291999999999], [-119.22000000000003, 72.51999999999998], [-120.45999999999998, 71.82000000000005], [-120.45999999999998, 71.38360179308756], [-123.09218999999996, 70.90164000000004], [-123.62, 71.34000000000009], [-125.92894873747338, 71.86868846301138], [-125.49999999999994, 72.29226081179502], [-124.80729000000002, 73.02255999999994], [-123.93999999999994, 73.68000000000012], [-124.91774999999996, 74.29275000000013], [-121.53787999999997, 74.44893000000002]]], [[[-107.81943000000001, 75.84552000000001], [-106.92893000000001, 76.01282], [-105.881, 75.96940000000001], [-105.70498, 75.47951], [-106.31347000000001, 75.00527], [-109.70000000000002, 74.85000000000001], [-112.22306999999999, 74.41696], [-113.74381, 74.39427], [-113.87135, 74.72029], [-111.79420999999999, 75.16250000000001], [-116.31221, 75.04343], [-117.7104, 75.2222], [-116.34602000000001, 76.19903000000001], [-115.40487, 76.47887], [-112.59056000000001, 76.14134], [-110.81422, 75.54919], [-109.06710000000001, 75.47321000000001], [-110.49726000000001, 76.42982], [-109.58109999999999, 76.79417], [-108.54858999999999, 76.67832000000001], [-108.21141, 76.20168000000001], [-107.81943000000001, 75.84552000000001]]], [[[-106.52258999999992, 73.07601], [-105.40245999999996, 72.67259000000007], [-104.77484000000004, 71.6984000000001], [-104.4647599999999, 70.99297000000007], [-102.78537, 70.49776000000003], [-100.98077999999992, 70.02431999999999], [-101.08928999999995, 69.58447000000012], [-102.73115999999993, 69.50402000000003], [-102.09329000000002, 69.11962000000011], [-102.43024000000003, 68.75281999999999], [-104.24000000000001, 68.91000000000008], [-105.96000000000004, 69.18000000000012], [-107.12254000000001, 69.11922000000004], [-108.99999999999994, 68.78000000000003], [-111.53414887520017, 68.63005915681794], [-113.31320000000005, 68.53553999999997], [-113.85495999999989, 69.00744000000009], [-115.22000000000003, 69.28000000000009], [-116.10793999999999, 69.16821000000004], [-117.34000000000003, 69.9600000000001], [-116.67472999999995, 70.06655], [-115.13112000000001, 70.23730000000006], [-113.72140999999999, 70.1923700000001], [-112.41610000000003, 70.36637999999999], [-114.35000000000002, 70.60000000000002], [-116.48684000000003, 70.52044999999998], [-117.90480000000002, 70.54056000000014], [-118.43238000000002, 70.90920000000006], [-116.11311, 71.30917999999997], [-117.65567999999996, 71.29520000000002], [-119.40199000000001, 71.55858999999998], [-118.56266999999997, 72.30785000000003], [-117.86641999999995, 72.70594000000006], [-115.18909000000002, 73.31459000000012], [-114.16716999999994, 73.1214500000001], [-114.66633999999999, 72.65277000000009], [-112.44101999999992, 72.95540000000011], [-111.05039, 72.45040000000006], [-109.92034999999993, 72.96113000000008], [-109.00653999999997, 72.63335000000001], [-108.18834999999996, 71.65089], [-107.68599, 72.0654800000001], [-108.39639, 73.08953000000008], [-107.51645000000002, 73.23597999999998], [-106.52258999999992, 73.07601]]], [[[-100.43836, 72.70588000000001], [-101.54, 73.36], [-100.35642000000001, 73.84389], [-99.16387, 73.63339], [-97.38, 73.76], [-97.12, 73.47], [-98.05359, 72.99052], [-96.54, 72.56], [-96.72000000000001, 71.66], [-98.35966, 71.27284999999999], [-99.32286, 71.35639], [-100.01482, 71.73827], [-102.5, 72.51], [-102.48000000000002, 72.83000000000001], [-100.43836, 72.70588000000001]]], [[[-106.6, 73.60000000000001], [-105.26, 73.64], [-104.5, 73.42], [-105.38000000000001, 72.76], [-106.94, 73.46000000000001], [-106.6, 73.60000000000001]]], [[[-98.50000000000001, 76.72], [-97.735585, 76.25656000000001], [-97.70441500000001, 75.74344], [-98.16000000000001, 75.0], [-99.80874, 74.89744], [-100.88365999999999, 75.05736], [-100.86292000000002, 75.64075], [-102.50209, 75.5638], [-102.56552, 76.3366], [-101.48973, 76.30537], [-99.98349, 76.64634], [-98.57699, 76.58859], [-98.50000000000001, 76.72]]], [[[-96.01644, 80.60233000000001], [-95.32345000000001, 80.90729], [-94.29843, 80.97727], [-94.73542, 81.20646000000002], [-92.40983999999999, 81.25739000000003], [-91.13288999999999, 80.72345000000003], [-89.45000000000002, 80.50932203389831], [-87.81, 80.32000000000001], [-87.02000000000001, 79.66000000000001], [-85.81435, 79.3369], [-87.18755999999999, 79.0393], [-89.03535000000001, 78.28723], [-90.80436, 78.21533000000001], [-92.87669000000001, 78.34333000000001], [-93.95116000000002, 78.75099], [-93.93574, 79.11373], [-93.14524, 79.3801], [-94.974, 79.37248], [-96.07614000000001, 79.70502], [-96.70972, 80.15777], [-96.01644, 80.60233000000001]]], [[[-91.58702000000001, 81.89429000000001], [-90.10000000000001, 82.08500000000004], [-88.93227, 82.11751000000001], [-86.97024, 82.27961], [-85.5, 82.65227345805702], [-84.260005, 82.60000000000001], [-83.18, 82.32], [-82.42, 82.86000000000001], [-81.1, 83.02], [-79.30664, 83.13056], [-76.25, 83.17205882352941], [-75.71878000000001, 83.06404000000002], [-72.83153, 83.23324000000001], [-70.66576500000001, 83.16978075838284], [-68.50000000000001, 83.10632151676572], [-65.82735, 83.02801000000001], [-63.68, 82.9], [-61.85, 82.62860000000002], [-61.89388, 82.36165000000001], [-64.334, 81.92775000000002], [-66.75342, 81.72527000000001], [-67.65755, 81.50141], [-65.48031, 81.50657000000002], [-67.84, 80.90000000000003], [-69.4697, 80.61683000000001], [-71.18, 79.8], [-73.2428, 79.63415], [-73.88000000000001, 79.43016220480206], [-76.90773, 79.32309000000001], [-75.52924, 79.19766000000001], [-76.22046, 79.01907], [-75.39345, 78.52581], [-76.34354, 78.18296000000001], [-77.88851000000001, 77.89991], [-78.36269, 77.50859000000001], [-79.75951, 77.20967999999999], [-79.61965000000001, 76.98336], [-77.91089000000001, 77.022045], [-77.88911, 76.777955], [-80.56125, 76.17812], [-83.17439, 76.45403], [-86.11184, 76.29901000000001], [-87.60000000000001, 76.42], [-89.49068, 76.47239], [-89.6161, 76.95213000000001], [-87.76739, 77.17833], [-88.26, 77.9], [-87.65, 77.97022222222223], [-84.97634, 77.53873], [-86.34, 78.18], [-87.96191999999999, 78.37181], [-87.15198000000001, 78.75867], [-85.37868, 78.99690000000001], [-85.09495, 79.34543000000001], [-86.50734, 79.73624], [-86.93179, 80.25145], [-84.19844, 80.20836], [-83.40869565217389, 80.10000000000001], [-81.84823, 80.46442], [-84.1, 80.58], [-87.59895, 80.51627], [-89.36663, 80.85569000000001], [-90.2, 81.26], [-91.36786000000001, 81.5531], [-91.58702000000001, 81.89429000000001]]], [[[-75.21597, 67.44425], [-75.86588, 67.14886], [-76.98687, 67.09873], [-77.2364, 67.58809000000001], [-76.81166, 68.14856], [-75.89521, 68.28721], [-75.11449999999999, 68.01035999999999], [-75.10333, 67.58202], [-75.21597, 67.44425]]], [[[-96.25740120380055, 69.49003035832177], [-95.64768120380054, 69.10769035832178], [-96.26952120380055, 68.75704035832177], [-97.61740120380055, 69.06003035832177], [-98.43180120380055, 68.95070035832177], [-99.79740120380055, 69.40003035832177], [-98.91740120380055, 69.71003035832177], [-98.21826120380055, 70.14354035832177], [-97.15740120380055, 69.86003035832177], [-96.55740120380055, 69.68003035832177], [-96.25740120380055, 69.49003035832177]]], [[[-64.51912, 49.87304], [-64.17322, 49.95718], [-62.858290000000004, 49.70641], [-61.835584999999995, 49.28855], [-61.806304999999995, 49.10506000000001], [-62.29318, 49.08717], [-63.589259999999996, 49.400690000000004], [-64.51912, 49.87304]]], [[[-64.01486, 47.03601], [-63.6645, 46.55001], [-62.9393, 46.41587], [-62.012080000000005, 46.44314], [-62.503910000000005, 46.033390000000004], [-62.87433, 45.968180000000004], [-64.14280000000001, 46.39265], [-64.39261, 46.72747], [-64.01486, 47.03601]]]]}}, {\\\"id\\\": \\\"1\\\", \\\"type\\\": \\\"Feature\\\", \\\"properties\\\": {\\\"country\\\": \\\"United States of America\\\", \\\"country_code\\\": \\\"USA\\\", \\\"mean\\\": 6.637051569506727}, \\\"geometry\\\": {\\\"type\\\": \\\"MultiPolygon\\\", \\\"coordinates\\\": [[[[-122.84000000000003, 49.000000000000114], [-120.0, 49.000000000000114], [-117.03121, 49.0], [-116.04818, 49.0], [-113.0, 49.0], [-110.05000000000001, 49.0], [-107.05000000000001, 49.0], [-104.04826000000003, 48.99986000000007], [-100.65000000000003, 49.000000000000114], [-97.2287200000048, 49.0007], [-95.15906950917206, 49.0], [-95.15609, 49.38425000000001], [-94.81758000000002, 49.38905], [-94.64, 48.84], [-94.32914000000001, 48.67074], [-93.63087000000002, 48.609260000000006], [-92.61000000000001, 48.44999999999993], [-91.64, 48.14], [-90.83, 48.27], [-89.60000000000002, 48.010000000000105], [-89.27291744663665, 48.01980825458281], [-88.37811418328671, 48.302917588893706], [-87.43979262330028, 47.94], [-86.46199083122826, 47.553338019392], [-85.65236324740341, 47.22021881773051], [-84.8760798815149, 46.90008331968238], [-84.77923824739992, 46.63710195574902], [-84.54374874544584, 46.538684190449146], [-84.60490000000004, 46.439599999999984], [-84.33670000000001, 46.408770000000004], [-84.1421195136734, 46.51222585711571], [-84.0918512641615, 46.27541860613826], [-83.89076534700574, 46.116926988299014], [-83.61613094759059, 46.116926988299014], [-83.46955074739469, 45.994686387712534], [-83.59285071484311, 45.81689362241252], [-82.55092464875821, 45.34751658790543], [-82.33776312543114, 44.440000000000055], [-82.13764238150395, 43.57108755143997], [-82.42999999999999, 42.980000000000004], [-82.9, 42.43], [-83.12, 42.08], [-83.14199968131264, 41.975681057292874], [-83.029810146807, 41.83279572200598], [-82.69008928092023, 41.675105088867326], [-82.4392777167916, 41.675105088867326], [-81.27774654816716, 42.209025987306816], [-80.24744767934794, 42.36619985612255], [-78.93936214874375, 42.86361135514798], [-78.92, 42.964999999999996], [-79.01, 43.27], [-79.17167355011186, 43.46633942318426], [-78.72027991404235, 43.62508942318493], [-77.7378850979577, 43.62905558936328], [-76.82003414580558, 43.628784288093755], [-76.50000000000001, 44.01845889375865], [-76.375, 44.09631], [-75.31821000000001, 44.81645], [-74.86700000000002, 45.000480000000096], [-73.34783, 45.00738], [-71.50506, 45.0082], [-71.405, 45.254999999999995], [-71.08482000000004, 45.30524000000014], [-70.66, 45.46], [-70.305, 45.915], [-69.99997, 46.69307], [-69.237216, 47.447781], [-68.90500000000003, 47.18500000000006], [-68.23444, 47.354859999999974], [-67.79046000000001, 47.066359999999996], [-67.79134, 45.70281000000001], [-67.13741, 45.13753], [-66.96465999999998, 44.809700000000134], [-68.03251999999998, 44.325199999999995], [-69.05999999999995, 43.980000000000075], [-70.11616999999995, 43.68405000000013], [-70.64547563341102, 43.09023834896402], [-70.81488999999999, 42.865299999999934], [-70.82499999999999, 42.33499999999998], [-70.49499999999995, 41.80500000000001], [-70.07999999999998, 41.78000000000003], [-70.185, 42.145000000000095], [-69.88496999999995, 41.92283000000009], [-69.96502999999996, 41.63717000000014], [-70.63999999999999, 41.47500000000002], [-71.12039000000004, 41.49445000000014], [-71.8599999999999, 41.32000000000005], [-72.29500000000002, 41.26999999999998], [-72.87643000000003, 41.220650000000035], [-73.71000000000004, 40.93110235165449], [-72.24125999999995, 41.119480000000124], [-71.94499999999988, 40.930000000000064], [-73.34499999999997, 40.63000000000005], [-73.98200000000003, 40.62799999999993], [-73.95232499999997, 40.75075000000004], [-74.25671, 40.47351000000003], [-73.96243999999996, 40.42763000000002], [-74.17838, 39.70925999999997], [-74.90603999999996, 38.93954000000002], [-74.98041, 39.19640000000004], [-75.20002, 39.248450000000105], [-75.52805000000001, 39.49850000000009], [-75.32, 38.960000000000036], [-75.07183476478986, 38.782032230179254], [-75.05672999999996, 38.40412000000009], [-75.37746999999996, 38.015510000000006], [-75.94022999999999, 37.21689000000009], [-76.03126999999995, 37.25659999999999], [-75.72204999999985, 37.93705000000011], [-76.23286999999999, 38.319214999999986], [-76.35000000000002, 39.14999999999998], [-76.54272499999996, 38.71761500000008], [-76.32933000000003, 38.08326000000005], [-76.98999793161352, 38.23999176691336], [-76.30161999999996, 37.91794499999992], [-76.25873999999999, 36.96640000000008], [-75.97179999999997, 36.89726000000002], [-75.8680399999999, 36.55125000000004], [-75.72748999999999, 35.55074000000013], [-76.36318, 34.80854000000011], [-77.39763499999992, 34.512009999999975], [-78.05496, 33.92547000000002], [-78.55434999999989, 33.86133000000012], [-79.06067000000002, 33.493949999999984], [-79.20357000000001, 33.158390000000054], [-80.30132499999996, 32.509355000000085], [-80.86498, 32.033300000000054], [-81.33629000000002, 31.44049000000001], [-81.49041999999997, 30.7299900000001], [-81.31371000000001, 30.035520000000076], [-80.97999999999996, 29.18000000000012], [-80.53558499999991, 28.472129999999993], [-80.52999999999986, 28.040000000000077], [-80.05653928497759, 26.88000000000011], [-80.08801499999998, 26.205764999999985], [-80.13155999999992, 25.816775000000064], [-80.38103000000001, 25.20616000000001], [-80.67999999999995, 25.08000000000004], [-81.17212999999998, 25.201260000000104], [-81.33000000000004, 25.639999999999986], [-81.70999999999987, 25.870000000000005], [-82.23999999999995, 26.730000000000132], [-82.70515, 27.495040000000074], [-82.85525999999999, 27.886240000000043], [-82.64999999999998, 28.550000000000125], [-82.92999999999995, 29.10000000000008], [-83.70958999999999, 29.936560000000043], [-84.09999999999997, 30.09000000000009], [-85.10881999999998, 29.636150000000043], [-85.28784000000002, 29.68612000000013], [-85.7731, 30.152610000000095], [-86.39999999999992, 30.40000000000009], [-87.53035999999992, 30.27433000000002], [-88.41781999999995, 30.384900000000016], [-89.1804899999999, 30.315980000000025], [-89.5938311784198, 30.159994004836847], [-89.41373499999997, 29.89418999999998], [-89.43, 29.488639999999975], [-89.21767, 29.291080000000022], [-89.40822999999995, 29.159610000000043], [-89.77927999999997, 29.307140000000118], [-90.15463, 29.11743000000007], [-90.88022499999994, 29.148535000000095], [-91.62678499999993, 29.677000000000135], [-92.49905999999999, 29.552300000000002], [-93.22636999999997, 29.783750000000055], [-93.84841999999998, 29.71363000000008], [-94.69, 29.480000000000132], [-95.60025999999999, 28.738630000000057], [-96.59403999999995, 28.307480000000055], [-97.13999999999987, 27.83000000000004], [-97.36999999999995, 27.380000000000052], [-97.37999999999994, 26.690000000000055], [-97.32999999999998, 26.210000000000093], [-97.13999999999987, 25.870000000000005], [-97.52999999999992, 25.84000000000009], [-98.23999999999995, 26.06000000000006], [-99.01999999999992, 26.37000000000006], [-99.30000000000001, 26.840000000000032], [-99.51999999999992, 27.54000000000002], [-100.10999999999996, 28.110000000000127], [-100.45584000000002, 28.69612000000012], [-100.95759999999996, 29.380710000000136], [-101.66239999999999, 29.77930000000009], [-102.48000000000002, 29.75999999999999], [-103.11000000000001, 28.970000000000027], [-103.94, 29.27000000000004], [-104.4569699999999, 29.571960000000047], [-104.70574999999997, 30.121730000000014], [-105.03737000000001, 30.644019999999955], [-105.63159000000002, 31.08383000000009], [-106.1429, 31.399950000000047], [-106.50758999999988, 31.754520000000014], [-108.24000000000001, 31.754853718166373], [-108.24193999999994, 31.342220000000054], [-109.03500000000003, 31.341940000000136], [-111.02361000000002, 31.334719999999948], [-113.30498, 32.03914000000009], [-114.815, 32.52528000000001], [-114.72138999999993, 32.72082999999992], [-115.99134999999995, 32.61239000000012], [-117.12775999999985, 32.53533999999996], [-117.29593769127393, 33.04622461520387], [-117.94400000000002, 33.621236431201396], [-118.41060227589753, 33.74090922312445], [-118.51989482279976, 34.02778157757575], [-119.08100000000002, 34.07799999999992], [-119.43884064201671, 34.34847717828427], [-120.36777999999998, 34.447110000000066], [-120.62286, 34.60854999999998], [-120.74432999999999, 35.15686000000011], [-121.71456999999992, 36.161529999999914], [-122.54746999999998, 37.551760000000115], [-122.51201000000003, 37.78339000000011], [-122.95319, 38.11371000000008], [-123.72720000000004, 38.95166000000012], [-123.86516999999998, 39.76699000000008], [-124.39807000000002, 40.313199999999995], [-124.17885999999999, 41.142020000000116], [-124.21370000000002, 41.99964000000011], [-124.53283999999996, 42.7659900000001], [-124.14213999999998, 43.708380000000034], [-124.020535, 44.615894999999966], [-123.89892999999995, 45.52341000000007], [-124.079635, 46.864750000000015], [-124.39566999999994, 47.72017000000011], [-124.68721008300781, 48.18443298339855], [-124.56610107421875, 48.37971496582037], [-123.12, 48.04000000000002], [-122.58735999999993, 47.09600000000006], [-122.34000000000003, 47.360000000000014], [-122.5, 48.180000000000064], [-122.84000000000003, 49.000000000000114]]], [[[-155.40214, 20.07975], [-155.22452, 19.99302], [-155.06226, 19.8591], [-154.80741, 19.50871], [-154.83147, 19.453280000000003], [-155.22217, 19.23972], [-155.54211, 19.08348], [-155.68817, 18.91619], [-155.93665, 19.05939], [-155.90806, 19.33888], [-156.07347000000001, 19.70294], [-156.02368, 19.81422], [-155.85008000000002, 19.97729], [-155.91907, 20.17395], [-155.86108000000002, 20.267210000000002], [-155.78505, 20.2487], [-155.40214, 20.07975]]], [[[-155.99566000000002, 20.76404], [-156.07926, 20.643970000000003], [-156.41445, 20.57241], [-156.58673, 20.783], [-156.70167, 20.8643], [-156.71054999999998, 20.92676], [-156.61258, 21.01249], [-156.25711, 20.917450000000002], [-155.99566000000002, 20.76404]]], [[[-156.75824, 21.176840000000002], [-156.78933, 21.068730000000002], [-157.32521, 21.097770000000004], [-157.25027, 21.219579999999997], [-156.75824, 21.176840000000002]]], [[[-158.0252, 21.71696], [-157.94161, 21.65272], [-157.65283000000002, 21.322170000000003], [-157.70703, 21.26442], [-157.7786, 21.27729], [-158.12667000000002, 21.31244], [-158.2538, 21.53919], [-158.29265, 21.57912], [-158.0252, 21.71696]]], [[[-159.36569, 22.21494], [-159.34512, 21.982000000000003], [-159.46372, 21.88299], [-159.80051, 22.065330000000003], [-159.74877, 22.1382], [-159.5962, 22.236179999999997], [-159.36569, 22.21494]]], [[[-166.46779212142462, 60.384169826897754], [-165.67442969466364, 60.29360687930625], [-165.57916419173358, 59.90998688418753], [-166.19277014876727, 59.75444082298899], [-166.84833736882197, 59.941406155020985], [-167.45527706609008, 60.21306915957936], [-166.46779212142462, 60.384169826897754]]], [[[-153.22872941792113, 57.96896841087248], [-152.56479061583514, 57.901427313866996], [-152.1411472239064, 57.591058661522], [-153.00631405333692, 57.11584219016593], [-154.0050902984581, 56.734676825581076], [-154.51640275777004, 56.99274892844669], [-154.67099280497118, 57.46119578717253], [-153.7627795074415, 57.81657461204373], [-153.22872941792113, 57.96896841087248]]], [[[-140.98598761037601, 69.71199839952635], [-140.986, 69.712], [-140.9925, 66.00003000000001], [-140.99778, 60.30639000000001], [-140.013, 60.27682000000001], [-139.03900000000002, 60.0], [-138.34089, 59.562110000000004], [-137.4525, 58.905], [-136.47972000000004, 59.46389000000005], [-135.47583, 59.787780000000005], [-134.94500000000005, 59.2705600000001], [-134.27111000000002, 58.86111000000005], [-133.35556000000003, 58.41028000000001], [-132.73042, 57.692890000000006], [-131.70781, 56.55212], [-130.00778000000003, 55.915830000000085], [-129.98, 55.285000000000004], [-130.53611, 54.802780000000006], [-130.53610895273684, 54.80275447679924], [-130.5361101894673, 54.8027534043494], [-131.08581823797215, 55.17890615500204], [-131.9672114671423, 55.497775580459006], [-132.2500107428595, 56.3699962428974], [-133.53918108435641, 57.17888743756214], [-134.07806292029608, 58.12306753196691], [-135.0382110322791, 58.18771474876394], [-136.62806230995471, 58.21220937767043], [-137.800006279686, 58.49999542910376], [-139.867787041413, 59.53776154238915], [-140.825273817133, 59.727517401765056], [-142.57444353556446, 60.08444651960497], [-143.9588809948799, 59.999180406323376], [-145.92555681682788, 60.45860972761426], [-147.11437394914665, 60.884656073644635], [-148.22430620012761, 60.67298940697714], [-148.01806555885082, 59.97832896589364], [-148.57082251686086, 59.914172675203304], [-149.72785783587585, 59.70565827090553], [-150.60824337461642, 59.368211168039466], [-151.7163927886833, 59.15582103131993], [-151.85943315326722, 59.744984035879554], [-151.40971900124717, 60.72580272077937], [-150.3469414947325, 61.03358755150987], [-150.62111080625704, 61.2844249538544], [-151.89583919981683, 60.727197984451266], [-152.57832984109558, 60.061657212964235], [-154.01917212625764, 59.35027944603428], [-153.28751135965317, 58.86472768821977], [-154.23249243875847, 58.14637360293051], [-155.3074914215102, 57.727794501366304], [-156.30833472392305, 57.422774359763594], [-156.55609737854638, 56.97998484967064], [-158.11721655986779, 56.46360809999419], [-158.43332129619714, 55.99415355083852], [-159.60332739971741, 55.56668610292013], [-160.28971961163427, 55.643580634170576], [-161.22304765525777, 55.364734605523495], [-162.23776607974105, 55.02418691672011], [-163.06944658104638, 54.68973704692712], [-164.78556922102717, 54.40417308208214], [-164.94222632552007, 54.57222483989534], [-163.84833960676565, 55.03943146424609], [-162.87000139061595, 55.34804311789321], [-161.80417497459607, 55.89498647727038], [-160.5636047027812, 56.00805451112501], [-160.07055986228448, 56.41805532492873], [-158.6844429189195, 57.01667511659787], [-158.46109737855403, 57.21692129172885], [-157.72277035218391, 57.57000051536306], [-157.55027442119362, 58.328326321030204], [-157.04167497457698, 58.91888458926172], [-158.19473120830554, 58.61580231386978], [-158.51721798402303, 58.78778148053732], [-159.0586061269288, 58.42418610293163], [-159.71166704001737, 58.93139028587632], [-159.98128882550017, 58.572549140041644], [-160.3552711659965, 59.07112335879361], [-161.3550034251151, 58.670837714260756], [-161.96889360252632, 58.67166453717738], [-162.05498653872465, 59.26692536074745], [-161.8741707021354, 59.63362132429057], [-162.51805904849212, 59.98972361921386], [-163.8183414378202, 59.79805573184336], [-164.66221757714652, 60.26748444278263], [-165.3463877024748, 60.50749563256238], [-165.3508318756519, 61.073895168697504], [-166.12137915755602, 61.50001902937623], [-165.73445187077058, 62.074996853271784], [-164.9191786367179, 62.63307648380794], [-164.56250790103934, 63.14637848576302], [-163.75333248599708, 63.21944896102377], [-163.06722449445786, 63.05945872664802], [-162.26055538638175, 63.54193573674115], [-161.53444983624863, 63.455816962326764], [-160.7725066803211, 63.766108100023246], [-160.9583351308426, 64.22279857040274], [-161.51806840721218, 64.40278758407527], [-160.77777767641481, 64.78860382756642], [-161.39192623598765, 64.77723501246231], [-162.4530500966689, 64.55944468856819], [-162.75778601789415, 64.33860545516876], [-163.54639421288428, 64.5591604681905], [-164.96082984114514, 64.44694509546883], [-166.42528825586447, 64.68667206487066], [-166.8450042389391, 65.08889557561452], [-168.11056006576715, 65.66999705673675], [-166.70527116602193, 66.08831777613938], [-164.47470964257548, 66.5766600612975], [-163.65251176659564, 66.5766600612975], [-163.78860165103623, 66.07720734319668], [-161.67777442121013, 66.11611969671242], [-162.48971452538004, 66.73556509059512], [-163.71971696679117, 67.11639455837008], [-164.4309913808565, 67.61633820257777], [-165.39028683170673, 68.04277212185025], [-166.76444068099605, 68.35887685817966], [-166.20470740462667, 68.88303091091615], [-164.43081051334346, 68.91553538682774], [-163.1686136546145, 69.37111481391287], [-162.930566169262, 69.85806183539927], [-161.90889726463556, 70.33332998318764], [-160.93479651593367, 70.44768992784958], [-159.03917578838713, 70.89164215766891], [-158.11972286683394, 70.82472117785102], [-156.58082455139808, 71.35776357694175], [-155.06779029032427, 71.14777639432367], [-154.3441652089412, 70.69640859647018], [-153.9000062733926, 70.88998851183567], [-152.21000606993528, 70.82999217394485], [-152.27000240782613, 70.60000621202983], [-150.73999243874448, 70.43001658800569], [-149.7200030181675, 70.53001048449045], [-147.61336157935705, 70.2140349392418], [-145.68998980022533, 70.12000967068673], [-144.9200109590764, 69.98999176704046], [-143.58944618042523, 70.15251414659832], [-142.07251034871348, 69.85193817817265], [-140.98598752156073, 69.71199839952635], [-140.98598761037601, 69.71199839952635]]], [[[-171.73165686753944, 63.782515367275934], [-171.1144335602453, 63.59219106714495], [-170.4911124339407, 63.694975490973505], [-169.6825054596536, 63.43111562769119], [-168.6894394603007, 63.297506212000556], [-168.77194088445466, 63.18859813094544], [-169.5294398672051, 62.97693146427792], [-170.29055620021595, 63.194437567794424], [-170.67138566799093, 63.3758218451389], [-171.55306311753873, 63.317789211675105], [-171.79111060289122, 63.40584585230046], [-171.73165686753944, 63.782515367275934]]]]}}, {\\\"id\\\": \\\"2\\\", \\\"type\\\": \\\"Feature\\\", \\\"properties\\\": {\\\"country\\\": \\\"Indonesia\\\", \\\"country_code\\\": \\\"IDN\\\", \\\"mean\\\": 6.85}, \\\"geometry\\\": {\\\"type\\\": \\\"MultiPolygon\\\", \\\"coordinates\\\": [[[[141.00021040259185, -2.60015105551566], [141.01705691951895, -5.859021905138071], [141.03385176001382, -9.117892754760483], [140.14341515519254, -8.29716765710095], [139.1277665549281, -8.096042982620979], [138.881476678625, -8.380935153846075], [137.61447391169287, -8.41168263105974], [138.03909915583517, -7.597882175327321], [138.66862145401478, -7.320224704623087], [138.4079138531023, -6.232849216337485], [137.92783979711078, -5.393365573756], [135.98925011611345, -4.54654387778907], [135.16459760959975, -4.462931410340822], [133.66288048719787, -3.538853448097541], [133.36770470594672, -4.024818617370315], [132.98395551974727, -4.112978610860253], [132.75694095268904, -3.7462826473171233], [132.75378869031925, -3.3117872046070502], [131.98980431531618, -2.820551039240499], [133.0668445171434, -2.460417982598436], [133.78003095920354, -2.4798483211401816], [133.69621178602614, -2.214541517753702], [132.23237348849426, -2.2125261368943185], [131.83622195854474, -1.6171619604596472], [130.94283979708285, -1.4325220678807826], [130.5195581401801, -0.9377202286860893], [131.8675378765136, -0.6954611141017892], [132.3801164084167, -0.36953785563694913], [133.98554813042836, -0.7802104630604559], [134.14336795464772, -1.151867364103623], [134.42262739475302, -2.769184665542376], [135.45760298069467, -3.367752780779149], [136.29331424371884, -2.307042331556154], [137.44073774632756, -1.7035132788193648], [138.3297274110447, -1.7026864559026933], [139.18492068904288, -2.0512956681436734], [139.92668419816044, -2.409051608900313], [141.00021040259185, -2.60015105551566]]], [[[124.96868248911623, -8.892790215697083], [125.07001997284061, -9.089987481322872], [125.08852013560109, -9.393173109579294], [124.43595014861933, -10.140000909061449], [123.57998172413669, -10.359987481327956], [123.459989048355, -10.239994805546223], [123.55000939340744, -9.900015557497987], [123.9800089865081, -9.290026950724716], [124.96868248911623, -8.892790215697083]]], [[[134.21013390516885, -6.89523772545472], [134.11277550673094, -6.142467136259], [134.29033572808584, -5.783057549669017], [134.49962527886788, -5.445042006047871], [134.72700158095216, -5.737582289252167], [134.7246244650667, -6.214400730009288], [134.21013390516885, -6.89523772545472]]], [[[117.88203494677018, 4.137551377779516], [117.3132324565335, 3.234428208830593], [118.0483297058854, 2.2876901310273325], [117.87562706916597, 1.8276406925489255], [118.99674726773816, 0.9022191430660627], [117.8118583517178, 0.7842418481437078], [117.47833865770603, 0.10247467691702639], [117.52164350796664, -0.8037232397532676], [116.56004845587947, -1.4876608211362097], [116.5337968282752, -2.483517347832901], [116.14808393764866, -4.012726332214022], [116.00085778204911, -3.6570374487490582], [114.86480309454456, -4.106984144714396], [114.46865156459506, -3.495703627133828], [113.75567182826407, -3.4391696102065197], [113.25699425664752, -3.118775729996905], [112.06812625534067, -3.4783920223160507], [111.70329064336005, -2.9944422339026535], [111.04824018762824, -3.0494259578612106], [110.223846063276, -2.9340324845534553], [110.07093550012434, -1.5928740372824635], [109.571947869914, -1.3149065079844746], [109.0918738139225, -0.45950652425709393], [108.9526575053282, 0.41537547444431766], [109.06913618371408, 1.3419339054376138], [109.66326012577375, 2.0064669864949565], [109.83022667850881, 1.3381356876641632], [110.51406090702716, 0.7731314152009645], [111.15913781132662, 0.976478176269481], [111.79754845586041, 0.9044412296546085], [112.38025190638359, 1.4101209578467433], [112.85980919805218, 1.4977900252299037], [113.8058496440195, 1.2175487329110695], [114.62135542201753, 1.4306881778989011], [115.13403730678522, 2.8214818383862337], [115.51907840379198, 3.169238389494396], [115.8655172058767, 4.3065591495901], [117.01521447150628, 4.3060940616994685], [117.88203494677018, 4.137551377779516]]], [[[129.37099775606094, -2.8021542293445947], [130.47134402885177, -3.093764336767634], [130.83483605359282, -3.8584721818227763], [129.99054650280817, -3.446300957862796], [129.15524865124235, -3.3626368139822485], [128.59068362845363, -3.428679294451264], [127.89889122936235, -3.393435967628207], [128.13587934785284, -2.843650404474971], [129.37099775606094, -2.8021542293445947]]], [[[126.87492272349886, -3.7909827612495874], [126.18380211802736, -3.607376397316564], [125.98903364471926, -3.177273451351305], [127.00065148326497, -3.129317722184446], [127.24921512258891, -3.45906503663889], [126.87492272349886, -3.7909827612495874]]], [[[127.93237755748748, 2.1745962589565693], [128.00415612194087, 1.6285313989283452], [128.5945593608755, 1.5408106551128782], [128.6882487326207, 1.1323859724940633], [128.63595218314134, 0.2584858260061935], [128.1201697124361, 0.3564126651992865], [127.96803429576886, -0.25207732503751856], [128.3799988139997, -0.7800037573313005], [128.1000159038423, -0.8999964331130315], [127.69647464407507, -0.26659840251153355], [127.39949018769369, 1.011721503092545], [127.60051150930906, 1.810690822757195], [127.93237755748748, 2.1745962589565693]]], [[[122.9275667664518, 0.8751923689774088], [124.07752241424288, 0.9171019555661245], [125.0659892111218, 1.6432591821315297], [125.2405005229715, 1.4198361271176054], [124.4370353536974, 0.4278811710589565], [123.6855049988767, 0.235593166500891], [122.72308312387287, 0.4311367862933366], [121.05672488818911, 0.3812173526993945], [120.18308312386272, 0.2372468123342344], [120.04086958219548, -0.5196578914448367], [120.93590538949073, -1.408905938323393], [121.4758207540762, -0.9559620092851304], [123.34056481332846, -0.6156727026431383], [123.25839928598441, -1.0762130672283092], [122.82271528533161, -0.9309506160558526], [122.38852990121529, -1.516858005381117], [121.50827355355551, -1.904482924002458], [122.4545723816843, -3.1860584448409237], [122.2718961935325, -3.5295000138527115], [123.17096276254655, -4.683693129091701], [123.1623327983538, -5.340603936385996], [122.62851525277875, -5.634591159694466], [122.23639448454801, -5.2829330379482675], [122.71956912647701, -4.464171644715826], [121.73823367725436, -4.851331475446543], [121.48946333220127, -4.574552504091265], [121.61917117725386, -4.1884778784386825], [120.89818159391766, -3.602105401222794], [120.97238895068878, -2.627642917494939], [120.30545291552986, -2.9316036922357327], [120.39004723519167, -4.097579034037274], [120.43071658740537, -5.528241062037793], [119.79654341031949, -5.673400160345665], [119.36690555224489, -5.3798780249278195], [119.65360639860017, -4.459417412944973], [119.49883548388601, -3.4944117163265322], [119.07834435432704, -3.487021986508793], [118.76776899625287, -2.801999200047718], [119.18097374885869, -2.1471037736128054], [119.3233939962551, -1.3531470678804638], [119.82599897672587, 0.1542544620734816], [120.0357019389663, 0.5664773624657613], [120.88577925016762, 1.3092227237968501], [121.66681684782696, 1.0139435896810909], [122.9275667664518, 0.8751923689774088]]], [[[120.29501427620689, -10.258649997603591], [118.96780846565471, -9.557969252158074], [119.90030968636157, -9.361340427287502], [120.42575564990534, -9.665921319215798], [120.77550174365675, -9.96967538822743], [120.71560875863045, -10.239581394087885], [120.29501427620689, -10.258649997603591]]], [[[121.34166873584651, -8.536739597206072], [122.00736453663043, -8.460620212440148], [122.90353722543607, -8.094234307490765], [122.75698286345632, -8.649807631060696], [121.2544905945701, -8.933666273639957], [119.92439090380958, -8.81041798262384], [119.92092858284605, -8.444858900591122], [120.71509199430757, -8.236964613480914], [121.34166873584651, -8.536739597206072]]], [[[118.26061648974044, -8.362383314653293], [118.87845991422208, -8.280682875199844], [119.12650678922307, -8.705824883665088], [117.97040164598928, -8.906639499551304], [117.27773074754901, -9.040894870645594], [116.74014082241665, -9.032936700072646], [117.0837374207253, -8.45715789147659], [117.6320243673421, -8.449303073768228], [117.90001834520776, -8.09568124759494], [118.26061648974044, -8.362383314653293]]], [[[108.48684614464926, -6.42198495852574], [108.62347863162896, -6.777673841990705], [110.53922732955328, -6.877357679881726], [110.75957563684585, -6.465186455921747], [112.6148112325564, -6.946035658397626], [112.97876834518806, -7.594213148634594], [114.47893517462114, -7.7765276017603275], [115.70552697150106, -8.370806573116873], [114.56451134649649, -8.751816908404855], [113.46473351446085, -8.348947442257405], [112.55967247930097, -8.376180922075221], [111.52206139531245, -8.302128594600973], [110.58614953007432, -8.122604668819001], [109.42766727095511, -7.740664157749762], [108.69365522668133, -7.641600437046243], [108.27776329959633, -7.766657403192576], [106.45410200401612, -7.354899590690934], [106.28062422081231, -6.924899997590252], [105.36548628135552, -6.851416110871206], [106.05164594932702, -5.895918877794472], [107.2650085795402, -5.954985039904081], [108.07209109907467, -6.3457622208952245], [108.48684614464926, -6.42198495852574]]], [[[104.36999148968489, -1.0848430314210589], [104.53949018760221, -1.7823715144967662], [104.88789269411402, -2.340425306816705], [105.62211144411697, -2.4288436824680986], [106.10859337771265, -3.0617766251789647], [105.85744591677414, -4.305524997579774], [105.8176550639094, -5.85235564537242], [104.71038414919144, -5.873284600450632], [103.86821333213078, -5.037314955264996], [102.5842606954069, -4.2202588842981825], [102.156173130301, -3.6141460099468006], [101.39911339722507, -2.7997771134591645], [100.90250288290015, -2.050262139497832], [100.14198082886065, -0.6503475887109857], [99.26373986206028, 0.1831415877246343], [98.97001102091326, 1.042882391764536], [98.60135135294306, 1.8235065779655741], [97.69959760944985, 2.45318390544206], [97.17694217324984, 3.3087905948985963], [96.42401655475726, 3.868859768077925], [95.3808760925135, 4.970782172053688], [95.29302615761729, 5.479820868344788], [95.93686282754174, 5.439513251157123], [97.4848820332771, 5.246320909033955], [98.36916914265566, 4.2683702661263965], [99.1425586283358, 3.590349636240873], [99.69399783732241, 3.174328518075143], [100.64143354696162, 2.099381211755741], [101.65801232300734, 2.0836974145551608], [102.49827111207323, 1.3987004663102311], [103.07684044801303, 0.5613613956688681], [103.83839603069836, 0.10454173420869493], [103.4376452982749, -0.7119458960029021], [104.01078860882404, -1.0592115210042863], [104.36999148968489, -1.0848430314210589]]]]}}, {\\\"id\\\": \\\"3\\\", \\\"type\\\": \\\"Feature\\\", \\\"properties\\\": {\\\"country\\\": \\\"Argentina\\\", \\\"country_code\\\": \\\"ARG\\\", \\\"mean\\\": 7.633333333333333}, \\\"geometry\\\": {\\\"type\\\": \\\"MultiPolygon\\\", \\\"coordinates\\\": [[[[-68.63401022758323, -52.63637045887449], [-68.25, -53.1], [-67.75, -53.85], [-66.45, -54.45], [-65.05, -54.699999999999996], [-65.5, -55.2], [-66.45, -55.25], [-66.95992000000001, -54.896810000000016], [-67.56244, -54.87001], [-68.63335000000001, -54.869499999999995], [-68.63401022758323, -52.63637045887449]]], [[[-57.62513342958296, -30.21629485445426], [-57.87493730328188, -31.016556084926208], [-58.14244035504076, -32.044503676076154], [-58.13264767112145, -33.040566908502015], [-58.349611172098875, -33.26318897881541], [-58.42707414410439, -33.909454441057576], [-58.49544206402655, -34.43148976007008], [-57.22582963726366, -35.28802662530788], [-57.36235877137878, -35.977390232081476], [-56.73748735210545, -36.41312590916655], [-56.78828528504836, -36.901571547189334], [-57.74915686708346, -38.18387053807989], [-59.23185706240189, -38.720220228837235], [-61.23744523786564, -38.9284245745412], [-62.33595699731013, -38.827707208004334], [-62.125763108962936, -39.42410491308485], [-62.330530971919494, -40.17258635840034], [-62.145994432205214, -40.67689666113672], [-62.745802781816984, -41.0287614886121], [-63.77049475773255, -41.16678923926369], [-64.73208980981973, -40.80267709733515], [-65.11803524439158, -41.06431487402891], [-64.97856055363582, -42.05800099056934], [-64.3034079657425, -42.35901620866951], [-63.75594784204239, -42.043686618824495], [-63.458059048095876, -42.563138116222405], [-64.37880388045633, -42.87355844499969], [-65.18180396183975, -43.495380954767796], [-65.32882341171013, -44.501366062193696], [-65.5652689276616, -45.036785577169795], [-66.50996578638934, -45.03962778094586], [-67.29379391139247, -45.55189625425519], [-67.58054643418008, -46.30177296324257], [-66.59706641301729, -47.033924655953825], [-65.64102657740149, -47.23613453551193], [-65.98508826360079, -48.133289076531135], [-67.16617896184769, -48.697337334996945], [-67.81608761256643, -49.86966887797038], [-68.72874508327321, -50.26421843851883], [-69.13853919134777, -50.732510267947795], [-68.81556148952356, -51.771104011594126], [-68.14999487982038, -52.34998340612768], [-68.57154537624133, -52.299443855346226], [-69.49836218939609, -52.14276091263727], [-71.91480383979638, -52.0090223058659], [-72.32940385607407, -51.42595631287243], [-72.30997351753234, -50.67700977966632], [-72.97574683296469, -50.741450290734285], [-73.32805091011453, -50.378785088909915], [-73.4154357571201, -49.31843637471297], [-72.64824744331494, -48.87861825947683], [-72.33116085477201, -48.2442383766618], [-72.44735531278027, -47.73853281025352], [-71.91725847033024, -46.88483814879177], [-71.55200944689128, -45.5607329241771], [-71.65931555854536, -44.973688653341426], [-71.22277889675976, -44.784242852559416], [-71.32980078803622, -44.407521661151655], [-71.79362260607193, -44.207172133156064], [-71.46405615913051, -43.787611179378345], [-71.91542395698389, -43.40856454851745], [-72.14889807807856, -42.254888197601375], [-71.7468037584155, -42.05138640723598], [-71.91573401557763, -40.83233936947069], [-71.68076127794649, -39.808164157878046], [-71.41351660834906, -38.91602223079114], [-70.81466427273469, -38.55299529394074], [-71.11862504747549, -37.57682748794724], [-71.12188066270987, -36.65812387466232], [-70.36476925320164, -36.00508879978992], [-70.38804948594913, -35.16968759535949], [-69.81730912950152, -34.1935714657983], [-69.81477698431922, -33.273886000299825], [-70.0743993801536, -33.09120981214805], [-70.53506893581951, -31.36501026787031], [-69.91900834825194, -30.33633920666828], [-70.01355038112992, -29.367922865518572], [-69.65613033718317, -28.459141127233686], [-69.00123491074825, -27.52121388113618], [-68.29554155137043, -26.89933969493578], [-68.59479977077268, -26.506908868111296], [-68.38600114609736, -26.185016371365215], [-68.41765296087614, -24.51855478281688], [-67.32844295924417, -24.02530323659095], [-66.9852339341777, -22.98634856536284], [-67.1066735500636, -22.735924574476417], [-66.27333940292485, -21.83231047942072], [-64.96489213729461, -22.075861504812327], [-64.37702104354226, -22.79809132252354], [-63.986838141522476, -21.99364430103595], [-62.84646847192156, -22.03498544686945], [-62.685057135657885, -22.249029229422387], [-60.846564704009914, -23.880712579038292], [-60.02896603050403, -24.032796319273274], [-58.80712846539498, -24.77145924245331], [-57.77721716981794, -25.16233977630904], [-57.63366004091113, -25.60365650808164], [-58.61817359071975, -27.123718763947096], [-57.60975969097614, -27.395898532828387], [-56.486701626192996, -27.548499037386293], [-55.69584550639816, -27.387837009390864], [-54.78879492859505, -26.621785577096134], [-54.625290696823576, -25.739255466415514], [-54.13004960795439, -25.547639255477254], [-53.628348965048744, -26.124865004177472], [-53.64873531758789, -26.92347258881609], [-54.490725267135524, -27.47475676850579], [-55.16228634298457, -27.881915378533463], [-56.29089962423908, -28.852760512000895], [-57.62513342958296, -30.21629485445426]]]]}}, {\\\"id\\\": \\\"4\\\", \\\"type\\\": \\\"Feature\\\", \\\"properties\\\": {\\\"country\\\": \\\"Chile\\\", \\\"country_code\\\": \\\"CHL\\\", \\\"mean\\\": 5.75}, \\\"geometry\\\": {\\\"type\\\": \\\"MultiPolygon\\\", \\\"coordinates\\\": [[[[-68.63401022758323, -52.63637045887449], [-68.63335000000001, -54.869499999999995], [-67.56244, -54.87001], [-66.95992000000001, -54.896810000000016], [-67.29102999999992, -55.30123999999995], [-68.14862999999991, -55.61183], [-68.63999081081187, -55.58001799908692], [-69.2321, -55.49905999999993], [-69.95808999999997, -55.19843000000003], [-71.00567999999998, -55.053830000000005], [-72.26390000000004, -54.49513999999999], [-73.28519999999997, -53.95751999999993], [-74.66253, -52.837489999999946], [-73.8381, -53.04743000000002], [-72.43417999999997, -53.71539999999999], [-71.10773, -54.07432999999992], [-70.59177999999986, -53.61582999999996], [-70.26747999999998, -52.93123000000003], [-69.34564999999992, -52.518299999999954], [-68.63401022758323, -52.63637045887449]]], [[[-69.59042375352405, -17.580011895419332], [-69.10024695501949, -18.260125420812678], [-68.96681840684187, -18.981683444904107], [-68.44222510443092, -19.40506845467143], [-68.75716712103375, -20.372657972904463], [-68.21991309271128, -21.494346612231865], [-67.82817989772273, -22.872918796482175], [-67.1066735500636, -22.735924574476417], [-66.9852339341777, -22.98634856536284], [-67.32844295924417, -24.02530323659095], [-68.41765296087614, -24.51855478281688], [-68.38600114609736, -26.185016371365215], [-68.59479977077268, -26.506908868111296], [-68.29554155137043, -26.89933969493578], [-69.00123491074825, -27.52121388113618], [-69.65613033718317, -28.459141127233686], [-70.01355038112992, -29.367922865518572], [-69.91900834825194, -30.33633920666828], [-70.53506893581951, -31.36501026787031], [-70.0743993801536, -33.09120981214805], [-69.81477698431922, -33.273886000299825], [-69.81730912950152, -34.1935714657983], [-70.38804948594913, -35.16968759535949], [-70.36476925320164, -36.00508879978992], [-71.12188066270987, -36.65812387466232], [-71.11862504747549, -37.57682748794724], [-70.81466427273469, -38.55299529394074], [-71.41351660834906, -38.91602223079114], [-71.68076127794649, -39.808164157878046], [-71.91573401557763, -40.83233936947069], [-71.7468037584155, -42.05138640723598], [-72.14889807807856, -42.254888197601375], [-71.91542395698389, -43.40856454851745], [-71.46405615913051, -43.787611179378345], [-71.79362260607193, -44.207172133156064], [-71.32980078803622, -44.407521661151655], [-71.22277889675976, -44.784242852559416], [-71.65931555854536, -44.973688653341426], [-71.55200944689128, -45.5607329241771], [-71.91725847033024, -46.88483814879177], [-72.44735531278027, -47.73853281025352], [-72.33116085477201, -48.2442383766618], [-72.64824744331494, -48.87861825947683], [-73.4154357571201, -49.31843637471297], [-73.32805091011453, -50.378785088909915], [-72.97574683296469, -50.741450290734285], [-72.30997351753234, -50.67700977966632], [-72.32940385607407, -51.42595631287243], [-71.91480383979638, -52.0090223058659], [-69.49836218939609, -52.14276091263727], [-68.57154537624133, -52.299443855346226], [-69.46128434922667, -52.29195077266391], [-69.9427795071062, -52.53793059037322], [-70.8451016913546, -52.89920052852571], [-71.00633216010525, -53.83325204220132], [-71.429794684521, -53.85645476030037], [-72.55794287788488, -53.53141000118449], [-73.7027567206629, -52.835069268607235], [-73.7027567206629, -52.835070076051494], [-74.94676347522517, -52.262753588419], [-75.2600260077785, -51.62935475037325], [-74.97663245308988, -51.0433956846157], [-75.47975419788355, -50.37837167745158], [-75.60801510283198, -48.67377288187184], [-75.18276974150216, -47.7119194476232], [-74.1265809801047, -46.93925343199511], [-75.64439531116545, -46.64764332457207], [-74.69215369332312, -45.76397633238103], [-74.35170935738425, -44.10304412208794], [-73.24035600451522, -44.454960625995604], [-72.7178039211798, -42.38335580827898], [-73.38889990913822, -42.117532240569574], [-73.70133561877488, -43.365776462579774], [-74.33194312203261, -43.22495818458442], [-74.0179571194272, -41.79481292090683], [-73.67709937202999, -39.94221282324317], [-73.21759253609065, -39.25868865331856], [-73.50555945503712, -38.282882582351114], [-73.58806087919109, -37.15628468195598], [-73.1667170884993, -37.12378020604439], [-72.55313696968174, -35.50884002049106], [-71.86173214383263, -33.90909270603153], [-71.4384504869299, -32.41889942803078], [-71.66872066922247, -30.920644626592495], [-71.37008256700773, -30.09568206148503], [-71.48989437527645, -28.861442152625923], [-70.90512386746161, -27.640379734001247], [-70.72495398627599, -25.705924167587256], [-70.40396582709502, -23.628996677344574], [-70.09124589708074, -21.39331918710126], [-70.16441972520605, -19.756468194256165], [-70.37257239447771, -18.34797535570887], [-69.85844356960587, -18.092693780187012], [-69.59042375352405, -17.580011895419332]]]]}}, {\\\"id\\\": \\\"5\\\", \\\"type\\\": \\\"Feature\\\", \\\"properties\\\": {\\\"country\\\": \\\"Kenya\\\", \\\"country_code\\\": \\\"KEN\\\", \\\"mean\\\": 7.4}, \\\"geometry\\\": {\\\"type\\\": \\\"Polygon\\\", \\\"coordinates\\\": [[[39.20222, -4.67677], [37.7669, -3.6771200000000004], [37.69868999999994, -3.0969899999999484], [34.07261999999997, -1.0598199999999451], [33.90371119710453, -0.9500000000000001], [33.893568969666944, 0.1098135378618963], [34.18, 0.515], [34.6721, 1.1769399999999999], [35.03599, 1.90584], [34.59607, 3.0537400000001185], [34.47913, 3.5556000000000836], [34.005, 4.249884947362048], [34.62019626785388, 4.8471227420819885], [35.29800711823298, 5.506], [35.817447662353516, 5.338232082790797], [35.817447662353516, 4.7769656634618896], [36.159078632855646, 4.447864127672769], [36.85509323800812, 4.447864127672769], [38.120915, 3.598605], [38.43697, 3.58851], [38.67114, 3.6160700000000006], [38.89251, 3.5007400000000004], [39.55938425876585, 3.42206], [39.85494, 3.83879], [40.76848, 4.257020000000001], [41.1718, 3.9190899999999997], [41.85508309264397, 3.918911920483727], [40.98105, 2.7845199999999997], [40.993, -0.85829], [41.58513, -1.6832500000000001], [40.88477, -2.08255], [40.63785000000001, -2.49979], [40.26304000000001, -2.57309], [40.12119, -3.27768], [39.80006, -3.68116], [39.604890000000005, -4.3465300000000004], [39.20222, -4.67677]]]}}, {\\\"id\\\": \\\"6\\\", \\\"type\\\": \\\"Feature\\\", \\\"properties\\\": {\\\"country\\\": \\\"Russia\\\", \\\"country_code\\\": \\\"RUS\\\", \\\"mean\\\": 6.385714285714286}, \\\"geometry\\\": {\\\"type\\\": \\\"MultiPolygon\\\", \\\"coordinates\\\": [[[[178.7253, 71.0988], [180.00000000000006, 71.51571433642829], [180.00000000000006, 70.83219920854673], [178.90342499999997, 70.78114000000001], [178.7253, 71.0988]]], [[[49.10116000000011, 46.399330000000134], [48.64541000000008, 45.806290000000104], [47.67590999999999, 45.64149000000015], [46.68201000000005, 44.6092000000001], [47.59093999999999, 43.660160000000076], [47.49252000000007, 42.98658000000012], [48.58437000000015, 41.808880000000045], [48.58435339611342, 41.80886879162067], [47.98728315612598, 41.40581920019423], [47.81566572448463, 41.15141612402135], [47.37331546406623, 41.2197323675112], [46.68607059101661, 41.82713715266988], [46.404950799348825, 41.860675157227305], [45.776400000000024, 42.09244000000018], [45.47027916848572, 42.50278066666998], [44.537622918481986, 42.71199270280363], [43.931210000000135, 42.55496000000011], [43.75599000000011, 42.740830000000074], [42.39440000000013, 43.220300000000066], [40.922190000000114, 43.38215000000014], [40.07696495947977, 43.553104153002316], [39.955008579270924, 43.43499766699922], [38.68000000000001, 44.280000000000086], [37.539120000000025, 44.65721000000002], [36.6754600000001, 45.244690000000105], [37.4031700000001, 45.40451000000013], [38.23295000000002, 46.24087000000003], [37.67372, 46.636570000000006], [39.14767000000012, 47.044750000000136], [39.121200000000044, 47.26336000000009], [38.223538038899335, 47.10218984637595], [38.25511233902978, 47.54640045835691], [38.77057000000008, 47.825620000000185], [39.738277622238854, 47.89893707945197], [39.89562000000018, 48.23241000000007], [39.674649999999986, 48.78382000000016], [40.080789015469406, 49.30742991799934], [40.06904000000014, 49.60104999999999], [38.59498823421342, 49.9264619004237], [38.01063113785693, 49.9156615260747], [37.39345950699516, 50.38395335550365], [36.62616784032542, 50.225590928745135], [35.356116163887975, 50.57719737405904], [35.377909999999986, 50.773940000000096], [35.02218305841791, 51.2075723333715], [34.22481570815427, 51.25599315042888], [34.141978387190534, 51.566413479206346], [34.39173058445709, 51.768881740925906], [33.75269982273579, 52.3350745713318], [32.715760532367085, 52.23846548116211], [32.41205813978769, 52.28869497334978], [32.15944000000013, 52.06125000000014], [31.78599244755525, 52.1016775699397], [31.785970000000077, 52.1016800000001], [31.54001834486226, 52.74205231384636], [31.305200636528014, 53.07399587667321], [31.49763999999999, 53.16743000000014], [32.30451948418823, 53.13272614197291], [32.69364301934604, 53.35142080343218], [32.405598585751164, 53.61804535584204], [31.731272820774507, 53.79402944601202], [31.79142418796224, 53.974638576872124], [31.38447228366374, 54.15705638286238], [30.75753380709872, 54.81177094178432], [30.971835971813135, 55.08154775656404], [30.87390913262001, 55.55097646750341], [29.896294386522356, 55.78946320253041], [29.371571893030673, 55.670090643936184], [29.229513380660308, 55.91834422466636], [28.17670942557794, 56.16912995057879], [27.855282016722526, 56.75932648378429], [27.77001590344093, 57.24425812441123], [27.288184848751513, 57.47452830670383], [27.71668582531572, 57.79189911562436], [27.42015000000015, 58.72457000000014], [28.13169925305175, 59.300825100330925], [27.981120000000033, 59.47537000000011], [27.981126857000987, 59.47537333432527], [29.117700000000013, 60.02805000000012], [28.070001921525666, 60.50351912796823], [28.07000000000005, 60.503520000000094], [30.21110721204445, 61.780027777749694], [31.139991082490894, 62.35769277612441], [31.516092156711125, 62.86768748641289], [30.035872430142717, 63.55281362573855], [30.44468468600371, 64.20445343693909], [29.54442955904699, 64.94867157659048], [30.217650000000003, 65.80598], [29.054588657352326, 66.94428620062206], [29.97742638522061, 67.69829702419275], [28.445943637818658, 68.36461294216404], [28.591929559043194, 69.06477692328666], [29.399550000000033, 69.15692000000013], [31.101042202597625, 69.55810108805622], [31.10108000000008, 69.55811000000011], [32.13272000000018, 69.90595000000019], [33.77547000000004, 69.30142000000012], [36.51396, 69.06342000000006], [40.29234000000014, 67.93240000000003], [41.059870000000046, 67.45713000000012], [41.1259500000001, 66.79158000000007], [40.01583000000005, 66.26618000000013], [38.382949999999994, 65.9995300000001], [33.91871000000015, 66.75961000000001], [33.18444000000005, 66.63252999999997], [34.814770000000124, 65.90015000000017], [34.87857425307874, 65.4362128770482], [34.94391000000007, 64.41437000000019], [36.23129, 64.10945000000004], [37.01273000000009, 63.84983000000011], [37.141970000000185, 64.33471000000009], [36.53957903508979, 64.76446000000004], [37.17604000000006, 65.14322000000016], [39.59345000000002, 64.5207900000002], [40.43560000000008, 64.76446000000004], [39.76260000000019, 65.49682000000001], [42.09309000000013, 66.47623000000004], [43.01604000000009, 66.41858000000013], [43.94975000000011, 66.06908000000004], [44.53226000000001, 66.75634000000014], [43.698390000000074, 67.35245000000003], [44.18795000000017, 67.95051000000012], [43.45282000000003, 68.57078999999999], [46.250000000000114, 68.25], [46.82134000000008, 67.68997000000007], [45.55517000000003, 67.56652000000003], [45.56202000000013, 67.01005000000015], [46.34915000000012, 66.6676700000001], [47.89416000000017, 66.8845500000001], [48.13876000000005, 67.52238000000006], [50.22766000000013, 67.99867000000017], [53.71743000000015, 68.85738000000015], [54.47171000000009, 68.80815000000001], [53.48582000000016, 68.20130999999998], [54.726279999999974, 68.09701999999999], [55.44268000000011, 68.43866000000008], [57.31702000000007, 68.4662800000001], [58.802000000000135, 68.88081999999997], [59.94142000000011, 68.27844000000005], [61.07784000000021, 68.94069000000007], [60.02999999999997, 69.5200000000001], [60.55000000000001, 69.85000000000002], [63.50400000000013, 69.54739000000006], [64.88811500000003, 69.23483500000009], [68.51216000000016, 68.09233000000012], [69.18068000000011, 68.61563000000012], [68.16444000000007, 69.14436000000006], [68.13522, 69.35649000000012], [66.93008000000015, 69.45461000000012], [67.25976000000009, 69.92873000000009], [66.72492000000017, 70.70889000000017], [66.69466000000006, 71.02897000000019], [68.54006000000004, 71.93450000000018], [69.19636000000003, 72.84336000000019], [69.94, 73.04000000000008], [72.58754000000005, 72.77629000000013], [72.79603000000003, 72.22005999999999], [71.84811000000008, 71.4089800000001], [72.47010999999998, 71.09019000000006], [72.79188000000005, 70.39114000000001], [72.56470000000013, 69.02085], [73.66787, 68.40789999999998], [73.23870000000005, 67.74040000000002], [71.28000000000009, 66.3200000000001], [72.42301000000009, 66.17267000000021], [72.82076999999998, 66.53267000000005], [73.92099000000013, 66.78946000000013], [74.18651000000011, 67.28429], [75.05200000000008, 67.76047000000011], [74.46926000000013, 68.32899000000009], [74.9358400000001, 68.98918000000009], [73.84235999999999, 69.07146000000006], [73.60187000000019, 69.62763000000001], [74.39980000000003, 70.63175000000001], [73.10109999999997, 71.4471700000002], [74.89082000000019, 72.12119000000013], [74.65926000000007, 72.83227000000005], [75.1580100000001, 72.85497000000015], [75.68351000000013, 72.30056000000013], [75.2889800000001, 71.3355600000001], [76.35911000000004, 71.15287000000018], [75.90313000000015, 71.87401000000006], [77.57665000000009, 72.26717000000002], [79.6520200000001, 72.32011], [81.50000000000006, 71.75000000000006], [80.6107100000001, 72.58285000000012], [80.51109000000002, 73.64819999999997], [82.25000000000006, 73.85000000000014], [84.65526, 73.80591000000021], [86.82230000000015, 73.93688000000003], [86.00956000000002, 74.45967000000019], [87.16682000000014, 75.11643000000004], [88.31571000000008, 75.14393000000007], [90.26000000000005, 75.64000000000004], [92.90057999999999, 75.7733300000001], [93.23421000000008, 76.04720000000009], [95.86000000000018, 76.1400000000001], [96.67821000000009, 75.91548], [98.92254000000014, 76.44689], [100.75967000000014, 76.43028000000004], [101.03532000000001, 76.86189000000007], [101.9908400000001, 77.28754000000015], [104.35160000000013, 77.69792000000007], [106.06664000000018, 77.37389000000007], [104.70500000000015, 77.12740000000008], [106.9701300000001, 76.97419000000008], [107.24000000000012, 76.48000000000002], [108.1538000000001, 76.7233500000001], [111.0772600000002, 76.71000000000004], [113.33150999999998, 76.22224], [114.13417000000004, 75.84764000000001], [113.88539000000003, 75.32779000000016], [112.77918, 75.03186000000011], [110.15125000000012, 74.47673000000003], [109.40000000000003, 74.18000000000006], [110.63999999999999, 74.04000000000002], [112.11919, 73.78774000000016], [113.01954000000023, 73.97693000000015], [113.52958000000024, 73.33505000000014], [113.96880999999996, 73.59488000000005], [115.56781999999998, 73.75285000000008], [118.77633000000014, 73.58771999999999], [119.01999999999998, 73.12000000000006], [123.20066000000008, 72.97122000000007], [123.25777000000016, 73.73503000000005], [125.38000000000011, 73.56000000000006], [126.97644000000003, 73.56549000000012], [128.59126000000003, 73.0387100000001], [129.05156999999997, 72.39872000000008], [128.46000000000004, 71.98000000000002], [129.71599000000015, 71.19304000000011], [131.28858000000025, 70.78699000000012], [132.25350000000014, 71.83630000000011], [133.85766000000024, 71.3864200000001], [135.56192999999996, 71.65525000000014], [137.49755000000005, 71.3476300000001], [138.23409000000015, 71.62803000000002], [139.8698300000001, 71.48783000000014], [139.14791000000002, 72.41619000000014], [140.46817, 72.84941000000015], [149.5, 72.20000000000005], [150.3511800000001, 71.60643000000005], [152.9689000000002, 70.84222000000005], [157.00688000000002, 71.03141000000005], [158.99779, 70.86671999999999], [159.83031000000017, 70.45324000000005], [159.70866, 69.72198000000003], [160.9405300000003, 69.4372800000001], [162.27907000000005, 69.64204000000001], [164.05248000000006, 69.66823], [165.94037000000014, 69.47199], [167.83566999999994, 69.58269000000013], [169.5776300000001, 68.69380000000007], [170.8168800000002, 69.01362999999998], [170.0082000000001, 69.65276000000006], [170.4534500000002, 70.09703000000007], [173.64391000000012, 69.81743000000006], [175.7240300000002, 69.87725000000017], [178.60000000000002, 69.40000000000003], [180.0, 68.96363636363651], [180.0, 64.97970870219848], [179.99280999999996, 64.97433000000001], [178.70720000000028, 64.53493000000003], [177.41128000000003, 64.60821000000004], [178.3130000000001, 64.07593000000003], [178.90825000000018, 63.251970000000085], [179.37033999999994, 62.98262000000011], [179.48636, 62.56894], [179.22825, 62.304100000000176], [177.36430000000007, 62.52190000000007], [174.56929000000025, 61.769150000000025], [173.68013000000008, 61.652610000000095], [172.14999999999998, 60.94999999999999], [170.69850000000008, 60.33618000000013], [170.33085000000028, 59.881770000000074], [168.90045999999995, 60.57355000000007], [166.29498000000024, 59.78855000000016], [165.84000000000015, 60.160000000000025], [164.87673999999993, 59.731600000000014], [163.53929000000005, 59.86871000000002], [163.21711000000016, 59.211010000000044], [162.01733000000002, 58.24328000000003], [162.05296999999996, 57.83911999999998], [163.19191, 57.615030000000104], [163.05794000000014, 56.159240000000125], [162.12958000000015, 56.122190000000046], [161.70146, 55.285680000000184], [162.1174900000001, 54.855140000000006], [160.36877000000027, 54.34433000000007], [160.02173000000016, 53.202570000000094], [158.5309400000001, 52.958680000000186], [158.23118, 51.94269000000003], [156.78979000000027, 51.01105000000007], [156.42000000000007, 51.700000000000045], [155.99181999999996, 53.158950000000004], [155.43366000000003, 55.38103000000012], [155.9144200000003, 56.767920000000174], [156.75815, 57.36470000000003], [156.81035000000008, 57.832040000000006], [158.3643300000001, 58.055750000000046], [160.15064000000007, 59.31477000000007], [161.87203999999997, 60.343000000000075], [163.66968999999995, 61.1409000000001], [164.47355000000005, 62.550610000000006], [163.25842000000011, 62.46627000000012], [162.65791000000002, 61.64250000000004], [160.12148000000002, 60.544230000000084], [159.30232, 61.7739600000001], [156.72068000000002, 61.434420000000046], [154.21806000000026, 59.75818000000015], [155.04375000000005, 59.14495000000005], [152.81185000000005, 58.88385000000005], [151.2657300000002, 58.78089], [151.33815000000004, 59.50396000000006], [149.78371000000004, 59.655730000000176], [148.54480999999998, 59.164480000000026], [145.48721999999998, 59.336370000000045], [142.1978200000001, 59.03998000000013], [138.95848000000024, 57.08805000000007], [135.12618999999995, 54.72959000000009], [136.70171000000005, 54.603550000000155], [137.19342000000006, 53.97732000000002], [138.16470000000004, 53.7550100000002], [138.80462999999997, 54.25455000000005], [139.90151000000003, 54.18968000000012], [141.34531000000004, 53.08957000000015], [141.37923, 52.238770000000045], [140.59742000000017, 51.2396700000001], [140.51307999999995, 50.045530000000156], [140.0619300000002, 48.44671000000011], [138.5547200000002, 46.999649999999974], [138.21970999999996, 46.307950000000005], [136.86232000000007, 45.14350000000013], [135.51535000000013, 43.98900000000009], [134.86939000000018, 43.39821000000006], [133.53687000000025, 42.8114700000001], [132.90627000000006, 42.79849000000013], [132.27807000000018, 43.28456000000011], [130.93587000000014, 42.552740000000085], [130.78000485358513, 42.22001036108258], [130.78000366004676, 42.220007813203225], [130.77999999999997, 42.22000000000014], [130.77999231657833, 42.22000960427719], [130.6400000000001, 42.39500000000004], [130.63999970690955, 42.39502427522179], [130.63386640840974, 42.90301463477053], [131.1446879416149, 42.92998973242689], [131.28855512911548, 44.11151968034828], [131.02519000000018, 44.96796000000006], [131.8834542176595, 45.32116160743652], [133.09712000000013, 45.14409000000006], [133.76964399631288, 46.116926988299014], [134.1123500000001, 47.212480000000085], [134.50081, 47.57845000000009], [135.02631147678665, 48.478229885443874], [133.37359581922794, 48.18344167743487], [132.50669000000005, 47.78896000000003], [130.9872600000001, 47.79013000000003], [130.58229332898242, 48.72968740497614], [129.39781782442043, 49.44060008401544], [127.65740000000028, 49.760270000000105], [127.28745568248485, 50.73979726826548], [126.93915652883766, 51.35389415140592], [126.56439904185697, 51.7842554795327], [125.94634891164617, 52.79279857035698], [125.06821129771038, 53.16104482686886], [123.57146999999998, 53.45880000000005], [122.24574791879283, 53.431725979213695], [121.00308475147017, 53.25140106873119], [120.17708865771681, 52.75388621684124], [120.72578901579197, 52.516226304730935], [120.7382, 51.96411000000006], [120.18208000000016, 51.64355000000012], [119.27939000000003, 50.58292], [119.2884607280258, 50.142882798862004], [117.8792444194264, 49.510983384796965], [116.67880089728612, 49.888531399121405], [115.48569542853136, 49.80517731383475], [114.96210981655018, 50.140247300815126], [114.36245649623527, 50.24830272073741], [112.89773969935436, 49.54356537535699], [111.58123091028662, 49.37796824807769], [110.66201053267878, 49.13012807880585], [109.40244917199664, 49.292960516957635], [108.47516727095129, 49.28254771585074], [107.86817589725095, 49.793705145865815], [106.8888041524553, 50.27429596618032], [105.88659142458675, 50.406019192092224], [104.62158, 50.27532000000019], [103.67654544476022, 50.089966132195116], [102.25589000000008, 50.51056000000011], [102.06521000000004, 51.25991000000005], [100.88948042196262, 51.51685578063832], [99.98173221232354, 51.63400625264399], [98.86149051310034, 52.04736603454669], [97.82573978067431, 51.01099518493318], [98.23176150919156, 50.422400621128745], [97.25976000000014, 49.72605000000004], [95.8140200000002, 49.97746000000012], [94.81594933469873, 50.01343333597085], [94.14756635943559, 50.48053660745717], [93.10421000000002, 50.49529000000001], [92.23471154171968, 50.80217072204172], [90.71366743364068, 50.33181183532109], [88.80556684769552, 49.47052073831242], [87.75126427607671, 49.297197984405486], [87.35997033076265, 49.21498078062912], [86.82935672398963, 49.82667470966817], [85.54126997268247, 49.69285858824816], [85.11555952346203, 50.11730296487764], [84.41637739455308, 50.311399644565824], [83.93511478061885, 50.88924551045358], [83.38300377801238, 51.069182847693924], [81.94598554883993, 50.81219594990637], [80.56844689323549, 51.38833649352847], [80.03555952344169, 50.86475088154725], [77.80091556184425, 53.404414984747575], [76.52517947785475, 54.17700348572714], [76.89110029491343, 54.49052440044193], [74.38482000000016, 53.54685000000012], [73.42567874542044, 53.489810289109755], [73.5085160663844, 54.0356167669766], [72.22415001820218, 54.376655381886735], [71.18013105660941, 54.13328522400826], [70.86526655465514, 55.169733588270105], [69.06816694527288, 55.38525014914353], [68.16910037625883, 54.97039175070432], [65.66687000000002, 54.60125000000011], [65.17853356309593, 54.35422781027211], [61.43660000000017, 54.00625000000002], [60.978066440683165, 53.66499339457914], [61.699986199800605, 52.97999644633427], [60.73999311711458, 52.71998647725775], [60.92726850774028, 52.44754832621504], [59.967533807215545, 51.9604204372157], [61.58800337102417, 51.272658799843214], [61.337424350840934, 50.79907013610426], [59.93280724471549, 50.842194118851864], [59.642282342370606, 50.545442206415714], [58.363320000000044, 51.06364000000002], [56.77798000000013, 51.043550000000096], [55.71694000000002, 50.62171000000018], [54.532878452376224, 51.02623973245932], [52.32872358583097, 51.718652248738124], [50.76664839051216, 51.6927623561599], [48.70238162618102, 50.60512848571284], [48.57784142435753, 49.87475962991567], [47.54948042174931, 50.454698391311126], [46.75159630716274, 49.35600576435377], [47.04367150247651, 49.152038886097614], [46.46644575377627, 48.39415233010493], [47.31524000000013, 47.7158500000001], [48.05725000000001, 47.74377000000004], [48.694733514201744, 47.07562816017793], [48.59325000000018, 46.56104000000005], [49.10116000000011, 46.399330000000134]]], [[[93.77766000000001, 81.0246], [95.94089500000001, 81.2504], [97.88385, 80.74697500000002], [100.186655, 79.780135], [99.93976, 78.88094], [97.75794, 78.75619999999999], [94.97259, 79.044745], [93.31288, 79.4265], [92.5454, 80.14379000000001], [91.18107000000002, 80.34146000000001], [93.77766000000001, 81.0246]]], [[[102.837815, 79.28129], [105.37243000000001, 78.71334], [105.07547000000002, 78.30689], [99.43814, 77.921], [101.2649, 79.23399], [102.08635, 79.34641], [102.837815, 79.28129]]], [[[138.831075, 76.13676000000001], [141.47161499999999, 76.09289], [145.086285, 75.562625], [144.3, 74.82000000000001], [140.61381, 74.84768], [138.95544, 74.61148], [136.97439, 75.26167000000001], [137.51176, 75.94917], [138.831075, 76.13676000000001]]], [[[148.22223, 75.345845], [150.73167, 75.08406], [149.575925, 74.68892], [147.977465, 74.778355], [146.11919, 75.17298], [146.358485, 75.49682], [148.22223, 75.345845]]], [[[139.86312, 73.36983000000001], [140.81171, 73.76506], [142.06207, 73.85758], [143.48283, 73.47525], [143.60385, 73.21244], [142.08763000000002, 73.20544], [140.03815500000002, 73.31692000000001], [139.86312, 73.36983000000001]]], [[[44.84695804218114, 80.58980988231714], [46.79913862487123, 80.77191762971368], [48.31847741068461, 80.78400991486998], [48.52280602396667, 80.51456899690017], [49.097189568890855, 80.7539859077084], [50.03976769389462, 80.91888540315178], [51.522932977103665, 80.69972565380193], [51.13618655783128, 80.54728017854093], [49.79368452332071, 80.4154277615482], [48.89441124857755, 80.33956675894375], [48.75493655782177, 80.17546824820089], [47.58611901224418, 80.01018117951533], [46.50282596210963, 80.2472468126543], [47.07245527526294, 80.55942414012951], [44.84695804218114, 80.58980988231714]]], [[[22.731098667092652, 54.327536932993326], [20.892244500418627, 54.31252492941253], [19.660640089606403, 54.42608388937393], [19.888481479581287, 54.86616038677151], [21.268448927503467, 55.190481675835315], [22.315723504330577, 55.015298570365864], [22.75776370615526, 54.85657440858138], [22.65105187347254, 54.582740993866736], [22.731098667092652, 54.327536932993326]]], [[[53.50828982932515, 73.7498139513002], [55.90245893740766, 74.62748647734536], [55.631932814359686, 75.08141225859718], [57.86864383324885, 75.60939036732326], [61.170044386647476, 76.25188345000812], [64.49836836127017, 76.43905548776927], [66.21097700385513, 76.80978221303117], [68.1570597675348, 76.93969676381293], [68.85221113472508, 76.5448113064546], [68.1805725442276, 76.23364166940907], [64.63732628770302, 75.73775462513625], [61.58350752141476, 75.26088450794684], [58.47708214705335, 74.30905630156285], [56.98678551618803, 73.33304352486623], [55.419335971910925, 72.37126760526603], [55.62283776227633, 71.54059479439032], [57.535692579992315, 70.72046397570212], [56.94497928246388, 70.63274323188666], [53.67737511578417, 70.76265778266846], [53.412016635965394, 71.20666168892022], [51.601894565645665, 71.47475901965045], [51.455753615124216, 72.01488108996513], [52.47827518088354, 72.22944163684097], [52.44416873557088, 72.77473135038481], [54.42761355979758, 73.6275475124976], [53.50828982932515, 73.7498139513002]]], [[[142.91461551327654, 53.704577541714784], [143.2608476096321, 52.74076040303906], [143.23526777564763, 51.75666026468876], [143.64800744036285, 50.747600409541505], [144.6541475770856, 48.97639069273754], [143.1739278505172, 49.306551418650315], [142.55866824765013, 47.86157501890495], [143.53349246640403, 46.83672801369252], [143.50527713437265, 46.137907619809525], [142.74770063697383, 46.74076487892651], [142.09203006405454, 45.966755276058834], [141.906925083585, 46.80592886004656], [142.01844282447087, 47.78013296161296], [141.90444461483503, 48.85918854429957], [142.1358000022057, 49.61516307229739], [142.17998335181528, 50.9523424342819], [141.59407596249002, 51.9354348822025], [141.6825460145737, 53.301966457728795], [142.60693403541075, 53.762145087287934], [142.20974897681543, 54.225475979216874], [142.65478641171302, 54.36588084575389], [142.91461551327654, 53.704577541714784]]], [[[-174.92825000000002, 67.20589000000001], [-175.01425000000003, 66.58435], [-174.33983000000003, 66.33556], [-174.57182, 67.06219], [-171.85731, 66.91308000000001], [-169.89958000000001, 65.97724], [-170.89107, 65.54138999999999], [-172.53025000000002, 65.43791], [-172.555, 64.46079], [-172.95533, 64.25269], [-173.89184, 64.2826], [-174.65392000000003, 64.63125000000001], [-175.98353, 64.92288], [-176.20716, 65.35667000000001], [-177.22266, 65.52024], [-178.35993000000002, 65.39052000000001], [-178.90332000000004, 65.74044], [-178.68610999999999, 66.11211], [-179.88377, 65.87456], [-179.43268, 65.40411], [-180.0, 64.9797087021984], [-180.0, 68.96363636363635], [-177.55000000000004, 68.2], [-174.92825000000002, 67.20589000000001]]], [[[-178.69378000000003, 70.89302], [-180.0, 70.83219920854673], [-180.0, 71.51571433642827], [-179.871875, 71.55762000000001], [-179.02433000000002, 71.55553], [-177.57794500000003, 71.26948], [-177.663575, 71.13277000000001], [-178.69378000000003, 70.89302]]], [[[33.435988094713366, 45.971917370797485], [33.69946184910907, 46.219572831556434], [34.41040172853718, 46.005162391728845], [34.73201738827845, 45.96566573176062], [34.861792128174045, 45.76818243191957], [35.01265897004737, 45.73772519982549], [35.02078779474607, 45.65121898048466], [35.51000857925311, 45.40999339454612], [36.52999799983019, 45.46998973243717], [36.334712762199274, 45.11321564389402], [35.239999220528205, 44.93999624285175], [33.882511020652885, 44.361478583344194], [33.32642093276013, 44.564877020844904], [33.546924269349404, 45.03477081967486], [32.4541744321055, 45.327466132176085], [32.63080447767919, 45.51918569597899], [33.58816206231842, 45.85156850848023], [33.435988094713366, 45.971917370797485]]]]}}, {\\\"id\\\": \\\"7\\\", \\\"type\\\": \\\"Feature\\\", \\\"properties\\\": {\\\"country\\\": \\\"Norway\\\", \\\"country_code\\\": \\\"NOR\\\", \\\"mean\\\": 7.015384615384615}, \\\"geometry\\\": {\\\"type\\\": \\\"MultiPolygon\\\", \\\"coordinates\\\": [[[[15.142820000000002, 79.67431], [15.52255, 80.01608], [16.990850000000002, 80.05086], [18.25183, 79.70175], [21.54383, 78.95611], [19.02737, 78.5626], [18.47172, 77.82669], [17.59441, 77.63796], [17.1182, 76.80941], [15.91315, 76.77045], [13.76259, 77.38035], [14.669560000000002, 77.73565], [13.1706, 78.02493], [11.22231, 78.8693], [10.44453, 79.65239], [13.170770000000001, 80.01046000000001], [13.71852, 79.66039], [15.142820000000002, 79.67431]]], [[[31.101042202597625, 69.55810108805622], [29.399550000000033, 69.15692000000013], [28.591929559043194, 69.06477692328666], [29.015572950971972, 69.76649119737799], [27.732292107867863, 70.16419302029625], [26.179622023226244, 69.82529897732614], [25.689212680776365, 69.09211375596904], [24.735679152126725, 68.64955678982146], [23.66204959483076, 68.89124746365054], [22.356237827247412, 68.84174144151491], [21.244936150810673, 69.37044302029308], [20.645592889089528, 69.10624726020087], [20.025268995857886, 69.0651386583127], [19.878559604581255, 68.40719432237258], [17.993868442464333, 68.56739126247736], [17.729181756265348, 68.01055186631628], [16.768878614985482, 68.0139366726314], [16.108712192456778, 67.30245555283689], [15.108411492583002, 66.19386688909547], [13.55568973150909, 64.78702769638151], [13.919905226302204, 64.44542064071608], [13.571916131248713, 64.04911408146971], [12.579935336973934, 64.06621898055833], [11.930569288794231, 63.12831757267698], [11.992064243221563, 61.80036245385655], [12.631146681375185, 61.293571682370136], [12.3003658382749, 60.11793284773003], [11.468271925511146, 59.43239329694604], [11.027368605196868, 58.85614940045936], [10.356556837616067, 59.469807033925356], [8.382000359743586, 58.313288479233215], [7.048748406613271, 58.078884182357285], [5.665835402050419, 58.5881554225937], [5.308234490590678, 59.663231919993834], [4.992078077828978, 61.97099803328432], [5.912900424837886, 62.614472968182724], [8.553411085655739, 63.45400828719648], [10.527709181366758, 64.4860383164975], [12.358346795306373, 65.87972585719318], [14.761145867581604, 67.81064158799516], [16.435927361728943, 68.56320547146173], [19.18402835457846, 69.81744415961778], [21.378416375420585, 70.2551693793461], [23.023742303161526, 70.2020718451662], [24.546543409938465, 71.03049673123722], [26.37004967622181, 70.98626170519539], [28.165547316202943, 71.18547435168055], [31.293418409965454, 70.4537877468599], [30.005435011522792, 70.18625885688489], [31.101042202597625, 69.55810108805622]]], [[[27.407505730913446, 80.05640574820042], [25.92465050629815, 79.51783397085451], [23.024465773213617, 79.40001170522903], [20.075188429451828, 79.56682322866722], [19.897266473070914, 79.84236196564747], [18.462263624757867, 79.85988027619443], [17.368015170977458, 80.31889618602698], [20.45599205901064, 80.59815562613225], [21.907944777115404, 80.35767934846204], [22.91925255706738, 80.65714427359343], [25.447625359811866, 80.40734039989452], [27.407505730913446, 80.05640574820042]]], [[[24.724120000000003, 77.85385], [22.490320000000004, 77.44493], [20.726010000000002, 77.67704], [21.416110000000003, 77.93504], [20.8119, 78.25463], [22.884259999999998, 78.45494000000001], [23.281340000000004, 78.07954], [24.724120000000003, 77.85385]]]]}}, {\\\"id\\\": \\\"8\\\", \\\"type\\\": \\\"Feature\\\", \\\"properties\\\": {\\\"country\\\": \\\"South Africa\\\", \\\"country_code\\\": \\\"ZAF\\\", \\\"mean\\\": 6.618181818181818}, \\\"geometry\\\": {\\\"type\\\": \\\"Polygon\\\", \\\"coordinates\\\": [[[16.344976840895242, -28.5767050106977], [16.824017368240902, -28.08216155366447], [17.218928663815404, -28.35594329194681], [17.387497185951503, -28.78351409272978], [17.83615197110953, -28.85637786226132], [18.464899122804752, -29.04546192801728], [19.002127312911085, -28.972443129188868], [19.894734327888614, -28.461104831660776], [19.895767856534434, -24.76779021576059], [20.16572553882719, -24.91796192800077], [20.75860924651184, -25.86813648855145], [20.66647016773544, -26.477453301704923], [20.88960900237174, -26.828542982695915], [21.605896030369394, -26.726533705351756], [22.105968865657868, -26.280256036079138], [22.57953169118059, -25.979447523708146], [22.8242712745149, -25.50045867279477], [23.312096795350186, -25.26868987396572], [23.73356977712271, -25.390129489851617], [24.211266717228796, -25.670215752873574], [25.025170525825786, -25.7196700985769], [25.66466637543772, -25.486816094669713], [25.76584882986521, -25.17484547292368], [25.94165205252216, -24.69637338633322], [26.4857532081233, -24.616326592713104], [26.786406691197413, -24.240690606383485], [27.119409620886245, -23.574323011979775], [28.01723595552525, -22.82775359465908], [29.43218834810904, -22.091312758067588], [29.839036899542972, -22.102216485281176], [30.322883335091774, -22.271611830333935], [30.65986535006709, -22.151567478119915], [31.19140913262129, -22.2515096981724], [31.670397983534656, -23.658969008073864], [31.930588820124253, -24.36941659922254], [31.75240848158188, -25.484283949487413], [31.83777794772806, -25.84333180105135], [31.333157586397903, -25.66019052500895], [31.04407962415715, -25.731452325139443], [30.949666782359913, -26.02264902110415], [30.67660851412964, -26.398078301704608], [30.68596194837448, -26.743845310169533], [31.28277306491333, -27.285879408478998], [31.86806033705108, -27.177927341421277], [32.07166548028107, -26.73382008230491], [32.830120477028885, -26.742191664336197], [32.580264926897684, -27.470157566031816], [32.46213260267845, -28.301011244420557], [32.20338870619304, -28.75240488049007], [31.521001417778876, -29.257386976846256], [31.325561150851, -29.401977634398914], [30.901762729625347, -29.909956963828037], [30.62281334811382, -30.42377573010613], [30.05571618014278, -31.140269463832958], [28.92555260591954, -32.1720411109725], [28.2197558936771, -32.771952813448856], [27.464608188595975, -33.2269637997788], [26.419452345492825, -33.61495045342619], [25.90966434093349, -33.6670402971764], [25.780628289500697, -33.94464609144834], [25.172861769315972, -33.796851495093584], [24.677853224392123, -33.98717579522455], [23.594043409934642, -33.794474379208154], [22.988188917744736, -33.91643075941698], [22.574157342222236, -33.86408253350531], [21.542799106541025, -34.258838799782936], [20.689052768647002, -34.417175388325234], [20.071261020597632, -34.79513681410799], [19.61640506356457, -34.81916635512371], [19.193278435958717, -34.46259897230979], [18.85531456876987, -34.444305515278465], [18.42464318204938, -33.99787281670897], [18.377410922934615, -34.13652068454807], [18.24449913907992, -33.86775156019803], [18.250080193767445, -33.28143075941444], [17.92519046394844, -32.61129078545343], [18.247909783611192, -32.42913136162457], [18.22176150887148, -31.66163298922567], [17.56691775886887, -30.725721123987547], [17.064416131262703, -29.878641045859162], [17.062917514726223, -29.875953871379984], [16.344976840895242, -28.5767050106977]], [[28.978262566857243, -28.95559661226171], [28.541700066855498, -28.64750172293757], [28.074338413207784, -28.851468601193588], [27.532511020627478, -29.24271087007536], [26.999261915807637, -29.875953871379984], [27.749397006956485, -30.645105889612225], [28.107204624145425, -30.54573211031495], [28.29106937023991, -30.2262167294543], [28.84839969250774, -30.070050551068256], [29.018415154748027, -29.74376555757737], [29.32516645683259, -29.257386976846256], [28.978262566857243, -28.95559661226171]]]}}, {\\\"id\\\": \\\"9\\\", \\\"type\\\": \\\"Feature\\\", \\\"properties\\\": {\\\"country\\\": \\\"Mexico\\\", \\\"country_code\\\": \\\"MEX\\\", \\\"mean\\\": 6.735483870967743}, \\\"geometry\\\": {\\\"type\\\": \\\"Polygon\\\", \\\"coordinates\\\": [[[-117.12775999999985, 32.53533999999996], [-115.99134999999995, 32.61239000000012], [-114.72138999999993, 32.72082999999992], [-114.815, 32.52528000000001], [-113.30498, 32.03914000000009], [-111.02361000000002, 31.334719999999948], [-109.03500000000003, 31.341940000000136], [-108.24193999999994, 31.342220000000054], [-108.24000000000001, 31.754853718166373], [-106.50758999999988, 31.754520000000014], [-106.1429, 31.399950000000047], [-105.63159000000002, 31.08383000000009], [-105.03737000000001, 30.644019999999955], [-104.70574999999997, 30.121730000000014], [-104.4569699999999, 29.571960000000047], [-103.94, 29.27000000000004], [-103.11000000000001, 28.970000000000027], [-102.48000000000002, 29.75999999999999], [-101.66239999999999, 29.77930000000009], [-100.95759999999996, 29.380710000000136], [-100.45584000000002, 28.69612000000012], [-100.10999999999996, 28.110000000000127], [-99.51999999999992, 27.54000000000002], [-99.30000000000001, 26.840000000000032], [-99.01999999999992, 26.37000000000006], [-98.23999999999995, 26.06000000000006], [-97.52999999999992, 25.84000000000009], [-97.14000830767071, 25.8699974634784], [-97.52807247596655, 24.9921440699203], [-97.70294552284224, 24.272343044526735], [-97.77604183631905, 22.93257986092766], [-97.87236670611111, 22.44421173755336], [-97.69904395220419, 21.898689480064263], [-97.38895952023677, 21.411018988525825], [-97.18933346229329, 20.635433254473128], [-96.52557552772032, 19.890930894444068], [-96.29212724484177, 19.320371405509547], [-95.90088497595997, 18.82802419684873], [-94.83906348344271, 18.562717393462208], [-94.42572953975622, 18.144370835843347], [-93.5486512926824, 18.423836981677937], [-92.7861138577835, 18.52483856859226], [-92.0373481920904, 18.704569200103435], [-91.40790340855926, 18.87608327888023], [-90.77186987991087, 19.28412038825678], [-90.53358985061305, 19.8674181177513], [-90.45147599970124, 20.707521877520435], [-90.2786183336849, 20.999855454995554], [-89.60132117385149, 21.26172577563449], [-88.54386633986286, 21.49367544197662], [-87.65841651075772, 21.45884552661198], [-87.05189022494807, 21.5435431991383], [-86.81198238803296, 21.331514797444754], [-86.84590796583262, 20.849864610268355], [-87.38329118523586, 20.25540477139873], [-87.62105445021075, 19.64655304613592], [-87.43675045444178, 19.47240346931227], [-87.58656043165593, 19.04013011319074], [-87.83719112827151, 18.25981598558343], [-88.09066402866318, 18.51664785407405], [-88.3000310940937, 18.4999822046599], [-88.49012285027935, 18.486830552641607], [-88.84834387892661, 17.883198147040233], [-89.02985734735182, 18.001511338772488], [-89.15090938999553, 17.95546763760042], [-89.14308041050333, 17.808318996649405], [-90.06793351923098, 17.819326076727478], [-91.00151994501596, 17.81759491624571], [-91.00226925328421, 17.25465770107418], [-91.45392127151516, 17.252177232324172], [-91.08167009150065, 16.918476670799407], [-90.71182186558772, 16.687483018454728], [-90.60084672724093, 16.47077789963879], [-90.43886695022204, 16.410109768128095], [-90.46447262242266, 16.069562079324655], [-91.74796017125595, 16.066564846251765], [-92.2292486234063, 15.251446641495875], [-92.08721594925207, 15.064584662328441], [-92.20322953974733, 14.830102850804069], [-92.22775000686983, 14.538828640190928], [-93.35946387406176, 15.615429592343673], [-93.87516883011853, 15.940164292865916], [-94.69165646033014, 16.200975246642884], [-95.25022701697304, 16.128318182840644], [-96.05338212765332, 15.752087917539598], [-96.55743404822829, 15.653515122942792], [-97.26359249549665, 15.917064927631316], [-98.01302995480961, 16.107311713113916], [-98.94767574745651, 16.566043402568766], [-99.69739742714705, 16.70616404872817], [-100.82949886758132, 17.17107107184205], [-101.66608862995446, 17.649026394109626], [-101.91852800170022, 17.916090196193977], [-102.47813208698892, 17.975750637275098], [-103.50098954955808, 18.29229462327885], [-103.91752743204682, 18.74857168220001], [-104.9920096504755, 19.316133938061682], [-105.49303849976144, 19.946767279535436], [-105.73139604370766, 20.434101874264115], [-105.39777299683135, 20.531718654863425], [-105.50066077352443, 20.81689504646613], [-105.27075232625793, 21.07628489835514], [-105.26581722697404, 21.42210358325235], [-105.6031609769754, 21.87114594165257], [-105.69341386597313, 22.269080308516152], [-106.02871639689897, 22.773752346278627], [-106.90998043498837, 23.767774359628902], [-107.91544877809139, 24.54891531015295], [-108.40190487347098, 25.172313951105934], [-109.26019873740665, 25.58060944264406], [-109.44408932171734, 25.82488393808768], [-109.29164384645628, 26.442934068298428], [-109.80145768923182, 26.676175645447927], [-110.3917317370857, 27.16211497650454], [-110.64101884646163, 27.859876003525528], [-111.17891883018785, 27.94124054616907], [-111.75960689985163, 28.46795258230395], [-112.2282346260904, 28.95440867768349], [-112.27182369672869, 29.266844387320077], [-112.80959448937398, 30.02111359305235], [-113.16381059451868, 30.786880804969428], [-113.14866939985717, 31.170965887978923], [-113.87188106978186, 31.567608344035193], [-114.20573666060352, 31.524045111613134], [-114.77645117883503, 31.79953217216115], [-114.93669979537214, 31.393484605427602], [-114.7712318591735, 30.913617255165263], [-114.67389929895177, 30.162681179315996], [-114.33097449426293, 29.750432440707414], [-113.58887508833544, 29.061611436473015], [-113.42405310754054, 28.82617361095123], [-113.27196936730553, 28.7547826197399], [-113.14003943566439, 28.41128937429596], [-112.9622983467965, 28.42519033458251], [-112.76158708377488, 27.780216783147523], [-112.45791052941166, 27.52581370697476], [-112.2449519519368, 27.17172679291076], [-111.61648902061921, 26.662817287700477], [-111.28467464887302, 25.732589830014433], [-110.9878193835724, 25.294606228124564], [-110.71000688357134, 24.82600434010186], [-110.65504899782889, 24.298594672131117], [-110.17285620811344, 24.265547593680424], [-109.77184709352855, 23.811182562754198], [-109.40910437705571, 23.36467234953625], [-109.43339230023292, 23.1855876734287], [-109.85421932660171, 22.818271592698068], [-110.03139197471444, 22.823077500901206], [-110.29507097048366, 23.43097321216669], [-110.94950130902805, 24.000964260345995], [-111.6705684070127, 24.484423122652515], [-112.18203589562148, 24.738412787367167], [-112.14898881717085, 25.47012523040405], [-112.3007108223797, 26.012004299416617], [-112.77729671919155, 26.32195954030317], [-113.46467078332194, 26.768185533143424], [-113.59672990604383, 26.639459540304472], [-113.84893673384425, 26.90006378835244], [-114.46574662968004, 27.142090358991368], [-115.05514217818501, 27.72272675222291], [-114.98225257043742, 27.798200181585116], [-114.57036556685495, 27.74148529714489], [-114.19932878299926, 28.115002549750557], [-114.16201839888464, 28.566111965442303], [-114.93184221073665, 29.27947927501549], [-115.518653937627, 29.5563615992354], [-115.88736528202958, 30.180793768834178], [-116.25835038945291, 30.836464341753583], [-116.72152625208497, 31.635743720012044], [-117.12775999999985, 32.53533999999996]]]}}, {\\\"id\\\": \\\"10\\\", \\\"type\\\": \\\"Feature\\\", \\\"properties\\\": {\\\"country\\\": \\\"Uruguay\\\", \\\"country_code\\\": \\\"URY\\\", \\\"mean\\\": 6.0}, \\\"geometry\\\": {\\\"type\\\": \\\"Polygon\\\", \\\"coordinates\\\": [[[-57.62513342958296, -30.21629485445426], [-56.976025763564735, -30.109686374636127], [-55.97324459494094, -30.883075860316303], [-55.601510179249345, -30.853878676071393], [-54.57245154480512, -31.494511407193748], [-53.78795162618219, -32.047242526987624], [-53.209588995971544, -32.727666110974724], [-53.6505439927181, -33.20200408298183], [-53.373661668498244, -33.768377780900764], [-53.806425950726535, -34.39681487400223], [-54.93586605489773, -34.952646579733624], [-55.67408972840329, -34.75265878676407], [-56.21529700379607, -34.85983570733742], [-57.1396850246331, -34.430456231424245], [-57.81786068381551, -34.4625472958775], [-58.42707414410439, -33.909454441057576], [-58.349611172098875, -33.26318897881541], [-58.13264767112145, -33.040566908502015], [-58.14244035504076, -32.044503676076154], [-57.87493730328188, -31.016556084926208], [-57.62513342958296, -30.21629485445426]]]}}, {\\\"id\\\": \\\"11\\\", \\\"type\\\": \\\"Feature\\\", \\\"properties\\\": {\\\"country\\\": \\\"Brazil\\\", \\\"country_code\\\": \\\"BRA\\\", \\\"mean\\\": 6.883333333333333}, \\\"geometry\\\": {\\\"type\\\": \\\"Polygon\\\", \\\"coordinates\\\": [[[-53.373661668498244, -33.768377780900764], [-53.6505439927181, -33.20200408298183], [-53.209588995971544, -32.727666110974724], [-53.78795162618219, -32.047242526987624], [-54.57245154480512, -31.494511407193748], [-55.601510179249345, -30.853878676071393], [-55.97324459494094, -30.883075860316303], [-56.976025763564735, -30.109686374636127], [-57.62513342958296, -30.21629485445426], [-56.29089962423908, -28.852760512000895], [-55.16228634298457, -27.881915378533463], [-54.490725267135524, -27.47475676850579], [-53.64873531758789, -26.92347258881609], [-53.628348965048744, -26.124865004177472], [-54.13004960795439, -25.547639255477254], [-54.625290696823576, -25.739255466415514], [-54.42894609233059, -25.162184747012166], [-54.29347632507745, -24.570799655863965], [-54.29295956075452, -24.02101409271073], [-54.65283423523513, -23.83957813893396], [-55.02790178080955, -24.00127369557523], [-55.40074723979542, -23.956935316668805], [-55.517639329639636, -23.571997572526637], [-55.610682745981144, -22.655619398694846], [-55.79795813660691, -22.356929620047822], [-56.47331743022939, -22.086300144135283], [-56.8815095689029, -22.28215382252148], [-57.937155727761294, -22.090175876557172], [-57.8706739976178, -20.73268767668195], [-58.166392381408045, -20.176700941653678], [-57.85380164247451, -19.96999521248619], [-57.949997321185826, -19.40000416430682], [-57.67600887717431, -18.96183969490403], [-57.49837114117099, -18.174187513911292], [-57.734558274961, -17.55246835700777], [-58.28080400250225, -17.271710300366017], [-58.38805843772404, -16.877109063385276], [-58.24121985536668, -16.299573256091293], [-60.158389655179036, -16.258283786690086], [-60.54296566429515, -15.093910414289596], [-60.251148851142936, -15.07721892665932], [-60.26432634137737, -14.645979099183641], [-60.45919816755003, -14.354007256734555], [-60.503304002511136, -13.775954685117659], [-61.08412126325565, -13.479383640194598], [-61.71320431176078, -13.489202162330052], [-62.127080857986385, -13.198780612849724], [-62.803060268796386, -13.000653171442686], [-63.19649878605057, -12.627032565972435], [-64.3163529120316, -12.461978041232193], [-65.40228146021303, -11.566270440317155], [-65.32189876978302, -10.895872084194679], [-65.44483700220539, -10.511451104375432], [-65.33843522811642, -9.761987806846392], [-66.6469083319628, -9.931331475466862], [-67.17380123561074, -10.306812432499612], [-68.04819230820539, -10.712059014532485], [-68.27125362819326, -11.01452117273682], [-68.78615759954948, -11.03638030359628], [-69.52967810736496, -10.951734307502194], [-70.0937522040469, -11.123971856331012], [-70.54868567572841, -11.009146823778465], [-70.48189388699117, -9.490118096558845], [-71.30241227892154, -10.079436130415374], [-72.18489071316985, -10.053597914269432], [-72.56303300646564, -9.520193780152717], [-73.22671342639016, -9.462212823121234], [-73.01538265653255, -9.032833347208062], [-73.57105933296707, -8.424446709835834], [-73.98723548042966, -7.523829847853065], [-73.7234014553635, -7.340998630404414], [-73.72448666044164, -6.91859547285064], [-73.1200274319236, -6.629930922068239], [-73.21971126981461, -6.089188734566078], [-72.9645072089412, -5.7412513159448935], [-72.89192765978726, -5.274561455916981], [-71.74840572781655, -4.593982842633011], [-70.92884334988358, -4.401591485210368], [-70.7947688463023, -4.251264743673303], [-69.89363521999663, -4.2981869441943275], [-69.44410193548961, -1.5562871232198177], [-69.42048580593223, -1.1226185034264091], [-69.5770653957766, -0.549991957200163], [-70.02065589057005, -0.18515634521953928], [-70.01556576198931, 0.5414142928042054], [-69.45239600287246, 0.7061587589506929], [-69.25243404811906, 0.6026508650700748], [-69.21863766140018, 0.9856765812174331], [-69.80459672715773, 1.0890811222334662], [-69.81697323269162, 1.7148052026396243], [-67.86856502955884, 1.6924551456733923], [-67.5378100246747, 2.03716278727633], [-67.2599975246736, 1.7199986840849562], [-67.0650481838525, 1.130112209473225], [-66.87632585312258, 1.253360500489336], [-66.32576514348496, 0.7244522159820121], [-65.54826738143757, 0.7892544620760303], [-65.35471330428837, 1.0952822941085003], [-64.61101192895987, 1.3287305769870417], [-64.19930579289051, 1.49285492594602], [-64.08308549666609, 1.9163691267940803], [-63.368788011311665, 2.200899562993129], [-63.42286739770512, 2.4110676131241746], [-64.2699991522658, 2.497005520025567], [-64.40882788761792, 3.126786200366624], [-64.3684944322141, 3.797210394705246], [-64.81606401229402, 4.056445217297423], [-64.62865943058755, 4.14848094320925], [-63.88834286157416, 4.020530096854571], [-63.093197597899106, 3.7705711938587854], [-62.804533047116706, 4.006965033377952], [-62.08542965355913, 4.162123521334308], [-60.96689327660154, 4.536467596856639], [-60.601179165271944, 4.91809804933213], [-60.73357418480372, 5.200277207861901], [-60.21368343773133, 5.244486395687602], [-59.980958624904886, 5.014061184098139], [-60.11100236676738, 4.574966538914083], [-59.767405768458715, 4.423502915866607], [-59.53803992373123, 3.9588025984819377], [-59.815413174057866, 3.6064985213320853], [-59.97452490908456, 2.755232652188056], [-59.71854570172675, 2.2496304386443597], [-59.64604366722126, 1.786893825686789], [-59.03086157900265, 1.3176976586927225], [-58.540012986878295, 1.2680882836925207], [-58.429477098205965, 1.4639419620787208], [-58.11344987652502, 1.5071951359070253], [-57.66097103537737, 1.6825849471056387], [-57.335822923396904, 1.9485377058957594], [-56.78270423036083, 1.8637108422886541], [-56.539385748914555, 1.8995226098669207], [-55.995698004771754, 1.8176671411166012], [-55.905600145070885, 2.0219957543986595], [-56.0733418442903, 2.2207949894254995], [-55.973322109589375, 2.510363877773017], [-55.569755011606, 2.4215062524471307], [-55.09758744975514, 2.5237480737366127], [-54.524754197799716, 2.3118488631237852], [-54.08806250671725, 2.105556545414629], [-53.77852067728892, 2.3767027856500818], [-53.554839240113544, 2.334896551925951], [-53.41846513529531, 2.0533891870159806], [-52.939657151894956, 2.1248576928756364], [-52.55642473001842, 2.504705308437053], [-52.249337531123956, 3.241094468596245], [-51.65779741067889, 4.156232408053029], [-51.31714636901086, 4.203490505383954], [-51.069771287629656, 3.650397650564031], [-50.508875291533656, 1.901563828942457], [-49.97407589374506, 1.736483465986069], [-49.94710079608871, 1.0461896834312228], [-50.699251268096916, 0.22298411702168153], [-50.38821082213214, -0.07844451253681939], [-48.62056677915632, -0.2354891902718208], [-48.58449662941659, -1.2378052710050014], [-47.824956427590635, -0.5816179337628], [-46.566583624851226, -0.941027520352776], [-44.905703090990414, -1.551739597178134], [-44.417619187993665, -2.137750339367976], [-44.58158850765578, -2.691308282078524], [-43.418791266440195, -2.383110039889793], [-41.47265682632825, -2.9120183243971165], [-39.97866533055404, -2.873054294449041], [-38.50038347019657, -3.7006523576033956], [-37.2232521225352, -4.820945733258917], [-36.45293738457639, -5.109403578312154], [-35.59779578301047, -5.149504489770649], [-35.23538896334756, -5.464937432480247], [-34.89602983248683, -6.738193047719711], [-34.729993455533034, -7.343220716992967], [-35.12821204277422, -8.996401462442286], [-35.636966518687714, -9.649281508017815], [-37.046518724097, -11.040721123908803], [-37.68361161960736, -12.171194756725823], [-38.42387651218844, -13.038118584854288], [-38.67388709161652, -13.057652276260619], [-38.953275722802545, -13.793369642800023], [-38.88229814304965, -15.667053724838768], [-39.16109249526431, -17.208406670808472], [-39.2673392400564, -17.867746270420483], [-39.58352149103423, -18.262295830968938], [-39.76082333022764, -19.59911345792741], [-40.77474077001034, -20.904511814052423], [-40.94475623225061, -21.93731698983781], [-41.754164191238225, -22.370675551037458], [-41.98828426773656, -22.970070489190896], [-43.07470374202475, -22.96769337330547], [-44.64781185563781, -23.351959323827842], [-45.35213578955992, -23.796841729428582], [-46.47209326840554, -24.088968601174543], [-47.64897233742066, -24.885199069927722], [-48.4954581365777, -25.877024834905654], [-48.64100480812774, -26.623697605090932], [-48.474735887228654, -27.17591196056189], [-48.661520351747626, -28.18613453543572], [-48.8884574041574, -28.674115085567884], [-49.587329474472675, -29.224469089476337], [-50.696874152211485, -30.98446502047296], [-51.576226162306156, -31.77769825615321], [-52.256081305538046, -32.24536996839467], [-52.712099982297694, -33.19657805759118], [-53.373661668498244, -33.768377780900764]]]}}, {\\\"id\\\": \\\"12\\\", \\\"type\\\": \\\"Feature\\\", \\\"properties\\\": {\\\"country\\\": \\\"Colombia\\\", \\\"country_code\\\": \\\"COL\\\", \\\"mean\\\": 7.199999999999999}, \\\"geometry\\\": {\\\"type\\\": \\\"Polygon\\\", \\\"coordinates\\\": [[[-66.87632585312258, 1.253360500489336], [-67.0650481838525, 1.130112209473225], [-67.2599975246736, 1.7199986840849562], [-67.5378100246747, 2.03716278727633], [-67.86856502955884, 1.6924551456733923], [-69.81697323269162, 1.7148052026396243], [-69.80459672715773, 1.0890811222334662], [-69.21863766140018, 0.9856765812174331], [-69.25243404811906, 0.6026508650700748], [-69.45239600287246, 0.7061587589506929], [-70.01556576198931, 0.5414142928042054], [-70.02065589057005, -0.18515634521953928], [-69.5770653957766, -0.549991957200163], [-69.42048580593223, -1.1226185034264091], [-69.44410193548961, -1.5562871232198177], [-69.89363521999663, -4.2981869441943275], [-70.39404395209499, -3.7665914852078255], [-70.69268205430971, -3.742872002785859], [-70.04770850287485, -2.725156345229699], [-70.81347571479196, -2.2568645158007428], [-71.41364579942979, -2.3428024227021282], [-71.7747607082854, -2.169789727388938], [-72.32578650581365, -2.434218031426454], [-73.07039221870724, -2.3089543595509525], [-73.6595035468346, -1.2604912247811342], [-74.12239518908906, -1.002832533373848], [-74.44160051135597, -0.5308200008198867], [-75.10662451852008, -0.05720549886486026], [-75.37322323271385, -0.1520317521204504], [-75.8014658271166, 0.08480133707320192], [-76.29231441924097, 0.4160472680641192], [-76.5763797675494, 0.256935533037435], [-77.4249843004304, 0.395686753741117], [-77.66861284047044, 0.8258930525709616], [-77.85506140817952, 0.8099250349927729], [-78.85525875518871, 1.380923773601822], [-78.99093522817104, 1.6913699405952514], [-78.61783138702371, 1.766404120283056], [-78.66211808949785, 2.2673554549204766], [-78.42761043975733, 2.629555568854215], [-77.93154252797149, 2.6966057397529255], [-77.51043128122501, 3.325016994638247], [-77.12768978545526, 3.8496361352653565], [-77.49627193877703, 4.087606105969428], [-77.3076012844794, 4.6679841170394525], [-77.53322058786573, 5.582811997902497], [-77.31881507028675, 5.84535411216136], [-77.47666073272228, 6.691116441266303], [-77.88157141794525, 7.223771267114785], [-77.7534138658614, 7.709839789252143], [-77.43110795765699, 7.638061224798734], [-77.24256649444008, 7.935278225125444], [-77.47472286651133, 8.524286200388218], [-77.35336076527386, 8.67050466555807], [-76.83667395700357, 8.638749497914716], [-76.08638383655786, 9.336820583529487], [-75.67460018584006, 9.443248195834599], [-75.66470414905618, 9.774003200718738], [-75.48042599150335, 10.618990383339309], [-74.90689510771199, 11.083044745320322], [-74.27675269234489, 11.102035834187587], [-74.1972226630477, 11.310472723836867], [-73.41476396350029, 11.22701528568548], [-72.62783525255963, 11.731971543825523], [-72.23819495307892, 11.955549628136326], [-71.75409013536864, 12.437303168177309], [-71.3998223537917, 12.376040757695293], [-71.13746110704588, 12.112981879113505], [-71.3315836249503, 11.776284084515808], [-71.97392167833829, 11.60867157637712], [-72.22757544624294, 11.10870209395324], [-72.61465776232521, 10.821975409381778], [-72.9052860175347, 10.450344346554772], [-73.02760413276957, 9.736770331252444], [-73.30495154488005, 9.151999823437606], [-72.7887298245004, 9.085027167187334], [-72.6604947577681, 8.625287787302682], [-72.43986223009796, 8.405275376820029], [-72.36090064155597, 8.002638454617895], [-72.47967892117885, 7.632506008327354], [-72.44448727078807, 7.423784898300482], [-72.19835242378188, 7.340430813013683], [-71.96017574734864, 6.991614895043539], [-70.67423356798152, 7.087784735538719], [-70.09331295437242, 6.96037649172311], [-69.38947994655712, 6.0998605411988365], [-68.98531856960236, 6.206804917826858], [-68.26505245631823, 6.153268133972475], [-67.69508724635502, 6.267318020040647], [-67.34143958196557, 6.095468044454023], [-67.52153194850275, 5.556870428891969], [-67.74469662135522, 5.221128648291668], [-67.82301225449355, 4.503937282728899], [-67.62183590358129, 3.8394817163199946], [-67.33756384954368, 3.5423422306417223], [-67.30317318385345, 3.31845408773718], [-67.8099381171237, 2.820655015469569], [-67.44709204778631, 2.6002808699608693], [-67.18129431829307, 2.250638129074062], [-66.87632585312258, 1.253360500489336]]]}}, {\\\"id\\\": \\\"13\\\", \\\"type\\\": \\\"Feature\\\", \\\"properties\\\": {\\\"country\\\": \\\"France\\\", \\\"country_code\\\": \\\"FRA\\\", \\\"mean\\\": 6.859116022099448}, \\\"geometry\\\": {\\\"type\\\": \\\"MultiPolygon\\\", \\\"coordinates\\\": [[[[-51.65779741067889, 4.156232408053029], [-52.249337531123956, 3.241094468596245], [-52.55642473001842, 2.504705308437053], [-52.939657151894956, 2.1248576928756364], [-53.41846513529531, 2.0533891870159806], [-53.554839240113544, 2.334896551925951], [-53.77852067728892, 2.3767027856500818], [-54.08806250671725, 2.105556545414629], [-54.524754197799716, 2.3118488631237852], [-54.2697051662232, 2.7323916691150463], [-54.181726040246275, 3.1897797713304215], [-54.00693050801901, 3.6200377465925584], [-54.399542202356514, 4.212611395683467], [-54.47863298197923, 4.896755682795586], [-53.9580446030709, 5.756548163267765], [-53.618452928264844, 5.6465290389183735], [-52.88214128275409, 5.409850979021584], [-51.8233428615259, 4.565768133966131], [-51.65779741067889, 4.156232408053029]]], [[[6.186320428094177, 49.463802802114515], [6.658229607783568, 49.20195831969157], [8.099278598674744, 49.01778351500333], [7.593676385131062, 48.33301911070372], [7.466759067422231, 47.62058197691181], [7.192202182655507, 47.44976552997102], [6.736571079138059, 47.541801255882845], [6.768713820023606, 47.2877082383037], [6.037388950229001, 46.725778713561866], [6.022609490593538, 46.27298981382047], [6.5000997249704255, 46.42967275652944], [6.843592970414505, 45.99114655210061], [6.802355177445605, 45.70857982032864], [7.096652459347837, 45.33309886329589], [6.749955275101655, 45.02851797136758], [7.007562290076635, 44.25476675066136], [7.549596388386107, 44.12790110938481], [7.435184767291872, 43.69384491634922], [6.52924523278304, 43.128892320318315], [4.556962517931424, 43.399650987311595], [3.1004105973526634, 43.075200507167054], [2.9859989762584576, 42.47301504166986], [1.8267932470871528, 42.34338471126569], [0.7015906103638941, 42.795734361332606], [0.3380469091905809, 42.57954600683955], [-1.502770961910528, 43.03401439063043], [-1.901351284177764, 43.42280202897834], [-1.384225226232985, 44.022610378590116], [-1.1937975732374184, 46.01491771095486], [-2.2257242496738456, 47.06436269793822], [-2.9632761295596026, 47.57032664650795], [-4.4915549381594815, 47.954954332056374], [-4.592349819344776, 48.68416046812699], [-3.295813971357802, 48.90169240985963], [-1.6165107893849608, 48.64442129169454], [-1.933494025063311, 49.776341864615745], [-0.98946895995536, 49.34737580016091], [1.3387610205226963, 50.12717316344526], [1.6390010921384996, 50.9466063502975], [2.5135730322461427, 51.14850617126183], [2.658422071960274, 50.796848049515745], [3.1232515804256877, 50.78036326761455], [3.588184441755658, 50.37899241800356], [4.2860229834250845, 49.907496649772554], [4.799221632515724, 49.98537303323637], [5.674051954784829, 49.529483547557504], [5.897759230176348, 49.44266714130711], [6.186320428094177, 49.463802802114515]]], [[[8.746009148807559, 42.62812185319392], [9.390000848028876, 43.00998484961471], [9.560016310269134, 42.15249197037952], [9.229752231491773, 41.380006822264455], [8.775723097375362, 41.58361196549443], [8.544212680707773, 42.25651662858306], [8.746009148807559, 42.62812185319392]]]]}}, {\\\"id\\\": \\\"14\\\", \\\"type\\\": \\\"Feature\\\", \\\"properties\\\": {\\\"country\\\": \\\"Israel\\\", \\\"country_code\\\": \\\"ISR\\\", \\\"mean\\\": 5.800000000000001}, \\\"geometry\\\": {\\\"type\\\": \\\"Polygon\\\", \\\"coordinates\\\": [[[35.71991824722275, 32.709192409794866], [35.54566531753454, 32.393992011030576], [35.183930291491436, 32.53251068778894], [34.97464074070933, 31.866582343059722], [35.22589155451243, 31.754341132121766], [34.970506626125996, 31.61677846936081], [34.92740848159457, 31.353435370401414], [35.397560662586045, 31.489086005167582], [35.420918409981965, 31.100065822874356], [34.92260257339143, 29.501326198844524], [34.823243288783814, 29.76108076171822], [34.265440000000005, 31.219359999999998], [34.26543474464621, 31.21935730952032], [34.26543338393569, 31.219360866820153], [34.55637169773891, 31.548823960896996], [34.48810713068136, 31.60553884533732], [34.75258711115117, 32.07292633720117], [34.95541710789678, 32.82737641044638], [35.098457472480675, 33.080539252244265], [35.126052687324545, 33.09090037691878], [35.460709262846706, 33.08904002535628], [35.55279666519081, 33.26427480725802], [35.82110070165024, 33.2774264592763], [35.836396925608625, 32.86812327730851], [35.70079796727475, 32.71601369885738], [35.71991824722275, 32.709192409794866]]]}}, {\\\"id\\\": \\\"15\\\", \\\"type\\\": \\\"Feature\\\", \\\"properties\\\": {\\\"country\\\": \\\"Lebanon\\\", \\\"country_code\\\": \\\"LBN\\\", \\\"mean\\\": 8.4}, \\\"geometry\\\": {\\\"type\\\": \\\"Polygon\\\", \\\"coordinates\\\": [[[35.82110070165024, 33.2774264592763], [35.55279666519081, 33.26427480725802], [35.460709262846706, 33.08904002535628], [35.126052687324545, 33.09090037691878], [35.48220665868013, 33.90545014091944], [35.9795923194894, 34.61005829521913], [35.99840254084364, 34.644914048800004], [36.4481942075121, 34.59393524834407], [36.61175011571589, 34.20178864189718], [36.066460402172055, 33.82491242119255], [35.82110070165024, 33.2774264592763]]]}}, {\\\"id\\\": \\\"16\\\", \\\"type\\\": \\\"Feature\\\", \\\"properties\\\": {\\\"country\\\": \\\"Tunisia\\\", \\\"country_code\\\": \\\"TUN\\\", \\\"mean\\\": 6.8}, \\\"geometry\\\": {\\\"type\\\": \\\"Polygon\\\", \\\"coordinates\\\": [[[9.482139926805274, 30.307556057246188], [9.05560265466815, 32.10269196220129], [8.439102817426118, 32.50628489840082], [8.430472853233368, 32.74833730725595], [7.6126416357821824, 33.34411489514896], [7.524481642292244, 34.09737641045146], [8.140981479534304, 34.65514598239379], [8.376367628623768, 35.479876003555944], [8.217824334352315, 36.433176988260286], [8.420964389691676, 36.94642731378316], [9.509993523810607, 37.349994411766545], [10.210002475636317, 37.230001735984814], [10.180650262094531, 36.724037787415085], [11.02886722173335, 37.09210317641396], [11.100025668999251, 36.899996039368915], [10.600004510143094, 36.410000108377375], [10.593286573945138, 35.94744436293281], [10.939518670300687, 35.698984076473494], [10.807847120821009, 34.83350718844919], [10.149592726287125, 34.33077301689771], [10.339658644256616, 33.78574168551532], [10.856836378633687, 33.76874013929128], [11.108500603895122, 33.293342800422195], [11.488787469131012, 33.13699575452324], [11.432253452203696, 32.368903103152874], [10.944789666394456, 32.081814683555365], [10.636901482799487, 31.761420803345757], [9.950225050505082, 31.376069647745258], [10.056575148161699, 30.961831366493527], [9.970017124072854, 30.53932485607524], [9.482139926805274, 30.307556057246188]]]}}, {\\\"id\\\": \\\"17\\\", \\\"type\\\": \\\"Feature\\\", \\\"properties\\\": {\\\"country\\\": \\\"Jordan\\\", \\\"country_code\\\": \\\"JOR\\\", \\\"mean\\\": 8.2}, \\\"geometry\\\": {\\\"type\\\": \\\"Polygon\\\", \\\"coordinates\\\": [[[35.54566531753454, 32.393992011030576], [35.71991824722275, 32.709192409794866], [36.834062127435544, 32.312937526980775], [38.792340529136084, 33.378686428352225], [39.19546837744497, 32.16100881604267], [39.00488569515255, 32.01021698661498], [37.00216556168101, 31.508412990844747], [37.998848911294374, 30.508499864213135], [37.66811974462638, 30.3386652694859], [37.503581984209035, 30.003776150018407], [36.74052778498725, 29.86528331147619], [36.50121422704359, 29.505253607698705], [36.06894087092206, 29.197494615184453], [34.95603722508426, 29.356554673778845], [34.92260257339143, 29.501326198844524], [35.420918409981965, 31.100065822874356], [35.397560662586045, 31.489086005167582], [35.5452519060762, 31.78250478772084], [35.54566531753454, 32.393992011030576]]]}}, {\\\"id\\\": \\\"18\\\", \\\"type\\\": \\\"Feature\\\", \\\"properties\\\": {\\\"country\\\": \\\"United Arab Emirates\\\", \\\"country_code\\\": \\\"ARE\\\", \\\"mean\\\": 6.6909090909090905}, \\\"geometry\\\": {\\\"type\\\": \\\"Polygon\\\", \\\"coordinates\\\": [[[51.57951867046327, 24.245497137951105], [51.757440626844186, 24.29407298430547], [51.79438927593287, 24.019826158132506], [52.57708051942561, 24.177439276622707], [53.404006788960146, 24.15131684009917], [54.00800092958758, 24.121757920828216], [54.69302371604863, 24.79789236093509], [55.43902469261414, 25.43914520924494], [56.07082075381456, 26.05546417897398], [56.261041701080956, 25.71460643157677], [56.396847365144005, 24.924732163995486], [55.88623253766801, 24.920830593357447], [55.804118686756226, 24.269604193615265], [55.98121382022046, 24.13054291431783], [55.52863162620824, 23.933604030853502], [55.525841098864475, 23.524869289640932], [55.234489373602884, 23.110992743415324], [55.208341098863194, 22.708329982997046], [55.006803012924905, 22.496947536707136], [52.000733270074335, 23.00115448657894], [51.61770755392698, 24.01421926522883], [51.57951867046327, 24.245497137951105]]]}}, {\\\"id\\\": \\\"19\\\", \\\"type\\\": \\\"Feature\\\", \\\"properties\\\": {\\\"country\\\": \\\"Qatar\\\", \\\"country_code\\\": \\\"QAT\\\", \\\"mean\\\": 8.4}, \\\"geometry\\\": {\\\"type\\\": \\\"Polygon\\\", \\\"coordinates\\\": [[[50.81010827006958, 24.754742539971378], [50.74391076030369, 25.482424221289396], [51.013351678273494, 26.006991685484195], [51.28646162293606, 26.11458201751587], [51.58907881043726, 25.80111277923338], [51.60670047384881, 25.21567047779874], [51.38960778179063, 24.62738597258806], [51.11241539897702, 24.556330878186724], [50.81010827006958, 24.754742539971378]]]}}, {\\\"id\\\": \\\"20\\\", \\\"type\\\": \\\"Feature\\\", \\\"properties\\\": {\\\"country\\\": \\\"Thailand\\\", \\\"country_code\\\": \\\"THA\\\", \\\"mean\\\": 7.3999999999999995}, \\\"geometry\\\": {\\\"type\\\": \\\"Polygon\\\", \\\"coordinates\\\": [[[105.21877689007889, 14.273211778210694], [104.28141808473661, 14.416743068901367], [102.98842207236163, 14.225721136934467], [102.34809939983302, 13.394247341358223], [102.5849324890267, 12.186594956913282], [101.68715783081996, 12.645740057826572], [100.83180952352487, 12.627084865769206], [100.9784672383692, 13.412721665902566], [100.09779747925111, 13.406856390837433], [100.01873253784456, 12.307001044153354], [99.47892052612363, 10.846366685423547], [99.15377241414316, 9.963061428258555], [99.22239871622676, 9.239255479362427], [99.87383182169813, 9.20786204674512], [100.27964684448622, 8.295152899606052], [100.45927412313276, 7.429572658717177], [101.01732791545273, 6.856868597842478], [101.62307905477806, 6.74062246340192], [102.14118696493638, 6.221636053894628], [101.81428185425798, 5.8108084171742425], [101.15421878459387, 5.691384182147715], [101.07551557821336, 6.2048670516159214], [100.25959638875696, 6.6428248152895435], [100.0857568705271, 6.4644894474502905], [99.69069054565576, 6.8482127954335965], [99.51964155476963, 7.34345388430276], [98.9882528015123, 7.907993068875328], [98.503786248776, 8.382305202666288], [98.339661899817, 7.794511623562386], [98.15000939330582, 8.350007432483878], [98.25915001830626, 8.973922837759801], [98.55355065307305, 9.932959906448545], [99.03812055867398, 10.960545762572437], [99.58728600463972, 11.892762762901697], [99.19635379435167, 12.80474843998867], [99.21201175333609, 13.269293728076464], [99.09775516153876, 13.827502549693278], [98.43081912637987, 14.622027696180837], [98.1920740091914, 15.123702500870351], [98.53737592976572, 15.308497422746084], [98.90334842325676, 16.17782420497612], [98.49376102091135, 16.83783559820793], [97.85912275593486, 17.567946071843664], [97.37589643757354, 18.445437730375815], [97.79778283080441, 18.627080389881755], [98.25372399291561, 19.708203029860044], [98.95967573445488, 19.752980658440947], [99.54330936075931, 20.186597601802063], [100.11598758341785, 20.417849636308187], [100.54888105672688, 20.109237982661128], [100.60629357300316, 19.508344427971224], [101.2820146016517, 19.462584947176765], [101.03593143107777, 18.408928330961615], [101.05954756063517, 17.51249725999449], [102.11359175009248, 18.109101670804165], [102.41300499879162, 17.932781683824288], [102.99870568238771, 17.9616946476916], [103.20019209189374, 18.309632066312773], [103.9564766784853, 18.24095408779688], [104.7169470560925, 17.42885895433008], [104.7793205098688, 16.44186493577145], [105.58903852745016, 15.570316066952858], [105.54433841351769, 14.723933620660418], [105.21877689007889, 14.273211778210694]]]}}, {\\\"id\\\": \\\"21\\\", \\\"type\\\": \\\"Feature\\\", \\\"properties\\\": {\\\"country\\\": \\\"South Korea\\\", \\\"country_code\\\": \\\"KOR\\\", \\\"mean\\\": 7.431818181818182}, \\\"geometry\\\": {\\\"type\\\": \\\"Polygon\\\", \\\"coordinates\\\": [[[126.17475874237624, 37.74968577732804], [126.23733890188176, 37.84037791600028], [126.68371992401893, 37.80477285415118], [127.07330854706737, 38.2561148137884], [127.78003543509101, 38.30453563084589], [128.20574588431145, 38.37039724380189], [128.34971642467661, 38.61224294692785], [129.21291954968007, 37.43239248305595], [129.46044966035817, 36.78418915460283], [129.4683044780665, 35.63214061130395], [129.0913765809296, 35.082484239231434], [128.1858504578791, 34.89037710218639], [127.3865194031884, 34.47567373304412], [126.48574751190876, 34.39004588473648], [126.37391971242914, 34.934560451795946], [126.55923139862779, 35.6845405136479], [126.11739790253229, 36.72548472751926], [126.86014326386339, 36.893924058574626], [126.17475874237624, 37.74968577732804]]]}}, {\\\"id\\\": \\\"22\\\", \\\"type\\\": \\\"Feature\\\", \\\"properties\\\": {\\\"country\\\": \\\"India\\\", \\\"country_code\\\": \\\"IND\\\", \\\"mean\\\": 7.311111111111111}, \\\"geometry\\\": {\\\"type\\\": \\\"Polygon\\\", \\\"coordinates\\\": [[[97.32711388549004, 28.26158274994634], [97.40256147663614, 27.882536119085444], [97.0519885599681, 27.69905894623315], [97.1339990580153, 27.083773505149964], [96.41936567585097, 27.264589341739224], [95.12476769407496, 26.5735720891323], [95.1551534362626, 26.001307277932085], [94.60324913938538, 25.162495428970402], [94.55265791217164, 24.675238348890336], [94.10674197792507, 23.85074087167348], [93.3251876159428, 24.078556423432204], [93.28632693885928, 23.043658352139005], [93.06029422401463, 22.70311066333557], [93.16612755734837, 22.278459580977103], [92.67272098182556, 22.041238918541254], [92.14603478390681, 23.627498684172593], [91.86992760617132, 23.624346421802784], [91.70647505083211, 22.985263983649187], [91.15896325069973, 23.50352692310439], [91.46772993364368, 24.072639471934792], [91.91509280799443, 24.130413723237112], [92.37620161333481, 24.976692816664965], [91.79959598182208, 25.147431748957317], [90.87221072791212, 25.132600612889547], [89.92069258012185, 25.26974986419218], [89.83248091019962, 25.96508209889548], [89.35509402868729, 26.014407253518073], [88.56304935094977, 26.446525580342723], [88.2097892598025, 25.768065700782714], [88.93155398962308, 25.238692328384776], [88.30637251175602, 24.866079413344206], [88.08442223506242, 24.501657212821925], [88.69994022009092, 24.23371491138856], [88.52976972855379, 23.631141872649167], [88.87631188350309, 22.87914642993783], [89.03196129756623, 22.055708319582976], [88.88876590368542, 21.690588487224748], [88.20849734899522, 21.703171698487807], [86.97570438024027, 21.49556163175521], [87.03316857294887, 20.743307806882413], [86.49935102737379, 20.151638495356607], [85.0602657409097, 19.4785788029711], [83.94100589390001, 18.302009792549725], [83.18921715691785, 17.67122142177898], [82.19279218946592, 17.016636053937816], [82.19124189649719, 16.556664130107848], [81.69271935417748, 16.310219224507904], [80.79199913933014, 15.951972357644493], [80.32489586784388, 15.89918488205835], [80.02506920768644, 15.136414903214147], [80.2332735533904, 13.835770778859981], [80.28629357292186, 13.006260687710835], [79.8625468281285, 12.056215318240888], [79.85799930208682, 10.35727509199711], [79.340511509116, 10.30885427493962], [78.88534549348918, 9.546135972527722], [79.1897196796883, 9.216543687370148], [78.2779407083305, 8.933046779816934], [77.94116539908435, 8.252959092639742], [77.53989790233794, 7.965534776232332], [76.59297895702167, 8.89927623131419], [76.13006147655108, 10.299630031775521], [75.7464673196485, 11.308250637248307], [75.39610110870959, 11.781245022015824], [74.86481570831683, 12.741935736537897], [74.61671715688354, 13.99258291264968], [74.44385949086723, 14.617221787977698], [73.5341992532334, 15.99065216721496], [73.11990929554943, 17.928570054592498], [72.82090945830865, 19.208233547436166], [72.8244751321368, 20.419503282141534], [72.6305334817454, 21.356009426351008], [71.17527347197395, 20.757441311114235], [70.4704586119451, 20.877330634031384], [69.16413008003883, 22.0892980005727], [69.6449276060824, 22.450774644454338], [69.34959679553435, 22.84317963306269], [68.1766451353734, 23.69196503345671], [68.84259931831878, 24.35913361256094], [71.04324018746823, 24.3565239527302], [70.84469933460284, 25.21510203704352], [70.2828731627256, 25.72222870533983], [70.16892662952202, 26.491871649678842], [69.51439293811313, 26.940965684511372], [70.61649620960193, 27.989196275335868], [71.77766564320032, 27.913180243434525], [72.8237516620847, 28.961591701772054], [73.45063846221743, 29.97641347911987], [74.42138024282028, 30.979814764931177], [74.40592898956501, 31.69263947196528], [75.25864179881322, 32.2711054550405], [74.45155927927871, 32.7648996038055], [74.10429365427734, 33.44147329358685], [73.74994835805197, 34.31769887952785], [74.24020267120497, 34.748887030571254], [75.75706098826834, 34.50492259372132], [76.87172163280403, 34.65354401299274], [77.83745079947457, 35.494009507787766], [78.91226891471322, 34.32193634697579], [78.81108646028574, 33.50619802503242], [79.20889163606859, 32.994394639613716], [79.17612877799553, 32.48377981213771], [78.45844648632601, 32.61816437431273], [78.73889448437401, 31.515906073527063], [79.7213668151071, 30.88271474865473], [81.11125613802932, 30.183480943313402], [80.4767212259174, 29.72986522065534], [80.08842451367627, 28.79447011974014], [81.05720258985203, 28.416095282499043], [81.99998742058497, 27.925479234319994], [83.30424889519955, 27.36450572357556], [84.6750179381738, 27.234901231387536], [85.25177859898338, 26.726198431906344], [86.02439293817918, 26.63098460540857], [87.2274719583663, 26.397898057556077], [88.06023766474982, 26.41461538340249], [88.17480431514092, 26.81040517832595], [88.04313276566123, 27.445818589786825], [88.12044070836987, 27.876541652939594], [88.73032596227856, 28.086864732367516], [88.81424848832056, 27.299315904239364], [88.83564253128938, 27.098966376243762], [89.74452762243885, 26.719402981059957], [90.37327477413407, 26.87572418874288], [91.21751264848643, 26.808648179628022], [92.03348351437509, 26.83831045176356], [92.10371178585974, 27.452614040633208], [91.69665652869668, 27.771741848251665], [92.50311893104364, 27.89687632904645], [93.41334760943269, 28.640629380807226], [94.56599043170294, 29.277438055939985], [95.40480228066464, 29.03171662039213], [96.11767866413103, 29.452802028922466], [96.58659061074749, 28.83097951915434], [96.24883344928779, 28.411030992134442], [97.32711388549004, 28.26158274994634]]]}}, {\\\"id\\\": \\\"23\\\", \\\"type\\\": \\\"Feature\\\", \\\"properties\\\": {\\\"country\\\": \\\"Iran\\\", \\\"country_code\\\": \\\"IRN\\\", \\\"mean\\\": 8.3}, \\\"geometry\\\": {\\\"type\\\": \\\"Polygon\\\", \\\"coordinates\\\": [[[48.567971225789755, 29.926778265903522], [48.0145683123761, 30.452456773392598], [48.004698113808324, 30.985137437457244], [47.68528608581227, 30.984853217079632], [47.8492037290421, 31.70917593029867], [47.33466149271191, 32.46915538179911], [46.10936160663932, 33.017287299119005], [45.41669070819904, 33.967797756479584], [45.64845950702809, 34.748137722303014], [46.15178795755094, 35.09325877536429], [46.0763403664048, 35.67738332777549], [45.42061811705321, 35.977545884742824], [44.77267710159504, 37.17043692561684], [44.77267, 37.17045], [44.22575564960053, 37.97158437758935], [44.421402622257546, 38.28128123631454], [44.10922529478234, 39.4281362981681], [44.79398969908195, 39.71300263117705], [44.95268802265031, 39.33576467544637], [45.45772179543877, 38.87413910578306], [46.14362308124882, 38.74120148371222], [46.50571984231797, 38.770605373686294], [47.685079380083096, 39.50836395930122], [48.06009524922524, 39.58223541926246], [48.35552941263788, 39.28876496027691], [48.01074425638648, 38.79401479751452], [48.63437544128482, 38.27037750910097], [48.88324913920249, 38.32024526626262], [49.19961225769334, 37.582874253889884], [50.14777143738462, 37.37456655532134], [50.84235436381971, 36.8728142359834], [52.264024692601424, 36.7004216578577], [53.82578982932642, 36.965030829408235], [53.92159793479556, 37.19891836196126], [54.800303989486565, 37.392420762678185], [55.51157840355191, 37.96411713312317], [56.18037479027333, 37.93512665460743], [56.61936608259282, 38.121394354803485], [57.330433790928986, 38.02922943781094], [58.436154412678206, 37.5223094752438], [59.23476199731681, 37.41298798273034], [60.37763797388388, 36.52738312432837], [61.123070509694145, 36.491597194966246], [61.210817091725744, 35.650072333309225], [60.80319339380745, 34.40410187431986], [60.52842980331158, 33.676446031218006], [60.963700392506006, 33.52883230237626], [60.536077915290775, 32.98126882581157], [60.863654819588966, 32.18291962333443], [60.94194461451113, 31.548074652628753], [61.69931440618083, 31.379506130492672], [61.781221551363444, 30.735850328081238], [60.87424848820879, 29.829238999952608], [61.36930870956494, 29.303276272085924], [61.77186811711863, 28.6993338078908], [62.72783043808599, 28.25964488373539], [62.75542565292986, 27.378923448184988], [63.2338977395203, 27.21704702403071], [63.31663170761959, 26.756532497661667], [61.87418745305655, 26.239974880472104], [61.49736290878419, 25.0782370061185], [59.616134067630846, 25.380156561783778], [58.525761346272304, 25.60996165618573], [57.39725141788239, 25.73990204518364], [56.970765822177555, 26.966106268821363], [56.492138706290206, 27.143304755150197], [55.723710158110066, 26.964633490501043], [54.71508955263727, 26.480657863871514], [53.49309695823135, 26.81236888275305], [52.48359785340961, 27.580849107365495], [51.52076256694742, 27.865689602158298], [50.85294803243954, 28.814520575469388], [50.115008579311585, 30.147772528599717], [49.576850213423995, 29.985715236932407], [48.94133344909855, 30.317090359004037], [48.567971225789755, 29.926778265903522]]]}}, {\\\"id\\\": \\\"24\\\", \\\"type\\\": \\\"Feature\\\", \\\"properties\\\": {\\\"country\\\": \\\"Sweden\\\", \\\"country_code\\\": \\\"SWE\\\", \\\"mean\\\": 7.022222222222222}, \\\"geometry\\\": {\\\"type\\\": \\\"Polygon\\\", \\\"coordinates\\\": [[[11.027368605196868, 58.85614940045936], [11.468271925511146, 59.43239329694604], [12.3003658382749, 60.11793284773003], [12.631146681375185, 61.293571682370136], [11.992064243221563, 61.80036245385655], [11.930569288794231, 63.12831757267698], [12.579935336973934, 64.06621898055833], [13.571916131248713, 64.04911408146971], [13.919905226302204, 64.44542064071608], [13.55568973150909, 64.78702769638151], [15.108411492583002, 66.19386688909547], [16.108712192456778, 67.30245555283689], [16.768878614985482, 68.0139366726314], [17.729181756265348, 68.01055186631628], [17.993868442464333, 68.56739126247736], [19.878559604581255, 68.40719432237258], [20.025268995857886, 69.0651386583127], [20.645592889089528, 69.10624726020087], [21.978534783626117, 68.6168456081807], [23.53947309743444, 67.93600861273525], [23.565879754335583, 66.39605093043743], [23.903378533633802, 66.00692739527962], [22.18317345550193, 65.72374054632017], [21.21351687997722, 65.02600535751527], [21.369631381930958, 64.41358795842429], [19.77887576669022, 63.60955434839504], [17.84777916837521, 62.74940013289681], [17.119554884518124, 61.34116567651097], [17.83134606290639, 60.63658336042741], [18.78772179533209, 60.081914374422595], [17.86922488777634, 58.9537661810587], [16.829185011470088, 58.71982697207339], [16.447709588291474, 57.041118069071885], [15.879785597403783, 56.10430186626866], [14.666681349352075, 56.200885118222175], [14.100721062891465, 55.40778107362265], [12.942910597392057, 55.36173737245058], [12.625100538797028, 56.30708018658197], [11.787942335668674, 57.44181712506307], [11.027368605196868, 58.85614940045936]]]}}, {\\\"id\\\": \\\"25\\\", \\\"type\\\": \\\"Feature\\\", \\\"properties\\\": {\\\"country\\\": \\\"Poland\\\", \\\"country_code\\\": \\\"POL\\\", \\\"mean\\\": 6.114285714285714}, \\\"geometry\\\": {\\\"type\\\": \\\"Polygon\\\", \\\"coordinates\\\": [[[23.48412763844985, 53.91249766704114], [23.527535841575002, 53.470121568406555], [23.80493493011778, 53.089731350306074], [23.79919884613338, 52.69109935160657], [23.199493849386187, 52.48697744405367], [23.508002150168693, 52.02364655212473], [23.52707075368437, 51.57845408793031], [24.029985792748903, 50.70540660257518], [23.92275719574326, 50.42488108987874], [23.426508416444392, 50.30850576435745], [22.518450148211603, 49.47677358661974], [22.776418898212626, 49.02739533140962], [22.558137648211755, 49.085738023467144], [21.607808058364213, 49.47010732685409], [20.887955356538413, 49.32877228453583], [20.415839471119853, 49.43145335549977], [19.825022820726872, 49.21712535256923], [19.320712517990472, 49.571574001659194], [18.90957482267632, 49.435845852244576], [18.853144158613617, 49.49622976337764], [18.392913852622172, 49.98862864847075], [17.64944502123899, 50.049038397819956], [17.55456709155112, 50.36214590107642], [16.86876915860566, 50.47397370055603], [16.719475945714436, 50.21574656839354], [16.176253289462267, 50.42260732685791], [16.23862674323857, 50.69773265237984], [15.490972120839729, 50.78472992614321], [15.01699588385867, 51.10667409932158], [14.607098422919535, 51.74518809671997], [14.685026482815687, 52.0899474147552], [14.437599725002201, 52.62485016540839], [14.074521111719434, 52.98126251892535], [14.353315463934138, 53.24817129171297], [14.119686313542559, 53.75702912049104], [14.802900424873458, 54.05070628520575], [16.36347700365573, 54.513158677785725], [17.622831658608675, 54.85153595643291], [18.62085859546164, 54.68260569927078], [18.696254510175464, 54.43871877706929], [19.660640089606403, 54.42608388937393], [20.892244500418627, 54.31252492941253], [22.731098667092652, 54.327536932993326], [23.24398725758951, 54.22056671814914], [23.48412763844985, 53.91249766704114]]]}}, {\\\"id\\\": \\\"26\\\", \\\"type\\\": \\\"Feature\\\", \\\"properties\\\": {\\\"country\\\": \\\"Austria\\\", \\\"country_code\\\": \\\"AUT\\\", \\\"mean\\\": 6.6000000000000005}, \\\"geometry\\\": {\\\"type\\\": \\\"Polygon\\\", \\\"coordinates\\\": [[[16.979666782304037, 48.123497015976305], [16.90375410326726, 47.71486562762833], [16.340584344150415, 47.71290192320123], [16.534267612380376, 47.49617096616912], [16.202298211337364, 46.85238597267696], [16.011663852612656, 46.6836107448117], [15.137091912504985, 46.65870270444703], [14.63247155117483, 46.43181732846955], [13.806475457421527, 46.509306138691215], [12.376485223040817, 46.76755910906985], [12.153088006243054, 47.11539317482645], [11.16482791509327, 46.94157949481273], [11.048555942436536, 46.75135854754634], [10.44270145024663, 46.89354625099743], [9.932448357796659, 46.92072805438296], [9.479969516649021, 47.102809963563374], [9.632931756232978, 47.34760122332999], [9.59422610844635, 47.52505809182027], [9.89606814946319, 47.580196845075704], [10.402083774465211, 47.30248769793916], [10.544504021861599, 47.5663992376538], [11.426414015354737, 47.523766181012974], [12.141357456112788, 47.703083401065776], [12.620759718484493, 47.67238760028441], [12.932626987365948, 47.467645575544], [13.02585127122049, 47.63758352313583], [12.884102817443875, 48.28914581968786], [13.243357374737, 48.416114813829054], [13.595945672264437, 48.87717194273715], [14.338897739324722, 48.55530528420721], [14.901447381254057, 48.964401760445824], [15.253415561593982, 49.03907420510758], [16.02964725105022, 48.73389903420793], [16.499282667718774, 48.78580801044511], [16.960288120194576, 48.5969823268506], [16.879982944413, 48.47001333270947], [16.979666782304037, 48.123497015976305]]]}}, {\\\"id\\\": \\\"27\\\", \\\"type\\\": \\\"Feature\\\", \\\"properties\\\": {\\\"country\\\": \\\"Hungary\\\", \\\"country_code\\\": \\\"HUN\\\", \\\"mean\\\": 6.6000000000000005}, \\\"geometry\\\": {\\\"type\\\": \\\"Polygon\\\", \\\"coordinates\\\": [[[22.085608351334855, 48.42226430927179], [22.640819939878725, 48.150239569687415], [22.710531447040495, 47.88219391538941], [22.099767693782837, 47.6724392767167], [21.626514926853872, 46.99423777931816], [21.02195234547125, 46.3160879583519], [20.220192498462836, 46.127468980486555], [19.596044549241583, 46.17172984474454], [18.82983808764996, 45.90887767189193], [18.829824792873946, 45.908872358025285], [18.45606245288286, 45.75948110613615], [17.630066359129557, 45.95176911069419], [16.8825150895953, 46.38063182228444], [16.564808383864857, 46.50375092221983], [16.370504998447416, 46.841327216166505], [16.202298211337364, 46.85238597267696], [16.534267612380376, 47.49617096616912], [16.340584344150415, 47.71290192320123], [16.90375410326726, 47.71486562762833], [16.979666782304037, 48.123497015976305], [17.48847293464982, 47.867466132186216], [17.857132602620027, 47.75842886005037], [18.696512892336926, 47.880953681014404], [18.77702477384767, 48.081768296900634], [19.17436486173989, 48.11137889260387], [19.661363559658497, 48.26661489520866], [19.769470656013112, 48.202691148463614], [20.239054396249347, 48.32756724709692], [20.473562045989866, 48.562850043321816], [20.801293979584926, 48.623854071642384], [21.872236362401736, 48.31997081155002], [22.085608351334855, 48.42226430927179]]]}}, {\\\"id\\\": \\\"28\\\", \\\"type\\\": \\\"Feature\\\", \\\"properties\\\": {\\\"country\\\": \\\"Romania\\\", \\\"country_code\\\": \\\"ROU\\\", \\\"mean\\\": 6.85}, \\\"geometry\\\": {\\\"type\\\": \\\"Polygon\\\", \\\"coordinates\\\": [[[28.23355350109904, 45.48828318946829], [28.67977949393938, 45.304030870131704], [29.149724969201653, 45.464925442072456], [29.603289015427436, 45.293308010431126], [29.62654340995877, 45.0353909368624], [29.141611769331835, 44.820210272799045], [28.8378577003202, 44.913873806328056], [28.558081495891997, 43.70746165625813], [27.970107049275075, 43.81246816667522], [27.242399529740908, 44.175986029632405], [26.065158725699746, 43.94349376075127], [25.569271681426926, 43.68844472917472], [24.100679152124172, 43.74105133724785], [23.332302280376325, 43.897010809904714], [22.944832391051847, 43.82378530534713], [22.65714969248299, 44.23492300066128], [22.4740084164406, 44.40922760678177], [22.705725538837356, 44.57800283464702], [22.459022251075936, 44.7025171982543], [22.14508792490281, 44.47842234962059], [21.56202273935361, 44.7689472519655], [21.48352623870221, 45.18117015235788], [20.874312778413355, 45.416375433934235], [20.762174920339987, 45.734573065771485], [20.220192498462836, 46.127468980486555], [21.02195234547125, 46.3160879583519], [21.626514926853872, 46.99423777931816], [22.099767693782837, 47.6724392767167], [22.710531447040495, 47.88219391538941], [23.142236362406805, 48.09634105080695], [23.76095828623741, 47.985598456405455], [24.40205610525038, 47.98187775328043], [24.866317172960578, 47.737525743188314], [25.20774336111299, 47.89105642352747], [25.9459411964024, 47.987148749374214], [26.19745039236693, 48.22088125263035], [26.619336785597795, 48.22072622333347], [26.924176059687568, 48.123264472030996], [27.233872918412743, 47.82677094175638], [27.551166212684848, 47.40511709247083], [28.128030226359044, 46.810476386088254], [28.160017937947714, 46.37156260841722], [28.0544429867754, 45.944586086605625], [28.23355350109904, 45.48828318946829]]]}}, {\\\"id\\\": \\\"29\\\", \\\"type\\\": \\\"Feature\\\", \\\"properties\\\": {\\\"country\\\": \\\"Germany\\\", \\\"country_code\\\": \\\"DEU\\\", \\\"mean\\\": 6.651977401129944}, \\\"geometry\\\": {\\\"type\\\": \\\"Polygon\\\", \\\"coordinates\\\": [[[14.119686313542559, 53.75702912049104], [14.353315463934138, 53.24817129171297], [14.074521111719434, 52.98126251892535], [14.437599725002201, 52.62485016540839], [14.685026482815687, 52.0899474147552], [14.607098422919535, 51.74518809671997], [15.01699588385867, 51.10667409932158], [14.570718214586066, 51.002339382524276], [14.307013380600637, 51.117267767941414], [14.056227654688172, 50.9269176295943], [13.338131951560285, 50.73323436136435], [12.966836785543194, 50.484076443069085], [12.240111118222558, 50.266337795607285], [12.415190870827445, 49.96912079528057], [12.521024204161193, 49.547415269562734], [13.031328973043431, 49.30706818297324], [13.595945672264437, 48.87717194273715], [13.243357374737, 48.416114813829054], [12.884102817443875, 48.28914581968786], [13.02585127122049, 47.63758352313583], [12.932626987365948, 47.467645575544], [12.620759718484493, 47.67238760028441], [12.141357456112788, 47.703083401065776], [11.426414015354737, 47.523766181012974], [10.544504021861599, 47.5663992376538], [10.402083774465211, 47.30248769793916], [9.89606814946319, 47.580196845075704], [9.59422610844635, 47.52505809182027], [8.522611932009767, 47.83082754169129], [8.317301466514095, 47.61357982033627], [7.466759067422231, 47.62058197691181], [7.593676385131062, 48.33301911070372], [8.099278598674744, 49.01778351500333], [6.658229607783568, 49.20195831969157], [6.186320428094177, 49.463802802114515], [6.242751092156993, 49.90222565367873], [6.043073357781111, 50.128051662794235], [6.15665815595878, 50.80372101501058], [5.988658074577813, 51.851615709025054], [6.589396599970826, 51.852029120483394], [6.842869500362383, 52.22844025329755], [7.092053256873896, 53.144043280644894], [6.905139601274129, 53.48216217713065], [7.100424838905269, 53.69393219666267], [7.936239454793963, 53.74829580343379], [8.121706170289485, 53.52779246684429], [8.800734490604668, 54.020785630908904], [8.57211795414537, 54.39564647075406], [8.526229282270208, 54.96274363872516], [9.282048780971138, 54.830865383516176], [9.921906365609118, 54.98310415304803], [9.9395797054529, 54.596641954153256], [10.950112338920519, 54.363607082733154], [10.93946699386845, 54.00869334575259], [11.956252475643282, 54.19648550070116], [12.518440382546714, 54.470370591847995], [13.647467075259499, 54.0755109727059], [14.119686313542559, 53.75702912049104]]]}}, {\\\"id\\\": \\\"30\\\", \\\"type\\\": \\\"Feature\\\", \\\"properties\\\": {\\\"country\\\": \\\"Bulgaria\\\", \\\"country_code\\\": \\\"BGR\\\", \\\"mean\\\": 6.0}, \\\"geometry\\\": {\\\"type\\\": \\\"Polygon\\\", \\\"coordinates\\\": [[[22.65714969248299, 44.23492300066128], [22.944832391051847, 43.82378530534713], [23.332302280376325, 43.897010809904714], [24.100679152124172, 43.74105133724785], [25.569271681426926, 43.68844472917472], [26.065158725699746, 43.94349376075127], [27.242399529740908, 44.175986029632405], [27.970107049275075, 43.81246816667522], [28.558081495891997, 43.70746165625813], [28.03909508638472, 43.293171698574184], [27.67389773937805, 42.57789236100622], [27.99672041190539, 42.00735871028779], [27.13573937349048, 42.14148489030134], [26.1170418637208, 41.82690460872456], [26.106138136507127, 41.32889883072784], [25.197201368925448, 41.23448598893053], [24.492644891057978, 41.58389618587205], [23.692073601992348, 41.309080918943856], [22.952377150166452, 41.33799388281115], [22.881373732197346, 41.999297186850356], [22.380525750424592, 42.32025950781509], [22.54501183440962, 42.46136200618804], [22.43659467946128, 42.580321153323936], [22.60480146657133, 42.898518785161144], [22.986018507588483, 43.2111612005271], [22.500156691180223, 43.642814439461006], [22.410446404721597, 44.008063462899955], [22.65714969248299, 44.23492300066128]]]}}, {\\\"id\\\": \\\"31\\\", \\\"type\\\": \\\"Feature\\\", \\\"properties\\\": {\\\"country\\\": \\\"Greece\\\", \\\"country_code\\\": \\\"GRC\\\", \\\"mean\\\": 7.05}, \\\"geometry\\\": {\\\"type\\\": \\\"MultiPolygon\\\", \\\"coordinates\\\": [[[[26.290002882601698, 35.29999034274793], [26.16499759288766, 35.00499542900977], [24.724982130642303, 34.91998769788964], [24.735007358506916, 35.08499054619759], [23.51497846852808, 35.27999156345098], [23.699980096133004, 35.70500438083549], [24.246665073348705, 35.368022365860185], [25.02501549652891, 35.42499563246197], [25.769207797964185, 35.35401805270908], [25.745023227651586, 35.1799976669662], [26.290002882601698, 35.29999034274793]]], [[[22.952377150166452, 41.33799388281115], [23.692073601992348, 41.309080918943856], [24.492644891057978, 41.58389618587205], [25.197201368925448, 41.23448598893053], [26.106138136507127, 41.32889883072784], [26.1170418637208, 41.82690460872456], [26.60419559093623, 41.562114569661105], [26.294602085075667, 40.93626129817413], [26.05694217296534, 40.82412344010076], [25.44767703624416, 40.85254547786144], [24.92584842296094, 40.947061672523205], [23.71481123220076, 40.687129218095095], [24.40799889496401, 40.12499298762407], [23.899967889102584, 39.96200552017552], [23.342999301860743, 39.96099782974579], [22.813987664488934, 40.476005153966526], [22.626298862404724, 40.25656118423916], [22.84974775563478, 39.659310818025745], [23.35002729665257, 39.190011298167235], [22.973099399515547, 38.97090322524963], [23.530016310324925, 38.51000112563844], [24.025024855248887, 38.21999298761642], [24.040011020613576, 37.655014553369426], [23.115002882589124, 37.920011298162194], [23.409971958111043, 37.40999074965737], [22.77497195810861, 37.30501007745653], [23.15422529469862, 36.422505804992056], [22.490028110451078, 36.4100001083774], [21.67002648284364, 36.8449864771942], [21.29501061370155, 37.64498932550464], [21.120034213961333, 38.31032339126273], [20.730032179454554, 38.769985256498785], [20.217712029712857, 39.34023468683961], [20.15001590341052, 39.62499766698397], [20.615000441172754, 40.11000682225938], [20.674996779063633, 40.43499990494303], [20.999989861747224, 40.58000397395398], [21.0200403174764, 40.84272695572588], [21.674160597426976, 40.931274522457954], [22.05537763844427, 41.14986583105269], [22.597308383889015, 41.130487168943205], [22.761770000000013, 41.30480000000006], [22.952377150166452, 41.33799388281115]]]]}}, {\\\"id\\\": \\\"32\\\", \\\"type\\\": \\\"Feature\\\", \\\"properties\\\": {\\\"country\\\": \\\"Turkey\\\", \\\"country_code\\\": \\\"TUR\\\", \\\"mean\\\": 6.16}, \\\"geometry\\\": {\\\"type\\\": \\\"MultiPolygon\\\", \\\"coordinates\\\": [[[[44.77267710159504, 37.17043692561684], [44.29345177590287, 37.0015143906063], [43.9422587420473, 37.25622752537295], [42.77912560402183, 37.385263576805755], [42.34959109881177, 37.2298725449041], [41.21208947120305, 37.074352321921694], [40.67325931169569, 37.09127635349729], [39.52258019385255, 36.71605377862599], [38.6998913917659, 36.71292735447234], [38.1677274920242, 36.90121043552777], [37.06676110204583, 36.62303620050062], [36.7394942563414, 36.81752045343109], [36.6853890317318, 36.259699205056464], [36.417550083163036, 36.04061697035506], [36.149762811026534, 35.82153473565367], [35.782084995269855, 36.27499542901485], [36.160821567537, 36.65060557712833], [35.55093631362831, 36.565442816711325], [34.714553256984345, 36.7955321314909], [34.026894972476384, 36.219960028624016], [32.509158156064075, 36.107563788389186], [31.699595167779567, 36.64427521417258], [30.621624790171097, 36.6778648951623], [30.391096225717064, 36.26298065850699], [29.69997562024554, 36.144357408180994], [28.732902866335422, 36.67683136651647], [27.641186557737317, 36.65882212986274], [27.048767937943264, 37.653360907536], [26.318218214633045, 38.208133246405396], [26.804700148228733, 38.985760199533516], [26.17078535330433, 39.463612168936464], [27.28001997244939, 40.42001373957831], [28.81997765474722, 40.46001129817221], [29.240003696415584, 41.21999074967267], [31.14593387220444, 41.08762156835702], [32.34797936374571, 41.736264146484615], [33.51328291192746, 42.01896006933731], [35.167703891751785, 42.040224921225416], [36.9131270688421, 41.33535838476427], [38.34766482926452, 40.94858612727573], [39.512606642420195, 41.10276276301855], [40.373432651538224, 41.01367259374735], [41.55408410011066, 41.53565623632757], [42.61954878110449, 41.58317271581994], [43.58274580259273, 41.09214325618257], [43.75265791196841, 40.74020091405876], [43.65643639504094, 40.253563951166186], [44.4000085792887, 40.00500031184228], [44.79398969908195, 39.71300263117705], [44.10922529478234, 39.4281362981681], [44.421402622257546, 38.28128123631454], [44.22575564960053, 37.97158437758935], [44.77267, 37.17045], [44.77267710159504, 37.17043692561684]]], [[[26.1170418637208, 41.82690460872456], [27.13573937349048, 42.14148489030134], [27.99672041190539, 42.00735871028779], [28.115524529744416, 41.62288605403624], [28.988442824018733, 41.29993419042819], [28.806438429486743, 41.05496206314856], [27.61901736828409, 40.99982330989314], [27.19237674328238, 40.69056570084242], [26.35800906749779, 40.151993923496505], [26.04335127127257, 40.61775360774317], [26.05694217296534, 40.82412344010076], [26.294602085075667, 40.93626129817413], [26.60419559093623, 41.562114569661105], [26.1170418637208, 41.82690460872456]]]]}}, {\\\"id\\\": \\\"33\\\", \\\"type\\\": \\\"Feature\\\", \\\"properties\\\": {\\\"country\\\": \\\"Croatia\\\", \\\"country_code\\\": \\\"HRV\\\", \\\"mean\\\": 6.6}, \\\"geometry\\\": {\\\"type\\\": \\\"Polygon\\\", \\\"coordinates\\\": [[[16.564808383864857, 46.50375092221983], [16.8825150895953, 46.38063182228444], [17.630066359129557, 45.95176911069419], [18.45606245288286, 45.75948110613615], [18.829824792873946, 45.908872358025285], [19.072768995854176, 45.52151113543209], [19.39047570158459, 45.236515611342384], [19.005484597557594, 44.86023449354299], [18.553214145591653, 45.08158966733146], [17.861783481526402, 45.067740383477144], [17.002146030351014, 45.23377676043094], [16.534939406000206, 45.21160757097772], [16.318156772535872, 45.00412669532591], [15.959367303133376, 45.23377676043094], [15.750026075918981, 44.818711656262565], [16.23966027188453, 44.35114329688571], [16.456442905348865, 44.04123973243128], [16.91615644701733, 43.66772247982567], [17.297373488034452, 43.44634064388737], [17.674921502358984, 43.02856252702361], [18.559999999999945, 42.64999999999998], [18.45001688302086, 42.47999224531218], [18.450016310304818, 42.47999136002932], [17.509970330483327, 42.849994615239154], [16.930005730871642, 43.20999848080038], [16.015384555737683, 43.50721548112722], [15.174453973052096, 44.243191229827914], [15.376250441151797, 44.31791535092208], [14.92030927904051, 44.73848399512946], [14.901602410550879, 45.07606028907611], [14.258747592839995, 45.23377676043094], [13.952254672917036, 44.80212352149687], [13.656975538801191, 45.13693512631596], [13.67940311041582, 45.48414907488501], [13.715059848697223, 45.500323798192376], [14.411968214585414, 45.46616567644746], [14.595109490627806, 45.634940904312714], [14.935243767972935, 45.471695054702685], [15.327674594797429, 45.45231639259333], [15.323953891672405, 45.73178253842768], [15.671529575267556, 45.83415355079788], [15.768732944408553, 46.23810822202345], [16.564808383864857, 46.50375092221983]]]}}, {\\\"id\\\": \\\"34\\\", \\\"type\\\": \\\"Feature\\\", \\\"properties\\\": {\\\"country\\\": \\\"Switzerland\\\", \\\"country_code\\\": \\\"CHE\\\", \\\"mean\\\": 6.722222222222222}, \\\"geometry\\\": {\\\"type\\\": \\\"Polygon\\\", \\\"coordinates\\\": [[[9.59422610844635, 47.52505809182027], [9.632931756232978, 47.34760122332999], [9.479969516649021, 47.102809963563374], [9.932448357796659, 46.92072805438296], [10.44270145024663, 46.89354625099743], [10.363378126678612, 46.48357127540986], [9.922836541390382, 46.31489940040919], [9.182881707403055, 46.44021474871698], [8.966305779667806, 46.03693187111119], [8.489952426801324, 46.005150865251686], [8.31662967289438, 46.16364248309086], [7.7559920589598335, 45.82449005795931], [7.2738509456766565, 45.776947740250776], [6.843592970414505, 45.99114655210061], [6.5000997249704255, 46.42967275652944], [6.022609490593538, 46.27298981382047], [6.037388950229001, 46.725778713561866], [6.768713820023606, 47.2877082383037], [6.736571079138059, 47.541801255882845], [7.192202182655507, 47.44976552997102], [7.466759067422231, 47.62058197691181], [8.317301466514095, 47.61357982033627], [8.522611932009767, 47.83082754169129], [9.59422610844635, 47.52505809182027]]]}}, {\\\"id\\\": \\\"35\\\", \\\"type\\\": \\\"Feature\\\", \\\"properties\\\": {\\\"country\\\": \\\"Luxembourg\\\", \\\"country_code\\\": \\\"LUX\\\", \\\"mean\\\": 6.522222222222222}, \\\"geometry\\\": {\\\"type\\\": \\\"Polygon\\\", \\\"coordinates\\\": [[[6.043073357781111, 50.128051662794235], [6.242751092156993, 49.90222565367873], [6.186320428094177, 49.463802802114515], [5.897759230176348, 49.44266714130711], [5.674051954784829, 49.529483547557504], [5.782417433300907, 50.09032786722122], [6.043073357781111, 50.128051662794235]]]}}, {\\\"id\\\": \\\"36\\\", \\\"type\\\": \\\"Feature\\\", \\\"properties\\\": {\\\"country\\\": \\\"Belgium\\\", \\\"country_code\\\": \\\"BEL\\\", \\\"mean\\\": 6.792592592592593}, \\\"geometry\\\": {\\\"type\\\": \\\"Polygon\\\", \\\"coordinates\\\": [[[6.15665815595878, 50.80372101501058], [6.043073357781111, 50.128051662794235], [5.782417433300907, 50.09032786722122], [5.674051954784829, 49.529483547557504], [4.799221632515724, 49.98537303323637], [4.2860229834250845, 49.907496649772554], [3.588184441755658, 50.37899241800356], [3.1232515804256877, 50.78036326761455], [2.658422071960274, 50.796848049515745], [2.5135730322461427, 51.14850617126183], [3.3149711442285366, 51.345780951536085], [3.3150114849641596, 51.34577662473805], [3.3149711442285366, 51.34575511331991], [4.047071160507528, 51.26725861266857], [4.973991326526914, 51.47502370869813], [5.606975945670001, 51.03729848896978], [6.15665815595878, 50.80372101501058]]]}}, {\\\"id\\\": \\\"37\\\", \\\"type\\\": \\\"Feature\\\", \\\"properties\\\": {\\\"country\\\": \\\"Netherlands\\\", \\\"country_code\\\": \\\"NLD\\\", \\\"mean\\\": 6.913333333333333}, \\\"geometry\\\": {\\\"type\\\": \\\"Polygon\\\", \\\"coordinates\\\": [[[6.905139601274129, 53.48216217713065], [7.092053256873896, 53.144043280644894], [6.842869500362383, 52.22844025329755], [6.589396599970826, 51.852029120483394], [5.988658074577813, 51.851615709025054], [6.15665815595878, 50.80372101501058], [5.606975945670001, 51.03729848896978], [4.973991326526914, 51.47502370869813], [4.047071160507528, 51.26725861266857], [3.3149711442285366, 51.34575511331991], [3.3150114849641596, 51.34577662473805], [3.8302885270431375, 51.62054454203195], [4.705997348661185, 53.091798407597764], [6.074182570020923, 53.510403347378144], [6.905139601274129, 53.48216217713065]]]}}, {\\\"id\\\": \\\"38\\\", \\\"type\\\": \\\"Feature\\\", \\\"properties\\\": {\\\"country\\\": \\\"Portugal\\\", \\\"country_code\\\": \\\"PRT\\\", \\\"mean\\\": 5.2}, \\\"geometry\\\": {\\\"type\\\": \\\"Polygon\\\", \\\"coordinates\\\": [[[-9.034817674180246, 41.880570583659676], [-8.67194576662672, 42.13468943945496], [-8.263856980817792, 42.28046865495034], [-8.013174607769912, 41.790886135417125], [-7.422512986673795, 41.79207469335984], [-7.251308966490824, 41.91834605566505], [-6.6686055159676565, 41.883386949219584], [-6.389087693700915, 41.381815497394655], [-6.851126674822552, 41.11108266861753], [-6.864019944679385, 40.33087189387483], [-7.026413133156595, 40.184524237624245], [-7.066591559263529, 39.711891587882775], [-7.498632371439726, 39.62957103124181], [-7.098036668313128, 39.03007274022379], [-7.374092169616318, 38.37305858006492], [-7.029281175148796, 38.07576406508977], [-7.166507941099865, 37.803894354802225], [-7.537105475281024, 37.42890432387624], [-7.453725551778092, 37.09778758396607], [-7.855613165711986, 36.83826854099627], [-8.382816127953689, 36.97888011326246], [-8.898856980820327, 36.86880931248078], [-8.746101446965554, 37.65134552667661], [-8.83999752443988, 38.266243394517616], [-9.287463751655224, 38.3584858261586], [-9.526570603869715, 38.73742910415491], [-9.446988898140233, 39.39206614842837], [-9.048305223008427, 39.75509308527877], [-8.977353481471681, 40.15930613866581], [-8.768684047877102, 40.76063894303019], [-8.79085323733031, 41.18433401139126], [-8.99078935386757, 41.54345937760364], [-9.034817674180246, 41.880570583659676]]]}}, {\\\"id\\\": \\\"39\\\", \\\"type\\\": \\\"Feature\\\", \\\"properties\\\": {\\\"country\\\": \\\"Spain\\\", \\\"country_code\\\": \\\"ESP\\\", \\\"mean\\\": 6.985416666666667}, \\\"geometry\\\": {\\\"type\\\": \\\"Polygon\\\", \\\"coordinates\\\": [[[-7.453725551778092, 37.09778758396607], [-7.537105475281024, 37.42890432387624], [-7.166507941099865, 37.803894354802225], [-7.029281175148796, 38.07576406508977], [-7.374092169616318, 38.37305858006492], [-7.098036668313128, 39.03007274022379], [-7.498632371439726, 39.62957103124181], [-7.066591559263529, 39.711891587882775], [-7.026413133156595, 40.184524237624245], [-6.864019944679385, 40.33087189387483], [-6.851126674822552, 41.11108266861753], [-6.389087693700915, 41.381815497394655], [-6.6686055159676565, 41.883386949219584], [-7.251308966490824, 41.91834605566505], [-7.422512986673795, 41.79207469335984], [-8.013174607769912, 41.790886135417125], [-8.263856980817792, 42.28046865495034], [-8.67194576662672, 42.13468943945496], [-9.034817674180246, 41.880570583659676], [-8.984433152695672, 42.59277517350627], [-9.392883673530648, 43.0266246608127], [-7.97818966310831, 43.74833771420099], [-6.754491746436756, 43.567909450853925], [-5.411886359061597, 43.57423981380968], [-4.3478427799557835, 43.40344920508504], [-3.5175317041060907, 43.4559007838613], [-1.901351284177764, 43.42280202897834], [-1.502770961910528, 43.03401439063043], [0.3380469091905809, 42.57954600683955], [0.7015906103638941, 42.795734361332606], [1.8267932470871528, 42.34338471126569], [2.9859989762584576, 42.47301504166986], [3.0394840836805486, 41.892120266276905], [2.0918416683121848, 41.226088568683096], [0.8105245296351882, 41.01473196060934], [0.7213310074994013, 40.678318386389236], [0.10669152181986874, 40.12393362076202], [-0.27871131021294104, 39.30997813573272], [0.11129072429383768, 38.73851430923304], [-0.4671235823491031, 38.29236583104115], [-0.6833894514905978, 37.642353827457825], [-1.4383821272748492, 37.44306366632422], [-2.146452602538119, 36.67414419203729], [-3.4157808089233868, 36.65889964451118], [-4.368900926114719, 36.677839056946155], [-4.995219285492212, 36.32470815687964], [-5.3771597965614575, 35.946850083961465], [-5.866432257500904, 36.02981659600606], [-6.236693894872175, 36.367677110330334], [-6.520190802425404, 36.94291331638732], [-7.453725551778092, 37.09778758396607]]]}}, {\\\"id\\\": \\\"40\\\", \\\"type\\\": \\\"Feature\\\", \\\"properties\\\": {\\\"country\\\": \\\"Ireland\\\", \\\"country_code\\\": \\\"IRL\\\", \\\"mean\\\": 7.08235294117647}, \\\"geometry\\\": {\\\"type\\\": \\\"Polygon\\\", \\\"coordinates\\\": [[[-6.197884894220991, 53.867565009163364], [-6.032985398777611, 53.15316417094435], [-6.788856573910849, 52.260117906292336], [-8.56161658368356, 51.669301255899356], [-9.977085740590269, 51.82045482035308], [-9.166282517930782, 52.86462881124268], [-9.688524542672454, 53.8813626165853], [-8.327987433292009, 54.66451894796863], [-7.572167934591064, 55.13162221945487], [-7.3660306461787854, 54.59584096945272], [-7.572167934591064, 54.059956366586], [-6.953730231138067, 54.073702297575636], [-6.197884894220991, 53.867565009163364]]]}}, {\\\"id\\\": \\\"41\\\", \\\"type\\\": \\\"Feature\\\", \\\"properties\\\": {\\\"country\\\": \\\"New Zealand\\\", \\\"country_code\\\": \\\"NZL\\\", \\\"mean\\\": 6.915000000000001}, \\\"geometry\\\": {\\\"type\\\": \\\"MultiPolygon\\\", \\\"coordinates\\\": [[[[176.8858236026052, -40.0659778785822], [176.50801720611926, -40.60480803808957], [176.01244022044023, -41.28962411882147], [175.23956749908297, -41.68830779395328], [175.06789839100935, -41.42589487077513], [174.65097293527847, -41.2818209775454], [175.22763024322356, -40.45923552832336], [174.9001566917899, -39.9089332008472], [173.82404666574394, -39.50885426204351], [173.85226199777532, -39.14660247167748], [174.57480187408035, -38.797683200842755], [174.74347374908098, -38.02780771255843], [174.6970166364506, -37.38112883885792], [174.2920284365792, -36.71109221776149], [174.31900353423552, -36.53482390721391], [173.8409965355357, -36.12198088963413], [173.0541711774596, -35.23712533950039], [172.63600548735377, -34.52910654066943], [173.00704227120946, -34.45066171645037], [173.55129845610747, -35.00618336358801], [174.3293904971262, -35.26549570082862], [174.61200890533044, -36.15639739354052], [175.33661583892712, -37.20909799575827], [175.3575964704376, -36.52619394302117], [175.80888675364253, -36.79894215265767], [175.9584900251275, -37.55538176854612], [176.76319542877656, -37.881253350578675], [177.4388131045605, -37.961248467766495], [178.01035444570866, -37.579824721020174], [178.51709354076274, -37.6953732236248], [178.27473107331383, -38.58281259537314], [177.97046023997927, -39.166342868812976], [177.20699262929918, -39.14577564876082], [176.93998050364706, -39.44973642350161], [177.0329464053401, -39.879942722331464], [176.8858236026052, -40.0659778785822]]], [[[169.66781456937315, -43.555325616226376], [170.52491987536615, -43.031688327812816], [171.125089960004, -42.51275359473782], [171.56971398344325, -41.767424411792135], [171.94870893787186, -41.514416599291124], [172.0972270042787, -40.956104424809716], [172.79857954334403, -40.4939620908235], [173.02037479074076, -40.919052422856446], [173.2472343285021, -41.33199879330081], [173.9584053897028, -40.926700534835646], [174.24758670480816, -41.34915536882171], [174.24851688058942, -41.77000823340673], [173.87644656808794, -42.23318409603879], [173.2227396995957, -42.970038344088614], [172.71124637277074, -43.372287693048555], [173.08011274647015, -43.853343601253606], [172.3085836123525, -43.86569426857136], [171.45292524646362, -44.2425188128437], [171.18513797432718, -44.89710418068486], [170.61669721911653, -45.908928724959736], [169.8314221540093, -46.35577483498757], [169.33233117093428, -46.641235446967876], [168.41135379462855, -46.61994475686363], [167.76374474514682, -46.29019744240919], [166.67688602118417, -46.219917494492236], [166.50914432196467, -45.85270476662619], [167.0464241885033, -45.110941257508635], [168.30376346259686, -44.12397307716614], [168.94940880765157, -43.935819187191434], [169.66781456937315, -43.555325616226376]]]]}}, {\\\"id\\\": \\\"42\\\", \\\"type\\\": \\\"Feature\\\", \\\"properties\\\": {\\\"country\\\": \\\"Australia\\\", \\\"country_code\\\": \\\"AUS\\\", \\\"mean\\\": 6.625}, \\\"geometry\\\": {\\\"type\\\": \\\"MultiPolygon\\\", \\\"coordinates\\\": [[[[147.68925947488418, -40.808258152022674], [148.289067824496, -40.87543751400211], [148.35986453673587, -42.06244516374644], [148.01730146707303, -42.40702361426865], [147.91405195535384, -43.211522312188535], [147.56456424376393, -42.937688897473905], [146.87034305235488, -43.6345972633621], [146.66332726459365, -43.58085377377856], [146.04837772032033, -43.549744561538844], [145.4319295595106, -42.693776137056254], [145.29509036680173, -42.033609714527564], [144.71807132383066, -41.16255177181576], [144.7437545106797, -40.70397511165767], [145.3979781434948, -40.79254851660594], [146.3641207216237, -41.13769540788336], [146.90858361225088, -41.00054615658073], [147.68925947488418, -40.808258152022674]]], [[[126.14871382050114, -32.21596607842059], [125.08862348846566, -32.72875131605285], [124.22164798390492, -32.95948658623607], [124.02894656788851, -33.4838473447017], [123.65966678273077, -33.89017913181271], [122.81103641163364, -33.914467054989885], [122.1830644064228, -34.0034021949642], [121.29919070850259, -33.821036065406176], [120.58026818245806, -33.93017669040661], [119.89369510302822, -33.9760653622818], [119.29889936734875, -34.50936614353394], [119.00734093635802, -34.46414926527854], [118.5057178081008, -34.74681934991509], [118.02497195848949, -35.0647327613747], [117.29550744025741, -35.02545867283287], [116.62510908413495, -35.02509693780683], [115.56434695847966, -34.38642791111157], [115.02680870977957, -34.19651702243893], [115.04861616420676, -33.623425388322055], [115.54512332566708, -33.48725798923297], [115.7146737000167, -33.25957162855497], [115.67937869676135, -32.900368747694166], [115.80164513556394, -32.205062351207005], [115.68961063035516, -31.612437025683807], [115.160909051577, -30.601594333622465], [114.99704308477948, -30.03072478609414], [115.04003787644629, -29.46109547294082], [114.64197431850201, -28.81023080822467], [114.6164978373821, -28.51639861421308], [114.17357913620847, -28.11807667410732], [114.04888390508816, -27.334765313427106], [113.47749759323692, -26.543134047147902], [113.33895307826242, -26.116545098578484], [113.77835778204022, -26.549025160429174], [113.44096235560656, -25.621278171493167], [113.93690107631167, -25.91123463308287], [114.23285200404723, -26.29844614024588], [114.21616051641698, -25.786281019801123], [113.7212553243577, -24.99893889740214], [113.62534386602397, -24.683971042583167], [113.39352339076264, -24.384764499613226], [113.5020438985756, -23.806350192970285], [113.70699262904515, -23.56021534596409], [113.84341841029567, -23.059987481378755], [113.73655154831609, -22.47547535572538], [114.1497563009219, -21.75588103606104], [114.22530724493262, -22.517488295178673], [114.6477620789187, -21.829519952076954], [115.46016727097924, -21.495173435148537], [115.94737267462702, -21.068687839443704], [116.71161543179153, -20.701681817306824], [117.16631635952771, -20.623598728113805], [117.44154503791424, -20.74689869556221], [118.229558953933, -20.37420826587322], [118.83608523974274, -20.263310642174858], [118.98780724495168, -20.044202569257315], [119.25249393115067, -19.952941989829867], [119.80522505094451, -19.976506442954964], [120.85622033089668, -19.683707777589206], [121.39985639860717, -19.239755547769725], [121.65513797412902, -18.70531788500717], [122.24166548064179, -18.197648614171804], [122.28662397673571, -17.798603204013958], [122.3127722514754, -17.25496713630345], [123.01257449757193, -16.405199883695886], [123.43378909718304, -17.268558037996215], [123.85934451710659, -17.069035332917288], [123.50324222218329, -16.596506036040402], [123.81707319549184, -16.111316013252], [124.25828657439985, -16.327943617419535], [124.37972619028575, -15.56705982835399], [124.92615278534004, -15.07510019293536], [125.16727501841387, -14.680395603090028], [125.67008670461381, -14.510070082256014], [125.68579634003055, -14.23065561285385], [126.12514936737608, -14.347340996968903], [126.14282270721986, -14.095986830301227], [126.58258914602374, -13.952791436420448], [127.06586714081732, -13.817967624570954], [127.80463341686196, -14.27690601975508], [128.35968997610894, -14.869169610252243], [128.98554324759584, -14.875990899314765], [129.62147342337965, -14.969783623924522], [129.40960005098293, -14.42066985439107], [129.8886405783286, -13.618703301653492], [130.33946577364293, -13.357375583553484], [130.18350630098604, -13.107520033422276], [130.61779503796697, -12.536392103732489], [131.22349450086, -12.183648776908166], [131.73509118054955, -12.302452894747184], [132.5752982931831, -12.114040622611007], [132.55721154188097, -11.603012383676678], [131.82469811414364, -11.27378183354515], [132.3572237489114, -11.128519382372696], [133.01956058159635, -11.376411228076812], [133.55084598198908, -11.786515394745116], [134.39306847548204, -12.042365411022182], [134.67863244032696, -11.941182956594693], [135.29849124566795, -12.248606052299046], [135.8826933127276, -11.962266940969776], [136.2583809754895, -12.049341729381588], [136.49247521377168, -11.857208754120398], [136.951620314685, -12.351958916882793], [136.6851249533558, -12.887223402562022], [136.3054065288751, -13.291229750219884], [135.96175825413417, -13.324509372615852], [136.07761681533253, -13.724278252825783], [135.78383629775323, -14.2239893530882], [135.4286641786112, -14.715432224183912], [135.50018436090318, -14.997740573794424], [136.2951745952813, -15.55026498785913], [137.06536014215942, -15.87076222093333], [137.5804708192448, -16.21508228929408], [138.30321740127897, -16.807604261952704], [138.58516401586343, -16.806622409739155], [139.10854292211548, -17.06267913174539], [139.2605749859182, -17.371600843986208], [140.21524539607827, -17.710804945550066], [140.87546349503924, -17.369068698803908], [141.07111046769626, -16.83204721442676], [141.27409549373874, -16.38887013109165], [141.39822228410384, -15.840531508042588], [141.70218305884464, -15.044921156476901], [141.56338016170866, -14.561333103089552], [141.6355204611881, -14.270394789286307], [141.5198686057189, -13.698078301653808], [141.65092003801107, -12.944687595270585], [141.8426912782462, -12.741547539931231], [141.68699018775084, -12.407614434461145], [141.9286291851476, -11.877465915578817], [142.11848839738798, -11.328042087451612], [142.1437064963464, -11.042736504768186], [142.51526004452495, -10.668185723516686], [142.797310011974, -11.157354831591562], [142.86676313697427, -11.784706719614903], [143.11594689348573, -11.905629571177885], [143.15863162655876, -12.325655612846232], [143.5221236512998, -12.834358412327433], [143.5971578309876, -13.400422051652612], [143.5618111513, -13.763655694232192], [143.9220992372389, -14.548310642151996], [144.56371382057483, -14.171176039285903], [144.89490807513346, -14.594457696188641], [145.3747237489635, -14.98497649501833], [145.27199100156724, -15.428205254785732], [145.4852596376358, -16.28567229580478], [145.637033319277, -16.78491830817657], [145.88890425026761, -16.906926364817686], [146.16030887266453, -17.761654554925272], [146.06367394427872, -18.28007252367734], [146.38747846901964, -18.958274021075887], [147.4710815777479, -19.48072275154673], [148.17760176004242, -19.9559392229028], [148.84841352762322, -20.391209812097244], [148.71746544819558, -20.63346892668155], [149.28942020080206, -21.260510756111135], [149.6783370302307, -22.342511895438385], [150.07738244038853, -22.122783705333337], [150.48293908101516, -22.556142266532994], [150.72726525289113, -22.402404880464665], [150.89955447815225, -23.462236830338696], [151.60917524638427, -24.07625619883074], [152.07353966695905, -24.457886651306225], [152.8551973818059, -25.267501316023], [153.1361621441768, -26.071173191026215], [153.16194868389044, -26.641319268502457], [153.0929089703485, -27.260299574494514], [153.56946902894418, -28.11006682710208], [153.51210818910022, -28.99507740653271], [153.339095493787, -29.45820159273248], [153.06924116435886, -30.350240166954794], [153.08960167868184, -30.923641859665423], [152.89157759013938, -31.640445651986], [152.45000247620533, -32.550002536755265], [151.70911746643674, -33.041342054986394], [151.3439717958624, -33.81602345147387], [151.0105554547152, -34.31036020277793], [150.71413943908902, -35.173459974916796], [150.3282198427333, -35.671879164371916], [150.0752120302323, -36.42020558039054], [149.9461243023672, -37.10905242284121], [149.99728397033613, -37.42526051203518], [149.42388227762552, -37.77268116633344], [148.30462243061584, -37.809061374666925], [147.38173302631526, -38.21921721776752], [146.92212283751132, -38.606532077795116], [146.31792199115478, -39.03575652441141], [145.4896521343806, -38.59376799901902], [144.87697635312816, -38.41744801203915], [145.03221235573295, -37.89618783951102], [144.48568240781407, -38.085323581699285], [143.60997358619602, -38.8094654274053], [142.74542687395297, -38.538267510737555], [142.17832970598192, -38.380034275059835], [141.60658165910468, -38.30851409276788], [140.63857872941327, -38.019332777662555], [139.99215823787426, -37.402936293285094], [139.8065881695141, -36.64360279718831], [139.57414757706528, -36.13836231867066], [139.08280805883413, -35.732754001611745], [138.12074791885635, -35.61229623793939], [138.44946170466494, -35.127261244447865], [138.20756432510672, -34.38472258884593], [137.71917036351618, -35.076825046531], [136.8294055523147, -35.26053476332861], [137.35237104710848, -34.7073385556441], [137.50388634658827, -34.13026783624075], [137.8901160015377, -33.64047861097838], [137.81032759007905, -32.90000701266812], [136.9968371929404, -33.752771498348615], [136.37206912653164, -34.094766127256236], [135.98904341038428, -34.89011809666046], [135.20821251845405, -34.478670342752565], [135.23921837782916, -33.94795338311502], [134.6134167827746, -33.222778008763164], [134.08590376193916, -32.84807219821479], [134.27390262261702, -32.61723357516699], [132.99077680880976, -32.01122405368019], [132.28808068250487, -31.982646986622782], [131.32633060112084, -31.49580331800104], [129.53579389863972, -31.590422865527465], [128.24093753470225, -31.948488864877852], [127.1028674663383, -32.28226694105106], [126.14871382050114, -32.21596607842059]]]]}}, {\\\"id\\\": \\\"43\\\", \\\"type\\\": \\\"Feature\\\", \\\"properties\\\": {\\\"country\\\": \\\"China\\\", \\\"country_code\\\": \\\"CHN\\\", \\\"mean\\\": 6.492079207920793}, \\\"geometry\\\": {\\\"type\\\": \\\"MultiPolygon\\\", \\\"coordinates\\\": [[[[109.47520958866365, 18.197700913968575], [108.65520796105616, 18.507681993071387], [108.62621748254044, 19.367887885001906], [109.11905561730804, 19.821038519769345], [110.21159874882281, 20.101253973872033], [110.78655073450221, 20.077534491450052], [111.01005130416458, 19.69592987719072], [110.57064660038677, 19.25587921800927], [110.33918786015147, 18.678395087147592], [109.47520958866365, 18.197700913968575]]], [[[80.2599902688853, 42.34999929459906], [80.1801501809943, 42.92006785742694], [80.86620649610126, 43.18036204688101], [79.96610639844141, 44.91751699480463], [81.9470707539181, 45.31702749285312], [82.45892581576906, 45.539649563166506], [83.18048383986047, 47.33003123635086], [85.16429039911324, 47.0009557155161], [85.72048383987067, 47.452969468773105], [85.7682328633083, 48.45575063739699], [86.59877648310336, 48.549181626980626], [87.35997033076265, 49.21498078062912], [87.75126427607671, 49.297197984405486], [88.01383222855173, 48.599462795600616], [88.85429772334676, 48.069081732772965], [90.28082563676392, 47.69354909930793], [90.97080936072501, 46.88814606382293], [90.58576826371828, 45.71971609148753], [90.9455395853343, 45.28607330991028], [92.13389082231822, 45.11507599545646], [93.4807336771413, 44.975472113619965], [94.68892866412533, 44.35233185482842], [95.30687544147153, 44.24133087826547], [95.76245486855669, 43.319449164394605], [96.34939578652781, 42.725635280928685], [97.45175744017801, 42.74888967546002], [99.51581749878004, 42.524691473961724], [100.84586551310827, 42.66380442969145], [101.83304039917994, 42.51487295182628], [103.31227827353482, 41.9074681666676], [104.52228193564899, 41.908346666016556], [104.96499393109347, 41.59740957291635], [106.12931562706169, 42.13432770442891], [107.74477257693795, 42.48151581478187], [109.24359581913146, 42.5194463160841], [110.41210330611528, 42.87123362891103], [111.12968224492023, 43.40683401140015], [111.82958784388137, 43.74311839453952], [111.66773725794323, 44.07317576758771], [111.34837690637946, 44.45744171811009], [111.8733061056003, 45.10207937273506], [112.43606245325881, 45.01164561622429], [113.46390669154417, 44.80889313412712], [114.46033165899607, 45.339816799493825], [115.98509647020009, 45.727235012386004], [116.71786828009886, 46.38820241961521], [117.42170128791419, 46.67273285581426], [118.87432579963873, 46.80541209572365], [119.66326989143876, 46.69267995867892], [119.7728239278975, 47.04805878355013], [118.86657433479495, 47.74706004494617], [118.06414269416672, 48.06673045510369], [117.29550744025741, 47.69770905210743], [116.30895267137323, 47.85341014260284], [115.74283735561579, 47.72654450132629], [115.48528201707306, 48.13538259540344], [116.19180219936757, 49.134598090199106], [116.67880089728612, 49.888531399121405], [117.8792444194264, 49.510983384796965], [119.2884607280258, 50.142882798862004], [119.27939000000003, 50.58292], [120.18208000000016, 51.64355000000012], [120.7382, 51.96411000000006], [120.72578901579197, 52.516226304730935], [120.17708865771681, 52.75388621684124], [121.00308475147017, 53.25140106873119], [122.24574791879283, 53.431725979213695], [123.57146999999998, 53.45880000000005], [125.06821129771038, 53.16104482686886], [125.94634891164617, 52.79279857035698], [126.56439904185697, 51.7842554795327], [126.93915652883766, 51.35389415140592], [127.28745568248485, 50.73979726826548], [127.65740000000028, 49.760270000000105], [129.39781782442043, 49.44060008401544], [130.58229332898242, 48.72968740497614], [130.9872600000001, 47.79013000000003], [132.50669000000005, 47.78896000000003], [133.37359581922794, 48.18344167743487], [135.02631147678665, 48.478229885443874], [134.50081, 47.57845000000009], [134.1123500000001, 47.212480000000085], [133.76964399631288, 46.116926988299014], [133.09712000000013, 45.14409000000006], [131.8834542176595, 45.32116160743652], [131.02519000000018, 44.96796000000006], [131.28855512911548, 44.11151968034828], [131.1446879416149, 42.92998973242689], [130.63386640840974, 42.90301463477053], [130.63999970690955, 42.39502427522179], [129.99426720593323, 42.985386867843786], [129.59666873587952, 42.42498179785456], [128.0522152039723, 41.99428457291795], [128.20843305879066, 41.46677155208249], [127.34378299368302, 41.50315176041597], [126.86908328664987, 41.81656932226619], [126.18204511932943, 41.10733612727637], [125.07994184784064, 40.56982371679245], [124.26562462778531, 39.928493353834156], [122.86757042856095, 39.63778758397622], [122.1313879741309, 39.170451768544666], [121.05455447803286, 38.897471014962846], [121.58599490772248, 39.36085358332407], [121.37675703337268, 39.75026133885949], [122.16859500538106, 40.422442531896024], [121.64035851449353, 40.94638987890333], [120.76862877816194, 40.59338816991754], [119.63960208544907, 39.898055935214245], [119.02346398323306, 39.252333075511146], [118.04274865119791, 39.2042739934797], [117.53270226447711, 38.73763580988408], [118.05969852098964, 38.06147553156106], [118.87814985562832, 37.89732534438593], [118.91163618375344, 37.44846385349871], [119.70280236214205, 37.15638865818505], [120.8234574728236, 37.87042776137801], [121.711258579598, 37.48112335870718], [122.35793745329849, 37.45448415786072], [122.5199947449658, 36.93061432550185], [121.10416385303307, 36.651329047180425], [120.63700890511453, 36.111439520811075], [119.66456180224606, 35.60979055433772], [119.1512081238586, 34.90985911716044], [120.22752485563373, 34.36033193616865], [120.62036909391655, 33.37672272392514], [121.22901411345023, 32.46031871187719], [121.90814578663003, 31.692174384074647], [121.89191938689038, 30.949351508095106], [121.26425744027328, 30.6762674016487], [121.50351932178467, 30.14291494396429], [122.0921138855891, 29.83252045340315], [121.93842817595306, 29.01802236583478], [121.68443851123851, 28.225512600206617], [121.12566124886649, 28.135673122667185], [120.39547326058232, 27.05320689544932], [119.5854968608395, 25.740780544532612], [118.65687137255452, 24.54739085540024], [117.28160647997088, 23.624501451099658], [115.89073530483512, 22.78287323657807], [114.76382734584624, 22.668074042241667], [114.15254682826564, 22.22376007739615], [113.80677981980074, 22.5483397486214], [113.24107791550159, 22.051367499270455], [111.84359215703248, 21.550493679281473], [110.78546552942407, 21.397143866455338], [110.44403934127168, 20.34103261970633], [109.88986128137361, 20.282457383703488], [109.62765506392466, 21.008227037026703], [109.86448815311832, 21.395050970947523], [108.5228129415244, 21.715212307211814], [108.05018029178294, 21.55237986906012], [107.04342003787264, 21.811898912029914], [106.56727339073532, 22.21820486092477], [106.72540327354847, 22.79426788989842], [105.81124718630522, 22.976892401617903], [105.32920942588663, 23.352063300056912], [104.47685835166448, 22.819150092046968], [103.50451460166056, 22.70375661873921], [102.7069922221001, 22.708795070887675], [102.17043582561358, 22.464753119389304], [101.65201785686152, 22.318198757409547], [101.80311974488293, 21.17436676684507], [101.27002566935997, 21.201651923095184], [101.18000532430754, 21.436572984294028], [101.15003299357825, 21.849984442629022], [100.41653771362738, 21.558839423096614], [99.98348921102149, 21.7429367131364], [99.24089887898725, 22.11831431730458], [99.5319922220874, 22.94903880461258], [98.89874922078278, 23.14272207284253], [98.66026248575577, 24.063286037689966], [97.60471967976198, 23.897404690033042], [97.72460900267914, 25.083637193293], [98.67183800658916, 25.918702500913525], [98.71209394734451, 26.743535874940267], [98.68269005737046, 27.50881216075062], [98.2462309102333, 27.74722138112918], [97.91198774616944, 28.335945136014345], [97.32711388549004, 28.26158274994634], [96.24883344928779, 28.411030992134442], [96.58659061074749, 28.83097951915434], [96.11767866413103, 29.452802028922466], [95.40480228066464, 29.03171662039213], [94.56599043170294, 29.277438055939985], [93.41334760943269, 28.640629380807226], [92.50311893104364, 27.89687632904645], [91.69665652869668, 27.771741848251665], [91.25885379431992, 28.040614325466294], [90.7305139505678, 28.064953925075756], [90.01582889197118, 28.296438503527217], [89.47581017452111, 28.042758897406397], [88.81424848832056, 27.299315904239364], [88.73032596227856, 28.086864732367516], [88.12044070836987, 27.876541652939594], [86.9545170430006, 27.974261786403517], [85.82331994013151, 28.203575954698707], [85.01163821812304, 28.642773952747344], [84.23457970575015, 28.839893703724698], [83.89899295444673, 29.320226141877658], [83.33711510613719, 29.463731594352197], [82.32751264845088, 30.115268052688137], [81.52580447787474, 30.42271698660863], [81.11125613802932, 30.183480943313402], [79.7213668151071, 30.88271474865473], [78.73889448437401, 31.515906073527063], [78.45844648632601, 32.61816437431273], [79.17612877799553, 32.48377981213771], [79.20889163606859, 32.994394639613716], [78.81108646028574, 33.50619802503242], [78.91226891471322, 34.32193634697579], [77.83745079947457, 35.494009507787766], [76.19284834178569, 35.89840342868783], [75.89689741405013, 36.666806138651836], [75.15802778514092, 37.13303091078912], [74.98000247589542, 37.419990139305895], [74.8299857929521, 37.9900070257014], [74.86481570831683, 38.3788463404816], [74.25751427602273, 38.60650686294345], [73.92885216664644, 38.50581533462274], [73.6753792662548, 39.4312368841056], [73.96001305531843, 39.660008449861735], [73.8222436868283, 39.893973497063186], [74.77686242055606, 40.36642527929163], [75.4678279967307, 40.56207225194867], [76.52636803579745, 40.42794607193512], [76.90448449087708, 41.06648590754965], [78.18719689322597, 41.18531586360481], [78.54366092317531, 41.58224254003869], [80.11943037305139, 42.12394074153825], [80.2599902688853, 42.34999929459906]]]]}}, {\\\"id\\\": \\\"44\\\", \\\"type\\\": \\\"Feature\\\", \\\"properties\\\": {\\\"country\\\": \\\"Taiwan\\\", \\\"country_code\\\": \\\"TWN\\\", \\\"mean\\\": 7.0}, \\\"geometry\\\": {\\\"type\\\": \\\"Polygon\\\", \\\"coordinates\\\": [[[121.77781782438993, 24.3942735865194], [121.17563235889274, 22.790857245367167], [120.74707970589623, 21.970571397382113], [120.22008344938368, 22.81486094816674], [120.1061885926124, 23.556262722258236], [120.69467980355225, 24.538450832613737], [121.49504438688878, 25.295458889257386], [121.95124393116146, 24.997595933527037], [121.77781782438993, 24.3942735865194]]]}}, {\\\"id\\\": \\\"45\\\", \\\"type\\\": \\\"Feature\\\", \\\"properties\\\": {\\\"country\\\": \\\"Italy\\\", \\\"country_code\\\": \\\"ITA\\\", \\\"mean\\\": 6.651219512195122}, \\\"geometry\\\": {\\\"type\\\": \\\"MultiPolygon\\\", \\\"coordinates\\\": [[[[10.44270145024663, 46.89354625099743], [11.048555942436536, 46.75135854754634], [11.16482791509327, 46.94157949481273], [12.153088006243054, 47.11539317482645], [12.376485223040817, 46.76755910906985], [13.806475457421527, 46.509306138691215], [13.698109978905478, 46.01677806251735], [13.937630242578308, 45.59101593686462], [13.141606479554296, 45.73669179949542], [12.32858117030625, 45.381778062514826], [12.383874952858548, 44.885374253919096], [12.261453484759102, 44.600482082693986], [12.589237094786455, 44.09136587175446], [13.526905958722494, 43.587727362637864], [14.029820997787029, 42.761007798832466], [15.142569614327925, 41.95513967545685], [15.926191033601896, 41.961315009115715], [16.169897088290384, 41.74029490820339], [15.889345737377797, 41.541082261718216], [16.785001661860548, 41.17960561783656], [17.51916873543118, 40.87714345963222], [18.37668745288252, 40.35562490494263], [18.48024702319543, 40.16886627863981], [18.293385044028042, 39.810774441073264], [17.738380161213314, 40.277671006830346], [16.869595981522338, 40.44223460546381], [16.448743116937322, 39.79540070246644], [17.17148969897147, 39.42469981542068], [17.052840610429314, 38.90287120213735], [16.635088331781816, 38.843572496082416], [16.100960727613, 37.9858987493342], [15.684086948314473, 37.908849188787016], [15.687962680736348, 38.21459280044188], [15.89198123542468, 38.75094249119924], [16.109332309644287, 38.9645470240777], [15.718813510814613, 39.54407237401492], [15.413612501698793, 40.048356838535156], [14.99849572109818, 40.17294871679087], [14.703268263414714, 40.604550279292596], [14.060671827865264, 40.7863479680954], [13.627985060285397, 41.1882872584616], [12.888081902730365, 41.253089504555604], [12.106682570044939, 41.70453481705741], [11.191906365614216, 42.3554253199897], [10.51194786951774, 42.93146251074721], [10.200028924203991, 43.9200068222746], [9.702488234097842, 44.03627879493132], [8.88894616052687, 44.36633616797951], [8.428560825238577, 44.23122813575242], [7.8507666357831445, 43.76714793555524], [7.435184767291872, 43.69384491634922], [7.549596388386107, 44.12790110938481], [7.007562290076635, 44.25476675066136], [6.749955275101655, 45.02851797136758], [7.096652459347837, 45.33309886329589], [6.802355177445605, 45.70857982032864], [6.843592970414505, 45.99114655210061], [7.2738509456766565, 45.776947740250776], [7.7559920589598335, 45.82449005795931], [8.31662967289438, 46.16364248309086], [8.489952426801324, 46.005150865251686], [8.966305779667806, 46.03693187111119], [9.182881707403055, 46.44021474871698], [9.922836541390382, 46.31489940040919], [10.363378126678612, 46.48357127540986], [10.44270145024663, 46.89354625099743]]], [[[14.761249220446189, 38.14387360285046], [15.520376010813806, 38.23115509699143], [15.160242954171736, 37.44404551853776], [15.309897902089006, 37.13421946873183], [15.099988234119422, 36.6199872909954], [14.335228712631988, 36.996630967754726], [13.826732618879959, 37.10453135838016], [12.431003859108756, 37.61294993748375], [12.570943637755136, 38.12638113051966], [13.741156447004613, 38.03496552179533], [14.761249220446189, 38.14387360285046]]], [[[8.709990675500109, 40.899984442705225], [9.210011834356266, 41.209991360024176], [9.80997521326492, 40.50000885676613], [9.669518670295616, 39.17737641047178], [9.214817742559433, 39.24047333430015], [8.806935662479674, 38.906617743478506], [8.428302443077115, 39.17184703221655], [8.388253208050912, 40.37831085871876], [8.159998406617689, 40.95000722916376], [8.709990675500109, 40.899984442705225]]]]}}, {\\\"id\\\": \\\"46\\\", \\\"type\\\": \\\"Feature\\\", \\\"properties\\\": {\\\"country\\\": \\\"Denmark\\\", \\\"country_code\\\": \\\"DNK\\\", \\\"mean\\\": 7.126086956521739}, \\\"geometry\\\": {\\\"type\\\": \\\"MultiPolygon\\\", \\\"coordinates\\\": [[[[9.921906365609118, 54.98310415304803], [9.282048780971138, 54.830865383516176], [8.526229282270208, 54.96274363872516], [8.120310906617533, 55.5177226833236], [8.08997684086222, 56.54001170513759], [8.256581658571207, 56.80996938743033], [8.543437534223415, 57.11000275331695], [9.424469028367554, 57.1720661484995], [9.775558709358535, 57.44794078228966], [10.580005730846125, 57.73001658795485], [10.546105991262664, 57.21573273378612], [10.250000034230226, 56.89001618105044], [10.369992710011957, 56.60998159446079], [10.912181837618306, 56.458621324277885], [10.667803989310016, 56.08138336854721], [10.369992710011957, 56.19000722922473], [9.649984978889279, 55.469999498102055], [9.921906365609118, 54.98310415304803]]], [[[12.370904168353292, 56.111407375708794], [12.690006137755603, 55.60999095318074], [12.089991082414684, 54.80001455343792], [11.043543328504226, 55.36486379660424], [10.903913608451603, 55.77995473898872], [12.370904168353292, 56.111407375708794]]]]}}, {\\\"id\\\": \\\"47\\\", \\\"type\\\": \\\"Feature\\\", \\\"properties\\\": {\\\"country\\\": \\\"United Kingdom\\\", \\\"country_code\\\": \\\"GBR\\\", \\\"mean\\\": 6.829867256637168}, \\\"geometry\\\": {\\\"type\\\": \\\"MultiPolygon\\\", \\\"coordinates\\\": [[[[-6.197884894220991, 53.867565009163364], [-6.953730231138067, 54.073702297575636], [-7.572167934591064, 54.059956366586], [-7.3660306461787854, 54.59584096945272], [-7.572167934591064, 55.13162221945487], [-6.733847011736145, 55.17286001242378], [-5.661948614921968, 54.55460317648381], [-6.197884894220991, 53.867565009163364]]], [[[-3.093830673788716, 53.404547400669685], [-3.0920796370471066, 53.40444082296358], [-2.945008510744344, 53.98499970154671], [-3.614700825433033, 54.600936773292574], [-3.6300054589893307, 54.615012925833014], [-4.8441690739030605, 54.790971177786844], [-5.0825266178492825, 55.06160065369937], [-4.7191121077567, 55.50847260194348], [-5.047980922862109, 55.78398550070756], [-5.586397670911197, 55.31114614523682], [-5.644998745130238, 56.27501496034483], [-6.1499808414864106, 56.785009670633485], [-5.786824713555291, 57.81884837506465], [-5.009998745127632, 58.63001333275008], [-4.211494513353557, 58.55084503847911], [-3.0050048486352807, 58.63500010846633], [-4.073828497728073, 57.55302480735526], [-3.0550017968777183, 57.69001902936094], [-1.9592805647769183, 57.68479970969952], [-2.219988165689358, 56.87001740175356], [-3.1190030582711756, 55.973793036515474], [-2.085009324543023, 55.9099984808513], [-2.005675679673857, 55.804902850350175], [-1.11499101399221, 54.624986477265395], [-0.4304849918542004, 54.46437612570219], [0.18498131674203933, 53.32501414653103], [0.469976840831805, 52.929999498092], [1.6815307959146821, 52.739520168664], [1.5599878271643206, 52.09999848083601], [1.0505615576309424, 51.806760565795685], [1.4498653499502439, 51.28942780212191], [0.5503336930455021, 50.765738837275876], [-0.7875174625586965, 50.77498891865622], [-2.4899975244144343, 50.50001862243124], [-2.956273972984093, 50.696879991247044], [-3.617448085942385, 50.22835561787275], [-4.542507900399244, 50.341837063185665], [-5.245023159191135, 49.95999990498109], [-5.776566941745273, 50.15967763935686], [-4.309989793301895, 51.21000112568919], [-3.414850633142123, 51.42600861266925], [-3.4227194671083794, 51.42684816740609], [-4.9843672347109305, 51.593466091511004], [-5.267295701508942, 51.991400458374585], [-4.222346564134909, 52.301355699261364], [-4.77001339356417, 52.840004991255626], [-4.579999152026971, 53.49500377055517], [-3.093830673788716, 53.404547400669685]]]]}}, {\\\"id\\\": \\\"48\\\", \\\"type\\\": \\\"Feature\\\", \\\"properties\\\": {\\\"country\\\": \\\"Iceland\\\", \\\"country_code\\\": \\\"ISL\\\", \\\"mean\\\": 6.8}, \\\"geometry\\\": {\\\"type\\\": \\\"Polygon\\\", \\\"coordinates\\\": [[[-14.508695441129234, 66.45589223903143], [-14.739637417041607, 65.8087482774403], [-13.60973222497981, 65.12667104761987], [-14.909833746794902, 64.36408193628868], [-17.794438035543422, 63.678749091233854], [-18.656245896874992, 63.49638296167582], [-19.97275468594276, 63.64363495549153], [-22.762971971110158, 63.960178941495386], [-21.778484259517683, 64.40211579045551], [-23.95504391121911, 64.8911298692335], [-22.184402635170358, 65.0849681667603], [-22.227423265053332, 65.37859365504274], [-24.326184047939336, 65.61118927678847], [-23.65051469572309, 66.26251902939522], [-22.134922451250887, 66.41046865504687], [-20.57628373867955, 65.73211212835143], [-19.05684160000159, 66.27660085719477], [-17.79862382655905, 65.99385325790978], [-16.167818976292125, 66.52679230413587], [-14.508695441129234, 66.45589223903143]]]}}, {\\\"id\\\": \\\"49\\\", \\\"type\\\": \\\"Feature\\\", \\\"properties\\\": {\\\"country\\\": \\\"Philippines\\\", \\\"country_code\\\": \\\"PHL\\\", \\\"mean\\\": 6.6}, \\\"geometry\\\": {\\\"type\\\": \\\"MultiPolygon\\\", \\\"coordinates\\\": [[[[120.83389611214656, 12.704496161342433], [120.32343631396745, 13.466413479053825], [121.18012820850211, 13.429697373910443], [121.5273938335035, 13.06959015548452], [121.26219038298159, 12.205560207564403], [120.83389611214656, 12.704496161342433]]], [[[122.5860889018671, 9.981044826696134], [122.83708133350875, 10.261156927934225], [122.9474105164519, 10.88186839440806], [123.49884972543845, 10.94062449792392], [123.33777428598472, 10.267383938025404], [124.0779358257012, 11.232725531453738], [123.98243777882584, 10.278778591345755], [123.62318322153271, 9.950090643753299], [123.30992068897939, 9.318268744336706], [122.99588300994166, 9.022188625520414], [122.38005496631942, 9.713360907424217], [122.5860889018671, 9.981044826696134]]], [[[126.37681359263745, 8.414706325713297], [126.47851281138789, 7.750354112168978], [126.53742394420061, 7.189380601424545], [126.19677290253259, 6.274294338400054], [125.83142052622907, 7.293715318221842], [125.36385216685221, 6.786485297060949], [125.68316084198369, 6.049656887227272], [125.39651167206063, 5.5810033227722755], [124.21978763234239, 6.161355495626154], [123.9387195171069, 6.885135606306136], [124.24366214406128, 7.360610459823661], [123.61021243702749, 7.83352732994274], [123.29607140512519, 7.418875637232759], [122.82550581267537, 7.457374579290204], [122.08549930225573, 6.899424139834836], [121.91992801319256, 7.192119452336015], [122.31235884001705, 8.034962063016465], [122.94239790251959, 8.316236883981134], [123.48768761606347, 8.69300975182118], [123.84115441293983, 8.240324204944372], [124.60146976125021, 8.514157619659002], [124.76461225799562, 8.960409450715488], [125.47139082245155, 8.986996975129657], [125.41211795461277, 9.760334784377534], [126.2227144715431, 9.286074327018866], [126.30663699758514, 8.78248749433456], [126.37681359263745, 8.414706325713297]]], [[[118.50458092659036, 9.316382554558047], [117.17427453010066, 8.367499904814679], [117.66447716682137, 9.066888739452892], [118.38691369026175, 9.68449961998921], [118.98734215706105, 10.376292019080523], [119.51149620979751, 11.3696680770272], [119.68967654833989, 10.554291490109875], [119.02945844937892, 10.003653265823829], [118.50458092659036, 9.316382554558047]]], [[[122.336956821788, 18.224882717354106], [122.17427941293317, 17.810282701076403], [122.5156539246533, 17.093504746971973], [122.25231082569393, 16.26244436285407], [121.66278608610821, 15.931017564350142], [121.50506961475342, 15.124813544164622], [121.7288285665772, 14.328376369682275], [122.25892540902726, 14.21820221603599], [122.70127566944569, 14.336541245984378], [123.9502950379403, 13.782130642141027], [123.85510704965867, 13.237771104378425], [124.18128869028493, 12.9975273706535], [124.0774190613783, 12.536676947474575], [123.29803510955225, 13.02752553959894], [122.92865197152994, 13.552919826710422], [122.6713550151487, 13.185836289925092], [122.03464969288052, 13.784481919810304], [121.12638471891857, 13.636687323455547], [120.62863732308324, 13.857655747935596], [120.67938357959386, 14.271015529838294], [120.99181928923053, 14.52539276779504], [120.69333621631267, 14.756670640517312], [120.56414513558299, 14.396279201713796], [120.07042850146644, 14.970869452367126], [119.92092858284605, 15.406346747290739], [119.88377322802819, 16.363704331929995], [120.28648766487875, 16.034628811095345], [120.39004723519167, 17.599081122299523], [120.71586714079191, 18.505227362537525], [121.32130822152351, 18.504064642810945], [121.9376013530364, 18.218552354398355], [122.24600630095429, 18.478949896717097], [122.336956821788, 18.224882717354106]]], [[[122.03837039600555, 11.415840969279998], [121.88354780485909, 11.891755072471994], [122.48382124236149, 11.582187404827538], [123.12021650603594, 11.583660183147856], [123.10083784392646, 11.16593374271649], [122.63771365772669, 10.74130849857417], [122.00261030485957, 10.441016750526089], [121.96736697803652, 10.905691229694625], [122.03837039600555, 11.415840969279998]]], [[[125.50255171112354, 12.162694606978292], [125.78346479706221, 11.046121934447783], [125.01188398651226, 11.311454576050409], [125.03276126515817, 10.975816148314692], [125.27744917206019, 10.358722032101284], [124.80181928924577, 10.134678859899864], [124.76016808481853, 10.837995103392258], [124.45910119028605, 10.889929917845592], [124.30252160044171, 11.495370998577187], [124.89101281138153, 11.415582587118536], [124.87799035044401, 11.794189968304947], [124.26676150929569, 12.557760931849671], [125.22711632700788, 12.53572093347718], [125.50255171112354, 12.162694606978292]]]]}}, {\\\"id\\\": \\\"50\\\", \\\"type\\\": \\\"Feature\\\", \\\"properties\\\": {\\\"country\\\": \\\"Slovenia\\\", \\\"country_code\\\": \\\"SVN\\\", \\\"mean\\\": 6.5}, \\\"geometry\\\": {\\\"type\\\": \\\"Polygon\\\", \\\"coordinates\\\": [[[13.806475457421527, 46.509306138691215], [14.63247155117483, 46.43181732846955], [15.137091912504985, 46.65870270444703], [16.011663852612656, 46.6836107448117], [16.202298211337364, 46.85238597267696], [16.370504998447416, 46.841327216166505], [16.564808383864857, 46.50375092221983], [15.768732944408553, 46.23810822202345], [15.671529575267556, 45.83415355079788], [15.323953891672405, 45.73178253842768], [15.327674594797429, 45.45231639259333], [14.935243767972935, 45.471695054702685], [14.595109490627806, 45.634940904312714], [14.411968214585414, 45.46616567644746], [13.715059848697223, 45.500323798192376], [13.937630242578308, 45.59101593686462], [13.698109978905478, 46.01677806251735], [13.806475457421527, 46.509306138691215]]]}}, {\\\"id\\\": \\\"51\\\", \\\"type\\\": \\\"Feature\\\", \\\"properties\\\": {\\\"country\\\": \\\"Finland\\\", \\\"country_code\\\": \\\"FIN\\\", \\\"mean\\\": 7.08}, \\\"geometry\\\": {\\\"type\\\": \\\"Polygon\\\", \\\"coordinates\\\": [[[28.591929559043194, 69.06477692328666], [28.445943637818658, 68.36461294216404], [29.97742638522061, 67.69829702419275], [29.054588657352326, 66.94428620062206], [30.217650000000003, 65.80598], [29.54442955904699, 64.94867157659048], [30.44468468600371, 64.20445343693909], [30.035872430142717, 63.55281362573855], [31.516092156711125, 62.86768748641289], [31.139991082490894, 62.35769277612441], [30.21110721204445, 61.780027777749694], [28.07000000000005, 60.503520000000094], [28.070001921525666, 60.50351912796823], [28.069997592895277, 60.50351654727584], [26.255172967236973, 60.4239606797625], [24.496623976344523, 60.05731639265166], [22.869694858499457, 59.846373196036225], [22.290763787533592, 60.39192129174154], [21.322244093519316, 60.720169989659524], [21.544866163832694, 61.70532949487179], [21.05921105315369, 62.60739329695874], [21.536029493910803, 63.18973501245587], [22.442744174903993, 63.81781037053129], [24.730511508897536, 64.90234365504084], [25.398067661243942, 65.11142650009374], [25.294043003040404, 65.53434642197045], [23.903378533633802, 66.00692739527962], [23.565879754335583, 66.39605093043743], [23.53947309743444, 67.93600861273525], [21.978534783626117, 68.6168456081807], [20.645592889089528, 69.10624726020087], [21.244936150810673, 69.37044302029308], [22.356237827247412, 68.84174144151491], [23.66204959483076, 68.89124746365054], [24.735679152126725, 68.64955678982146], [25.689212680776365, 69.09211375596904], [26.179622023226244, 69.82529897732614], [27.732292107867863, 70.16419302029625], [29.015572950971972, 69.76649119737799], [28.591929559043194, 69.06477692328666]]]}}, {\\\"id\\\": \\\"52\\\", \\\"type\\\": \\\"Feature\\\", \\\"properties\\\": {\\\"country\\\": \\\"Japan\\\", \\\"country_code\\\": \\\"JPN\\\", \\\"mean\\\": 6.745454545454545}, \\\"geometry\\\": {\\\"type\\\": \\\"MultiPolygon\\\", \\\"coordinates\\\": [[[[141.88460086483497, 39.180864569651476], [140.95948937394581, 38.17400096287662], [140.97638756730527, 37.14207428644019], [140.5997697287621, 36.3439834661245], [140.77407433488258, 35.842877102190215], [140.2532792502451, 35.138113918593646], [138.9755277853962, 34.66760000257614], [137.21759891169125, 34.60628591566183], [135.79298302626893, 33.46480520276663], [135.1209827007454, 33.849071153289], [135.0794348491827, 34.596544908174806], [133.34031619683202, 34.375938218720805], [132.15677086805124, 33.90493337659652], [130.98614464734345, 33.88576142021624], [132.00003624890996, 33.149992377244544], [131.33279015515734, 31.450354519164822], [130.686317987186, 31.029579169228246], [130.2024198752049, 31.418237616495432], [130.44767622286213, 32.319474595665696], [129.81469160371893, 32.61030955660436], [129.40846316947255, 33.29605581311752], [130.35393517468464, 33.60415070244167], [130.87845096244718, 34.23274282484002], [131.8842293641439, 34.74971385348792], [132.61767296766243, 35.433393052709405], [134.6083008159777, 35.731617743465804], [135.67753787652885, 35.52713410088687], [136.72383060114242, 37.304984239240326], [137.39061160700447, 36.82739065199884], [138.8576021669062, 37.82748464614346], [139.42640465714283, 38.21596222589761], [140.054790073812, 39.43880748143637], [139.88337934789985, 40.56331248632368], [140.30578250545364, 41.19500519465953], [141.3689734234266, 41.378559882160275], [141.91426313697048, 39.991616115878685], [141.88460086483497, 39.180864569651476]]], [[[144.61342654843963, 43.96088288021748], [145.32082523008307, 44.38473297787541], [145.5431372418027, 43.26208832455062], [144.05966189999987, 42.98835826270056], [143.18384972551723, 41.9952147486992], [141.6114909201724, 42.6787905950561], [141.06728641170668, 41.58459381770797], [139.955106235921, 41.56955597591103], [139.81754357315998, 42.563758856774385], [140.31208703019325, 43.33327261003269], [141.38054894426, 43.38882477474644], [141.67195234595386, 44.77212535255146], [141.96764489152798, 45.55148346616134], [143.14287031470974, 44.51035838477697], [143.91016198137947, 44.17409983985374], [144.61342654843963, 43.96088288021748]]], [[[132.37117638563024, 33.46364248304006], [132.92437259331473, 34.06029857028204], [133.4929683778222, 33.94462087659667], [133.90410607313635, 34.36493113864263], [134.63842817600386, 34.149233710256354], [134.76637902235854, 33.80633474378362], [134.2034159689709, 33.20117788342964], [133.79295006727654, 33.5219851750976], [133.28026818250885, 33.28957042086489], [133.0148580262578, 32.70456736910474], [132.36311486219267, 32.989382025681394], [132.37117638563024, 33.46364248304006]]]]}}, {\\\"id\\\": \\\"53\\\", \\\"type\\\": \\\"Feature\\\", \\\"properties\\\": {\\\"country\\\": \\\"Paraguay\\\", \\\"country_code\\\": \\\"PRY\\\", \\\"mean\\\": 6.0}, \\\"geometry\\\": {\\\"type\\\": \\\"Polygon\\\", \\\"coordinates\\\": [[[-58.166392381408045, -20.176700941653678], [-57.8706739976178, -20.73268767668195], [-57.937155727761294, -22.090175876557172], [-56.8815095689029, -22.28215382252148], [-56.47331743022939, -22.086300144135283], [-55.79795813660691, -22.356929620047822], [-55.610682745981144, -22.655619398694846], [-55.517639329639636, -23.571997572526637], [-55.40074723979542, -23.956935316668805], [-55.02790178080955, -24.00127369557523], [-54.65283423523513, -23.83957813893396], [-54.29295956075452, -24.02101409271073], [-54.29347632507745, -24.570799655863965], [-54.42894609233059, -25.162184747012166], [-54.625290696823576, -25.739255466415514], [-54.78879492859505, -26.621785577096134], [-55.69584550639816, -27.387837009390864], [-56.486701626192996, -27.548499037386293], [-57.60975969097614, -27.395898532828387], [-58.61817359071975, -27.123718763947096], [-57.63366004091113, -25.60365650808164], [-57.77721716981794, -25.16233977630904], [-58.80712846539498, -24.77145924245331], [-60.02896603050403, -24.032796319273274], [-60.846564704009914, -23.880712579038292], [-62.685057135657885, -22.249029229422387], [-62.291179368729225, -21.051634616787393], [-62.2659612697708, -20.513734633061276], [-61.78632646345377, -19.633736667562964], [-60.04356462262649, -19.342746677327426], [-59.11504248720611, -19.3569060197754], [-58.183471442280506, -19.868399346600363], [-58.166392381408045, -20.176700941653678]]]}}, {\\\"id\\\": \\\"54\\\", \\\"type\\\": \\\"Feature\\\", \\\"properties\\\": {\\\"country\\\": \\\"Saudi Arabia\\\", \\\"country_code\\\": \\\"SAU\\\", \\\"mean\\\": 8.4}, \\\"geometry\\\": {\\\"type\\\": \\\"Polygon\\\", \\\"coordinates\\\": [[[34.95603722508426, 29.356554673778845], [36.06894087092206, 29.197494615184453], [36.50121422704359, 29.505253607698705], [36.74052778498725, 29.86528331147619], [37.503581984209035, 30.003776150018407], [37.66811974462638, 30.3386652694859], [37.998848911294374, 30.508499864213135], [37.00216556168101, 31.508412990844747], [39.00488569515255, 32.01021698661498], [39.19546837744497, 32.16100881604267], [40.399994337736246, 31.889991766887935], [41.889980910007836, 31.19000865327837], [44.70949873228474, 29.178891099559383], [46.568713413281756, 29.09902517345229], [47.45982181172283, 29.002519436147224], [47.708850538937384, 28.526062730416143], [48.416094191283946, 28.55200429942667], [48.80759484232718, 27.689627997339883], [49.29955447774583, 27.46121816660981], [49.47091352722566, 27.109999294538085], [50.15242231629088, 26.689663194275997], [50.212935418504685, 26.277026882425375], [50.11330325704594, 25.94397227630425], [50.239858839728754, 25.608049628190926], [50.527386509000735, 25.327808335872103], [50.66055667501689, 24.999895534764022], [50.81010827006958, 24.754742539971378], [51.11241539897702, 24.556330878186724], [51.38960778179063, 24.62738597258806], [51.57951867046327, 24.245497137951105], [51.61770755392698, 24.01421926522883], [52.000733270074335, 23.00115448657894], [55.006803012924905, 22.496947536707136], [55.208341098863194, 22.708329982997046], [55.666659376859826, 22.00000112557234], [54.99998172386236, 19.999994004796108], [52.00000980002224, 19.000003363516058], [49.11667158386487, 18.616667588774945], [48.18334354024134, 18.166669216377315], [47.46669477721763, 17.116681626854884], [47.000004917189756, 16.949999294497445], [46.74999433776165, 17.283338120996177], [46.366658563020536, 17.233315334537636], [45.39999922056876, 17.333335069238558], [45.21665123879719, 17.433328965723334], [44.06261315285508, 17.410358791569593], [43.79151858905192, 17.31997671149111], [43.380794305196105, 17.57998668056767], [43.11579756040336, 17.088440456607373], [43.21837527850275, 16.66688996018641], [42.77933230975097, 16.347891343648683], [42.649572788266084, 16.774635321514964], [42.34798912941071, 17.075805568912003], [42.270887892431226, 17.474721787989125], [41.75438195167396, 17.833046169500975], [41.22139122901558, 18.67159963630121], [40.93934126156654, 19.486485297111756], [40.247652215339826, 20.17463450772649], [39.80168460466095, 20.338862209550058], [39.139399448408284, 21.291904812092934], [39.023695916506796, 21.986875311770195], [39.06632897314759, 22.57965566659027], [38.49277225114008, 23.688451036060854], [38.02386030452362, 24.078685614512935], [37.483634881344386, 24.285494696545015], [37.154817742671185, 24.85848297779731], [37.209491408036, 25.084541530858107], [36.93162723160259, 25.60295949961018], [36.639603712721225, 25.826227525327223], [36.249136590323815, 26.57013560638488], [35.64018151219639, 27.376520494083422], [35.13018680190788, 28.06335195567472], [34.63233605320798, 28.058546047471566], [34.787778761541944, 28.6074272730597], [34.832220493312946, 28.957483425404845], [34.95603722508426, 29.356554673778845]]]}}, {\\\"id\\\": \\\"55\\\", \\\"type\\\": \\\"Feature\\\", \\\"properties\\\": {\\\"country\\\": \\\"Cyprus\\\", \\\"country_code\\\": \\\"CYP\\\", \\\"mean\\\": 8.4}, \\\"geometry\\\": {\\\"type\\\": \\\"Polygon\\\", \\\"coordinates\\\": [[[32.73178022637745, 35.14002594658844], [32.919572381326134, 35.08783274997364], [33.19097700372305, 35.17312470147138], [33.3838334490363, 35.16271190036457], [33.45592207208347, 35.10142365166641], [33.47581749851585, 35.000344550103506], [33.5256852556775, 35.03868846286407], [33.675391880027064, 35.01786286065045], [33.86643965021011, 35.09359467217419], [33.97361657078346, 35.058506374648005], [34.00488081232004, 34.97809784600186], [32.97982710137845, 34.57186941175544], [32.49029625827754, 34.701654771456475], [32.25666710788596, 35.10323232679663], [32.73178022637745, 35.14002594658844]]]}}, {\\\"id\\\": \\\"56\\\", \\\"type\\\": \\\"Feature\\\", \\\"properties\\\": {\\\"country\\\": \\\"Morocco\\\", \\\"country_code\\\": \\\"MAR\\\", \\\"mean\\\": 6.966666666666666}, \\\"geometry\\\": {\\\"type\\\": \\\"Polygon\\\", \\\"coordinates\\\": [[[-2.169913702798624, 35.16839630791668], [-1.792985805661715, 34.527918606091305], [-1.7334545556614671, 33.91971283623212], [-1.388049282222596, 32.86401500094138], [-1.1245511539663084, 32.65152151135713], [-1.30789913573787, 32.2628889023061], [-2.616604783529567, 32.09434621838619], [-3.068980271812648, 31.724497992473218], [-3.647497931320146, 31.637294012980675], [-3.6904410465547244, 30.896951605751156], [-4.859646165374471, 30.501187649043846], [-5.242129278982787, 30.00044302013559], [-6.060632290053774, 29.731699734001694], [-7.059227667661958, 29.5792284205246], [-8.674116176782974, 28.84128896739658], [-8.665589565454809, 27.656425889592356], [-8.817828334986672, 27.656425889592356], [-8.794883999049077, 27.120696316022507], [-9.41303748212448, 27.088476060488574], [-9.735343390328879, 26.860944729107405], [-10.189424200877582, 26.860944729107405], [-10.551262579785273, 26.990807603456886], [-11.392554897497007, 26.883423977154393], [-11.718219773800357, 26.104091701760623], [-12.03075883630163, 26.030866197203068], [-12.50096269372537, 24.7701162785782], [-13.891110398809047, 23.691009019459305], [-14.221167771857253, 22.31016307218816], [-14.630832688851072, 21.860939846274903], [-14.750954555713534, 21.500600083903663], [-17.00296179856109, 21.420734157796577], [-17.02042843267577, 21.422310288981578], [-16.973247849993243, 21.885744533774982], [-16.589136928767687, 22.158234361250095], [-16.261921759495635, 22.679339504481277], [-16.3264139469959, 23.017768459560898], [-15.982610642958036, 23.723358466074046], [-15.426003790742186, 24.35913361256104], [-15.089331834360735, 24.520260728447], [-14.824645148161665, 25.103532619725343], [-14.800925665739726, 25.63626496022232], [-14.439939947964831, 26.254418443297652], [-13.773804897506466, 26.618892320252314], [-13.13994177901435, 27.640147813420526], [-13.121613369914769, 27.65414767171984], [-12.618836635783111, 28.03818553314869], [-11.688919236690765, 28.148643907172527], [-10.900956997104402, 28.83214223888092], [-10.399592251008642, 29.09858592377782], [-9.564811163765683, 29.93357371674989], [-9.814718390329176, 31.17773550060906], [-9.434793260119363, 32.038096421836485], [-9.300692918321886, 32.564679266890664], [-8.657476365585012, 33.240245266242425], [-7.6541784326382185, 33.69706492770251], [-6.912544114601417, 34.110476386037476], [-6.2443420068514115, 35.145865383437524], [-5.92999426921989, 35.75998810479399], [-5.193863491222032, 35.75518219659085], [-4.591006232105144, 35.330711981745594], [-3.640056525070065, 35.399855048152006], [-2.604305792644084, 35.179093329401155], [-2.169913702798624, 35.16839630791668]]]}}]}\"}},\"view\":{\"type\":\"object\",\"name\":\"CDSView\",\"id\":\"p1061\",\"attributes\":{\"filter\":{\"type\":\"object\",\"name\":\"AllIndices\",\"id\":\"p1062\"}}},\"glyph\":{\"type\":\"object\",\"name\":\"Patches\",\"id\":\"p1057\",\"attributes\":{\"xs\":{\"type\":\"field\",\"field\":\"xs\"},\"ys\":{\"type\":\"field\",\"field\":\"ys\"},\"line_width\":{\"type\":\"value\",\"value\":0.25},\"fill_color\":{\"type\":\"field\",\"field\":\"mean\",\"transform\":{\"type\":\"object\",\"name\":\"LinearColorMapper\",\"id\":\"p1004\",\"attributes\":{\"palette\":[\"#ffffd9\",\"#edf8b1\",\"#c7e9b4\",\"#7fcdbb\",\"#41b6c4\",\"#1d91c0\",\"#225ea8\",\"#0c2c84\"]}}}}},\"nonselection_glyph\":{\"type\":\"object\",\"name\":\"Patches\",\"id\":\"p1058\",\"attributes\":{\"xs\":{\"type\":\"field\",\"field\":\"xs\"},\"ys\":{\"type\":\"field\",\"field\":\"ys\"},\"line_alpha\":{\"type\":\"value\",\"value\":0.1},\"line_width\":{\"type\":\"value\",\"value\":0.25},\"fill_color\":{\"type\":\"field\",\"field\":\"mean\",\"transform\":{\"id\":\"p1004\"}},\"fill_alpha\":{\"type\":\"value\",\"value\":0.1},\"hatch_alpha\":{\"type\":\"value\",\"value\":0.1}}},\"muted_glyph\":{\"type\":\"object\",\"name\":\"Patches\",\"id\":\"p1059\",\"attributes\":{\"xs\":{\"type\":\"field\",\"field\":\"xs\"},\"ys\":{\"type\":\"field\",\"field\":\"ys\"},\"line_alpha\":{\"type\":\"value\",\"value\":0.2},\"line_width\":{\"type\":\"value\",\"value\":0.25},\"fill_color\":{\"type\":\"field\",\"field\":\"mean\",\"transform\":{\"id\":\"p1004\"}},\"fill_alpha\":{\"type\":\"value\",\"value\":0.2},\"hatch_alpha\":{\"type\":\"value\",\"value\":0.2}}}}}],\"toolbar\":{\"type\":\"object\",\"name\":\"Toolbar\",\"id\":\"p1012\",\"attributes\":{\"tools\":[{\"type\":\"object\",\"name\":\"PanTool\",\"id\":\"p1039\"},{\"type\":\"object\",\"name\":\"WheelZoomTool\",\"id\":\"p1040\"},{\"type\":\"object\",\"name\":\"BoxZoomTool\",\"id\":\"p1041\",\"attributes\":{\"overlay\":{\"type\":\"object\",\"name\":\"BoxAnnotation\",\"id\":\"p1042\",\"attributes\":{\"syncable\":false,\"level\":\"overlay\",\"visible\":false,\"left_units\":\"canvas\",\"right_units\":\"canvas\",\"bottom_units\":\"canvas\",\"top_units\":\"canvas\",\"line_color\":\"black\",\"line_alpha\":1.0,\"line_width\":2,\"line_dash\":[4,4],\"fill_color\":\"lightgrey\",\"fill_alpha\":0.5}}}},{\"type\":\"object\",\"name\":\"SaveTool\",\"id\":\"p1043\"},{\"type\":\"object\",\"name\":\"ResetTool\",\"id\":\"p1044\"},{\"type\":\"object\",\"name\":\"HelpTool\",\"id\":\"p1045\"}]}},\"toolbar_location\":null,\"left\":[{\"type\":\"object\",\"name\":\"LinearAxis\",\"id\":\"p1032\",\"attributes\":{\"ticker\":{\"type\":\"object\",\"name\":\"BasicTicker\",\"id\":\"p1033\",\"attributes\":{\"mantissas\":[1,2,5]}},\"formatter\":{\"type\":\"object\",\"name\":\"BasicTickFormatter\",\"id\":\"p1035\"},\"major_label_policy\":{\"type\":\"object\",\"name\":\"AllLabels\",\"id\":\"p1034\"}}}],\"below\":[{\"type\":\"object\",\"name\":\"LinearAxis\",\"id\":\"p1025\",\"attributes\":{\"ticker\":{\"type\":\"object\",\"name\":\"BasicTicker\",\"id\":\"p1026\",\"attributes\":{\"mantissas\":[1,2,5]}},\"formatter\":{\"type\":\"object\",\"name\":\"BasicTickFormatter\",\"id\":\"p1028\"},\"major_label_policy\":{\"type\":\"object\",\"name\":\"AllLabels\",\"id\":\"p1027\"}}},{\"type\":\"object\",\"name\":\"ColorBar\",\"id\":\"p1005\",\"attributes\":{\"location\":[0,0],\"orientation\":\"horizontal\",\"height\":20,\"width\":500,\"major_label_policy\":{\"type\":\"object\",\"name\":\"NoOverlap\",\"id\":\"p1006\"},\"label_standoff\":8,\"color_mapper\":{\"id\":\"p1004\"}}}],\"center\":[{\"type\":\"object\",\"name\":\"Grid\",\"id\":\"p1031\",\"attributes\":{\"axis\":{\"id\":\"p1025\"},\"grid_line_color\":null}},{\"type\":\"object\",\"name\":\"Grid\",\"id\":\"p1038\",\"attributes\":{\"dimension\":1,\"axis\":{\"id\":\"p1032\"},\"grid_line_color\":null}}]}}]}};\n  const render_items = [{\"docid\":\"4267f53b-930a-40f6-ba3e-e009b715265f\",\"roots\":{\"p1007\":\"54075139-9ff0-4a64-99c8-8e498cfe5afc\"},\"root_ids\":[\"p1007\"]}];\n  root.Bokeh.embed.embed_items_notebook(docs_json, render_items);\n  }\n  if (root.Bokeh !== undefined) {\n    embed_document(root);\n  } else {\n    let attempts = 0;\n    const timer = setInterval(function(root) {\n      if (root.Bokeh !== undefined) {\n        clearInterval(timer);\n        embed_document(root);\n      } else {\n        attempts++;\n        if (attempts > 100) {\n          clearInterval(timer);\n          console.log(\"Bokeh: ERROR: Unable to run BokehJS code because BokehJS library is missing\");\n        }\n      }\n    }, 10, root)\n  }\n})(window);",
      "application/vnd.bokehjs_exec.v0+json": ""
     },
     "metadata": {
      "application/vnd.bokehjs_exec.v0+json": {
       "id": "p1007"
      }
     },
     "output_type": "display_data"
    }
   ],
   "source": [
    "geosource = GeoJSONDataSource(geojson = json_data)\n",
    "palette = brewer['YlGnBu'][8]\n",
    "palette = palette[::-1]\n",
    "color_mapper = LinearColorMapper(palette = palette)\n",
    "\n",
    "color_bar = ColorBar(color_mapper = color_mapper,\n",
    "                     label_standoff = 8,\n",
    "                     width = 500,\n",
    "                     height = 20,\n",
    "                     border_line_color = None,\n",
    "                     location = (0,0),\n",
    "                     orientation = 'horizontal')\n",
    "\n",
    "mapa = figure(title = 'Média das avaliações de acordo com os países de origem',\n",
    "           height = 450,\n",
    "           width = 850,\n",
    "           toolbar_location = None)\n",
    "\n",
    "mapa.xgrid.grid_line_color = None\n",
    "mapa.ygrid.grid_line_color = None\n",
    "\n",
    "mapa.patches('xs',\n",
    "          'ys',\n",
    "          source = geosource,\n",
    "          fill_color = {'field' :'mean','transform' : color_mapper},\n",
    "          line_color = 'black',\n",
    "          line_width = 0.25,\n",
    "          fill_alpha = 1)\n",
    "\n",
    "mapa.add_layout(color_bar, 'below')\n",
    "output_notebook()\n",
    "show(mapa)"
   ]
  }
 ],
 "metadata": {
  "kernelspec": {
   "display_name": "ada_eda_venv",
   "language": "python",
   "name": "python3"
  },
  "language_info": {
   "codemirror_mode": {
    "name": "ipython",
    "version": 3
   },
   "file_extension": ".py",
   "mimetype": "text/x-python",
   "name": "python",
   "nbconvert_exporter": "python",
   "pygments_lexer": "ipython3",
   "version": "3.11.0"
  },
  "orig_nbformat": 4,
  "vscode": {
   "interpreter": {
    "hash": "c8c75a32f239ad1f79a4d5d3cf49ae2e4a31b3957cd8a27e200fdabe2232678e"
   }
  }
 },
 "nbformat": 4,
 "nbformat_minor": 2
}
